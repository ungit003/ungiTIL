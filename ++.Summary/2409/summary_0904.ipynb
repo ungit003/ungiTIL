{
 "cells": [
  {
   "cell_type": "markdown",
   "metadata": {},
   "source": [
    "# Divide and Conquer"
   ]
  },
  {
   "cell_type": "markdown",
   "metadata": {},
   "source": [
    "# +"
   ]
  },
  {
   "cell_type": "code",
   "execution_count": 1,
   "metadata": {},
   "outputs": [
    {
     "ename": "IndentationError",
     "evalue": "expected an indented block (895190494.py, line 7)",
     "output_type": "error",
     "traceback": [
      "\u001b[1;36m  Cell \u001b[1;32mIn[1], line 7\u001b[1;36m\u001b[0m\n\u001b[1;33m    def quick_sort(left, right):\u001b[0m\n\u001b[1;37m                                ^\u001b[0m\n\u001b[1;31mIndentationError\u001b[0m\u001b[1;31m:\u001b[0m expected an indented block\n"
     ]
    }
   ],
   "source": [
    "# hoare 방식의 퀵 소트\n",
    "\n",
    "# 호어 방식의 배열 쪼개기\n",
    "def hoare_partition(left, right): # 개념적으로 배운 quick sort\n",
    "    pivot =  arr[left]              # 피봇은 왼쪽, 오른쪽, 가운데 어디 두든 상관x\n",
    "    left += 1                       # 근데 왜 왼쪽인가? 계산하기 편할려고\n",
    "    '''\n",
    "      left          right\n",
    "      o             o\n",
    "    3 2 4 6 9 1 8 7 5\n",
    "    o\n",
    "    pivot\n",
    "    '''\n",
    "    while True:\n",
    "        # left index가 right index보다 작고\n",
    "        while left <= right and arr[left] < pivot:\n",
    "            # 그 left 번째 값이 pivot 보다 작다면,\n",
    "            left += 1\n",
    "\n",
    "        while left <- right and arr[right] > pivot:\n",
    "            right -= 1\n",
    "\n",
    "        if left >= right:\n",
    "            return right\n",
    "        arr[left], arr[right] = arr[right], arr[left]\n",
    "\n",
    "\n",
    "# left : 왼쪽 정렬 대상 시작 지점\n",
    "# right : 오른쪽 정렬 대상 시작 지점\n",
    "\n",
    "\n",
    "def quick_sort(left, right):\n",
    "    # 조사 대상이 하나 이하가 된다면, 더 이상 조사 할 수 없음\n",
    "    if left >= right: return\n",
    "\n",
    "    # 호어 방식의 정렬을 위해서는, 정렬을 위한 배열을 영역별로 구분지을 수 있어야 하고,\n",
    "    # 호어 방식의 파티션 구분 결과로 얻은 index 지점을 pivot 으로 보겠다.\n",
    "    pivot_index = function()\n",
    "    arr[left], arr[pivot_index] = arr[pivot_index], arr[left]\n",
    "\n",
    "    quick_sort(left, pivot_index - 1)\n",
    "    quick_sort(pivot_index + 1, right)\n",
    "\n",
    "\n",
    "arr = [3, 2, 4, 6, 9, 1, 8, 7, 5]"
   ]
  }
 ],
 "metadata": {
  "kernelspec": {
   "display_name": "Python 3",
   "language": "python",
   "name": "python3"
  },
  "language_info": {
   "codemirror_mode": {
    "name": "ipython",
    "version": 3
   },
   "file_extension": ".py",
   "mimetype": "text/x-python",
   "name": "python",
   "nbconvert_exporter": "python",
   "pygments_lexer": "ipython3",
   "version": "3.9.13"
  }
 },
 "nbformat": 4,
 "nbformat_minor": 2
}

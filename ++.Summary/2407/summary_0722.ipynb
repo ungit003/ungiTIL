{
 "cells": [
  {
   "cell_type": "markdown",
   "metadata": {},
   "source": [
    "# Data Structure"
   ]
  },
  {
   "cell_type": "markdown",
   "metadata": {},
   "source": [
    "## Data Structure\n",
    "### 개요\n",
    "#### 데이터 구조 `Data Structure`\n",
    "- 여러 데이터를 효과적으로 사용, 관리하기 위한 구조 (str, list, dict 등)"
   ]
  },
  {
   "cell_type": "markdown",
   "metadata": {},
   "source": [
    "#### 자료 구조\n",
    "- 컴퓨터 공학에서는 ‘자료 구조’ 라고 함\n",
    "- 각 데이터의 효율적인 저장, 관리를 위한 구조를 나눠 놓은 것\n",
    "- 스택 큐 덱 트리 그래프 등은 알고리즘에서 다룸\n",
    "    ![image](https://github.com/ragu6963/TIL/assets/32388270/ec3c4025-1305-4ba1-8f7a-fc355c1fa4e3)\n"
   ]
  },
  {
   "cell_type": "markdown",
   "metadata": {},
   "source": [
    "#### 데이터 구조 활용\n",
    "- 문자열, 리스트, 딕셔너리 등 각 데이터 구조(=현실을 반영, 잘하는 사람 : 데이터베이스)의 <span style='color:red;'>메서드</span>를 호출하여 다양한 기능을 활용하기\n"
   ]
  },
  {
   "cell_type": "markdown",
   "metadata": {},
   "source": [
    "### 메서드 `method`\n",
    "- (객체에 속한) `클래스`에 속해있는 `함수`\n",
    "- 객체의 상태를 조작하거나 동작을 수행\n",
    "- `객체`는 다음 시간에 다룸\n",
    "\n",
    "* 클래스 = 청사진\n",
    "* 객체 = 청사진을 통해 실제 물체를 만든 것"
   ]
  },
  {
   "cell_type": "markdown",
   "metadata": {},
   "source": [
    "#### 메서드 특징\n",
    "- 메서드는 `클래스(class)` 내부에 정의되는 함수\n",
    "- 클래스는 파이썬에서 ‘타입을 표현하는 방법’이며 이미 은연중에 사용해왔음\n",
    "- 예를 들어 `help` 함수를 통해 str을 호출해보면 class 였다는 것을 확인 가능\n"
   ]
  },
  {
   "cell_type": "markdown",
   "metadata": {},
   "source": [
    "##### 예시\n",
    "\n",
    "```python\n",
    "print(help(str))\n",
    "\n",
    "\"\"\"\n",
    "Help on class str in module builtins:\n",
    "\n",
    "class str(object)\n",
    " |  str(object='') -> str\n",
    " |  str(bytes_or_buffer[, encoding[, errors]]) -> str\n",
    " |\n",
    " |  Create a new string object from the given object. If encoding or\n",
    " |  errors is specified, then the object must expose a data buffer\n",
    " |  …\n",
    "\"\"\"\n",
    "```\n",
    "    \n",
    "> **클래스는 후반부 OOP 수업에서 자세히 다룸**\n"
   ]
  },
  {
   "cell_type": "markdown",
   "metadata": {},
   "source": [
    "#### 지금 시점에 알아야 할 것\n",
    "메서드는 어딘가(클래스)에 속해 있는 <span style='color:red;'>함수</span>이며,<br>\n",
    "각 데이터 타입별로 다양한 기능을 가진 메서드가 존재\n",
    "\n",
    "- 메서드는 함수다\n",
    "- 어떤 클래스에 속해있다\n",
    "- 데이터 타입별로 있다\n"
   ]
  },
  {
   "cell_type": "markdown",
   "metadata": {},
   "source": [
    "#### 메서드 호출 방법\n",
    "```python\n",
    "'hello'.capitalize()\n",
    "```\n",
    "- 객체이름.함수( )"
   ]
  },
  {
   "cell_type": "markdown",
   "metadata": {},
   "source": [
    "##### 메서드 호출 예시\n",
    "```python\n",
    "# 문자열 메서드 예시\n",
    "print('hello'.capitalize())  # Hello\n",
    "\n",
    "\n",
    "# 리스트 메서드 예시\n",
    "numbers = [1, 2, 3]\n",
    "numbers.append(4)\n",
    "\n",
    "print(numbers)  # [1, 2, 3, 4]\n",
    "```"
   ]
  },
  {
   "cell_type": "markdown",
   "metadata": {},
   "source": [
    "## 시퀀스 데이터 구조"
   ]
  },
  {
   "cell_type": "markdown",
   "metadata": {},
   "source": [
    "### 문자열"
   ]
  },
  {
   "cell_type": "markdown",
   "metadata": {},
   "source": [
    "#### 문자열 조회/탐색 및 검증 메서드\n",
    "\n",
    "##### 자주 쓰는 것을 우선 배워보자 !\n",
    "|        메서드      \t|                                         설명                                        \t|\n",
    "|:------------------:\t|:-----------------------------------------------------------------------------------:\t|\n",
    "|      s.find(x)     \t|     x의   첫 번째 위치를 반환. 없으면,   -1을 반환                                  \t|\n",
    "|      s.index(x)    \t|     x의   첫 번째 위치를 반환. 없으면,   오류 발생                                  \t|\n",
    "|     s.isupper()    \t|     대문자 여부                                                                     \t|\n",
    "|     s.islower()    \t|     소문자 여부                                                                   \t|\n",
    "|     s.isalpha()    \t|     알파벳 문자 여부      *단순 알파벳이 아닌 유니코드 상 Letter (한국어도 포함)    \t|\n",
    "\n",
    "- is 가 붙은 함수 : ~~가 있냐 없냐, 많냐 적냐 등을 물음 -> True Or False\n",
    "    - 내가 만든 함수가 T/F를 반환하면 이름에 is를 적어주는 것이 좋음\n",
    "- find 와 index는 용도에 맞게 사용할 수 있도록 둘 다 알아 둘 것.\n",
    "> error의 핵심 문구는 마지막과 마지막 전 문단"
   ]
  },
  {
   "cell_type": "markdown",
   "metadata": {},
   "source": [
    "#### 문자열 조작 메서드 (새 문자열로 반환)\n",
    "- 문자열은 불변이어서 원본을 조작한 새로운 결과를 반환\n",
    "- [대괄호]는 넣어도 되고 안넣어도 되고.\n",
    "    - 왜 있냐면 : 프로그래밍 언어간에 통일을 해서 선택인자구나! 알 수 있도록\n",
    "- split <-> join\n",
    "\n",
    "|                  메서드                 \t|                                              설명                                            \t|\n",
    "|:---------------------------------------:\t|:--------------------------------------------------------------------------------------------:\t|\n",
    "|       `s.replace(old,   new[,count])`  \t|     바꿀 대상 글자를 새로운 글자로 바꿔서 반환                                               \t|\n",
    "|             `s.strip([chars])`            \t|     공백이나 특정 문자를 제거                                                                \t|\n",
    "|     `s.split(sep=None,   maxsplit=-1)`    \t|     공백이나 특정 문자를 기준으로  분리, 리스트로 반환                                                       \t|\n",
    "|       `'separator'.join(iterable)`      \t|     구분자로 iterable의 문자열을 연결한 문자열을 반환, 일반적인 것들과 반대 !                                           |\n",
    "|              s.capitalize()             \t|     가장   첫 번째   글자를   대문자로   변경                                                \t|\n",
    "|                 s.title()               \t|     문자열 내 띄어쓰기 기준으로 각 단어의 첫 글자는 대문자로,      나머지는 소문자로 변환    \t|\n",
    "|                 s.upper()               \t|     모두   대문자로 변경                                                                     \t|\n",
    "|                 s.lower()               \t|     모두   소문자로 변경                                                                     \t|\n",
    "|               s.swapcase()              \t|     대↔소문자 서로 변경                                                                      \t|\n"
   ]
  },
  {
   "cell_type": "markdown",
   "metadata": {},
   "source": [
    "##### 메서드 이어서 사용하기 : cascading\n",
    "- 모든 메서드는 이어서 사용 가능 : chaining, 무조건은 아님\n",
    "- 앞쪽에서 반환된 결과가 있어야함\n",
    "- 타입도 맞아야함\n",
    "\n",
    "```python\n",
    "text = 'heLLo, woRld!'\n",
    "\n",
    "new_text = text.swapcase().replace('l', 'z')\n",
    "\n",
    "print(new_text) # HEzzO, WOrLD!\n",
    "```"
   ]
  },
  {
   "cell_type": "markdown",
   "metadata": {},
   "source": [
    "### 리스트\n"
   ]
  },
  {
   "cell_type": "markdown",
   "metadata": {},
   "source": [
    "#### 리스트 값 추가 및 삭제 메서드\n",
    "- 원본 자체를 조작 = 받을 것을 안만들어도 됨\n",
    "- 예시코드를 만들 수 있도록 !\n",
    "\n",
    "|          메서드         \t|                                                   설명                                                  \t|\n",
    "|:-----------------------:\t|:-------------------------------------------------------------------------------------------------------:\t|\n",
    "|        `L.append(x)`      \t|     리스트   마지막에 항목 x를   추가                                                                   \t|\n",
    "|        `L.extend(m)`      \t|     Iterable m의   모든 항목들을 리스트 끝에 추가 (+=과   같은 기능)                                    \t|\n",
    "|     L.insert(i,   x)    \t|     리스트   인덱스 i에 항목 x를 삽입                                                                   \t|\n",
    "|        L.remove(x)      \t|     리스트   가장 왼쪽에 있는 항목(첫 번째)   x를   제거     항목이 존재하지 않을 경우,   ValueError    \t|\n",
    "|          `L.pop()`        \t|     리스트   가장 오른쪽에 있는 항목(마지막)을   `반환` 후 제거                                           \t|\n",
    "|         `L.pop(i)`        \t|     리스트의 인덱스 i에   있는 항목을 `반환` 후 제거                                                      \t|\n",
    "|         L.clear()       \t|     리스트의 모든 항목 삭제                                                                             \t|"
   ]
  },
  {
   "cell_type": "markdown",
   "metadata": {},
   "source": [
    "#### 리스트 탐색 및 정렬 메서드\n",
    "|               문법              \t|                                   설명                                 \t|\n",
    "|:-------------------------------:\t|:----------------------------------------------------------------------:\t|\n",
    "|     L.index(x)    \t|     리스트에   있는 항목 중 가장 왼쪽에 있는 항목 x의 인덱스를 반환    \t|\n",
    "|            L.count(x)           \t|     리스트에서 항목   x의 개수를 반환                                  \t|\n",
    "|            `L.reverse()`          \t|     리스트의 순서를 역순으로 변경 (정렬 X)|\n",
    "|             `L.sort()`            \t|     리스트를 정렬 (매개변수   이용가능 : 오름, 내림 정하기)                                \t|"
   ]
  },
  {
   "cell_type": "markdown",
   "metadata": {},
   "source": [
    "### +\n",
    "\n",
    "[파이썬 공식 자습서](https://docs.python.org/ko/3.9/tutorial/datastructures.html#more-on-lists)\n",
    "\n",
    "튜플은 필요할 때 메서드를 찾아서 사용"
   ]
  },
  {
   "cell_type": "markdown",
   "metadata": {},
   "source": [
    "## 참고"
   ]
  },
  {
   "cell_type": "markdown",
   "metadata": {},
   "source": [
    "\n",
    "#### 문자 유형 판별 메서드 (암기X)\n",
    "#### 문자열에 포함된 문자들의 유형을 판별하는 메서드\n",
    "- `isdecimal()`\n",
    "    - 문자열이 모두 숫자 문자(0~9)로만 이루어져 있어야 (아라비아 숫자까진 OK) True\n",
    "- `isdigit()`\n",
    "    - isdecimal()과 비슷하지만, 유니코드 숫자도 인식 ('①’ 도 숫자로 인식)\n",
    "- `isnumeric()`\n",
    "    - isdigit()과 유사하지만, 몇 가지 추가적인 유니코드 문자들을 인식 <br>(분수, 지수, 루트 기호도 숫자로 인식)\n",
    "\n"
   ]
  },
  {
   "cell_type": "markdown",
   "metadata": {},
   "source": [
    "- `isdecimal()` ⊆ `isdigit()` ⊆ `isnumeric()`\n",
    "\n",
    "|     isdecimal()    \t|     isdigit()    \t|     isnumeric()    \t|                  예시                \t|\n",
    "|:------------------:\t|:----------------:\t|:------------------:\t|:------------------------------------:\t|\n",
    "|         True       \t|        True      \t|         True       \t|       \"038\",   \"੦੩੮\",   \"０３８\"     \t|\n",
    "|        False       \t|        True      \t|         True       \t|          \"⁰³⁸\", \"🄀⒊⒏\", \"⓪③⑧\"         \t|\n",
    "|        False       \t|       False      \t|         True       \t|     \"⅛⅘\", \"ⅠⅢⅧ\", \"⑩⑬㊿\", \"壹貳參\"    \t|\n",
    "|        False       \t|       False      \t|        False       \t|          \"abc\", \"38.0\", \"-38\"        \t|"
   ]
  },
  {
   "cell_type": "markdown",
   "metadata": {},
   "source": [
    "# Copy\n",
    "## 복사\n",
    "### 개요\n",
    "- 파이썬에서는 데이터에 분류에 따라 복사가 달라짐\n",
    "- “변경 가능한 데이터 타입”과 “변경 불가능한 데이터 타입”을 다르게 다룸\n",
    "\n"
   ]
  },
  {
   "cell_type": "markdown",
   "metadata": {},
   "source": [
    "#### 변경 가능한 데이터 타입의 복사\n",
    "```py\n",
    "a = [1, 2, 3, 4]\n",
    "b = a\n",
    "b[0] = 100\n",
    "\n",
    "print(a)  # [100, 2, 3, 4]\n",
    "print(b)  # [100, 2, 3, 4]\n",
    "```\n",
    "\n",
    "![image](https://github.com/ragu6963/TIL/assets/32388270/d77141fc-77d0-46ac-a087-111d372713a0)"
   ]
  },
  {
   "cell_type": "markdown",
   "metadata": {},
   "source": [
    "#### 변경 불가능한 데이터 타입의 복사\n",
    "```py\n",
    "a = 20\n",
    "b = a\n",
    "b = 10\n",
    "\n",
    "print(a)  # 20\n",
    "print(b)  # 10\n",
    "```\n",
    "\n",
    "![image](https://github.com/ragu6963/TIL/assets/32388270/6b9cfc06-ab31-4b9e-a000-e0cf66c4623d)\n"
   ]
  },
  {
   "cell_type": "markdown",
   "metadata": {},
   "source": [
    "### 복사 유형\n",
    "#### 복사 유형\n",
    "1. 할당 (Assignment) (주소가 복사된 것이기 때문에) (가변만 해당하나?)\n",
    "2. 얕은 복사 (Shallow copy)\n",
    "3. 깊은 복사 (Deep copy)"
   ]
  },
  {
   "cell_type": "markdown",
   "metadata": {},
   "source": [
    "#### 1. 할당\n",
    "- 리스트 복사 예시\n",
    "    - 할당 연산자(=)를 통한 복사는 해당 객체에 대한 객체 참조를 복사\n",
    "\n",
    "\n"
   ]
  },
  {
   "cell_type": "markdown",
   "metadata": {},
   "source": [
    "#####\n",
    "```py\n",
    "original_list = [1, 2, 3]\n",
    "copy_list = original_list\n",
    "print(original_list, copy_list)  # [1, 2, 3] [1, 2, 3]\n",
    "\n",
    "copy_list[0] = 'hi'\n",
    "print(original_list, copy_list)  # ['hi', 2, 3] ['hi', 2, 3]\n",
    "```\n",
    "\n",
    "![image](https://github.com/ragu6963/TIL/assets/32388270/f5ded019-54d8-40f4-b259-10140e6ff57f)"
   ]
  },
  {
   "cell_type": "markdown",
   "metadata": {},
   "source": [
    "#### 2. 얕은 복사\n",
    "- 리스트 얕은 복사 예시\n",
    "    - 슬라이싱을 통해 생성된 객체는 원본 객체와 독립적으로 존재\n"
   ]
  },
  {
   "cell_type": "markdown",
   "metadata": {},
   "source": [
    "#####\n",
    "\n",
    "```py\n",
    "a = [1, 2, 3]\n",
    "b = a[:]\n",
    "print(a, b)  # [1, 2, 3] [1, 2, 3]\n",
    "\n",
    "b[0] = 100\n",
    "print(a, b)  # [1, 2, 3] [100, 2, 3]\n",
    "```\n",
    "\n",
    "![image](https://github.com/ragu6963/TIL/assets/32388270/e6ca0423-4824-4822-bc3f-53d61ed551bd)"
   ]
  },
  {
   "cell_type": "markdown",
   "metadata": {},
   "source": [
    "#### 2-1. 얕은 복사의 한계\n",
    "- 2차원 리스트와 같이 변경가능한 객체 안에 변경 가능한 객체가 있는 경우\n",
    "    - a와 b의 주소는 다르지만 내부 객체의 주소는 같기 때문에 함께 변경됨\n"
   ]
  },
  {
   "cell_type": "markdown",
   "metadata": {},
   "source": [
    "#####\n",
    "```py\n",
    "a = [1, 2, [1, 2]]\n",
    "b = a[:]\n",
    "print(a, b)  # [1, 2, [1, 2]] [1, 2, [1, 2]]\n",
    "\n",
    "b[2][0] = 100\n",
    "print(a, b)  # [1, 2, [100, 2]] [1, 2, [100, 2]]\n",
    "```\n",
    "\n",
    "![image](https://github.com/ragu6963/TIL/assets/32388270/3ec9f431-47c8-4332-98b8-45ff86550bb0)"
   ]
  },
  {
   "cell_type": "markdown",
   "metadata": {},
   "source": [
    "#### 3. 깊은 복사\n",
    "- 리스트 깊은 복사 예시\n",
    "    - 내부에 중첩된 모든 객체까지 새로운 객체 주소를 참조하도록 함\n",
    "\n"
   ]
  },
  {
   "cell_type": "markdown",
   "metadata": {},
   "source": [
    "#####\n",
    "\n",
    "```py\n",
    "import copy\n",
    "\n",
    "\n",
    "original_list = [1, 2, [1, 2]]\n",
    "deep_copied_list = copy.deepcopy(original_list)\n",
    "\n",
    "deep_copied_list[2][0] = 100\n",
    "\n",
    "print(original_list)  # [1, 2, [1, 2]]\n",
    "print(deep_copied_list)  # [1, 2, [100, 2]]\n",
    "```\n",
    "\n",
    "![image](https://github.com/ragu6963/TIL/assets/32388270/b352a3ea-6264-46fc-9f84-f5e915b523d0)"
   ]
  },
  {
   "cell_type": "markdown",
   "metadata": {},
   "source": [
    "## 참고"
   ]
  },
  {
   "cell_type": "markdown",
   "metadata": {},
   "source": [
    "#### 문자 유형 판별 메서드 (암기X)\n",
    "#### 문자열에 포함된 문자들의 유형을 판별하는 메서드\n",
    "- `isdecimal()`\n",
    "    - 문자열이 모두 숫자 문자(0~9)로만 이루어져 있어야 (아라비아 숫자까진 OK) True\n",
    "- `isdigit()`\n",
    "    - isdecimal()과 비슷하지만, 유니코드 숫자도 인식 ('①’ 도 숫자로 인식)\n",
    "- `isnumeric()`\n",
    "    - isdigit()과 유사하지만, 몇 가지 추가적인 유니코드 문자들을 인식 <br>(분수, 지수, 루트 기호도 숫자로 인식)\n",
    "\n"
   ]
  },
  {
   "cell_type": "markdown",
   "metadata": {},
   "source": [
    "- `isdecimal()` ⊆ `isdigit()` ⊆ `isnumeric()`\n",
    "\n",
    "|     isdecimal()    \t|     isdigit()    \t|     isnumeric()    \t|                  예시                \t|\n",
    "|:------------------:\t|:----------------:\t|:------------------:\t|:------------------------------------:\t|\n",
    "|         True       \t|        True      \t|         True       \t|       \"038\",   \"੦੩੮\",   \"０３８\"     \t|\n",
    "|        False       \t|        True      \t|         True       \t|          \"⁰³⁸\", \"🄀⒊⒏\", \"⓪③⑧\"         \t|\n",
    "|        False       \t|       False      \t|         True       \t|     \"⅛⅘\", \"ⅠⅢⅧ\", \"⑩⑬㊿\", \"壹貳參\"    \t|\n",
    "|        False       \t|       False      \t|        False       \t|          \"abc\", \"38.0\", \"-38\"        \t|"
   ]
  }
 ],
 "metadata": {
  "language_info": {
   "name": "python"
  }
 },
 "nbformat": 4,
 "nbformat_minor": 2
}

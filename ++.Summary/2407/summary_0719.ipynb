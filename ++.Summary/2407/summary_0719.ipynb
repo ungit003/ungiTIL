{
 "cells": [
  {
   "cell_type": "markdown",
   "metadata": {},
   "source": [
    "# 관통 프로젝트"
   ]
  },
  {
   "cell_type": "markdown",
   "metadata": {},
   "source": [
    "## 소개\n",
    "- 강의 내용 기반 + 추가학습 => 프로젝트 도전\n"
   ]
  },
  {
   "cell_type": "markdown",
   "metadata": {},
   "source": [
    "### 왜 열심히 해야하는가?\n",
    "\n",
    "- 내가 이런 프로젝트를 했다는 증명과정."
   ]
  },
  {
   "cell_type": "markdown",
   "metadata": {},
   "source": [
    "### 진행 방식\n",
    "\n",
    "1. 프로젝트 목표 소개\n",
    "\n",
    "2. 이론 설명\n",
    "\n",
    "3. 강사님들과 함께 실습 진행\n",
    "\n",
    "4. 도전 과제를 스스로 진행"
   ]
  },
  {
   "cell_type": "markdown",
   "metadata": {},
   "source": [
    "### 버전 선택 가능\n",
    "\n",
    "1. 금융 상품 비교 앱\n",
    "\n",
    "2. 영화 추천 서비스"
   ]
  },
  {
   "cell_type": "markdown",
   "metadata": {},
   "source": [
    "## 챕터 1"
   ]
  },
  {
   "cell_type": "markdown",
   "metadata": {},
   "source": [
    "### 목표\n",
    "\n",
    "파이썬으로 인터넷 날씨정보를 가져와서 내가 원하는 정보만 출력"
   ]
  },
  {
   "cell_type": "markdown",
   "metadata": {},
   "source": [
    "### 전문용어\n",
    "\n",
    "서버 : 요청을 받아서 처리, 원하는 값 돌려주기 EX)네이버\n",
    "\n",
    "클라이언트 : 부탁을 하는 것 EX) 크롬"
   ]
  },
  {
   "cell_type": "markdown",
   "metadata": {},
   "source": [
    "### 오늘 할 일\n",
    "\n",
    "클라이언트를 만든다.\n",
    "\n",
    "1. 웹 브라우저를 켜서 주소창에 주소를 입력하기\n",
    "\n",
    "2. 서버에 정보를 요청하는 파이썬 코드를 작성하기"
   ]
  },
  {
   "cell_type": "markdown",
   "metadata": {},
   "source": [
    "#### request 사용하기\n",
    "\n",
    "- test file 만들어서 코드 실행하기\n",
    "\n",
    "```python\n",
    "import requests\n",
    "\n",
    "url = 'http://~~~' # 요청 보내는 서버의 주소\n",
    "data = requests.get(url).json() # 해당 서버(url)에 데이터 달라고 요청하는 함수\n",
    "\n",
    "print data\n",
    "```"
   ]
  },
  {
   "cell_type": "markdown",
   "metadata": {},
   "source": [
    "##### .json()\n",
    "\n",
    "- 내부의 데이터를 .json(파이썬 딕셔너리와 유사) 형태로 변환하는 함수\n",
    "- 자세한건 뒤에서"
   ]
  },
  {
   "cell_type": "markdown",
   "metadata": {},
   "source": [
    "### API !"
   ]
  },
  {
   "cell_type": "markdown",
   "metadata": {},
   "source": [
    "### JavaScriptObjectNotation"
   ]
  }
 ],
 "metadata": {
  "language_info": {
   "name": "python"
  }
 },
 "nbformat": 4,
 "nbformat_minor": 2
}

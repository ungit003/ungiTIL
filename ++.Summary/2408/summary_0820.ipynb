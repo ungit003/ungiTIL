{
 "cells": [
  {
   "cell_type": "markdown",
   "metadata": {},
   "source": [
    "# CSS Layout\n",
    "- 각 요소의위치와 크기를 조정, 웹 페이지 디자인 결정\n",
    "-> display, position, flexbox ~~~"
   ]
  },
  {
   "cell_type": "markdown",
   "metadata": {},
   "source": [
    "## yesterday"
   ]
  },
  {
   "cell_type": "markdown",
   "metadata": {},
   "source": [
    "Box type\n",
    "1. Block box : 위에서 아래로\n",
    "2. Inline box : 왼쪽에서 오른쪽으로\n",
    "\n",
    "Box display tpye\n",
    "```html\n",
    "div {\n",
    "    display: block;\n",
    "}\n",
    "```\n",
    "1. Out display type : 박스 놓는 방법\n",
    "    - Block\n",
    "        - 항상 새로운 행\n",
    "        - width, height 속성 사용 가능\n",
    "        - padding, margin, border로 인해 요소들을 상자로부터 밀어냄\n",
    "        - width 속성을 지정하지 않으면 inline 방향으로 사용가능한 공간을 모두 차지\n",
    "        - h1~6, p, div 등등\n",
    "    - Inline\n",
    "        - 새로운 행 x\n",
    "        - width, height x\n",
    "        - 수직방향 : padding, margin, border 적용. but. 다른요소 밀어낼 수 없음. -> 겹침\n",
    "        - 수평방향 : padding, margin, border 적용. 밀어냄\n",
    "        - a, img, span, strong, em 등등\n",
    "\n",
    "\n",
    "\n",
    "2. Inner display type : 박스 내부에 넣는 방법\n",
    "    - flex"
   ]
  },
  {
   "cell_type": "markdown",
   "metadata": {},
   "source": [
    "## CSS Box Model\n",
    "- 웹페이지의 모든 HTML 요소를 감싸는 사각형 상자 모델\n",
    "-> 내용, 안쪽 여백, 테두리, 외부 간격 으로 구성. 요소의 크기, 배치 결정."
   ]
  },
  {
   "cell_type": "markdown",
   "metadata": {},
   "source": [
    "구성\n",
    "- Content : 콘텐츠가 표시되는 영역\n",
    "    - width, height 사용\n",
    "- Padding : 콘텐츠 주위에 위치하는 공백 영역\n",
    "    - padding 사용\n",
    "- Border : 콘텐츠와 패딩을 감싸는 테두리 영역\n",
    "    - border 사용\n",
    "- Margin : 이 박스와 다른 요소 사이의 공백 가장 바깥쪽 영역\n",
    "    - margin 사용\n",
    "\n",
    "- 모든 박스는 상 하 좌 우 의 값을 따로 조정할 수 있음."
   ]
  },
  {
   "cell_type": "markdown",
   "metadata": {},
   "source": [
    "shorthand\n",
    "- border : width, style, color 한번에 지정 가능. 순서 상관x\n",
    "- margin & padding : 4방향 각각 말고 묶어서 가능\n",
    "    - 4개 : 상 우 하 좌 (시계방향)\n",
    "    - 3개 : 상 (좌우) 하\n",
    "    - 2개 : (상하) (좌우)\n",
    "    - 1개 : 공통\n",
    "\n",
    "box-sizing\n",
    "- content-box : 콘텐츠 박스 기준으로 사이징\n",
    "- border-box : 테두리선 기준으로 사이징"
   ]
  },
  {
   "cell_type": "markdown",
   "metadata": {},
   "source": [
    "기타 display 속성\n",
    "- inline-block\n",
    "    - width, height 사용 가능\n",
    "    - padding, margin, border 적용. 밀어냄\n",
    "    - 새로운 행 x\n",
    "\n",
    "    -> 줄바꿈 하지 않고 너비, 높이 적용하고 싶을 때\n",
    "\n",
    "- none\n",
    "    - 화면에 표시도 안하고 공간도 안잡음\n",
    "\n",
    "    -> 미리 만들어놓고 서로 바꿀 때 ex) 나이트모드"
   ]
  },
  {
   "cell_type": "markdown",
   "metadata": {},
   "source": [
    "## CSS position\n",
    "- 요소를 Normal Flow에서 제거하여 다른 위치로 배치하는 것\n",
    "-> 다른 요소 위에 올리기, 화면의 특정 위치에 고정시키기 ~~~"
   ]
  },
  {
   "cell_type": "markdown",
   "metadata": {},
   "source": [
    "목적\n",
    "- 전체 페이지 레이아웃을 구성하자 x\n",
    "- 페이지 특정 항목의 위치를 조정하자 o"
   ]
  },
  {
   "cell_type": "markdown",
   "metadata": {},
   "source": [
    "유형\n",
    "1. static\n",
    "    - 기본값, 블럭 종류에 따라서 위치가 다를 수 있음\n",
    "2. relative\n",
    "    - 자신의 원래 자리 기준으로 배치 -> 옮기면 그 자리는 쓸 수 없음.\n",
    "3. absolute\n",
    "    - 가장 가까운 relative 부모(조상) 요소를 기준으로 배치\n",
    "        - 없으면 body 기준\n",
    "    - 옮기면 그 자리는 쓸 수 있음\n",
    "4. fixed\n",
    "    - 노멀 플로우에서 제거, 현재 화면 기준으로 이동\n",
    "    - 스크롤 해도 똑같은 위치\n",
    "5. sticky\n",
    "    - relative + fixed\n",
    "    - 임계 전에는 relative\n",
    "    - 스크롤 이후에는 fixed"
   ]
  },
  {
   "cell_type": "markdown",
   "metadata": {},
   "source": [
    "z-index\n",
    "- 요소의 쌓임 순서(stack order)를 정의하는 속성\n",
    "- 정수값, 클수록 위로, static은 안됨\n",
    "- 기본값 :auto\n",
    "- 부모 요소의 z-index 값에 영향을 받음\n",
    "- 같은 부모 내에서만 비교\n",
    "- 부모가 낮으면 자식이 아무리 높아도 안됨\n",
    "- 같으면 문서 순서대로 쌓임"
   ]
  },
  {
   "cell_type": "markdown",
   "metadata": {},
   "source": [
    "## CSS Flexbox\n",
    "- 요소를 행과 열 형태로 배치하는 1차원 레이아웃 방식\n",
    "-> 공간 배열 & 정렬"
   ]
  },
  {
   "cell_type": "markdown",
   "metadata": {},
   "source": [
    "```html\n",
    ".container {\n",
    "    display: flex;\n",
    "}\n",
    "```\n",
    "- 박스 내부 요소의 배치를 결정\n",
    "- 속성 : flex"
   ]
  },
  {
   "cell_type": "markdown",
   "metadata": {},
   "source": [
    "구성 요소\n",
    "- main axix : 주 축\n",
    "- cross axix :교차 축\n",
    "- flex container : flex item이 들어있는 부모요소\n",
    "    - flexbox 속성값으로 자식요소 배치\n",
    "- flex item : flex container 내부에 레이아웃 되는 항목"
   ]
  },
  {
   "cell_type": "markdown",
   "metadata": {},
   "source": [
    "속성 목록\n",
    "- flex container\n",
    "    - display, flex-direction, flex-wrap, justify-content, align-items, align-content\n",
    "\n",
    "- flex item\n",
    "    - align-self, flex-grow, flex-basis, order"
   ]
  },
  {
   "cell_type": "markdown",
   "metadata": {},
   "source": [
    "순서\n",
    "1. flex container 지정\n",
    "- 기본값 : 행방향, 주 축 시작선 시작, 교차 축을 채우는 방향\n",
    "\n",
    "2. flex-direction\n",
    "- column : 주 축 변경\n",
    "- `+` -reverse : 시작 선, 끝 선 변경\n",
    "\n",
    "3. flex-wrap\n",
    "- flex item이 flex container 한 행에 안들어갈 때 다른 행에 넣을까 말까 결정\n",
    "- wrap or nowrap\n",
    "\n",
    "4. justify-content\n",
    "- 주축 기준 flex item, 주위 공간분배\n",
    "\n",
    "5. align-content\n",
    "- 교차축 기준 flex item, 주위 공간분배\n",
    "- wrap, wrap-reverse로 설정된 여러행일 경우만 적용\n",
    "\n",
    "6. align-items\n",
    "- 교차 축 따라서 flex item 행 정렬\n",
    "\n",
    "7. align-self\n",
    "- 교차 축 기준 개별 flex item 정렬\n",
    "\n",
    "8. flex-grow\n",
    "- 남는 행 여백을 비율에 따라 flex item에 분배\n",
    "- <-> : flex_shrink\n",
    "\n",
    "9. flex-basis\n",
    "- flex-item 초기 크기값 지정\n",
    "- width와 중복될 경우 flex-basis 우선\n",
    "\n",
    "+ 반응형 레이아웃\n",
    "- flex_wrap + flex-grow + flex-basis"
   ]
  },
  {
   "cell_type": "markdown",
   "metadata": {},
   "source": [
    "## 참고"
   ]
  },
  {
   "cell_type": "markdown",
   "metadata": {},
   "source": [
    "마진 상쇄\n",
    "\n",
    "박스 타입 별 수평 정렬\n",
    "- block -> margin: auto\n",
    "- inline -> text-align(부모에)\n",
    "\n",
    "flexbox shorthand\n",
    "- flex-flow: flex-direction flex-wrap;\n",
    "- flex\n"
   ]
  }
 ],
 "metadata": {
  "language_info": {
   "name": "python"
  }
 },
 "nbformat": 4,
 "nbformat_minor": 2
}

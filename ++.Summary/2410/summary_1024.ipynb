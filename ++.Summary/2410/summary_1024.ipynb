{
 "cells": [
  {
   "cell_type": "markdown",
   "metadata": {},
   "source": [
    "# JavaScript 04 참조 자료형 02"
   ]
  },
  {
   "cell_type": "markdown",
   "metadata": {},
   "source": [
    "## 객체"
   ]
  },
  {
   "cell_type": "markdown",
   "metadata": {},
   "source": [
    "### 개요"
   ]
  },
  {
   "cell_type": "markdown",
   "metadata": {},
   "source": [
    "#### Object\n",
    "키로 구분된 데이터 집합을 저장하는 자료형\n",
    "(data collection)\n",
    "\n",
    "`OOP 아님`"
   ]
  },
  {
   "cell_type": "markdown",
   "metadata": {},
   "source": [
    "### 구조 및 속성"
   ]
  },
  {
   "cell_type": "markdown",
   "metadata": {},
   "source": [
    "#### 객체 구조\n",
    "- 중괄호('{}')를 이용해 작성\n",
    "- 중괄호 안에는 key: value 쌍으로 구성된 속성(property)를 여러 개 작성 가능 \n",
    "- key는 문자형만 허용 \n",
    "- value는 모든 자료형 허용\n",
    "```js\n",
    "    const user = { \n",
    "        name: 'Alice', \n",
    "        'key with space': true, \n",
    "        greeting: function () { \n",
    "            return 'hello' \n",
    "        } \n",
    "    }\n",
    "```"
   ]
  },
  {
   "cell_type": "markdown",
   "metadata": {},
   "source": [
    "#### 속성 참조\n",
    "- 점('.', chaining operator) 또는 대괄호('[]')로 객체 요소 접근 \n",
    "- key 이름에 띄어쓰기 같은 구분자가 있으면 대괄호 접근만 가능\n",
    "```js\n",
    "// 참조\n",
    "console.log(user.name) // Alice\n",
    "console.log(user['key with space']) // true \n",
    "\n",
    "// 추가 \n",
    "user.address = 'korea' \n",
    "console.log(user) // {name: 'Alice', key with space: true, address: 'korea', greeting: f}\n",
    "```\n",
    "- 점('.', chaining operator) 또는 대괄호('[]')로 객체 요소 접근 \n",
    "- key 이름에 띄어쓰기 같은 구분자가 있으면 대괄호 접근만 가능\n",
    "```js\n",
    "// 수정 \n",
    "user.name = 'Bella' \n",
    "console.log(user.name) // Bella \n",
    "\n",
    "// 삭제 \n",
    "delete user.name \n",
    "console.log(user) // {key with space: true, address: 'korea', greeting: f}\n",
    "```"
   ]
  },
  {
   "cell_type": "markdown",
   "metadata": {},
   "source": [
    "#### 'in' 연산자 \n",
    "속성이 객체에 존재하는지 여부를 확인 \n",
    "```js\n",
    "console.log('greeting' in user) // true \n",
    "console.log('country' in user) // false\n",
    "```"
   ]
  },
  {
   "cell_type": "markdown",
   "metadata": {},
   "source": [
    "### 메서드"
   ]
  },
  {
   "cell_type": "markdown",
   "metadata": {},
   "source": [
    "#### Method \n",
    "객체 속성에 정의된 함수"
   ]
  },
  {
   "cell_type": "markdown",
   "metadata": {},
   "source": [
    "##### Method 사용 예시 \n",
    "- object.method() 방식으로 호출 \n",
    "- 메서드는 객체를 '행동' 할 수 있게 함 \n",
    "```js\n",
    "    console.log(user.greeting()) // hello\n",
    "```"
   ]
  },
  {
   "cell_type": "markdown",
   "metadata": {},
   "source": [
    "### this"
   ]
  },
  {
   "cell_type": "markdown",
   "metadata": {},
   "source": [
    "#### Method \n",
    "객체 속성에 정의된 함수 \n",
    "\n",
    "- >'this' 키워드를 사용해 객체에 대한 특정한 작업을 수행 할 수 있음"
   ]
  },
  {
   "cell_type": "markdown",
   "metadata": {},
   "source": [
    "#### 'this' keyword \n",
    "함수나 메서드를 호출한 객체를 가리키는 키워드 \n",
    "\n",
    "- >함수 내에서 객체의 속성 및 메서드에 접근하기 위해 사용"
   ]
  },
  {
   "cell_type": "markdown",
   "metadata": {},
   "source": [
    "##### Method & this 사용 예시 \n",
    "```html\n",
    "<!-- this-keyword.html --> \n",
    "```\n",
    "\n",
    "```js\n",
    "const person = { \n",
    "    name: 'Alice', \n",
    "    greeting: function () { \n",
    "        return `Hello my name is ${this.name}` \n",
    "    }, \n",
    "} \n",
    "\n",
    "console.log(person.greeting()) // Hello my name is Alice\n",
    "```"
   ]
  },
  {
   "attachments": {
    "image.png": {
     "image/png": "[encoded data removed]"
    }
   },
   "cell_type": "markdown",
   "metadata": {},
   "source": [
    "#### JavaScript에서 this는 함수를 “호출하는 방법”에 따라 가리키는 대상이 다름\n",
    "\n",
    "![image.png](attachment:image.png)\n",
    "\n",
    "전역 객체 = window (DOM의 상위 객체)\n",
    "- > this가 가리키는 객체가 일정하지 않다."
   ]
  },
  {
   "cell_type": "markdown",
   "metadata": {},
   "source": [
    "##### 1. 단순 호출 시 this\n",
    "- 가리키는 대상 전역 객체\n",
    "```html\n",
    "    <!-- this-keyword.html --> \n",
    "```\n",
    "```js    \n",
    "    const myFunc = function () { \n",
    "        return this \n",
    "    } \n",
    "    \n",
    "    console.log(myFunc()) // window\n",
    "```"
   ]
  },
  {
   "cell_type": "markdown",
   "metadata": {},
   "source": [
    "##### 2. 메서드 호출 시 this \n",
    "- 가리키는 대상 → 메서드를 호출한 객체 \n",
    "```html\n",
    "    <!-- this-keyword.html -->\n",
    "```\n",
    "```js\n",
    "    const myObj = { \n",
    "        data: 1,\n",
    "        myFunc: function () {\n",
    "            return this \n",
    "        } \n",
    "    }\n",
    "\n",
    "    console.log(myobj.myFunc()) // myObj      \n",
    "```"
   ]
  },
  {
   "cell_type": "markdown",
   "metadata": {},
   "source": [
    "#### 중첩된 함수에서의 this 문제점과 해결책\n",
    "```js\n",
    "const myObj2 = { \n",
    "    numbers: [1, 2, 3], \n",
    "    myFunc: function () { \n",
    "        this.numbers.forEach(function (number) { \n",
    "            console.log(this) // window \n",
    "        }) \n",
    "    }\n",
    "}\n",
    "\n",
    "console.log(my0bj2.myFunc())\n",
    "```\n",
    "forEach의 인자로 작성된 함수는 `일반적인 함수 호출`이기 때문에 this가 전역 객체를 가리킴\n",
    "\n",
    "```js\n",
    "const myObj3 = { \n",
    "    numbers: [1, 2, 3], \n",
    "    myFunc: function () { \n",
    "        this.numbers.forEach((number) => { \n",
    "            console.log(this) // myObj3\n",
    "    }\n",
    "}\n",
    "\n",
    "console.log(my0bj3.myFunc())\n",
    "```\n",
    "화살표 함수는 `자신만의 this를 가지지 않기` 때문에 외부 함수(myFunc)에서의 this 값을 가져옴"
   ]
  },
  {
   "cell_type": "markdown",
   "metadata": {},
   "source": [
    "#### JavaScript 'this' 정리 \n",
    "- JavaScript의 함수는 호출될 때 this를 암묵적으로 전달 받음 \n",
    "- JavaScript에서 this는 함수가 “호출되는 방식\"에 따라 결정되는 현재 객체를 나타냄 > `호출되기 전에는 무엇인지 모른다.`\n",
    "- Python의 self와 Java의 this가 선언 시 이미 값이 정해지는 것에 비해 JavaScript의 this는 `함수가 호출되기 전까지 값이 할당되지 않고 호출 시에 결정`됨 (동적 할당)\n",
    "- this가 미리 정해지지 않고 호출 방식에 의해 결정되는 것은 \n",
    "- 장점 \n",
    "    - 함수(메서드)를 하나만 만들어 여러 객체에서 재사용할 수 있다는 것 \n",
    "- 단점 \n",
    "    - 이런 유연함이 실수로 이어질 수 있다는 것 \n",
    "\n",
    "- > 개발자는 this의 동작 방식을 충분히 이해하고 장점을 취하면서 실수를 피하는 데에 집중"
   ]
  },
  {
   "cell_type": "markdown",
   "metadata": {},
   "source": [
    "### 추가 객체 문법"
   ]
  },
  {
   "cell_type": "markdown",
   "metadata": {},
   "source": [
    "#### 1. 단축 속성 \n",
    "키 이름과 값으로 쓰이는 변수의 이름이 같은 경우 단축 구문을 사용할 수 있음 \n",
    "```js\n",
    "const name = 'Alice' \n",
    "const age = 30 \n",
    "\n",
    "const user = { \n",
    "    name: name, \n",
    "    age: age,\n",
    "} \n",
    "```\n",
    "**-->**\n",
    "```js\n",
    "const name = 'Alice' \n",
    "const age = 30 \n",
    "\n",
    "const user = { \n",
    "    name, \n",
    "    age, \n",
    "}\n"
   ]
  },
  {
   "cell_type": "markdown",
   "metadata": {},
   "source": [
    "#### 2. 단축 메서드 \n",
    "메서드 선언 시 function 키워드 생략 가능 \n",
    "```js\n",
    "const my0bj1 = { \n",
    "    myFunc: function () { \n",
    "        return 'Hello' \n",
    "    } \n",
    "} \n",
    "```\n",
    "**-->**\n",
    "```js\n",
    "const my0bj2 = { \n",
    "    myFunc() { \n",
    "        return 'Hello' \n",
    "    } \n",
    "}\n",
    "```"
   ]
  },
  {
   "cell_type": "markdown",
   "metadata": {},
   "source": [
    "#### 3. 계산된 속성 (computed property name) \n",
    "키가 대괄호([])로 둘러싸여 있는 속성 \n",
    "- > 고정된 값이 아닌 변수 값을 사용할 수 있음\n",
    "\n",
    "```js\n",
    "const product = prompt('물건 이름을 입력해주세요') \n",
    "const prefix = 'my' \n",
    "const suffix = 'property' \n",
    "\n",
    "const bag { \n",
    "    [product]: 5, \n",
    "    [prefix + suffix]: 'value', \n",
    "} \n",
    "\n",
    "console.log(bag) // {연필: 5, myproperty: 'value'}\n",
    "```"
   ]
  },
  {
   "cell_type": "markdown",
   "metadata": {},
   "source": [
    "#### 4. 구조 분해 할당 (destructing assignment) \n",
    "배열 또는 객체를 분해하여 객체 속성을 변수에 쉽게 할당할 수 있는 문법\n",
    "```js\n",
    "const userInfo = {  \n",
    "    firstName: 'Alice', \n",
    "    userId: 'alice123', \n",
    "    email: 'alice123@gmail.com' \n",
    "}\n",
    "\n",
    "const firstName = userInfo.name \n",
    "const userId = userInfo.userId \n",
    "const email userInfo.email\n",
    "```\n",
    "**-->**\n",
    "```js\n",
    "const userInfo = {  \n",
    "    firstName: 'Alice', \n",
    "    userId: 'alice123', \n",
    "    email: 'alice123@gmail.com' \n",
    "}\n",
    "\n",
    "const { firstName } = userInfo \n",
    "const { firstName, userId } = userInfo \n",
    "const { firstName, userId, email } = userInfo \n",
    "\n",
    "// Alice alice123 alice123@gmail.com \n",
    "console.log(firstName, userId, email)\n",
    "```"
   ]
  },
  {
   "cell_type": "markdown",
   "metadata": {},
   "source": [
    "##### 4. 구조 분해 할당 활용 \n",
    "'함수의 매개변수'로 객체 구조 분해 할당 활용 가능 \n",
    "```js\n",
    "const person = {  \n",
    "    name: 'Bob', \n",
    "    age: 35, \n",
    "    city: 'London', \n",
    "}\n",
    "\n",
    "function printInfo({ name, age, city }) { \n",
    "    console.log(`이름: ${name}, 나이: ${age}, 도시: ${city}'`)\n",
    "} \n",
    "\n",
    "// 함수 호출 시 객체를 구조 분해하여 함수의 매개변수로 전달 \n",
    "printInfo(person) // 이름: Bob, 나이: 35, 도시: London"
   ]
  },
  {
   "cell_type": "markdown",
   "metadata": {},
   "source": [
    "#### 5. Object with '전개 구문' \n",
    "- \"객체 복사\"\n",
    "    - 객체 내부에서 객체 전개 \n",
    "- 얕은 복사에 활용 가능 \n",
    "```js\n",
    "    const obj = {b: 2, c: 3, d: 4} \n",
    "    const newObj = {a: 1, ...obj, e: 5} \n",
    "    \n",
    "    console.log(newObj) // {a: 1, b: 2, c: 3, d: 4, e: 5}\n",
    "```"
   ]
  },
  {
   "cell_type": "markdown",
   "metadata": {},
   "source": [
    "#### 6. 유용한 객체 메서드 \n",
    "- Object.keys() \n",
    "- Object.values()\n",
    "```js\n",
    "    const profile = { \n",
    "        name: 'Alice', \n",
    "        age: 30, \n",
    "    } \n",
    "    \n",
    "    console.log(Object.keys(profile)) // ['name', 'age']\n",
    "\n",
    "    console.log(Object.values (profile)) // ['Alice', 30]\n",
    "```"
   ]
  },
  {
   "cell_type": "markdown",
   "metadata": {},
   "source": [
    "#### 7. Optional chaining ('?.')\n",
    "- 속성이 없는 중첩 객체를 에러 없이 접근할 수 있는 방법 \n",
    "- 만약 참조 대상이 null 또는 undefined라면 에러가 발생하는 것 대신 평가를 멈추고 undefined를 반환\n",
    "```js\n",
    "    const user = { \n",
    "        name: 'Alice', \n",
    "        greeting: function () {\n",
    "            return 'hello' \n",
    "        }\n",
    "    }\n",
    "\n",
    "    console.log(user.address.street) // Uncaught TypeError \n",
    "    console.log(user.address?.street) // undefined \n",
    "\n",
    "    console.log(user.nonMethod()) // Uncaught TypeError \n",
    "    console.log(user.nonMethod?.()) // undefined\n",
    "```\n",
    "- 만약 Optional chaining을 사용하지 않는다면 다음과 같이 '&&' 연산자를 사용해야 함\n",
    "```js\n",
    "    const user = { \n",
    "        name: 'Alice', \n",
    "        greeting: function () { \n",
    "            return 'hello' \n",
    "        }\n",
    "    } \n",
    "    \n",
    "    console.log(user.address && user.address.street) // undefined (단축 연산)\n",
    "```"
   ]
  },
  {
   "cell_type": "markdown",
   "metadata": {},
   "source": [
    "##### 7. Optional chaining 장점 \n",
    "- 참조가 누락될 가능성이 있는 경우 연결된 속성으로 접근할 때 더 짧고 간단한 표현식을 작성할 수 있음 \n",
    "- 어떤 속성이 필요한지에 대한 보증이 확실하지 않는 경우에 객체의 내용을 보다 편리하게 탐색할 수 있음"
   ]
  },
  {
   "cell_type": "markdown",
   "metadata": {},
   "source": [
    "##### 7. Optional chaining 주의사항 \n",
    "1. Optional chaining은 존재하지 않아도 괜찮은 대상에만 사용해야 함 (남용 X) \n",
    "    - 왼쪽 평가대상이 없어도 괜찮은 경우에만 선택적으로 사용 \n",
    "    - 중첩 객체를 에러 없이 접근하는 것이 사용 목적이기 때문 \n",
    "```js\n",
    "    // 이전 예시 코드에서 user 객체는 논리상 반드시 있어야 하지만 address는 필수 값이 아님 \n",
    "    // user에 값을 할당하지 않은 문제가 있을 때 바로 알아낼 수 있어야 하기 때문 \n",
    "    \n",
    "    // Bad \n",
    "    user?.address?.street \n",
    "    \n",
    "    // Good \n",
    "    user.address?.street \n",
    "```\n",
    "2. Optional chaining 앞의 변수는 반드시 선언되어 있어야 함 \n",
    "```js\n",
    "    console.log(myObj?.address) // Uncaught ReferenceError: myobj is not defined\n",
    "```"
   ]
  },
  {
   "cell_type": "markdown",
   "metadata": {},
   "source": [
    "##### 7. Optional chaining 정리 \n",
    "1. obj?.prop \n",
    "    - obj가 존재하면 obj.prop을 반환하고, 그렇지 않으면 undefined를 반환\n",
    "2. obj?.[prop] \n",
    "    - obj가 존재하면 obj [prop]을 반환하고, 그렇지 않으면 undefined를 반환 \n",
    "3. obj?.method() \n",
    "    - obj가 존재하면 obj.method()를 호출하고, 그렇지 않으면 undefined를 반환"
   ]
  },
  {
   "cell_type": "markdown",
   "metadata": {},
   "source": [
    "### JSON"
   ]
  },
  {
   "cell_type": "markdown",
   "metadata": {},
   "source": [
    "#### JSON\n",
    "- \"JavaScript Object Notation\"\n",
    "- Key-Value 형태로 이루어진 자료 표기법 \n",
    "- JavaScript의 Object와 유사한 구조를 가지고 있지만 JSON은 형식이 있는 \"문자열\" \n",
    "- JavaScript에서 JSON을 사용하기 위해서는 `Object 자료형으로 변경`해야 함"
   ]
  },
  {
   "cell_type": "markdown",
   "metadata": {},
   "source": [
    "#### Object ↔ JSON 변환하기 \n",
    "```js\n",
    "const jsObject = { \n",
    "    coffee: 'Americano', \n",
    "    iceCream: 'Cookie and cream', \n",
    "}\n",
    "\n",
    "// Object -> JSON \n",
    "const objToJson = JSON.stringify(jsObject) \n",
    "console.log(objToJson) // {\"coffee\":\"Americano\", \"iceCream\":\"Cookie and cream\"} \n",
    "console.log(typeof objToJson) // string \n",
    "\n",
    "// JSON -> Object \n",
    "const jsonToObj = JSON.parse(objToJson) \n",
    "console.log(jsonToObj) // { coffee: 'Americano', iceCream: 'Cookie and cream' } \n",
    "console.log(typeof jsonToObj) // object\n",
    "```"
   ]
  },
  {
   "cell_type": "markdown",
   "metadata": {},
   "source": [
    "## 참고"
   ]
  },
  {
   "cell_type": "markdown",
   "metadata": {},
   "source": [
    "### 클래스"
   ]
  },
  {
   "cell_type": "markdown",
   "metadata": {},
   "source": [
    "#### 클래스의 필요성 \n",
    "- JS에서 객체를 하나 생성한다고 한다면? \n",
    "    - 하나의 객체를 선언하여 생성 \n",
    "```js\n",
    "    const member1 = { \n",
    "        name: 'Alice', \n",
    "        age: 22, \n",
    "    } \n",
    "```\n",
    "\n",
    "- 동일한 형태의 객체를 또 만든다면? \n",
    "    - 또 다른 객체를 선언하여 생성해야 함 \n",
    "```js\n",
    "    const member2 = { \n",
    "        name: 'Bella', \n",
    "        age: 20, \n",
    "    } \n",
    "```\n",
    "\n",
    "- >불편한데.. 좋은 방법이 없을까..?"
   ]
  },
  {
   "cell_type": "markdown",
   "metadata": {},
   "source": [
    "#### 클래스 \n",
    "객체를 생성하기 위한 템플릿 \n",
    "\n",
    "- > 객체의 속성, 메서드를 정의하는 청사진 역할"
   ]
  },
  {
   "cell_type": "markdown",
   "metadata": {},
   "source": [
    "#### 클래스 기본 문법\n",
    "1. class 키워드 \n",
    "2. 클래스 이름 \n",
    "3. 생성자 메서드\n",
    "    - constuctor()\n",
    "\n",
    "```js\n",
    "    class MyClass { \n",
    "        // 여러 메서드를 정의할 수 있음 \n",
    "        constructor() { ... } \n",
    "        method1() { ... } \n",
    "        method2() { ... } \n",
    "        method3() { ... }\n",
    "        ...\n",
    "    }\n",
    "```"
   ]
  },
  {
   "cell_type": "markdown",
   "metadata": {},
   "source": [
    "#### 클래스 특징 \n",
    "- ES6에서 도입 \n",
    "- 생성자 함수를 사용하여 객체를 생성하는 이전의 방식을 객체 지향적으로 표현하고자 만들어짐 \n",
    "- 그래서 클래스는 내부적으로 `생성자 함수를 기반으로 동작`함\n",
    "\n",
    "```js\n",
    "    // 생성자 함수  \n",
    "    \n",
    "    function Member (name, age) { \n",
    "        this.name = name \n",
    "        this.age = age \n",
    "        this.sayHi = function () { \n",
    "            console.log(`Hi, I am ${this.name}`) \n",
    "        }\n",
    "    }\n",
    "\n",
    "\n",
    "    // 클래스\n",
    "    class Member { \n",
    "        constructor (name, age) { \n",
    "            this.name = name \n",
    "            this.age = age \n",
    "        }\n",
    "        sayHi() {\n",
    "            console.log(`Hi, I am ${this.name}`) \n",
    "        }\n",
    "    }\n",
    "```"
   ]
  },
  {
   "cell_type": "markdown",
   "metadata": {},
   "source": [
    "#### 클래스 활용\n",
    "```js\n",
    "class Member { \n",
    "    constructor (name, age) { \n",
    "        this.name = name \n",
    "        this.age = age \n",
    "    } \n",
    "    sayHi() { \n",
    "        console.log(`Hi, I am ${this.name}`) \n",
    "        } \n",
    "    } \n",
    "    \n",
    "    const member3 = new Member('Alice', 20) \n",
    "    \n",
    "    console.log(member3) // Member { name: 'Alice', age: 20} \n",
    "    console.log(member3.name) // Alice \n",
    "    member3.sayHi() // Hi I am Alice\n",
    "```"
   ]
  },
  {
   "cell_type": "markdown",
   "metadata": {},
   "source": [
    "#### 'new' 연산자\n",
    "클래스나 생성자 함수를 사용하여 새로운 객체를 생성"
   ]
  },
  {
   "cell_type": "markdown",
   "metadata": {},
   "source": [
    "#### 'new' 연산자 특징\n",
    "```js\n",
    "const instance = new ClassName(arg1, arg2)\n",
    "```\n",
    "- 클래스의 constructor()는 new 연산자에 의해 자동으로 호출되며 특별한 절차 없이 객체를 초기화 할 수 있음\n",
    "- new 없이 클래스를 호출하면 TypeError 발생"
   ]
  }
 ],
 "metadata": {
  "language_info": {
   "name": "python"
  }
 },
 "nbformat": 4,
 "nbformat_minor": 2
}

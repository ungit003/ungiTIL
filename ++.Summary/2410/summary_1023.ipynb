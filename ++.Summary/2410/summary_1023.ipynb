{
 "cells": [
  {
   "cell_type": "markdown",
   "metadata": {},
   "source": [
    "# JavaScript 03 참조 자료형 01"
   ]
  },
  {
   "cell_type": "markdown",
   "metadata": {},
   "source": [
    "## 함수"
   ]
  },
  {
   "cell_type": "markdown",
   "metadata": {},
   "source": [
    "### 개요"
   ]
  },
  {
   "cell_type": "markdown",
   "metadata": {},
   "source": [
    "#### Function\n",
    "참조 자료형에 속하며 모든 함수는 Function object"
   ]
  },
  {
   "cell_type": "markdown",
   "metadata": {},
   "source": [
    "#### 데이터 타입\n",
    "`참조 자료형` (Reference tpye)\n",
    "\n",
    "객체의 주소가 저장되는 자료형 (가변, 주소가 복사)\n",
    "Objects (Object, Array, Function)"
   ]
  },
  {
   "cell_type": "markdown",
   "metadata": {},
   "source": [
    "### 함수 정의"
   ]
  },
  {
   "cell_type": "markdown",
   "metadata": {},
   "source": [
    "#### 함수 구조\n",
    "```js\n",
    "function name ([param[, param,[..., param]]]) {\n",
    "    statements\n",
    "    return value\n",
    "}\n",
    "```\n",
    "- function 키워드\n",
    "- 함수의 이름\n",
    "- 함수의 매개변수\n",
    "- 함수의 body를 구성하는 statements\n",
    "- `return 값이 없다면 undefined를 반환`"
   ]
  },
  {
   "cell_type": "markdown",
   "metadata": {},
   "source": [
    "#### 함수 정의 2가지 방법\n",
    "##### `선언식` (function declaration)\n",
    "```js\n",
    "function funcName () {\n",
    "    statements\n",
    "}\n",
    "```\n",
    "```js\n",
    "function add (num1, num2) {\n",
    "    return num1 + num2\n",
    "}\n",
    "\n",
    "add(1, 2) // 3\n",
    "```\n",
    "\n",
    "##### `표현식` (function expression)\n",
    "```js\n",
    "const funcName = function () {\n",
    "    statements\n",
    "}\n",
    "```\n",
    "```js\n",
    "const sub = function (num1, num2) {\n",
    "    return num1 -num2\n",
    "}\n",
    "\n",
    "sub (2, 1) // 1"
   ]
  },
  {
   "cell_type": "markdown",
   "metadata": {},
   "source": [
    "#### 함수 선언식의 특징\n",
    "- 호이스팅 됨\n",
    "- 코드의 구조와 가독성 면에서는 표현식에 비해 장점이 있음\n",
    "```js\n",
    "    add(1, 2) // 3\n",
    "    \n",
    "    function add (num1, num2) {\n",
    "        return num1 + num2\n",
    "    }\n",
    "```"
   ]
  },
  {
   "cell_type": "markdown",
   "metadata": {},
   "source": [
    "#### 함수 표현식의 특징\n",
    "- 호이스팅 되지 않음\n",
    "    - 변수 선언만 호이스팅되고 함수 할당은 실행 시점에서 이루어짐\n",
    "- 함수 이름이 없는 '익명 함수'를 사용할 수 있음\n",
    "```js\n",
    "    sub(2, 1) // ReferenceError: Cannot access 'sub' before initialization\n",
    "\n",
    "    const sub = function (num1, num2) {\n",
    "        return num1 -num 2\n",
    "    }"
   ]
  },
  {
   "cell_type": "markdown",
   "metadata": {},
   "source": [
    "#### 함수 표현식 사용을 권장하는 이유\n",
    "(앞으로 별 일이 없다면 표현식만 사용한다.)\n",
    "- 예측 가능성\n",
    "    - 호이스팅의 영향을 받지 않아 코드의 실행 흐름을 더 명확하게 예측할 수 있음\n",
    "\n",
    "- 유연성\n",
    "    - 변수에 할당되므로 함수를 값으로 다루기 쉬움\n",
    "\n",
    "- 스코프 관리\n",
    "    - 볼록 스코프를 가지는 let이나  const와 함께 사용하여 더 엄격한 스코프 관리가 가능"
   ]
  },
  {
   "cell_type": "markdown",
   "metadata": {},
   "source": [
    "### 매개변수"
   ]
  },
  {
   "cell_type": "markdown",
   "metadata": {},
   "source": [
    "#### 매개변수의 정의 방법\n",
    "1. 기본 함수 매개변수\n",
    "2. 나머지 매개변수\n"
   ]
  },
  {
   "cell_type": "markdown",
   "metadata": {},
   "source": [
    "#### 1. 기본 함수 매개변수 (Default function parameter)\n",
    "- 전달하는 인자가 없거나 undefined가 전달될 경우 이름 붙은 매개변수를 기본 값으로 초기화\n",
    "```js\n",
    "    const greeting = function (name = 'Anonymous') { \n",
    "        return `Hi ${name}` \n",
    "    } \n",
    "     \n",
    "    greeting() // Hi Anonymous\n",
    "```"
   ]
  },
  {
   "cell_type": "markdown",
   "metadata": {},
   "source": [
    "#### 2. 나머지 매개변수 (Rest parameter)\n",
    "- 임의의 수의 인자를 '배열'로 허용하여 가변 인자를 나타내는 방법 \n",
    "- `작성 규칙` \n",
    "    - 함수 정의 시 나머지 매개변수는 하나만 작성할 수 있음 \n",
    "    - 나머지 매개변수는 함수 정의에서 매개변수 마지막에 위치해야 함\n",
    "```js\n",
    "        const myFunc = function (param1, param2, ...`restPrams`) { \n",
    "            return [param1, param2, restPrams] \n",
    "        } \n",
    "        \n",
    "        myFunc(1, 2, 3, 4, 5) // [1, 2, [3, 4, 5]] \n",
    "        myFunc(1, 2) // [1, 2, []]\n",
    "```"
   ]
  },
  {
   "cell_type": "markdown",
   "metadata": {},
   "source": [
    "#### 매개변수와 인자 개수가 불일치 할 때\n",
    "- 매개변수 개수  > 인자 개수\n",
    "- > 누락된 인자는 undefined로 할당\n",
    "```js\n",
    "    const threeArgs = function (param1, param2, param3) { \n",
    "        return [param1, param2, param3] \n",
    "    } \n",
    "    \n",
    "    threeArgs() // [undefiend, undefiend, undefiend] \n",
    "    threeArgs(1) // [1, undefiend, undefiend]\n",
    "    threeArgs(2, 3) // [2, 3, undefiend]\n",
    "```\n",
    "- 매개변수 개수 < 인자 개수\n",
    "- > 초과한 입력 인자는 사용하지 않움\n",
    "```js\n",
    "    const noArgs = function () { \n",
    "        return 0 \n",
    "    } \n",
    "    noArgs(1, 2, 3) // 0 \n",
    "    \n",
    "    const twoArgs = function (param1, param2) { \n",
    "        return [param1, param2] \n",
    "    } \n",
    "    twoArgs(1, 2, 3) // [1, 2]"
   ]
  },
  {
   "cell_type": "markdown",
   "metadata": {},
   "source": [
    "### Spread syntax"
   ]
  },
  {
   "cell_type": "markdown",
   "metadata": {},
   "source": [
    "#### '...'\n",
    "##### (Spread syntax)\n",
    "전개 구문"
   ]
  },
  {
   "cell_type": "markdown",
   "metadata": {},
   "source": [
    "#### 전개 구문\n",
    "- 배열이나 문자열고 같이 간복 가능한 항목을 펼치는 것 (확장, 전개)\n",
    "- 전개 대상에 따라 역할이 다름\n",
    "    - > 배열이나 객체의 요소를 개별적인 값으로 분리하거나 다른 배열이나 객체의 요소를 현재 배열이나 객체에 추가하는 등"
   ]
  },
  {
   "cell_type": "markdown",
   "metadata": {},
   "source": [
    "#### 전개 구문 활용처\n",
    "1. 함수와의 사용 1\n",
    "    1. 수 호출 시 인자 확장 \n",
    "    2. 나머지 매개변수 (압축) \n",
    "\n",
    "2. 객체와의 사용 (객체 파트에서 진행) \n",
    "3. 배열과의 활용 (배열 파트에서 진행)"
   ]
  },
  {
   "cell_type": "markdown",
   "metadata": {},
   "source": [
    "#### 전개 구문 활용\n",
    "- 함수와의 사용\n",
    "    1. 인자 확장 (함수 호출 시)\n",
    "```html\n",
    "    <!-- spread-syntax.html -->\n",
    "```\n",
    "```js\n",
    "    function myFunc(x, y, z) { \n",
    "        return x + y + z \n",
    "    } \n",
    "\n",
    "    let numbers = [1, 2, 3] \n",
    "\n",
    "    console.log(myFunc(...numbers)) // 6\n",
    "```\n",
    "- \n",
    "    2. 나머지 매개변수 (함수 선언 시)\n",
    "\n",
    "```html\n",
    "    <!-- spread-syntax.html -->\n",
    "```\n",
    "```js\n",
    "    function myFunc2(x, y, ...restArgs) {\n",
    "        return [x, y, restArgs]\n",
    "    }  \n",
    "    \n",
    "    console.log(myFunc2(1, 2, 3, 4, 5)) // [1, 2, [3, 4, 5]] \n",
    "    console.log(myFunc2(1, 2)) // [1, 2, []]\n",
    "```\n"
   ]
  },
  {
   "cell_type": "markdown",
   "metadata": {},
   "source": [
    "### 화살표 함수 표현식"
   ]
  },
  {
   "cell_type": "markdown",
   "metadata": {},
   "source": [
    "#### 화살표 함수 표현식\n",
    "##### Arrow function expressions\n",
    "함수 표현식의 간결한 표현법"
   ]
  },
  {
   "cell_type": "markdown",
   "metadata": {},
   "source": [
    "#### 화살표 함수로 변경 결과\n",
    "```js\n",
    "const arrow = function (name) { \n",
    "    return hello, ${name} \n",
    "}\n",
    "```\n",
    "==>\n",
    "```js\n",
    "const arrow = name => 'hello, ${name}`\n",
    "```"
   ]
  },
  {
   "cell_type": "markdown",
   "metadata": {},
   "source": [
    "#### 화살표 함수 작성 과정\n",
    "1. function 키워드 제거 후 매개변수와 중괄호 사이에 화살표(=>) 작성\n",
    "```js\n",
    "const arrow1 = function (name) { \n",
    "    return 'hello, ${name}` \n",
    "} \n",
    "\n",
    "// 1. function 키워드 삭제 후 화살표 작성 \n",
    "const arrow2 = (name) => { return `hello, ${name} }\n",
    "```\n",
    "2. 함수의 매개변수가 하나 뿐이라면, 매개변수의 `()` 제거 가능 (단, 생략하지 않는 것을 권장)\n",
    "```js\n",
    "const arrow1 = function (name) { \n",
    "    return 'hello, ${name}` \n",
    "} \n",
    "\n",
    "// 1. function 키워드 삭제 후 화살표 작성\n",
    "const arrow2 = (name) => { return 'hello, ${name}`  } \n",
    "// 2. 인자의 소괄호 삭제 (인자가 1개일 경우에만 가능) \n",
    "const arrow3 = name => { return 'hello, ${name}`  }\n",
    "```\n",
    "1. function 키워드 제거 후 매개변수와 중괄호 사이에 화살표(=>) 작성 \n",
    "2. 함수의 매개변수가 하나 뿐이라면, 매개변수의 `()` 제거 가능 (단, 생략하지 않는 것을 권장) \n",
    "3. 함수 본문의 표현식이 한 줄이라면, `{}`와 `return` 제거 가능\n",
    "```js\n",
    "const arrow1 = function (name) { \n",
    "    return 'hello, ${name}` \n",
    "} \n",
    "\n",
    "// 1. function 키워드 삭제 후 화살표 작성 \n",
    "const arrow2 = (name) => { return `hello, ${name}` } \n",
    "// 2. 인자의 소괄호 삭제 (인자가 1개일 경우에만 가능) \n",
    "const arrow3 = name => { return `hello, ${name}` } \n",
    "// 3. 중괄호와 return 삭제 (함수 본문이 return을 포함한 표현식 1개일 경우에만 가능) \n",
    "const arrow4 = name => `hello, ${name}`\n",
    "```"
   ]
  },
  {
   "cell_type": "markdown",
   "metadata": {},
   "source": [
    "## 참고"
   ]
  },
  {
   "cell_type": "markdown",
   "metadata": {},
   "source": [
    "### 화살표 함수 심화\n",
    "```js\n",
    "// 1. 인자가 없다면 () or 로 표시 가능 \n",
    "const noArgs1 = () => 'No args' \n",
    "const noArgs2 = => 'No args'  \n",
    "\n",
    "// 2-1. object를 return 한다면 return 을 명시적으로 작성해야 함\n",
    "const returnObject1 = () => { return { key: 'value' } } \n",
    "\n",
    "// 2-2. return을 작성하지 않으려면 객체를 소괄호로 감싸야 함 \n",
    "const returnObject2 = () => { key: 'value' })\n",
    "```"
   ]
  }
 ],
 "metadata": {
  "language_info": {
   "name": "python"
  }
 },
 "nbformat": 4,
 "nbformat_minor": 2
}

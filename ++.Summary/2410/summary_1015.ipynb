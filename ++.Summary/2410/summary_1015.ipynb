{
 "cells": [
  {
   "cell_type": "markdown",
   "metadata": {},
   "source": [
    "# DB 05 Many to many relationships 2"
   ]
  },
  {
   "cell_type": "markdown",
   "metadata": {},
   "source": [
    "## 팔로우 기능 구현"
   ]
  },
  {
   "cell_type": "markdown",
   "metadata": {},
   "source": [
    "### 프로필 페이지"
   ]
  },
  {
   "cell_type": "markdown",
   "metadata": {},
   "source": [
    "#### 프로필 페이지\n",
    "- 각 회원의 개인 프로필 페이지에 팔로우 기능을 구현하기 위해 프로필 페이지를 먼저 구현하기"
   ]
  },
  {
   "cell_type": "markdown",
   "metadata": {},
   "source": [
    "#### 프로필 구현\n",
    "- url 작성\n",
    "- view 함수 작성\n",
    "- profile 템플릿 작성\n",
    "- 프로필 페이지로 이동할 수 있는 링크 작성\n",
    "- 프로필 페이지 결과 확인"
   ]
  },
  {
   "cell_type": "markdown",
   "metadata": {},
   "source": [
    "### 모델 관계 설정"
   ]
  },
  {
   "cell_type": "markdown",
   "metadata": {},
   "source": [
    "#### User(M) - User(M)\n",
    "0명 이상의 회원은 0명 이상의 회원과 관련\n",
    "\n",
    "- > 회원은 0명 이상의 팔로워를 가질 수 있고, 0명 이상의 다른 회원들을 팔로잉 할 수 있음"
   ]
  },
  {
   "cell_type": "markdown",
   "metadata": {},
   "source": [
    "#### 모델 관계 설정\n",
    "- ManyToManyField 작성\n",
    "  \n",
    "- 참조\n",
    "    - 내가 팔로우 하는 사람들 (팔로잉, followings)\n",
    "- 역참조\n",
    "    - 상대방 입장에서 나는 팔로워 중 한 명 (팔로워, followers)\n",
    "- `바뀌어도 상관 없으나 관계 조회 시 생각하기 편한 방향으로 정한 것`\n",
    "- Migrations 진행 후 중개 테이블 확인"
   ]
  },
  {
   "cell_type": "markdown",
   "metadata": {},
   "source": [
    "### 기능 구현"
   ]
  },
  {
   "cell_type": "markdown",
   "metadata": {},
   "source": [
    "#### 기능구현\n",
    "- url 작성\n",
    "- view 함수 작성\n",
    "- 프로필 유저의 팔로잉, 팔로워 수 & 팔로우, 언팔로우 버튼 작성\n",
    "- 팔로우 버튼 클릭 > 팔로우 버튼 변화 및 중개 테이블 데이터 확인"
   ]
  },
  {
   "cell_type": "markdown",
   "metadata": {},
   "source": [
    "## Fixtures"
   ]
  },
  {
   "cell_type": "markdown",
   "metadata": {},
   "source": [
    "### 개요"
   ]
  },
  {
   "cell_type": "markdown",
   "metadata": {},
   "source": [
    "#### Fixtures\n",
    "Django가 데이터베이스로 가져오는 방법을 알고 있는 데이터 모음\n",
    "- > 데이터는 데이터베이스 구조에 맞추어 작성되어 있음"
   ]
  },
  {
   "cell_type": "markdown",
   "metadata": {},
   "source": [
    "#### 초기 데이터 제공\n",
    "Fixtures의 사용 목적"
   ]
  },
  {
   "cell_type": "markdown",
   "metadata": {},
   "source": [
    "#### 초기 데이터의 필요성\n",
    "- 협업하는 유저 A, B가 있다고 생각해보기\n",
    "    1. A가 먼저 프로젝트르 작업 후 원격 저장소에 push 진행\n",
    "        - gitignore로 인해 DB는 업로드하지 않기 때문에 A가 생성한 데이터도 업로드 X\n",
    "    2. B가 원격 저장소에서 A가 push한 프로젝트를 pull (혹은 clone)\n",
    "        - 결과적으로 B는 DB가 없는 프로젝트를 받게 됨\n",
    "- 이처럼 프로젝트의 앱을 처음 설정할 때 동일하게 준비 된 데이터로 데이터베이스를 미리 채우는 것이 필요한 순간이 있음\n",
    "\n",
    "- > Django에서는 fixtures를 사용해 앱 초기 데이터(initial data)를 제공"
   ]
  },
  {
   "cell_type": "markdown",
   "metadata": {},
   "source": [
    "#### 사전준비\n",
    "- M:N 까지 모두 작성된 Django 프로젝트에서 유저, 게시글, 댓글 등 각 데이터를 최소 2~3개 이상 생성해두기"
   ]
  },
  {
   "cell_type": "markdown",
   "metadata": {},
   "source": [
    "#### fixtures 관련 명령어\n",
    "- dumpdata : 생성 (데이터 추출)\n",
    "- loaddata : 로드 (데이터 입력)"
   ]
  },
  {
   "cell_type": "markdown",
   "metadata": {},
   "source": [
    "### dumpdata"
   ]
  },
  {
   "cell_type": "markdown",
   "metadata": {},
   "source": [
    "#### dumpdata\n",
    "데이터베이스의 모든 데이터를 추출\n",
    "```py\n",
    "# 작성 예시\n",
    "```"
   ]
  },
  {
   "cell_type": "markdown",
   "metadata": {},
   "source": [
    "#### dumpdata 활용\n"
   ]
  },
  {
   "cell_type": "markdown",
   "metadata": {},
   "source": [
    "#### Fixtures 파일을 직접 만들지 말 것\n",
    "반드시 dumpdata 명령어를 사용하여 생성"
   ]
  },
  {
   "cell_type": "markdown",
   "metadata": {},
   "source": [
    "### loaddata"
   ]
  },
  {
   "cell_type": "markdown",
   "metadata": {},
   "source": [
    "#### loaddata\n",
    "Fixtures 데이터를 데이터베이스로 불러오기"
   ]
  },
  {
   "cell_type": "markdown",
   "metadata": {},
   "source": [
    "#### Fixtures 파일 기본 경로\n",
    "##### app_name/fixtures/\n",
    "- > Django는 설치된 모든 app의 디렉토리에서 fixtures 폴더 이후의 경로를 경로로 fixtures 파일을 찾아 load"
   ]
  },
  {
   "cell_type": "markdown",
   "metadata": {},
   "source": [
    "#### loaddata 활용\n",
    "- db.sqlite3 파일 삭제 후 migrate 진행\n",
    "- load 진행 후 데이터가 잘 입력되었는지 확인"
   ]
  },
  {
   "cell_type": "markdown",
   "metadata": {},
   "source": [
    "#### loaddata 순서 주의사항\n",
    "- 만약 loaddata를 한 번에 실행하지 않고 별도로 실행한다면 모델 관계에 따라 load 순서가 중요할 수 있음\n",
    "    - commet는 article에 대한 key 및 user에 대한 key가 필요\n",
    "    - article은 user에 대한 key가 필요\n",
    "- 즉 현재 모델 관계에서는 user > article > commet 순으로 data를 load 해야 오류가 발생하지 않음"
   ]
  },
  {
   "cell_type": "markdown",
   "metadata": {},
   "source": [
    "## Improve query"
   ]
  },
  {
   "cell_type": "markdown",
   "metadata": {},
   "source": [
    "### 사전 준비"
   ]
  },
  {
   "cell_type": "markdown",
   "metadata": {},
   "source": [
    "#### Improve query\n",
    "\"query 개선하기\"\n",
    "\n",
    "- > 같은 결과를 얻기 위해 DB 측에 보내는 query 갯수를 점차 줄여 조회하기"
   ]
  },
  {
   "cell_type": "markdown",
   "metadata": {},
   "source": [
    "#### 사전 준비\n",
    "- fixtures 데이터\n",
    "    - 게시글 10개 / 댓글 100개 / 유저 5개\n",
    "\n",
    "- 모델 관계\n",
    "    - N:1 - Article:User / Comment:Article / Comment:Aritcle\n",
    "    - N:M - Article:User\n",
    "\n",
    "```\n",
    "```\n",
    "- 서버 실행 후 확인"
   ]
  },
  {
   "cell_type": "markdown",
   "metadata": {},
   "source": [
    "### annotate"
   ]
  },
  {
   "cell_type": "markdown",
   "metadata": {},
   "source": [
    "#### annotate\n",
    "- SQL의 GROUP BY를 사용\n",
    "- 쿼리셋의 각 객체에 계산된 필드를 추가\n",
    "- 집계 함수(Count, Sum 등)와 함게 자주 사용됨"
   ]
  },
  {
   "cell_type": "markdown",
   "metadata": {},
   "source": [
    "#### annotate 예시\n",
    "```\n",
    "```\n",
    "\n",
    "- 의미\n",
    "    - 결과 객체에 'num_authors'라는 새로운 필드를 추가\n",
    "    - 이 필드는 각 책과 연관된 저자의 수를 계산\n",
    "- 결과\n",
    "    - 결과에는 기존 필드와 함께 'num_authors' 필드를 가지게 됨\n",
    "    - book.num_authors로 해당 책의 저자 수에 접근할 수 있게 됨"
   ]
  },
  {
   "cell_type": "markdown",
   "metadata": {},
   "source": [
    "#### 문제 상황\n",
    "- ``\n",
    "    - \"11 queries including 10 similar\"\n",
    "\n",
    "- 문제 원인\n",
    "    - 각 게시글마다 댓글 갯수를 반복 평가\n",
    "\n",
    "```\n",
    "```"
   ]
  },
  {
   "cell_type": "markdown",
   "metadata": {},
   "source": [
    "#### annotate 적용\n",
    "- 문제 해결\n",
    "    - 게시글을 조회하면서 댓글 갯수까지 한 번에 조히해서 가져오기\n",
    "\n",
    "```\n",
    "```\n",
    "- \"11 queries including 10 similar\" > \"1 query\"\n",
    "```\n",
    "```\n"
   ]
  },
  {
   "cell_type": "markdown",
   "metadata": {},
   "source": [
    "### select_related"
   ]
  },
  {
   "cell_type": "markdown",
   "metadata": {},
   "source": [
    "#### select_related\n",
    "- SQL의 INNER JOIN을 사용\n",
    "- 1:1 또는 N:1참조 관계에서 사용\n",
    "    - ForeignKey나 OneToOneField 관계에 대해 JOIN을 수행\n",
    "- 단일 쿼리로 관련 객체를 함께 가져와 성능을 향상"
   ]
  },
  {
   "cell_type": "markdown",
   "metadata": {},
   "source": [
    "#### select_related 예시\n",
    "```\n",
    "```\n",
    "- 의미\n",
    "    - Book 모델과 연관된 Publisher 모델의 데이터를 함께 가져옴\n",
    "    - ForeignKey 관계인 'publisher'를 JOIN하여 단일 쿼리 만으로 데이터를 조회\n",
    "\n",
    "- 결과\n",
    "    - Book 객체를 조회할 때 연관된 Publisher 정보도 함께 로드\n",
    "    - book.publisher.name과 같은 접은이 추가적인 데이터베이스 쿼리 없이 가능"
   ]
  },
  {
   "cell_type": "markdown",
   "metadata": {},
   "source": [
    "#### 문제 상황"
   ]
  },
  {
   "cell_type": "markdown",
   "metadata": {},
   "source": [
    "#### select_related 적용"
   ]
  },
  {
   "cell_type": "markdown",
   "metadata": {},
   "source": [
    "### prefetch_related"
   ]
  },
  {
   "cell_type": "markdown",
   "metadata": {},
   "source": [
    "#### prefetch_related\n",
    "- SQL이 아닌 Python을 사용한 JOIN 진행\n",
    "    - 관련 객체들을 미리 가져와 메모리에 저장하여 성능을 향상\n",
    "- M:N 또는 N:1 역참조 관계에서 사용\n",
    "    -  ManyToManyField나 역참조 관계에 대해 별도의 쿼리를 실행"
   ]
  },
  {
   "cell_type": "markdown",
   "metadata": {},
   "source": [
    "#### Prefetch_related 예시\n",
    "- 의미\n",
    "    - Book과 Author는 ManyToMany 관계로 가정\n",
    "    - B\n",
    "    - D\n",
    "- 결과\n",
    "  - B\n",
    "  - for"
   ]
  },
  {
   "cell_type": "markdown",
   "metadata": {},
   "source": [
    "#### 문제 상황\n",
    "- 문제 원인\n",
    "    - 각 게시글 출력 후 게시글의 댓글 목록까지 개별적으로 모두 평가"
   ]
  },
  {
   "cell_type": "markdown",
   "metadata": {},
   "source": [
    "## 참고"
   ]
  }
 ],
 "metadata": {
  "language_info": {
   "name": "python"
  }
 },
 "nbformat": 4,
 "nbformat_minor": 2
}

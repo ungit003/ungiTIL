{
 "cells": [
  {
   "cell_type": "markdown",
   "id": "95a70463",
   "metadata": {},
   "source": [
    "# Pandas 기본 사용법 익히기\n",
    "\n",
    "- Numpy 활용법은 알았으니, 더미 데이터(csv)를 Numpy 로 변형해보자\n",
    "- Pandas 를 활용하여 데이터 분석 기초를 쌓아보자"
   ]
  },
  {
   "cell_type": "markdown",
   "id": "b0c22e4d",
   "metadata": {},
   "source": [
    "## 목차\n",
    "\n",
    "1. [Numpy 를 활용한 csv file open](#1.-Numpy-를-활용한-csv-file-open)\n",
    "\n",
    "\n",
    "2. [Pandas DataFrame 생성](#2.-Pandas-DataFrame-생성)\n",
    "\n",
    "\n",
    "3. [기본 함수](#3.-기본-함수)\n",
    "    - 3.1. [처음 N개 행 표시](#3.1.-처음-N개-행-표시)\n",
    "    - 3.2. [마지막 5개 행 표시](#3.2.-마지막-5개-행-표시)\n",
    "    - 3.3. [헤더 이름 지정하기](#3.3.-헤더-이름-지정하기)\n",
    "    - 3.4. [데이터 타입 반환](#3.4.-데이터-타입-반환)\n",
    "    - 3.5. [DataFrame 의 정보 출력](#3.5.-DataFrame-의-정보-출력)\n",
    "    - 3.6. [컬럼 별 요약 통계량 출력](#3.6.-컬럼-별-요약-통계량-출력)\n",
    "    - 3.7. [특정 데이터 조회](#3.7.-특정-데이터-조회)\n",
    "        - 3.7.1. [특정 행 조회하기](#3.7.1.-특정-행-조회하기)\n",
    "        - 3.7.2. [여러 행 조회](#3.7.2.-여러-행-조회)\n",
    "        - 3.7.3. [특정 구간 조회](#3.7.3.-특정-구간-조회)\n",
    "        - 3.7.4. [특정 행을 제외하고 조회](#3.7.4.-특정-행을-제외하고-조회)\n",
    "        - 3.7.5. [특정 행 다른 방법으로 가져오기](#3.7.5.-특정-행-다른-방법으로-가져오기)\n",
    "        - 3.7.6. [특정 열 조회](#3.7.6.-특정-열-조회)\n",
    "        - 3.7.7. [특정 열 제외하고 조회](#3.7.7.-특정-열-제외하고-조회)\n",
    "        - 3.7.8. [특정 범위의 열 가져오기](#3.7.8.-특정-범위의-열-가져오기)\n",
    "        - 3.7.9. [특정 열 다른 방법으로 가져오기](#3.7.9.-특정-열-다른-방법으로-가져오기)\n",
    "        - 3.7.10. [행과 열 조회하기](#3.7.10.-행과-열-조회하기)\n",
    "    - 3.8. [행 삽입하기](#3.8.-행-삽입하기)\n",
    "        - 3.8.1. [마지막 위치에 하나의 행 추가](#3.8.1.-마지막-위치에-하나의-행-추가)\n",
    "        - 3.8.2. [마지막 위치에 여러 행 추가](#3.8.2.-마지막-위치에-여러-행-추가)\n",
    "        - 3.8.3. [두 개의 DataFrame 합치기](#3.8.3.-두-개의-DataFrame-합치기)\n",
    "        - 3.8.4. [중간에 데이터 삽입](#3.8.4.-중간에-데이터-삽입)\n",
    "    - 3.9. [열 삽입하기](#3.9.-열-삽입하기)\n",
    "        - 3.9.1. [마지막 위치에 하나의 열 추가](#3.9.1.-마지막-위치에-하나의-열-추가)\n",
    "        - 3.9.2. [중간 위치에 열 추가](#3.9.2.-중간-위치에-열-추가)\n",
    "    - 3.10. [행 삭제](#3.10.-행-삭제)\n",
    "        - 3.10.1. [중복된 행 제거](#3.10.1.-중복된-행-제거)\n",
    "        - 3.10.2. [index명 or index 순서 를 이용한 행 삭제](#3.10.2.-index명-or-index-순서를-이용한-행-삭제)\n",
    "        - 3.10.3. [열 조건에 따라 행 삭제](#3.10.3.-열-조건에-따라-행-삭제)\n",
    "    - 3.11. [열 삭제](#3.11.-열-삭제)\n",
    "    - 3.12. [DataFrame 복사](#3.12.-DataFrame-복사)"
   ]
  },
  {
   "cell_type": "code",
   "execution_count": null,
   "id": "03c65758",
   "metadata": {},
   "outputs": [],
   "source": [
    "import csv\n",
    "import numpy as np\n",
    "import pandas as pd"
   ]
  },
  {
   "cell_type": "markdown",
   "id": "163d619b",
   "metadata": {},
   "source": [
    "csv 파일을 읽는 방법엔 2가지가 존재한다.\n",
    "\n",
    "1. Python 기본 file open 함수 사용 -> numpy 로 변형\n",
    "2. numpy 의 file read 함수 사용\n",
    "\n",
    "이 중 2번 방법을 사용해보자\n",
    "\n",
    "## 1. Numpy 를 활용한 csv file open"
   ]
  },
  {
   "cell_type": "code",
   "execution_count": null,
   "id": "fb105b57",
   "metadata": {},
   "outputs": [],
   "source": [
    "def file_open_by_numpy():\n",
    "    # np.loadtxt(구분자 = ',', 데이터 타입: string)\n",
    "    np_arr = np.loadtxt('data/test_data.CSV', delimiter=\",\", encoding='cp949', dtype=str)\n",
    "    return np_arr"
   ]
  },
  {
   "cell_type": "code",
   "execution_count": null,
   "id": "3356ada5",
   "metadata": {
    "scrolled": true
   },
   "outputs": [],
   "source": [
    "arr = file_open_by_numpy()\n",
    "print(arr)"
   ]
  },
  {
   "cell_type": "markdown",
   "id": "79f59e0d",
   "metadata": {},
   "source": [
    "위와 같이 2차원 배열 형태로 read 된다.\n",
    "\n",
    "Type 을 출력해보자"
   ]
  },
  {
   "cell_type": "code",
   "execution_count": null,
   "id": "5c038f20",
   "metadata": {},
   "outputs": [],
   "source": [
    "type(arr)"
   ]
  },
  {
   "cell_type": "markdown",
   "id": "d2fd9183",
   "metadata": {},
   "source": [
    "위의 데이터를 분석하기 위해 pandas 의 Dataframe 으로 변형시켜보자\n",
    "\n",
    "## 2. Pandas DataFrame 생성"
   ]
  },
  {
   "cell_type": "code",
   "execution_count": null,
   "id": "02d6c8c8",
   "metadata": {},
   "outputs": [],
   "source": [
    "# 기본적인 데이터 프레임 생성\n",
    "df = pd.DataFrame(arr)\n",
    "df"
   ]
  },
  {
   "cell_type": "code",
   "execution_count": null,
   "id": "408f06d9",
   "metadata": {},
   "outputs": [],
   "source": [
    "# 컬럼명 지정하면서 생성하기\n",
    "# 인덱스명도 지정하면서 할 수 있다.\n",
    "columns=arr[0]\n",
    "arr = np.delete(arr, 0, 0)\n",
    "df = pd.DataFrame(arr, columns=columns)\n",
    "df"
   ]
  },
  {
   "cell_type": "markdown",
   "id": "4cc88d30",
   "metadata": {},
   "source": [
    "---\n",
    "\n",
    "## 3. 기본 함수"
   ]
  },
  {
   "cell_type": "markdown",
   "id": "0b933d84",
   "metadata": {},
   "source": [
    "### 3.1. 처음 N개 행 표시"
   ]
  },
  {
   "cell_type": "code",
   "execution_count": null,
   "id": "37264de6",
   "metadata": {},
   "outputs": [],
   "source": [
    "df.head(5)"
   ]
  },
  {
   "cell_type": "markdown",
   "id": "5f7a2787",
   "metadata": {},
   "source": [
    "---\n",
    "\n",
    "### 3.2. 마지막 5개 행 표시"
   ]
  },
  {
   "cell_type": "code",
   "execution_count": null,
   "id": "9d908dff",
   "metadata": {},
   "outputs": [],
   "source": [
    "df.tail(5)"
   ]
  },
  {
   "cell_type": "markdown",
   "id": "cf9cf11d",
   "metadata": {},
   "source": [
    "---\n",
    "\n",
    "### 3.3. 헤더 이름 지정하기"
   ]
  },
  {
   "cell_type": "code",
   "execution_count": null,
   "id": "cf660332",
   "metadata": {},
   "outputs": [],
   "source": [
    "headers = ['임시', '헤더', '이름', '지정', '하기']\n",
    "df.columns = headers\n",
    "df.head(5)"
   ]
  },
  {
   "cell_type": "code",
   "execution_count": null,
   "id": "b147fb57",
   "metadata": {},
   "outputs": [],
   "source": [
    "headers = ['이름', '나이', '성별', '직업', '사는곳']\n",
    "df.columns = headers\n",
    "df.head(5)"
   ]
  },
  {
   "cell_type": "markdown",
   "id": "b4d19992",
   "metadata": {},
   "source": [
    "---\n",
    "\n",
    "### 3.4. 데이터 타입 반환"
   ]
  },
  {
   "cell_type": "code",
   "execution_count": null,
   "id": "fa34c194",
   "metadata": {
    "scrolled": true
   },
   "outputs": [],
   "source": [
    "df.dtypes"
   ]
  },
  {
   "cell_type": "markdown",
   "id": "fc87c15d",
   "metadata": {},
   "source": [
    "---\n",
    "\n",
    "### 3.5. DataFrame 의 정보 출력"
   ]
  },
  {
   "cell_type": "code",
   "execution_count": null,
   "id": "3d881c15",
   "metadata": {
    "scrolled": true
   },
   "outputs": [],
   "source": [
    "df.info()"
   ]
  },
  {
   "cell_type": "markdown",
   "id": "b862ea8d",
   "metadata": {},
   "source": [
    "---\n",
    "\n",
    "### 3.6. 컬럼 별 요약 통계량 출력\n",
    "- __unique__: 열에있는 고유 한 개체의 수\n",
    "- __top__: 가장 많이 사용된 데이터\n",
    "- __freq__: 가장 많이 사용된 값의 빈도 수\n",
    "- __NaN__: \"숫자가 아님\"을 나타낸다 - 통계에 대해 계산할 수 없다는 뜻"
   ]
  },
  {
   "cell_type": "code",
   "execution_count": null,
   "id": "59cb016f",
   "metadata": {},
   "outputs": [],
   "source": [
    "df.describe()"
   ]
  },
  {
   "cell_type": "markdown",
   "id": "adcd179b",
   "metadata": {},
   "source": [
    "---\n",
    "\n",
    "### 3.7. 특정 데이터 조회\n",
    "- 참고 - [Pandas Docs - loc](https://pandas.pydata.org/pandas-docs/stable/reference/api/pandas.DataFrame.loc.html)\n",
    "- `iloc()` 함수 사용\n",
    "    - `row 번호` 로 조회 가능\n",
    "- `loc()` 함수 사용\n",
    "    - `index명` 으로 조회 가능\n",
    "\n",
    "현재는 `index명`이 `Default(row 번호)`로 설정되어 있으므로 두 함수가 동일한 방식으로 사용된다."
   ]
  },
  {
   "cell_type": "markdown",
   "id": "4b877964",
   "metadata": {},
   "source": [
    "#### 3.7.1. 특정 행 조회하기"
   ]
  },
  {
   "cell_type": "code",
   "execution_count": null,
   "id": "57ebda93",
   "metadata": {},
   "outputs": [],
   "source": [
    "df.loc[2]"
   ]
  },
  {
   "cell_type": "markdown",
   "id": "00acaf60",
   "metadata": {},
   "source": [
    "#### 3.7.2. 여러 행 조회"
   ]
  },
  {
   "cell_type": "code",
   "execution_count": null,
   "id": "a7d91117",
   "metadata": {
    "scrolled": true
   },
   "outputs": [],
   "source": [
    "df.loc[[2, 3]]"
   ]
  },
  {
   "cell_type": "markdown",
   "id": "92ddea07",
   "metadata": {},
   "source": [
    "#### 3.7.3. 특정 구간 조회"
   ]
  },
  {
   "cell_type": "code",
   "execution_count": null,
   "id": "8cc634c8",
   "metadata": {},
   "outputs": [],
   "source": [
    "df.loc[1:4]"
   ]
  },
  {
   "cell_type": "markdown",
   "id": "6181fa2e",
   "metadata": {},
   "source": [
    "#### 3.7.4. 특정 행을 제외하고 조회"
   ]
  },
  {
   "cell_type": "code",
   "execution_count": null,
   "id": "a7efa81b",
   "metadata": {},
   "outputs": [],
   "source": [
    "df.loc[df.index != 2]"
   ]
  },
  {
   "cell_type": "markdown",
   "id": "0b26fbba",
   "metadata": {},
   "source": [
    "#### 3.7.5. 특정 행 다른 방법으로 가져오기\n",
    "- True/False 배열을 통해 True 인 행만 가져오기\n",
    "- 이 방법은 인덱스 개수와 동일한 True/False 배열을 사용해서 에러가 발생하지 않는다."
   ]
  },
  {
   "cell_type": "code",
   "execution_count": null,
   "id": "634bf5f8",
   "metadata": {
    "scrolled": true
   },
   "outputs": [],
   "source": [
    "df.head(5).loc[[True, True, False, False, True]]"
   ]
  },
  {
   "cell_type": "markdown",
   "id": "be61e1aa",
   "metadata": {},
   "source": [
    "#### 3.7.6. 특정 열 조회"
   ]
  },
  {
   "cell_type": "code",
   "execution_count": null,
   "id": "934cd639",
   "metadata": {},
   "outputs": [],
   "source": [
    "df.loc[:, '이름']"
   ]
  },
  {
   "cell_type": "code",
   "execution_count": null,
   "id": "f8e13936",
   "metadata": {},
   "outputs": [],
   "source": [
    "# Column 이름을 배열 형태로 입력하면 DataFrame 형태(2차원)가 리턴된다.\n",
    "df.loc[:, ['이름']]"
   ]
  },
  {
   "cell_type": "markdown",
   "id": "e835293d",
   "metadata": {},
   "source": [
    "#### 3.7.7. 특정 열 제외하고 조회"
   ]
  },
  {
   "cell_type": "code",
   "execution_count": null,
   "id": "26dcd15f",
   "metadata": {},
   "outputs": [],
   "source": [
    "df.loc[:, df.columns != '나이']"
   ]
  },
  {
   "cell_type": "markdown",
   "id": "dbdf97da",
   "metadata": {},
   "source": [
    "#### 3.7.8. 특정 범위의 열 가져오기"
   ]
  },
  {
   "cell_type": "code",
   "execution_count": null,
   "id": "9fc076e9",
   "metadata": {},
   "outputs": [],
   "source": [
    "df.loc[:, '나이':'직업']"
   ]
  },
  {
   "cell_type": "markdown",
   "id": "4c073384",
   "metadata": {},
   "source": [
    "#### 3.7.9. 특정 열 다른 방법으로 가져오기\n",
    "- True/False 배열을 통해 True 인 행만 가져오기\n",
    "- 이 방법은 Column 개수와 동일한 True/False 배열을 사용해서 에러가 발생하지 않는다."
   ]
  },
  {
   "cell_type": "code",
   "execution_count": null,
   "id": "cfd4214d",
   "metadata": {},
   "outputs": [],
   "source": [
    "df.loc[:, [True, True, False, False, True]]"
   ]
  },
  {
   "cell_type": "markdown",
   "id": "d1992ad6",
   "metadata": {},
   "source": [
    "#### 3.7.10. 행과 열 조회하기"
   ]
  },
  {
   "cell_type": "code",
   "execution_count": null,
   "id": "1f9a86b7",
   "metadata": {},
   "outputs": [],
   "source": [
    "df.loc[2, '나이']"
   ]
  },
  {
   "cell_type": "code",
   "execution_count": null,
   "id": "ec2e913e",
   "metadata": {},
   "outputs": [],
   "source": [
    "df.loc[[2, 5], ['이름', '직업']]"
   ]
  },
  {
   "cell_type": "markdown",
   "id": "7438a16e",
   "metadata": {},
   "source": [
    "---\n",
    "\n",
    "### 3.8. 행 삽입하기"
   ]
  },
  {
   "cell_type": "markdown",
   "id": "b0ae0910",
   "metadata": {},
   "source": [
    "#### 3.8.1. 마지막 위치에 하나의 행 추가\n",
    "- `loc()` 사용\n",
    "- 하나의 리스트를 마지막에 추가하고 싶을 때 사용"
   ]
  },
  {
   "cell_type": "code",
   "execution_count": null,
   "id": "41495a5e",
   "metadata": {},
   "outputs": [],
   "source": [
    "# 컬럼명 지정하면서 생성하기\n",
    "# 인덱스명도 지정하면서 할 수 있다.\n",
    "arr = file_open_by_numpy()\n",
    "columns=arr[0]\n",
    "arr = np.delete(arr, 0, 0)\n",
    "df = pd.DataFrame(arr, columns=columns)\n",
    "df"
   ]
  },
  {
   "cell_type": "code",
   "execution_count": null,
   "id": "6e94f457",
   "metadata": {},
   "outputs": [],
   "source": [
    "df.loc[len(df)] = ['마지막', '99', '남', '무직', '서울/경기']\n",
    "df.tail(5)"
   ]
  },
  {
   "cell_type": "markdown",
   "id": "6cdfe64b",
   "metadata": {},
   "source": [
    "#### 3.8.2. 마지막 위치에 여러 행 추가\n",
    "- `append()` 활용\n",
    "- 딕셔너리 형태를 DataFrame 에 추가하고 싶을 때 사용\n",
    "- `ignore_index=True` 로 설정해야 인덱스가 기존 행의 뒷 번호로 잘 지정됨\n",
    "- __주의사항__: Pandas 버전 업그레이드 시 사라질 수 있는 함수(concat 으로 대체)"
   ]
  },
  {
   "cell_type": "code",
   "execution_count": null,
   "id": "c380739b",
   "metadata": {},
   "outputs": [],
   "source": [
    "df2 = pd.DataFrame({\n",
    "    '이름': ['진짜마', '지막임'],\n",
    "    '나이': ['98', '97'],\n",
    "    '성별': ['여', '남'],\n",
    "    '직업': ['개발자', '모델'],\n",
    "    '사는곳': ['전라북도', '충청남도']\n",
    "})\n",
    "df2"
   ]
  },
  {
   "cell_type": "markdown",
   "id": "3609e426",
   "metadata": {},
   "source": [
    "- 오류문: 이제는 append 쓰지 말고 pandas 의 concat 을 쓰세요~\n",
    "  - `deprecated`: 앞으로 없어질 예정이다."
   ]
  },
  {
   "cell_type": "code",
   "execution_count": null,
   "id": "d7b02173",
   "metadata": {},
   "outputs": [],
   "source": [
    "df = df.append(df2, ignore_index=True)\n",
    "df.tail(5)"
   ]
  },
  {
   "cell_type": "markdown",
   "id": "1aed8e13",
   "metadata": {},
   "source": [
    "#### 3.8.3. 두 개의 DataFrame 합치기\n",
    "- `concat()` 사용"
   ]
  },
  {
   "cell_type": "code",
   "execution_count": null,
   "id": "eeb2d493",
   "metadata": {},
   "outputs": [],
   "source": [
    "new_df = pd.concat([df, df2], ignore_index=True)\n",
    "new_df"
   ]
  },
  {
   "cell_type": "markdown",
   "id": "235af950",
   "metadata": {},
   "source": [
    "#### 3.8.4. 중간에 데이터 삽입\n",
    "- `concat()` & `iloc` 사용\n",
    "- `pd.concat([df.iloc[:N], 원하는 행, df.iloc[N:], ignore_index=True` 처럼 사용\n",
    "    - N 번째에 새로운 DataFrame 을 넣고 싶을 때 위와 같이 사용"
   ]
  },
  {
   "cell_type": "code",
   "execution_count": null,
   "id": "55f8ccaf",
   "metadata": {},
   "outputs": [],
   "source": [
    "new_df = pd.concat([df.iloc[:3], df2, df.iloc[3:]], ignore_index=True)\n",
    "new_df.head(10)"
   ]
  },
  {
   "cell_type": "markdown",
   "id": "916f10ea",
   "metadata": {},
   "source": [
    "---\n",
    "\n",
    "### 3.9. 열 삽입하기"
   ]
  },
  {
   "cell_type": "markdown",
   "id": "8753e8cf",
   "metadata": {},
   "source": [
    "#### 3.9.1. 마지막 위치에 하나의 열 추가\n",
    "- `df[열이름] = 원소 리스트` 형태로 쉽게 사용 가능"
   ]
  },
  {
   "cell_type": "code",
   "execution_count": null,
   "id": "2a6c08d1",
   "metadata": {},
   "outputs": [],
   "source": [
    "df['연봉(만원)'] = [1000] * len(df)\n",
    "df.head()"
   ]
  },
  {
   "cell_type": "markdown",
   "id": "949493fa",
   "metadata": {},
   "source": [
    "#### 3.9.2. 중간 위치에 열 추가\n",
    "- `insert()` 활용"
   ]
  },
  {
   "cell_type": "code",
   "execution_count": null,
   "id": "14ca6097",
   "metadata": {},
   "outputs": [],
   "source": [
    "df.insert(2, '국적', ['한국'] * len(df))\n",
    "df.head()"
   ]
  },
  {
   "cell_type": "markdown",
   "id": "3885a4b4",
   "metadata": {},
   "source": [
    "---\n",
    "\n",
    "### 3.10. 행 삭제\n",
    "\n",
    "Pandas 에서 자주 사용되는 데이터 삭제 기능들은 다음과 같다.\n",
    "1. `dropna()` 를 이용한 결측 데이터 제거 ( `3.Pandas_Advanced` 에서 진행 )\n",
    "    \n",
    "2. `drop.duplicates` 를 이용한 중복 제거\n",
    "\n",
    "3. `index명`, `index 순서` 를 이용한 행 삭제\n",
    "\n",
    "4. 조건에 따른 행 삭제"
   ]
  },
  {
   "cell_type": "markdown",
   "id": "985b3236",
   "metadata": {},
   "source": [
    "#### 3.10.1. 중복된 행 제거"
   ]
  },
  {
   "cell_type": "code",
   "execution_count": null,
   "id": "d66e32f6",
   "metadata": {},
   "outputs": [],
   "source": [
    "# 중복된 데이터를 강제로 추가\n",
    "df.loc[len(df)] = ['마지막', '99', '미국', '남', '무직', '서울/경기', '0']\n",
    "df.loc[len(df)] = ['마지막', '99', '미국', '남', '무직', '서울/경기', '0']\n",
    "df.loc[len(df)] = ['마지막', '99', '미국', '남', '무직', '서울/경기', '0']\n",
    "df.loc[len(df)] = ['마지막', '99', '미국', '남', '무직', '서울/경기', '0']\n",
    "df.tail(5)"
   ]
  },
  {
   "cell_type": "markdown",
   "id": "a776ad87",
   "metadata": {},
   "source": [
    "- 중복 데이터 조회"
   ]
  },
  {
   "cell_type": "code",
   "execution_count": null,
   "id": "b86e0659",
   "metadata": {
    "scrolled": true
   },
   "outputs": [],
   "source": [
    "df.duplicated().sum()"
   ]
  },
  {
   "cell_type": "code",
   "execution_count": null,
   "id": "daea792c",
   "metadata": {},
   "outputs": [],
   "source": [
    "df.drop_duplicates(inplace=True)\n",
    "df"
   ]
  },
  {
   "cell_type": "markdown",
   "id": "d3576ab0",
   "metadata": {},
   "source": [
    "#### 3.10.2. index명 or index 순서를 이용한 행 삭제"
   ]
  },
  {
   "cell_type": "markdown",
   "id": "7aa99ac2",
   "metadata": {},
   "source": [
    "- index명 으로 삭제"
   ]
  },
  {
   "cell_type": "code",
   "execution_count": null,
   "id": "fd421db5",
   "metadata": {
    "scrolled": true
   },
   "outputs": [],
   "source": [
    "df.drop([1, 2], inplace=True)\n",
    "df"
   ]
  },
  {
   "cell_type": "markdown",
   "id": "053df3e8",
   "metadata": {},
   "source": [
    "- index 순서로 삭제"
   ]
  },
  {
   "cell_type": "code",
   "execution_count": null,
   "id": "29a073cb",
   "metadata": {},
   "outputs": [],
   "source": [
    "df.drop([df.index[0], df.index[1]], inplace=True)\n",
    "df"
   ]
  },
  {
   "cell_type": "markdown",
   "id": "2d511933",
   "metadata": {},
   "source": [
    "#### 3.10.3. 열 조건에 따라 행 삭제"
   ]
  },
  {
   "cell_type": "code",
   "execution_count": null,
   "id": "0c52e33b",
   "metadata": {},
   "outputs": [],
   "source": [
    "idxs = df[df['나이'] > \"50\"].index\n",
    "df.drop(idxs, inplace=True)\n",
    "df"
   ]
  },
  {
   "cell_type": "markdown",
   "id": "4ee72525",
   "metadata": {},
   "source": [
    "---\n",
    "\n",
    "### 3.11. 열 삭제"
   ]
  },
  {
   "cell_type": "markdown",
   "id": "2093f6f3",
   "metadata": {},
   "source": [
    "필요한 열만 `loc()` 을 사용하여 가져와서 삽입한다."
   ]
  },
  {
   "cell_type": "code",
   "execution_count": null,
   "id": "0bd18286",
   "metadata": {
    "scrolled": true
   },
   "outputs": [],
   "source": [
    "df = df.loc[:, ['이름', '나이', '성별', '직업', '사는곳']]\n",
    "df"
   ]
  },
  {
   "cell_type": "markdown",
   "id": "b774a60d",
   "metadata": {},
   "source": [
    "---\n",
    "\n",
    "### 3.12. DataFrame 복사\n",
    "- 대입 연산자 사용 시 마찬가지로 `얕은 복사` 가 발생한다. (원본 데이터가 변경된다)\n",
    "- 원본 데이터 변경을 원치 않을 시 `copy()` 함수를 통해 `깊은 복사`를 해야한다."
   ]
  },
  {
   "cell_type": "code",
   "execution_count": null,
   "id": "0615d8fd",
   "metadata": {},
   "outputs": [],
   "source": [
    "# 데이터 새로 가져오기\n",
    "arr = file_open_by_numpy()\n",
    "columns=arr[0]\n",
    "arr = np.delete(arr, 0, 0)\n",
    "df = pd.DataFrame(arr, columns=columns)"
   ]
  },
  {
   "cell_type": "code",
   "execution_count": null,
   "id": "45066b85",
   "metadata": {},
   "outputs": [],
   "source": [
    "df2 = df\n",
    "df2['나이'] = 10\n",
    "df.head()"
   ]
  },
  {
   "cell_type": "code",
   "execution_count": null,
   "id": "968c4181",
   "metadata": {},
   "outputs": [],
   "source": [
    "df2 = df.copy()\n",
    "df2['나이'] = 10\n",
    "df.head()"
   ]
  },
  {
   "cell_type": "code",
   "execution_count": null,
   "id": "633c86eb",
   "metadata": {},
   "outputs": [],
   "source": []
  },
  {
   "cell_type": "code",
   "execution_count": null,
   "id": "e746bc52",
   "metadata": {},
   "outputs": [],
   "source": []
  }
 ],
 "metadata": {
  "kernelspec": {
   "display_name": "Python 3",
   "language": "python",
   "name": "python3"
  },
  "language_info": {
   "codemirror_mode": {
    "name": "ipython",
    "version": 3
   },
   "file_extension": ".py",
   "mimetype": "text/x-python",
   "name": "python",
   "nbconvert_exporter": "python",
   "pygments_lexer": "ipython3",
   "version": "3.8.8"
  },
  "vscode": {
   "interpreter": {
    "hash": "5ce57403476a3e2baaba4896fc64ccf7f2c010b89be53a184dcac91fcbd5e1b4"
   }
  }
 },
 "nbformat": 4,
 "nbformat_minor": 5
}

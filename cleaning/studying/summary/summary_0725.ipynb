{
 "cells": [
  {
   "cell_type": "markdown",
   "metadata": {},
   "source": [
    "## 상속\n",
    "### 개요\n",
    "#### 상속 `Inheritance`\n",
    "- 기존 클래스의 속성과 메서드를 물려받아 새로운 하위 클래스를 생성하는 것\n"
   ]
  },
  {
   "cell_type": "markdown",
   "metadata": {},
   "source": [
    "#### 상속이 필요한 이유\n",
    "1. 코드 재사용\n",
    "    - 상속을 통해 기존 클래스의 속성과 메서드를 재사용할 수 있음\n",
    "    - 새로운 클래스를 작성할 때 기존 클래스의 기능을 그대로 활용할 수 있으며, 중복된 코드를 줄일 수 있음\n",
    "2. 계층 구조\n",
    "    - 상속을 통해 클래스들 간의 계층 구조를 형성할 수 있음\n",
    "    - 부모 클래스와 자식 클래스 간의 관계를 표현하고, 더 구체적인 클래스를 만들 수 있음\n",
    "3. 유지 보수의 용이성\n",
    "    - 상속을 통해 기존 클래스의 수정이 필요한 경우, 해당 클래스만 수정하면 되므로 유지 보수가 용이해짐 \n",
    "    - 코드의 일관성을 유지하고, 수정이 필요한 범위를 최소화할 수 있음\n",
    "\n",
    "    ![image](https://github.com/ragu6963/TIL/assets/32388270/f259eed5-c629-4a42-b0cc-4896162169c8)\n"
   ]
  },
  {
   "cell_type": "markdown",
   "metadata": {},
   "source": [
    "### 클래스 상속"
   ]
  },
  {
   "cell_type": "markdown",
   "metadata": {},
   "source": [
    "#### 상속 없이 구현 하는 경우 (1/2)\n",
    "- 학생/교수 정보를 나타내기 어려움\n",
    "\n",
    "    ```py\n",
    "    class Person:\n",
    "        def __init__(self, name, age):\n",
    "            self.name = name\n",
    "            self.age = age\n",
    "\n",
    "        def talk(self):\n",
    "            print(f'반갑습니다. {self.name}입니다.')\n",
    "\n",
    "\n",
    "    s1 = Person('김학생', 23)\n",
    "    s1.talk() # 반갑습니다. 김학생입니다.\n",
    "\n",
    "    p1 = Person('박교수', 59)\n",
    "    p1.talk() # 반갑습니다. 박교수입니다.\n",
    "    ```\n"
   ]
  },
  {
   "cell_type": "markdown",
   "metadata": {},
   "source": [
    "#### 상속 없이 구현 하는 경우 (2/2)\n",
    "- 교수/학생 클래스로 분리 했지만 메서드가 중복으로 정의될 수 있음\n",
    "\n",
    "\n",
    "    ```py\n",
    "    class Professor:\n",
    "        def __init__(self, name, age, department):\n",
    "            self.name = name\n",
    "            self.age = age\n",
    "            self.department = department\n",
    "\n",
    "        def talk(self): # 중복\n",
    "            print(f'반갑습니다. {self.name}입니다.')\n",
    "\n",
    "    class Student:\n",
    "        def __init__(self, name, age, gpa):\n",
    "            self.name = name\n",
    "            self.age = age\n",
    "            self.gpa = gpa\n",
    "\n",
    "        def talk(self): # 중복\n",
    "            print(f'반갑습니다. {self.name}입니다.')\n",
    "    ```\n"
   ]
  },
  {
   "cell_type": "markdown",
   "metadata": {},
   "source": [
    "#### 상속을 사용한 계층구조 변경\n",
    "\n",
    "![image](https://github.com/ragu6963/TIL/assets/32388270/ecdca0f0-47ce-4afc-853d-fa0d4575b458)\n",
    "\n",
    "```py\n",
    "class Person:\n",
    "    def __init__(self, name, age):\n",
    "        self.name = name\n",
    "        self.age = age\n",
    "\n",
    "    def talk(self):  # 메서드 재사용\n",
    "        print(f'반갑습니다. {self.name}입니다.')\n",
    "\n",
    "\n",
    "class Professor(Person):\n",
    "    def __init__(self, name, age, department):\n",
    "        self.name = name\n",
    "        self.age = age\n",
    "        self.department = department\n",
    "\n",
    "\n",
    "class Student(Person):\n",
    "    def __init__(self, name, age, gpa):\n",
    "        self.name = name\n",
    "        self.age = age\n",
    "        self.gpa = gpa\n",
    "\n",
    "\n",
    "p1 = Professor('박교수', 49, '컴퓨터공학과')\n",
    "s1 = Student('김학생', 20, 3.5)\n",
    "\n",
    "# 부모 Person 클래스의 talk 메서드를 활용\n",
    "p1.talk() # 반갑습니다. 박교수입니다.\n",
    "\n",
    "# 부모 Person 클래스의 talk 메서드를 활용\n",
    "s1.talk() # 반갑습니다. 김학생입니다.\n",
    "```\n"
   ]
  },
  {
   "cell_type": "markdown",
   "metadata": {},
   "source": [
    "### 다중 상속\n",
    "#### 다중 상속 정의\n",
    "- 둘 이상의 상위 클래스로부터 여러 행동이나 특징을 상속받을 수 있는 것\n",
    "- 상속받은 모든 클래스의 요소를 활용 가능함\n",
    "- 중복된 속성이나 메서드가 있는 경우 <span style='color:crimson;'>상속 순서에 의해 결정</span>됨"
   ]
  },
  {
   "cell_type": "markdown",
   "metadata": {},
   "source": [
    "#### 다중 상속 예시\n",
    "```py\n",
    "class Person:\n",
    "    def __init__(self, name):\n",
    "        self.name = name\n",
    "\n",
    "    def greeting(self):\n",
    "        return f'안녕, {self.name}'\n",
    "\n",
    "\n",
    "class Mom(Person):\n",
    "    gene = 'XX'\n",
    "\n",
    "    def swim(self):\n",
    "        return '엄마가 수영'\n",
    "\n",
    "\n",
    "class Dad(Person):\n",
    "    gene = 'XY'\n",
    "\n",
    "    def walk(self):\n",
    "        return '아빠가 걷기'\n",
    "\n",
    "\n",
    "class FirstChild(Dad, Mom): # 아빠가 첫번째니까 아빠먼저 찾는다 !\n",
    "    def swim(self):\n",
    "        return '첫째가 수영'\n",
    "\n",
    "    def cry(self):\n",
    "        return '첫째가 응애'\n",
    "\n",
    "\n",
    "baby1 = FirstChild('아가')\n",
    "print(baby1.cry()) # 첫째가 응애\n",
    "print(baby1.swim()) # 첫째가 수영\n",
    "print(baby1.walk()) # 아빠가 걷기\n",
    "print(baby1.gene) # XY\n",
    "```"
   ]
  },
  {
   "cell_type": "markdown",
   "metadata": {},
   "source": [
    "#### 다이아몬드 문제\n",
    "![Diamond](https://i.ibb.co/b23YqZT/440px-Diamond-inheritanc.png)\n",
    "\n",
    "- 두 클래스 B와 C가 A에서 상속되고 클래스 D가 B와 C 모두에서 상속될 때 발생하는 모호함\n",
    "- B와 C가 재정의한 메서드가 A에 있고 D가 이를 재정의하지 않은 경우라면\n",
    "- D는 B의 메서드 중 어떤 버전을 상속하는가? 아니면 C의 메서드 버전을 상속하는가?\n"
   ]
  },
  {
   "cell_type": "markdown",
   "metadata": {},
   "source": [
    "#### MRO (Method Resolution Order)\n",
    "- 메서드 결정 순서"
   ]
  },
  {
   "cell_type": "markdown",
   "metadata": {},
   "source": [
    "#### `super()`\n",
    "- 부모 클래스 객체를 반환하는 내장 함수\n",
    "- 다중 상속 시 MRO를 기반으로 현재 클래스가 상속하는 모든 부모 클래스 중 다음에 호출될 메서드를 결정하여 자동으로 호출\n"
   ]
  },
  {
   "cell_type": "markdown",
   "metadata": {},
   "source": [
    "#### super() 사용 예시 (단일 상속)\n",
    "\n",
    "- 사용 전\n",
    "\n",
    "    ```py\n",
    "    class Person:\n",
    "        def __init__(self, name, age, number, email):\n",
    "            self.name = name\n",
    "            self.age = age\n",
    "            self.number = number\n",
    "            self.email = email\n",
    "\n",
    "\n",
    "    class Student(Person):\n",
    "        def __init__(self, name, age, number, email, student_id):\n",
    "            self.name = name\n",
    "            self.age = age\n",
    "            self.number = number\n",
    "            self.email = email\n",
    "            self.student_id = student_id\n",
    "    ```\n",
    "\n",
    "- 사용 후\n",
    "\n",
    "    ```py\n",
    "    class Person:\n",
    "        def __init__(self, name, age, number, email):\n",
    "            self.name = name\n",
    "            self.age = age\n",
    "            self.number = number\n",
    "            self.email = email\n",
    "\n",
    "\n",
    "    class Student(Person):\n",
    "        def __init__(self, name, age, number, email, student_id):\n",
    "            # Person의 init 메서드 호출\n",
    "            super().__init__(name, age, number, email)\n",
    "            self.student_id = student_id\n",
    "\n",
    "    ```"
   ]
  },
  {
   "cell_type": "markdown",
   "metadata": {},
   "source": [
    "#### super() 사용 예시 (다중 상속)\n",
    "\n",
    "```python\n",
    "class ParentA:\n",
    "    def __init__(self):\n",
    "        self.value_a = 'ParentA'\n",
    "\n",
    "    def show_value(self):\n",
    "        print(f'Value from ParentA: {self.value_a}')\n",
    "\n",
    "\n",
    "class ParentB:\n",
    "    def __init__(self):\n",
    "        self.value_b = 'ParentB'\n",
    "\n",
    "    def show_value(self):\n",
    "        print(f'Value from ParentB: {self.value_b}’)\n",
    "\n",
    "\n",
    "class Child(ParentA, ParentB):\n",
    "    def __init__(self):\n",
    "        super().__init__() # ParentA 클래스의 __init__ 메서드 호출\n",
    "        self.value_c = 'Child’\n",
    "\n",
    "    def show_value(self):\n",
    "        super().show_value() # ParentA 클래스의 show_value 메서드 호출\n",
    "        print(f'Value from Child: {self.value_c}')\n",
    "\n",
    "child = Child()\n",
    "child.show_value()\n",
    "```"
   ]
  },
  {
   "cell_type": "markdown",
   "metadata": {},
   "source": [
    "#### `mro()` 사용 예시\n",
    "\n",
    "  ```python\n",
    "  class A:\n",
    "      def __init__(self):\n",
    "          print('A Constructor')\n",
    "\n",
    "  class B(A):\n",
    "      def __init__(self):\n",
    "          super().__init__()\n",
    "          print('B Constructor')\n",
    "\n",
    "  class C(A):\n",
    "      def __init__(self):\n",
    "          super().__init__()\n",
    "          print('C Constructor')\n",
    "          \n",
    "  class D(B, C):\n",
    "      def __init__(self):\n",
    "          super().__init__()\n",
    "          print('D Constructor')\n",
    "\n",
    "  print(D.mro())\n",
    "  ```"
   ]
  },
  {
   "cell_type": "markdown",
   "metadata": {},
   "source": [
    "##### MRO가 필요한 이유\n",
    "\n",
    "- 부모 클래스들이 여러 번 액세스 되지 않도록, <br>각 클래스에서 지정된 왼쪽에서 오른쪽으로 가는 순서를 보존하고, <br>각 부모를 오직 한 번만 호출하고, <br>부모들의 우선순위에 영향을 주지 않으면서 서브 클래스를 만드는 단조적인 구조 형성\n",
    "\n",
    "- 프로그래밍 언어의 신뢰성 있고 확장성 있는 클래스를 설계할 수 있도록 도움\n",
    "- 클래스 간의 메서드 호출 순서가 예측 가능하게 유지되며, 코드의 재사용성과 유지보수성이 향상\n"
   ]
  },
  {
   "cell_type": "markdown",
   "metadata": {},
   "source": [
    "##### super의 2 가지 사용 사례\n",
    "1. 단일 상속 구조\n",
    "    - 명시적으로 이름을 지정하지 않고 부모 클래스를 참조할 수 있으므로, 코드를 더 유지 관리하기 쉽게 만들 수 있음\n",
    "    - 클래스 이름이 변경되거나 부모 클래스가 교체되어도 super()를 사용하면 코드 수정이 더 적게 필요\n",
    "2. 다중 상속 구조\n",
    "    - MRO를 따른 메서드 호출\n",
    "    - 복잡한 다중 상속 구조에서 발생할 수 있는 문제를 방지"
   ]
  },
  {
   "cell_type": "markdown",
   "metadata": {},
   "source": [
    "# 에러와 예외"
   ]
  },
  {
   "cell_type": "markdown",
   "metadata": {},
   "source": [
    "## 디버깅\n",
    "### 버그 `bug`\n",
    "- 소프트웨어에서 발생하는 오류 또는 결함\n",
    "- 프로그램의 예상된 동작과 실제 동작 사이의 불일치\n"
   ]
  },
  {
   "cell_type": "markdown",
   "metadata": {},
   "source": [
    "버그의 기원\n",
    "- 'Bug'라는 용어는 소프트웨어 이전부터 공학 분야에서 사용되었음\n",
    "- 컴퓨터 분야에서의 첫 사용은 1947년 프로그래밍 언어의 일종인 코볼 발명자 그레이스 호퍼와 그녀의 팀이 컴퓨터의 릴레이에서 실제 나방을 발견한 것이 시초로 알려짐\n",
    "- 하버드 Mark Ⅱ 컴퓨터 회로에 실제 나방이 들어가 합선을 일으켜 비정상적으로 동작한 것을 기록한 것\n",
    "- 발견된 나방은 컴퓨터 로그북에 테이프로 붙여서 보존되었고 \"First actual case of bug being found\" (실제 버그가 발견된 첫 사례)라는 메모가 남겨짐\n",
    "- \"버그\"라는 용어는 이전부터 사용되어 왔지만 이 사건을 계기로 컴퓨터 시스템에서 발생하는 오류 또는 결함을 지칭하는 용어로 널리 사용되기 시작\n"
   ]
  },
  {
   "cell_type": "markdown",
   "metadata": {},
   "source": [
    "실제 버그가 발견된 최초의 사례\n",
    "![image](https://github.com/ragu6963/TIL/assets/32388270/ff6aa90f-a8e0-4ad4-b785-053f496b0864)\n"
   ]
  },
  {
   "cell_type": "markdown",
   "metadata": {},
   "source": [
    "### Debugging\n",
    "- 소프트웨어에서 발생하는 버그를 찾아내고 수정하는 과정\n",
    "- 프로그램의 오작동 원인을 식별하여 수정하는 작업\n"
   ]
  },
  {
   "cell_type": "markdown",
   "metadata": {},
   "source": [
    "디버깅 방법\n",
    "1. print 함수 활용\n",
    "    - 특정 함수 결과, 반복/조건 결과 등 나눠서 생각, 코드를 bisection으로 나눠서 생각\n",
    "2. 개발 환경(text editor, IDE) 등에서 제공하는 기능 활용\n",
    "    - breakpoint, 변수 조회 등\n",
    "3. [Python tutor](https://pythontutor.com/) 활용 (단순 파이썬 코드인 경우) \n",
    "4. 뇌 컴파일, 눈 디버깅 등"
   ]
  },
  {
   "cell_type": "markdown",
   "metadata": {},
   "source": [
    "## 에러\n",
    "### 에러 `Error`\n",
    "- 프로그램 실행 중에 발생하는 예외 상황\n"
   ]
  },
  {
   "cell_type": "markdown",
   "metadata": {},
   "source": [
    "#### 파이썬의 에러 유형\n",
    "- 문법 에러 `Syntax Error`\n",
    "    - 프로그램의 구문이 올바르지 않은 경우 발생 <br>(오타, 괄호 및 콜론 누락 등의 문법적 오류)\n",
    "- 예외 `Exception`\n",
    "    - 프로그램 실행 중에 감지되는 에러"
   ]
  },
  {
   "cell_type": "markdown",
   "metadata": {},
   "source": [
    "#### 문법 에러 예시\n",
    "- Invalid syntax (문법 오류)\n",
    "    \n",
    "    ```py\n",
    "    while # SyntaxError: invalid syntax\n",
    "    ```\n",
    "\n",
    "- assign to literal (잘못된 할당)\n",
    "    \n",
    "    ```py\n",
    "    5=3 # SyntaxError: cannot assign to literal\n",
    "    ```\n",
    "\n",
    "- EOL (End of Line)\n",
    "    \n",
    "    ```py\n",
    "    print('hello   \n",
    "    # SyntaxError: EOL while scanning string literal\n",
    "    ```\n",
    "\n",
    "- EOF (End of File)\n",
    "    \n",
    "    ```py\n",
    "    print(\n",
    "    #SyntaxError: unexpected EOF while parsing\n",
    "    ```\n"
   ]
  },
  {
   "cell_type": "markdown",
   "metadata": {},
   "source": [
    "## 예외\n",
    "### 예외 `Exception`\n",
    "- 프로그램 실행 중에 감지되는 에러"
   ]
  },
  {
   "cell_type": "markdown",
   "metadata": {},
   "source": [
    "#### 내장 예외 `Built-in Exceptions`\n",
    "- 예외 상황을 나타내는 예외 클래스들\n",
    "- 파이썬에서 이미 정의되어 있으며, 특정 예외 상황에 대한 처리를 위해 사용\n",
    "> 참고 문서 : https://docs.python.org/ko/3/library/exceptions.html#ValueError"
   ]
  },
  {
   "cell_type": "markdown",
   "metadata": {},
   "source": [
    "#### 내장 예외 예시\n",
    "- `ZeroDivisionError`\n",
    "    - 나누기 또는 모듈로 연산의 두 번째 인자가 0일 때 발생\n",
    "    \n",
    "        ```py\n",
    "        10/0 # ZeroDivisionError: division by zero\n",
    "        ```\n",
    "    \n",
    "- `NameError`\n",
    "    - 지역 또는 전역 이름을 찾을 수 없을 때 발생\n",
    "    \n",
    "        ```py\n",
    "        print(name_error) # NameError: name 'name_error' is not defined\n",
    "        ```\n",
    "\n",
    "- `TypeError` \n",
    "    - 타입 불일치\n",
    "        \n",
    "        ```py\n",
    "        '2' + 2  # TypeError: can only concatenate str (not \"int\") to str\n",
    "        ```\n",
    "\n",
    "    - 인자 누락\n",
    "        \n",
    "        ```py\n",
    "        sum()  # TypeError: sum() takes at least 1 positional argument (0 given)\n",
    "        ```\n",
    "    \n",
    "    - 인자 초과\n",
    "\n",
    "        ```py\n",
    "        sum(1, 2, 3)  # TypeError: sum() takes at most 2 arguments (3 given)\n",
    "        ```\n",
    "\n",
    "    - 인자 타입 불일치\n",
    "        \n",
    "        ```py\n",
    "        import random\n",
    "        random.sample(1, 2)\n",
    "        # TypeError: Population must be a sequence.  For dicts or sets, use sorted(d).\n",
    "        ```\n",
    "\n",
    "- `ValueError` \n",
    "    - 연산이나 함수에 문제가 없지만 부적절한 값을 가진 인자를 받았고, 상황이 IndexError 처럼 더 구체적인 예외로 설명되지 않는 경우 발생\n",
    "\n",
    "        ```py\n",
    "        int('1.5') # ValueError: invalid literal for int() with base 10: '3.5'\n",
    "\n",
    "        range(3).index(6) # ValueError: 6 is not in range\n",
    "        ```\n",
    "\n",
    "- `IndexError`\n",
    "    - 시퀀스 인덱스가 범위를 벗어날 때 발생\n",
    "    \n",
    "        ```py\n",
    "        empty_list = []\n",
    "        empty_list[2]\n",
    "        # IndexError: list index out of range\n",
    "        ```\n",
    "    \n",
    "- `KeyError`\n",
    "    - 딕셔너리에 해당 키가 존재하지 않는 경우\n",
    "        \n",
    "        ```py\n",
    "        person = {'name': 'Alice'}\n",
    "        person['age']  # KeyError: 'age'\n",
    "        ```\n",
    "\n",
    "- `ModuleNotFoundError`\n",
    "    - 모듈을 찾을 수 없을 때 발생\n",
    "        \n",
    "        ```py\n",
    "        import hahaha  # ModuleNotFoundError: No module named 'hahaha'\n",
    "        ```\n",
    "\n",
    "- `ImportError`\n",
    "    - 임포트 하려는 이름을 찾을 수 없을 때 발생\n",
    "    \n",
    "        ```py\n",
    "        from random import hahaha\n",
    "        # ImportError: cannot import name 'hahaha' from 'random'\n",
    "        ```\n",
    "\n",
    "- `KeyboardInterrupt`\n",
    "    - 사용자가 Control-C 또는 Delete를 누를 때 발생\n",
    "    - 무한루프 시 강제 종료\n",
    "    \n",
    "        ```py\n",
    "        while True: \n",
    "            continue\n",
    "        \n",
    "        '''\n",
    "        Traceback (most recent call last):\n",
    "          File \"...\", line 2, in <module>\n",
    "            continue\n",
    "        KeyboardInterrupt\n",
    "        '''\n",
    "        ```\n",
    "\n",
    "- `IndentationError`\n",
    "    - 잘못된 들여쓰기와 관련된 문법 오류\n",
    "    \n",
    "        ```py\n",
    "        for i in range(10):\n",
    "            print(i) # IndentationError: expected an indented block\n",
    "        ```\n",
    "\n"
   ]
  },
  {
   "cell_type": "markdown",
   "metadata": {},
   "source": [
    "## 예외 처리\n",
    "### Exception Handling\n",
    "\n",
    "- 예외가 발생했을 때 프로그램이 비정상적으로 종료되지 않고, 적절하게 처리할 수 있도록 하는 방법\n",
    "\n"
   ]
  },
  {
   "cell_type": "markdown",
   "metadata": {},
   "source": [
    "### 예외 처리 사용 구문\n",
    "- `try`\n",
    "  - 예외가 발생할 수 있는 코드 작성\n",
    "- `except`\n",
    "  - 예외가 발생했을 때 실행할 코드 작성\n",
    "- `else`\n",
    "  - 예외가 발생하지 않았을 때 실행할 코드 작성\n",
    "- `finally`\n",
    "  - 예외 발생 여부와 상관없이 항상 실행할 코드 작성\n",
    "\n",
    "  ```python\n",
    "  try:\n",
    "      x = int(input('숫자를 입력하세요: '))\n",
    "      y = 10 / x\n",
    "  except ZeroDivisionError:\n",
    "      print('0으로 나눌 수 없습니다.')\n",
    "  except ValueError:\n",
    "      print('유효한 숫자가 아닙니다.')\n",
    "  else:\n",
    "      print(f'결과: {y}')\n",
    "  finally:\n",
    "      print('프로그램이 종료되었습니다.')\n",
    "  ```\n",
    "\n"
   ]
  },
  {
   "cell_type": "markdown",
   "metadata": {},
   "source": [
    "### try & except\n",
    "- try 블록 안에는 예외가 발생할 수 있는 코드를 작성\n",
    "- except 블록 안에는 예외가 발생했을 때 처리할 코드를 작성\n",
    "- 예외가 발생하면 프로그램 흐름은 try 블록을 빠져나와 해당 예외에 대응하는 except 블록으로 이동\n",
    "\n",
    "    ```py\n",
    "    try:\n",
    "        # 예외가 발생할 수 있는 코드\n",
    "\n",
    "    except 예외:\n",
    "        # 예외 처리 코드\n",
    "    ```\n"
   ]
  },
  {
   "cell_type": "markdown",
   "metadata": {},
   "source": [
    "#### 예외 처리 예시\n",
    "\n",
    "```py\n",
    "try:\n",
    "    result = 10 / 0\n",
    "except ZeroDivisionError:\n",
    "    print('0으로 나눌 수 없습니다.')\n",
    "# 0으로 나눌 수 없습니다.\n",
    "```\n",
    "```py\n",
    "try:\n",
    "    num = int(input('숫자입력 : '))\n",
    "except ValueError:\n",
    "    print('숫자가 아닙니다.')\n",
    "\n",
    "\"\"\"\n",
    "숫자입력 : a\n",
    "숫자가 아닙니다.\n",
    "\"\"\"\n",
    "```"
   ]
  },
  {
   "cell_type": "markdown",
   "metadata": {},
   "source": [
    "### 복수 예외 처리"
   ]
  },
  {
   "cell_type": "markdown",
   "metadata": {},
   "source": [
    "#### 복수 예외 처리 연습 (1/4)\n",
    "- 100을 사용자가 입력한 값으로 나누고 출력하는 코드를 작성해보시오.\n",
    "    - 먼저, 발생 가능한 에러가 무엇인지 예상해보기\n",
    "\n",
    "        ```py\n",
    "        num = int(input('100으로 나눌 값을 입력하시오 : '))\n",
    "        print(100 / num)\n",
    "        ```"
   ]
  },
  {
   "cell_type": "markdown",
   "metadata": {},
   "source": [
    "#### 복수 예외 처리 연습 (2/4)\n",
    "- 100을 사용자가 입력한 값으로 나누고 출력하는 코드를 작성해보시오.\n",
    "    - 먼저, 발생 가능한 에러가 무엇인지 예상해보기\n",
    "\n",
    "        ```py\n",
    "        num = int(input('100으로 나눌 값을 입력하시오 : '))\n",
    "        print(100 / num)\n",
    "\n",
    "        # int(’a’)\n",
    "        # 100/int(’0’)\n",
    "        ```"
   ]
  },
  {
   "cell_type": "markdown",
   "metadata": {},
   "source": [
    "#### 복수 예외 처리 연습 (3/4)\n",
    "- 100을 사용자가 입력한 값으로 나누고 출력하는 코드를 작성해보시오.\n",
    "    - 먼저, 발생 가능한 에러가 무엇인지 예상해보기\n",
    "\n",
    "        ```py\n",
    "        num = int(input('100으로 나눌 값을 입력하시오 : '))\n",
    "        print(100 / num)\n",
    "\n",
    "        \"\"\"\n",
    "        int(’a’)\n",
    "        문자열을 int로 형변환 : ValueError\n",
    "        \"\"\"\n",
    "\n",
    "        \"\"\"\n",
    "        100 / 0\n",
    "        0으로 숫자를 나눔 : ZeroDivisionError\n",
    "        \"\"\"\n",
    "        ```"
   ]
  },
  {
   "cell_type": "markdown",
   "metadata": {},
   "source": [
    "#### 복수 예외 처리 연습 (4/4)\n",
    "- 100을 사용자가 입력한 값으로 나누고 출력하는 코드를 작성해보시오.\n",
    "    - 발생가능한 에러를 모두 명시하거나 & 별도로 작성하기\n",
    "    - 모두 명시\n",
    "        \n",
    "        ```py\n",
    "        try:\n",
    "            num = int(input('100으로 나눌 값을 입력하시오 : '))\n",
    "            print(100 / num)\n",
    "        except (ValueError, ZeroDivisionError):\n",
    "            print('제대로 입력해주세요.')\n",
    "        ```\n",
    "\n",
    "    - 별도 작성\n",
    "        \n",
    "        ```py\n",
    "        try:\n",
    "            num = int(input('100으로 나눌 값을 입력하시오 : '))\n",
    "            print(100 / num)\n",
    "        except ValueError:\n",
    "            print('숫자를 넣어주세요.')\n",
    "        except ZeroDivisionError:\n",
    "            print('0으로 나눌 수 없습니다.')\n",
    "        except:\n",
    "            print('에러가 발생하였습니다.')\n",
    "        ```\n"
   ]
  },
  {
   "cell_type": "markdown",
   "metadata": {},
   "source": [
    "### else & finally\n",
    "- `else`\n",
    "  - 예외가 발생하지 않았을 때 추가 작업을 진행\n",
    "- `finally`\n",
    "  - 예외 발생 여부와 상관없이 항상 실행할 코드를 작성\n",
    "\n",
    "  ```python\n",
    "  try:\n",
    "      x = int(input('숫자를 입력하세요: '))\n",
    "      y = 10 / x\n",
    "  except ZeroDivisionError:\n",
    "      print('0으로 나눌 수 없습니다.')\n",
    "  except ValueError:\n",
    "      print('유효한 숫자가 아닙니다.')\n",
    "  else:\n",
    "      print(f'결과: {y}')\n",
    "  finally:\n",
    "      print('프로그램이 종료되었습니다.')\n",
    "  ```\n"
   ]
  },
  {
   "cell_type": "markdown",
   "metadata": {},
   "source": [
    "### 참고"
   ]
  },
  {
   "cell_type": "markdown",
   "metadata": {},
   "source": [
    "##### 내장 예외의 상속 계층구조 주의 (1/2)\n",
    "- 아래와 같이 예외를 작성하면 코드는 2번째 except 절에 이후로 도달하지 못함 \n",
    "    \n",
    "    ```py\n",
    "    try:\n",
    "        num = int(input('100으로 나눌 값을 입력하시오 : '))\n",
    "        print(100 / num)\n",
    "    except BaseException:\n",
    "        print('숫자를 넣어주세요.')\n",
    "    # 하단 블록에 도달하지 못함\n",
    "    except ZeroDivisionError:\n",
    "        print('0으로 나눌 수 없습니다.')\n",
    "    except:\n",
    "        print('에러가 발생하였습니다.')\n",
    "\n",
    "    ```\n"
   ]
  },
  {
   "cell_type": "markdown",
   "metadata": {},
   "source": [
    "##### 내장 예외의 상속 계층구조 주의 (2/2)\n",
    "- 내장 예외 클래스는 상속 계층구조를 가지기 때문에 <br>except 절로 분기 시 반드시 하위 클래스를 먼저 확인 할 수 있도록 작성해야 함\n",
    "\n",
    "    ```py\n",
    "    try:\n",
    "        num = int(input('100으로 나눌 값을 입력하시오 : '))\n",
    "        print(100 / num)\n",
    "    except BaseException: # 하위 예외 클래스 확인 필요\n",
    "        print('숫자를 넣어주세요.')\n",
    "    except ZeroDivisionError: # 하위 예외 클래스 확인 필요\n",
    "        print('0으로 나눌 수 없습니다.')\n",
    "    except:\n",
    "        print('에러가 발생하였습니다.')\n",
    "    ```\n",
    "    \n",
    "    ![image](https://github.com/ragu6963/TIL/assets/32388270/6ce033c9-6715-473f-a6c2-9e2288361a1a)\n",
    "\n",
    "> 참고 문서 : https://docs.python.org/ko/3/library/exceptions.html#exception-hierarchy\n"
   ]
  },
  {
   "cell_type": "markdown",
   "metadata": {},
   "source": [
    "#### 예외 객체 다루기\n",
    "##### `as` 키워드\n",
    "- 예외객체\n",
    "    - 예외가 발생했을 때 예외에 대한 정보를 담고 있는 객체\n",
    "- `except` 블록에서 예외 객체를 받아 상세한 예외 정보를 활용 가능\n",
    "\n",
    "    ```py\n",
    "    my_list = []\n",
    "\n",
    "    try:\n",
    "        number = my_list[1]\n",
    "    except IndexError as error:\n",
    "        print(f'{error}가 발생했습니다.')\n",
    "\n",
    "    # list index out of range가 발생했습니다.\n",
    "    ```\n"
   ]
  },
  {
   "cell_type": "markdown",
   "metadata": {},
   "source": [
    "##### try-except와 if-else\n",
    "- `try-except`와 `if-else`를 함께 사용할 수 있음\n",
    "  ```python\n",
    "  try:\n",
    "      x = int(input('숫자를 입력하세요: '))\n",
    "      if x < 0:\n",
    "          print('음수는 허용되지 않습니다.')\n",
    "      else:\n",
    "          print('입력한 숫자:', x)\n",
    "  except ValueError:\n",
    "      print('오류 발생')\n",
    "  ```\n",
    "\n"
   ]
  },
  {
   "cell_type": "markdown",
   "metadata": {},
   "source": [
    "# 파이썬 과목 종료\n"
   ]
  },
  {
   "cell_type": "markdown",
   "metadata": {},
   "source": [
    "## 우리가 배운 것\n"
   ]
  },
  {
   "cell_type": "markdown",
   "metadata": {},
   "source": [
    "### 새로운 사고방식을 익히는 과정\n",
    "- 우리가 8일동안 배운 것은 단순히 코드를 작성하기 위함이 아님\n",
    "- 프로그래밍은 단순한 기술 습득을 넘어 새로운 사고방식을 익히는 과정\n",
    "    - 이는 문제를 바라보고 해결하는 방식을 근본적으로 변화시키는 것\n",
    "- 코드를 작성하는 것은 단지 시작일 뿐\n",
    "    - 진정한 가치는 논리적 사고 문재해결 그리고 복잡한 시스템을 이해하고 설계하는 능력을 개발하는 데 있음\n"
   ]
  },
  {
   "cell_type": "markdown",
   "metadata": {},
   "source": [
    "## 지속적인 python 학습\n"
   ]
  },
  {
   "cell_type": "markdown",
   "metadata": {},
   "source": [
    "### 소프트웨어적 사고의 중요성\n",
    "- 알고리즘 학습\n",
    "- 코드 리뷰\n",
    "- 프로젝트 기반 학습"
   ]
  },
  {
   "cell_type": "markdown",
   "metadata": {},
   "source": [
    "## 마무리"
   ]
  },
  {
   "cell_type": "markdown",
   "metadata": {},
   "source": [
    "### 이제 막 시작된 프로그래밍의 여정"
   ]
  }
 ],
 "metadata": {
  "language_info": {
   "name": "python"
  }
 },
 "nbformat": 4,
 "nbformat_minor": 2
}

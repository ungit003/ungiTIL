{
 "cells": [
  {
   "cell_type": "markdown",
   "metadata": {},
   "source": [
    "# Fundamentals of Python"
   ]
  },
  {
   "cell_type": "markdown",
   "metadata": {},
   "source": [
    "## 목차\n"
   ]
  },
  {
   "cell_type": "markdown",
   "metadata": {},
   "source": [
    "### 파이썬 소개"
   ]
  },
  {
   "cell_type": "markdown",
   "metadata": {},
   "source": [
    "### 파이썬 실행"
   ]
  },
  {
   "cell_type": "markdown",
   "metadata": {},
   "source": [
    "### 표현식과 값"
   ]
  },
  {
   "cell_type": "markdown",
   "metadata": {},
   "source": [
    "#### 표현식(Expression)\n",
    "\n",
    "- **값으로 평가될 수 있는 코드 조각**\n",
    "\n",
    "#### 값(Value)\n",
    "\n",
    "- **표현식이 평가된 결과**"
   ]
  },
  {
   "cell_type": "markdown",
   "metadata": {},
   "source": [
    "##### 예시\n",
    "```python\n",
    "3 + 5\n",
    "```\n",
    " > 표현식 : 3 + 5\n",
    "\n",
    " > 값 : 8\n",
    "\n",
    "##### 평가(evaluate)\n",
    "- 표현식을 실행하여 값을 얻는 과정\n",
    "\n",
    "> 표현식을 순차적으로 평가하여 프로그램의 동작을 결정\n",
    "\n",
    "##### 문장(statement)\n",
    "- 실행 가능한 동작을 기술하는 코드 (조건문, 반복문, 함수 정의 등)\n",
    "\n"
   ]
  },
  {
   "cell_type": "markdown",
   "metadata": {},
   "source": [
    "##### 표현식과 문장\n",
    "> 문장은 보통 여러 개의 표현식을 포함\n",
    "\n",
    "![image](https://github.com/ragu6963/TIL/assets/32388270/39aa9d7f-aa5b-44eb-a661-dae74c4af7b2)"
   ]
  },
  {
   "cell_type": "markdown",
   "metadata": {},
   "source": [
    "### 타입"
   ]
  },
  {
   "cell_type": "markdown",
   "metadata": {},
   "source": [
    "#### 타입(Type)\n",
    "- 변수나 값이 가질 수 있는 데이터의 종류를 의미\n",
    "- 어떤 종류의 데이터인지, 어떻게 해석되고 처리되어야 하는지를 정의\n",
    "- 타입은 2가지 요소로 이루어짐 \n",
    "    - <span style='color:red'>“값”</span>과 <span style='color:red'>“값에 적용할 수 있는 연산”</span>\n",
    "\n",
    "![image](https://github.com/ragu6963/TIL/assets/32388270/8124c2d4-f2b7-4c29-b11f-b08fb478b5d8)"
   ]
  },
  {
   "cell_type": "markdown",
   "metadata": {},
   "source": [
    "#### 데이터 타입\n",
    "- Numeric Types\n",
    "    - int (정수), float (실수), complex (복소수)\n",
    "- Sequence Types\n",
    "    - list, tuple, range\n",
    "- Text Sequence Type\n",
    "    - str (문자열)\n",
    "- Non-sequence Types\n",
    "    - set, dict\n",
    "- 기타\n",
    "    - None, Boolean, Functions\n",
    "\n",
    "#### 데이터 타입의 중요성\n",
    "- 데이터 타입에 맞는 연산을 수행할 수 있기 때문"
   ]
  },
  {
   "cell_type": "markdown",
   "metadata": {},
   "source": [
    "#### 산술 연산자\n",
    "| 기호 | 연산자        |\n",
    "|:---:|:----------:|\n",
    "| -  | 음수 부호      |\n",
    "| +  | 덧셈         |\n",
    "| -  | 뺄셈         |\n",
    "| *  | 곱셈         |\n",
    "| /  | 나눗셈        |\n",
    "| // | 정수 나눗셈 (몫) |\n",
    "| %  | 나머지        |\n",
    "| ** | 지수 (거듭제곱)  |\n"
   ]
  },
  {
   "cell_type": "markdown",
   "metadata": {},
   "source": [
    "#### 연산자 우선순위\n",
    "| 우선순위 | 연산자         | 연산                   |\n",
    "|:----:|:-----------:|:--------------------:|\n",
    "| 높음   | **          | 지수                   |\n",
    "|      | -           | 음수 부호                |\n",
    "|      | *, /, //, % | 곱셈, 나눗셈, 정수 나눗셈, 나머지 |\n",
    "| 낮음   | +, -        | 덧셈, 뺄셈               |\n"
   ]
  },
  {
   "cell_type": "markdown",
   "metadata": {},
   "source": [
    "#### 연산자 우선순위 예시\n",
    "```python\n",
    "# -16\n",
    "-2 ** 4\n",
    "\n",
    "# -16\n",
    "-(2 ** 4)\n",
    "\n",
    "# 16\n",
    "(-2) ** 4\n",
    "```"
   ]
  },
  {
   "cell_type": "markdown",
   "metadata": {},
   "source": [
    "### 변수와 메모리 '값이 저장되는 법'"
   ]
  },
  {
   "cell_type": "markdown",
   "metadata": {},
   "source": [
    "#### 변수(variable)\n",
    "- 값을 저장하기 위한 이름\n",
    "\n",
    "#### 변수 할당\n",
    "- 표현식을 통해 변수에 값을 저장\n",
    "\n",
    "#### 할당문\n",
    "```python\n",
    "degrees = 36.5\n",
    "```\n",
    "- “변수 degrees에 값 36.5를 <span style='color:red'>할당</span>했다”\n",
    "\n",
    "```python\n",
    "degrees = 'abc'\n",
    "```\n",
    "\n",
    "- \"변수 degrees에 값 'abc'를 재할당했다.\""
   ]
  },
  {
   "cell_type": "markdown",
   "metadata": {},
   "source": [
    "##### 할당문\n",
    "![image](https://github.com/ragu6963/TIL/assets/32388270/21737370-e926-4b74-9055-436ed9e26270)\n",
    "1. 할당 연산자(=) 오른쪽에 있는 표현식을 평가해서 값(메모리 주소)을 생성\n",
    "2. 값의 메모리 주소를 ‘=‘ 왼쪽에 있는 변수에 저장\n",
    "- 존재하지 않는 변수라면\n",
    "    - 새 변수를 생성\n",
    "- 기존에 존재했던 변수라면\n",
    "    - 기존 변수를 재사용해서 변수에 들어 있는 메모리 주소를 변경\n",
    "\n",
    "\n"
   ]
  },
  {
   "cell_type": "markdown",
   "metadata": {},
   "source": [
    "## 참고\n",
    "\n",
    "\n"
   ]
  },
  {
   "cell_type": "markdown",
   "metadata": {},
   "source": [
    "# Data Types"
   ]
  },
  {
   "cell_type": "markdown",
   "metadata": {},
   "source": [
    "## Data Types\n",
    "### 개요\n",
    "- 값의 종류와 그 값에 적용 가능한 연산과 동작을 결정하는 속성\n",
    "\n"
   ]
  },
  {
   "cell_type": "markdown",
   "metadata": {},
   "source": [
    "#### 데이터 타입 분류\n",
    "- Numeric Types\n",
    "    - int (정수), float (실수), ~~complex~~ (복소수, 이건 잘 안씀)\n",
    "- Text Sequence Type\n",
    "    - str (문자열)\n",
    "- Sequence Types\n",
    "    - list, tuple, range\n",
    "- Non-sequence Types\n",
    "    -  set, dict\n",
    "- 기타\n",
    "    - Boolean, None, Functions"
   ]
  },
  {
   "cell_type": "markdown",
   "metadata": {},
   "source": [
    "#### 데이터 타입이 필요한 이유\n",
    "- 값들을 구분하고, 어떻게 다뤄야 하는지를 알 수 있음\n",
    "- 요리 재료마다 특정한 도구가 필요하듯이 각 데이터 타입 값들도 각자에게 적합한 도구를 가짐\n",
    "- 타입을 명시적으로 지정하면 코드를 읽는 사람이 변수의 의도를 더 쉽게 이해할 수 있고, 잘못된 데이터 타입으로 인한 오류를 미리 예방"
   ]
  },
  {
   "cell_type": "markdown",
   "metadata": {},
   "source": [
    "## Numeric Types\n"
   ]
  },
  {
   "cell_type": "markdown",
   "metadata": {},
   "source": [
    "### int `정수 자료형`\n",
    "- 정수를 표현하는 자료형\n"
   ]
  },
  {
   "cell_type": "markdown",
   "metadata": {},
   "source": [
    "#### 예시\n",
    "```python\n",
    "a = 10\n",
    "b = 0\n",
    "c = -5\n",
    "```"
   ]
  },
  {
   "cell_type": "markdown",
   "metadata": {},
   "source": [
    "### float `실수 자료형`\n",
    "- 실수를 표현하는 자료형\n",
    "\n",
    "- 프로그래밍 언어에서 float는 실수에 대한 <span style='color:crimson;'>근삿값</span>"
   ]
  },
  {
   "cell_type": "markdown",
   "metadata": {},
   "source": [
    "#### 예시\n",
    "```python\n",
    "d = 3.14\n",
    "e = -2.7\n",
    "```"
   ]
  },
  {
   "cell_type": "markdown",
   "metadata": {},
   "source": [
    "#### 유한 정밀도\n",
    "- 컴퓨터 메모리 용량이 한정돼 있고 한 숫자에 대해 저장하는 용량이 제한 됨\n",
    "- 0.6666666666666666과 1.6666666666666667은 제한된 양의 메모리에 저장할 수 있는 2/3과 5/3에 가장 가까운 값\n",
    "\n",
    "```python\n",
    "# 0.6666666666666666\n",
    "print(2 / 3)\n",
    "\n",
    "# 1.6666666666666667\n",
    "print(5 / 3)\n",
    "```"
   ]
  },
  {
   "cell_type": "markdown",
   "metadata": {},
   "source": [
    "#### 실수 연산 시 주의사항\n",
    "- 컴퓨터는 2진수를 사용, 사람은 10진법을 사용\n",
    "- 이때 10진수 0.1은 2진수로 표현하면 0.0001100110011001100110... - 같이 무한대로 반복\n",
    "- 무한대 숫자를 그대로 저장할 수 없어서 사람이 사용하는 10진법의 근사값만 표시\n",
    "- 0.1의 경우 3602879701896397 / 2 ** 55 이며 0.1에 가깝지만 정확히 동일하지는 않음\n",
    "- 이런 과정에서 예상치 못한 결과가 나타남\n",
    "- 이런 증상을 <span style='color:crimson;'>Floating point rounding error 부동소수점 에러</span>라고 함\n",
    "\n",
    "##### 부동소수점 에러\n",
    "- 컴퓨터가 실수를 표현하는 방식으로 인해 발생하는 작은 오차\n",
    "- 원인\n",
    "  - 실수를 2진수로 변환하는 과정에서 발생하는 근사치 표현"
   ]
  },
  {
   "cell_type": "markdown",
   "metadata": {},
   "source": [
    "##### 부동소수점 에러 해결책\n",
    "- 대표적으로 `decimal` 모듈을 사용해 부동소수점 연산의 정확성을 보장하는 방법\n",
    "- 이외에도 다양한 해결 방법이 존재\n",
    "\n",
    "\n",
    "```python\n",
    "# 해결 전\n",
    "a = 3.2 - 3.1\n",
    "b = 1.2 - 1.1\n",
    "print(a)  # 0.10000000000000009\n",
    "print(b)  # 0.09999999999999987\n",
    "print(a == b)  # False\n",
    "\n",
    "# 해결 후\n",
    "from decimal import Decimal\n",
    "\n",
    "a = Decimal('3.2') - Decimal('3.1')\n",
    "b = Decimal('1.2') - Decimal('1.1')\n",
    "\n",
    "print(a)  # 0.1\n",
    "print(b)  # 0.1\n",
    "print(a == b)  # True\n",
    "```"
   ]
  },
  {
   "cell_type": "markdown",
   "metadata": {},
   "source": [
    "#### 진수 표현 방식\n",
    "- 2진수(binary) : `0b`\n",
    "- 8진수(octal) : `0o`\n",
    "- 16진수(hexadecimal) : `0x`"
   ]
  },
  {
   "cell_type": "markdown",
   "metadata": {},
   "source": [
    "#### 지수 표현 방식\n",
    "- `e` 또는 `E`를 사용한 지수 표현\n",
    "\n",
    "```python \n",
    "# 314 ∗ 0.01\n",
    "number = 314e-2\n",
    "\n",
    "# 3.14\n",
    "print(number)\n",
    "```"
   ]
  },
  {
   "cell_type": "markdown",
   "metadata": {},
   "source": [
    "## Sequence Types"
   ]
  },
  {
   "cell_type": "markdown",
   "metadata": {},
   "source": [
    "### Sequence Types\n",
    "- 여러 개의 값들을 <span style='color:crimson;'>순서대로 나열</span>하여 저장하는 자료형\n",
    "(str, list, tuple, range)\n",
    "\n"
   ]
  },
  {
   "cell_type": "markdown",
   "metadata": {},
   "source": [
    "#### Sequence Type 특징\n",
    "1. 순서(Sequence) - 순서대로(정렬x) 저장.\n",
    "\n",
    "2. 인덱싱(Indexing) - 각 값에 고유번호 지정. \n",
    "\n",
    "3. 슬라이싱(Slicing) - 인덱스 범위로 부분값 추출.\n",
    "\n",
    "4. 길이(Length) - 갯수(=길이) : len( )\n",
    "\n",
    "5. 반복(Iteration) - 저장된 값들을 반복처리."
   ]
  },
  {
   "cell_type": "markdown",
   "metadata": {},
   "source": [
    "##### 인덱스 `index`\n",
    "- 시퀀스 내의 값들에 대한 고유한 번호로, 각 값의 위치를 식별하는 데 사용되는 숫자\n",
    "- [ ] 기호로 불러냄\n",
    "\n",
    "##### index 예시\n",
    "|         \"    \t|      h    \t|      e    \t|      l    \t|      l    \t|      o    \t|     \"    \t|\n",
    "|-------------:\t|:---------:\t|:---------:\t|:---------:\t|:---------:\t|:---------:\t|----------\t|\n",
    "|     index    \t|      0    \t|      1    \t|      2    \t|      3    \t|      4    \t|          \t|\n",
    "|     index    \t|     -5    \t|     -4    \t|     -3    \t|     -2    \t|     -1    \t|          \t|\n"
   ]
  },
  {
   "cell_type": "markdown",
   "metadata": {},
   "source": [
    "\n",
    "##### 슬라이싱 `slicing`\n",
    "시퀀스의 일부분을 선택하여 추출하는 작업\n",
    "\n",
    "- 시작 인덱스와 끝 인덱스를 지정하여 해당 범위의 값을 포함하는 새로운 시퀀스를 생성\n",
    "- [이상:미만:간격]\n",
    "##### slicing 예시\n",
    "```python\n",
    "my_str = 'hello'\n",
    "my_str[2:4]\n",
    "```\n",
    "|         \"    \t|      h    \t|      e    \t|      <span style='color:red;'>l</span>    \t|      <span style='color:red;'>l</span>    \t|      o    \t|     \"    \t|\n",
    "|-------------:\t|:---------:\t|:---------:\t|:---------:\t|:---------:\t|:---------:\t|----------\t|\n",
    "|     index    \t|      0    \t|      1    \t|      <span style='color:yellow;'>2</span>    \t|      <span style='color:yellow;'>3</span>    \t|      4    \t|          \t|\n",
    "|     index    \t|     -5    \t|     -4    \t|     -3    \t|     -2    \t|     -1    \t|          \t|\n",
    "\n",
    "\n",
    "```python\n",
    "my_str = 'hello'\n",
    "my_str[:3]\n",
    "```\n",
    "|         \"    \t|      <span style='color:red;'>h</span>    \t|      <span style='color:red;'>e</span>    \t|      <span style='color:red;'>l</span>    \t|      l    \t|      o    \t|     \"    \t|\n",
    "|-------------:\t|:---------:\t|:---------:\t|:---------:\t|:---------:\t|:---------:\t|----------\t|\n",
    "|     index    \t|      <span style='color:yellow;'>0</span>    \t|      <span style='color:yellow;'>1</span>    \t|      <span style='color:yellow;'>2</span>    \t|      3    \t|      4    \t|          \t|\n",
    "|     index    \t|     -5    \t|     -4    \t|     -3    \t|     -2    \t|     -1    \t|          \t|\n",
    "\n",
    "```python\n",
    "my_str = 'hello'\n",
    "my_str[3:]\n",
    "```\n",
    "|         \"    \t|      h    \t|      e    \t|      l    \t|      <span style='color:red;'>l</span>    \t|      <span style='color:red;'>o</span>    \t|     \"    \t|\n",
    "|-------------:\t|:---------:\t|:---------:\t|:---------:\t|:---------:\t|:---------:\t|----------\t|\n",
    "|     index    \t|      0    \t|      1    \t|      2    \t|      <span style='color:yellow;'>3</span>    \t|      <span style='color:yellow;'>4</span>    \t|          \t|\n",
    "|     index    \t|     -5    \t|     -4    \t|     -3    \t|     -2    \t|     -1    \t|          \t|\n",
    "\n",
    "- step을 지정하여 추출\n",
    "```python\n",
    "my_str = 'hello'\n",
    "my_str[0:5:2]\n",
    "```\n",
    "|         \"    \t|      <span style='color:red;'>h</span>    \t|      e    \t|      <span style='color:red;'>l</span>    \t|      l    \t|      <span style='color:red;'>o</span>    \t|     \"    \t|\n",
    "|-------------:\t|:---------:\t|:---------:\t|:---------:\t|:---------:\t|:---------:\t|----------\t|\n",
    "|     index    \t|      <span style='color:yellow;'>0</span>    \t|      1    \t|      <span style='color:yellow;'>2</span>    \t|      3    \t|      <span style='color:yellow;'>4</span>    \t|          \t|\n",
    "|     index    \t|     -5    \t|     -4    \t|     -3    \t|     -2    \t|     -1    \t|          \t|\n",
    "\n",
    "- step이 음수일 경우\n",
    "```python\n",
    "my_str = 'hello'\n",
    "my_str[::-1]\n",
    "```\n",
    "\n",
    "|         \"    \t|      <span style='color:red;'>h</span>    \t|      <span style='color:red;'>e</span>    \t|      <span style='color:red;'>l</span>    \t|      <span style='color:red;'>l</span>    \t|      <span style='color:red;'>o</span>    \t|     \"    \t|\n",
    "|-------------:\t|:---------:\t|:---------:\t|:---------:\t|:---------:\t|:---------:\t|----------\t|\n",
    "|     index    \t|      0    \t|      1    \t|      2    \t|      3    \t|      4    \t|          \t|\n",
    "|     index    \t|     <span style='color:yellow;'>-5</span>    \t|     <span style='color:yellow;'>-4</span>    \t|     <span style='color:yellow;'>-3</span>    \t|     <span style='color:yellow;'>-2</span>    \t|     <span style='color:yellow;'>-1</span>    \t|          \t|"
   ]
  },
  {
   "cell_type": "markdown",
   "metadata": {},
   "source": [
    "### str `문자열` \n",
    "- 문자들의 순서가 있는 **변경 불가능**한 시퀀스 자료형\n"
   ]
  },
  {
   "cell_type": "markdown",
   "metadata": {},
   "source": [
    "#### 문자열 표현\n",
    "- 문자열은 단일 문자나 여러 문자의 조합으로 이루어짐 \n",
    "- 작은따옴표(`'`) 또는 큰따옴표(`\"`) 감싸서 표현\n",
    "\n",
    "```python\n",
    "# Hello, World!\n",
    "print('Hello, World!') \n",
    "\n",
    "# str\n",
    "print(type('Hello, World!')) \n",
    "```"
   ]
  },
  {
   "cell_type": "markdown",
   "metadata": {},
   "source": [
    "#### Escape sequence\n",
    "- 역슬래시(backslash, `/`)뒤에 특정 문자가 와서 특수한 기능을 하는 문자 조합\n",
    "- 파이썬의 일반적인 문법 규칙을 잠시 탈출한다는 의미\n",
    "\n",
    "|     예약   문자    \t|      내용(의미)    \t|\n",
    "|:------------------:\t|:------------------:\t|\n",
    "|          `\\n`        \t|      줄   바꿈     \t|\n",
    "|          `\\t`        \t|          탭        \t|\n",
    "|          `\\\\`        \t|       백슬래시     \t|\n",
    "|          `\\’`        \t|     작은 따옴표    \t|\n",
    "|          `\\\"`        \t|     큰   따옴표    \t|"
   ]
  },
  {
   "cell_type": "markdown",
   "metadata": {},
   "source": [
    "#### String Interpolation\n",
    "- 문자열 내에 변수나 표현식을 삽입하는 방법\n",
    "- 여러 방법이 있는데 f-string이 제일 발전된 방법\n",
    "\n",
    "##### f-string\n",
    "- 문자열에 `f` 또는 `F` 접두어를 붙이고 표현식을 `{expression}`로 작성하는 문법\n",
    "- 문자열에 파이썬 표현식의 값을 삽입할 수 있음\n",
    "\n",
    "```python \n",
    "bugs = 'roaches'\n",
    "counts = 13\n",
    "area = 'living room'\n",
    "\n",
    "# Debugging roaches 13 living room\n",
    "print(f'Debugging {bugs} {counts} {area}')\n",
    "```"
   ]
  },
  {
   "cell_type": "markdown",
   "metadata": {},
   "source": [
    "\n",
    "### list `리스트`\n",
    "- 여러 개의 값을 순서대로 저장하는 **변경 가능**한 시퀀스 자료형\n",
    "\n"
   ]
  },
  {
   "cell_type": "markdown",
   "metadata": {},
   "source": [
    "#### 리스트 표현\n",
    "- 0개 이상의 객체를 포함하며 데이터 목록을 저장\n",
    "- 대괄호(`[]`)로 표기\n",
    "- 데이터는 어떤 자료형도 저장할 수 있음 (파이썬 장점)\n",
    "```python\n",
    "my_list_1 = []\n",
    "\n",
    "my_list_2 = [1, 'a', 3, 'b', 5]\n",
    "\n",
    "my_list_3 = [1, 2, 3, 'Python', ['hello', 'world', '!!!']]\n",
    "```\n"
   ]
  },
  {
   "cell_type": "markdown",
   "metadata": {},
   "source": [
    "#### 리스트의 시퀀스 특징\n",
    "```python\n",
    "my_list = [1, 'a', 3, 'b', 5]\n",
    "\n",
    "# 인덱싱\n",
    "print(my_list[1])  # a\n",
    "\n",
    "# 슬라이싱\n",
    "print(my_list[2:4])  # [3, 'b']\n",
    "print(my_list[:3])  # [1, 'a', 3]\n",
    "print(my_list[3:])  # ['b', 5]\n",
    "print(my_list[0:5:2])  # [1, 3, 5]\n",
    "print(my_list[::-1])  # [5, 'b', 3, 'a', 1]\n",
    "\n",
    "# 길이\n",
    "print(len(my_list))  # 5\n",
    "```\n",
    "\n",
    "#### 중첩된 리스트 접근\n",
    "출력 값 예상해보기\n",
    "\n",
    "```python\n",
    "my_list = [1, 2, 3, 'Python', ['hello', 'world', '!!!']]\n",
    "print(len(my_list))  # 5\n",
    "print(my_list[4][-1])  # !!!\n",
    "print(my_list[-1][1][0])  # w\n",
    "```\n",
    "\n",
    "#### 리스트는 가변 (변경 가능)\n",
    "```python\n",
    "my_list = [1, 2, 3]\n",
    "my_list[0] = 100\n",
    "\n",
    "print(my_list)  # [100, 2, 3]\n",
    "```"
   ]
  },
  {
   "cell_type": "markdown",
   "metadata": {},
   "source": [
    "### tuple `튜플`\n",
    "- 여러 개의 값을 순서대로 저장하는 **변경 불가능**한 시퀀스 자료형\n"
   ]
  },
  {
   "cell_type": "markdown",
   "metadata": {},
   "source": [
    "#### 튜플 표현\n",
    "- 0개 이상의 객체를 포함하며 데이터 목록을 저장\n",
    "- 소괄호(`()`)로 표기\n",
    "- 데이터는 어떤 자료형도 저장할 수 있음\n",
    "\n",
    "    ```python\n",
    "    my_tuple_1 = ()\n",
    "\n",
    "    my_tuple_2 = (1,)\n",
    "\n",
    "    my_tuple_3 = (1, 'a', 3, 'b', 5)\n",
    "    ```\n"
   ]
  },
  {
   "cell_type": "markdown",
   "metadata": {},
   "source": [
    "\n",
    "#### 튜플의 시퀀스 특징\n",
    "```python\n",
    "my_tuple = (1, 'a', 3, 'b', 5)\n",
    "\n",
    "# 인덱싱\n",
    "print(my_tuple[1])  # a\n",
    "\n",
    "# 슬라이싱\n",
    "print(my_tuple[2:4])  # (3, 'b')\n",
    "print(my_tuple[:3])  # (1, 'a', 3)\n",
    "print(my_tuple[3:])  # ('b', 5)\n",
    "print(my_tuple[0:5:2])  # (1, 3, 5)\n",
    "print(my_tuple[::-1])  # (5, 'b', 3, 'a', 1)\n",
    "\n",
    "# 길이\n",
    "print(len(my_tuple))  # 5\n",
    "```\n",
    "\n",
    "#### 튜플은 불변(변경 불가)\n",
    "```python\n",
    "my_tuple = (1, 'a', 3, 'b', 5)\n",
    "\n",
    "# TypeError: 'tuple' object does not support item assignment\n",
    "my_tuple[1] = 'z'\n",
    "```\n",
    "\n",
    "#### 튜플은 어디에 쓰일까?\n",
    "- 튜플의 불변 특성을 사용한 안전하게 여러 개의 값을 전달, 그룹화, 다중 할당 등\n",
    "- 개발자가 직접 사용하기 보다 ‘파이썬 내부 동작’에서 주로 사용됨\n",
    "\n",
    "```python\n",
    "x, y = (10, 20)\n",
    "\n",
    "print(x)  # 10\n",
    "print(y)  # 20\n",
    "\n",
    "# 파이썬은 쉼표를 튜플 생성자로 사용하니 괄호는 생략 가능\n",
    "x, y = 10, 20\n",
    "```"
   ]
  },
  {
   "cell_type": "markdown",
   "metadata": {},
   "source": [
    "### range `레인지`\n",
    " - 연속된 정수 시퀀스를 생성하는 **변경 불가능**한 자료형"
   ]
  },
  {
   "cell_type": "markdown",
   "metadata": {},
   "source": [
    "#### range 표현\n",
    "- `range(시작 값, 끝 값, 증가 값)`\n",
    "- `range(n)`\n",
    "    - 0부터 n-1까지의 숫자의 시퀀스\n",
    "- `range(n, m) `\n",
    "    - n부터 m-1까지의 숫자 시퀀스\n",
    "\n",
    "    ```python\n",
    "    my_range_1 = range(5)\n",
    "    my_range_2 = range(1, 10)\n",
    "\n",
    "    print(my_range_1)  # range(0, 5)\n",
    "    print(my_range_2)  # range(1, 10)\n",
    "    ```\n",
    "\n"
   ]
  },
  {
   "cell_type": "markdown",
   "metadata": {},
   "source": [
    "#####  주로 반복문과 함께 사용 예정\n",
    "\n",
    "```python\n",
    "# 리스트로 형 변환 시 데이터 확인 가능\n",
    "print(list(range(5)))   # [0, 1, 2, 3, 4]\n",
    "print(list(range(1, 10)))  # [1, 2, 3, 4, 5, 6, 7, 8, 9]\n",
    "\n",
    "# 반복문과 함께 활용\n",
    "for i in range(1, 10):\n",
    "    print(i)  # 1 2 3 4 5 6 7 8 9\n",
    "for i in range(1, 10, 2):\n",
    "    print(i)  # 1 3 5 7 9\n",
    "```"
   ]
  },
  {
   "cell_type": "markdown",
   "metadata": {},
   "source": [
    "#### range 특징\n",
    "- 증가 값이 없으면 1씩 증가\n",
    "- 증가 값이 음수이면 감소 / 증가 값이 양수이면 증가\n",
    "- 증가 값이 0이면 에러\n",
    "- 증가 값이 음수이면 시작 값이 끝 값보다 커야 함\n",
    "- 증가 값이 양수이면 시작 값이 끝 값보다 작아야 함"
   ]
  },
  {
   "cell_type": "markdown",
   "metadata": {},
   "source": [
    "## Non-sequence Types"
   ]
  },
  {
   "cell_type": "markdown",
   "metadata": {},
   "source": [
    "### dict `딕셔너리`\n",
    "- key - value 쌍으로 이루어진 순서와 중복이 없는 변경 가능한 자료형"
   ]
  },
  {
   "cell_type": "markdown",
   "metadata": {},
   "source": [
    "#### 딕셔너리 표현\n",
    "- key는 변경 불가능한 자료형만 사용 가능 (str, int, float, tuple, range …)\n",
    "- value는 모든 자료형 사용 가능\n",
    "- 중괄호(`{}`)로 표기\n",
    "\n",
    "    ```python\n",
    "    my_dict_1 = {}\n",
    "    my_dict_2 = {'key': 'value'}\n",
    "    my_dict_3 = {'apple': 12, 'list': [1, 2, 3]}\n",
    "\n",
    "    print(my_dict_1)  # {}\n",
    "    print(my_dict_2)  # {'key': 'value'}\n",
    "    print(my_dict_3)  # {'apple': 12, 'list': [1, 2, 3]}\n",
    "    ```"
   ]
  },
  {
   "cell_type": "markdown",
   "metadata": {},
   "source": [
    "#### 딕셔너리 사용\n",
    "- key를 통해 value에 접근\n",
    "\n",
    "    ```python\n",
    "    my_dict = {'apple': 12, 'list': [1, 2, 3]}\n",
    "    print(my_dict['apple'])  # 12\n",
    "    print(my_dict['list'])  # [1, 2, 3]\n",
    "\n",
    "    # 추가\n",
    "    my_dict['banana'] = 50\n",
    "    print(my_dict) # {'apple': 12, 'list': [1, 2, 3], 'banana': 50}\n",
    "\n",
    "    # 변경\n",
    "    my_dict['apple'] = 100\n",
    "    print(my_dict) # {'apple': 100, 'list': [1, 2, 3], 'banana': 50}\n",
    "    ```"
   ]
  },
  {
   "cell_type": "markdown",
   "metadata": {},
   "source": [
    "### set `세트`\n",
    "- 순서와 중복이 없는 변경 가능한 자료형\n"
   ]
  },
  {
   "cell_type": "markdown",
   "metadata": {},
   "source": [
    "## Other Types\n"
   ]
  },
  {
   "cell_type": "markdown",
   "metadata": {},
   "source": [
    "### None `넌`\n",
    "- 파이썬에서 ‘값이 없음’을 표현하는 자료형\n",
    "\n"
   ]
  },
  {
   "cell_type": "markdown",
   "metadata": {},
   "source": [
    "#### None 표현\n",
    "```python\n",
    "variable = None\n",
    "\n",
    "print(variable)  # None\n",
    "```"
   ]
  },
  {
   "cell_type": "markdown",
   "metadata": {},
   "source": [
    "### Boolean `불리언`\n",
    "- 참(True)과 거짓(False)을 표현하는 자료형\n",
    "\n"
   ]
  },
  {
   "cell_type": "markdown",
   "metadata": {},
   "source": [
    "#### 불리언 표현\n",
    "- 비교 / 논리 연산의 평가 결과로 사용됨\n",
    "- 주로 조건 / 반복문과 함께 사용\n",
    "\n",
    "    ```python\n",
    "    bool_1 = True\n",
    "    bool_2 = False\n",
    "\n",
    "    print(bool_1)  # True\n",
    "    print(bool_2)  # False\n",
    "    print(3 > 1)  # True\n",
    "    print('3' != 3)  # True\n",
    "    ```"
   ]
  },
  {
   "cell_type": "markdown",
   "metadata": {},
   "source": [
    "## *Collection\n",
    "\n"
   ]
  },
  {
   "cell_type": "markdown",
   "metadata": {},
   "source": [
    "### Collection\n",
    "- 여러 개의 항목 또는 요소를 담을 수 있는 데이터 타입\n",
    "- str, list, tuple, set, dict"
   ]
  },
  {
   "cell_type": "markdown",
   "metadata": {},
   "source": [
    "#### 컬렉션 정리\n",
    "|     컬렉션    \t|     변경 가능 여부    \t|     순서 여부    \t|          \t|\n",
    "|:-------------:\t|:---------------------:\t|:----------------:\t|:--------:\t|\n",
    "|       str     \t|            X          \t|         O        \t|  시퀀스  \t|\n",
    "|      list     \t|            O          \t|         O        \t|  시퀀스  \t|\n",
    "|      tuple    \t|            X          \t|         O        \t|  시퀀스  \t|\n",
    "|       dict     \t|            O          \t|         X        \t| 비시퀀스 \t|\n",
    "|      set     \t|            O          \t|         X        \t| 비시퀀스 \t|"
   ]
  },
  {
   "cell_type": "markdown",
   "metadata": {},
   "source": [
    "## 참고\n"
   ]
  },
  {
   "cell_type": "markdown",
   "metadata": {},
   "source": [
    "### 불변과 가변의 차이 (1/2)\n",
    "```python\n",
    "my_str = 'hello'\n",
    "# TypeError: 'str' object does not support item assignment\n",
    "my_str[0] = 'z'\n",
    "\n",
    "my_list = [1, 2, 3]\n",
    "my_list[0] = 100\n",
    "# [100, 2, 3]\n",
    "print(my_list)\n",
    "```"
   ]
  },
  {
   "cell_type": "markdown",
   "metadata": {},
   "source": [
    "### 불변과 가변의 차이 (2/2)\n",
    "![image](https://github.com/ragu6963/TIL/assets/32388270/b6dca7db-4a13-4e75-843b-cbc8badf3691)\n"
   ]
  },
  {
   "cell_type": "markdown",
   "metadata": {},
   "source": [
    "# Type Conversion"
   ]
  },
  {
   "cell_type": "markdown",
   "metadata": {},
   "source": [
    "## Type Conversion\n",
    "\n",
    "### 형변환\n",
    "- 한 데이터 타입을 다른 데이터 타입으로 변환하는 과정\n",
    "- 암시적 형변환 / 명시적 형변환으로 나뉨"
   ]
  },
  {
   "cell_type": "markdown",
   "metadata": {},
   "source": [
    "### 암시적 형변환 `Implicit Type conversion`\n",
    "- 파이썬이 자동으로 수행하는 형변환"
   ]
  },
  {
   "cell_type": "markdown",
   "metadata": {},
   "source": [
    "### 명시적 형변환 `Explicit Type conversion`\n",
    "- 프로그래머가 직접 지정하는 형변환\n",
    "- 암시적 형변환이 아닌 경우를 모두 포함"
   ]
  },
  {
   "cell_type": "markdown",
   "metadata": {},
   "source": [
    "# Operator"
   ]
  },
  {
   "cell_type": "markdown",
   "metadata": {},
   "source": [
    "## 연산자"
   ]
  },
  {
   "cell_type": "markdown",
   "metadata": {},
   "source": [
    "### 산술 연산자\n",
    "|     기호    \t|           연산자          \t|\n",
    "|:-----------:\t|:-------------------------:\t|\n",
    "|       -     \t|         음수   부호       \t|\n",
    "|       +     \t|            덧셈           \t|\n",
    "|       -     \t|            뺄셈           \t|\n",
    "|       *     \t|            곱셈           \t|\n",
    "|       /     \t|           나눗셈          \t|\n",
    "|      //     \t|     정수   나눗셈 (몫)    \t|\n",
    "|       %     \t|           나머지          \t|\n",
    "|      **     \t|      지수   (거듭제곱)    \t|"
   ]
  },
  {
   "cell_type": "markdown",
   "metadata": {},
   "source": [
    "### 복합 연산자\n",
    "- 연산과 할당이 함께 이뤄짐\n",
    "\n",
    "|     기호    \t|         예시         \t|          의미           \t|\n",
    "|:-----------:\t|:----------------:\t|:-------------------:\t|\n",
    "|      +=     \t|      a   += b    \t|      a   = a + b    \t|\n",
    "|      -=     \t|      a   -= b    \t|      a   = a - b    \t|\n",
    "|      *=     \t|      a   *= b    \t|      a   = a * b    \t|\n",
    "|      /=     \t|      a   /= b    \t|      a   = a / b    \t|\n",
    "|      //=    \t|     a   //= b    \t|     a   = a // b    \t|\n",
    "|      %=     \t|      a   %= b    \t|      a   = a % b    \t|\n",
    "|      **=    \t|     a   **= b    \t|     a   = a ** b    \t|\n"
   ]
  },
  {
   "cell_type": "markdown",
   "metadata": {},
   "source": [
    "### 비교 연산자\n",
    "\n",
    "|       기호      \t|         내용       \t|\n",
    "|:---------------:\t|:------------------:\t|\n",
    "|         <       \t|         미만       \t|\n",
    "|        <=       \t|         이하       \t|\n",
    "|         >       \t|         초과       \t|\n",
    "|        >=       \t|         이상       \t|\n",
    "|        ==       \t|         같음       \t|\n",
    "|        !=       \t|     같지   않음    \t|\n",
    "|        is       \t|         같음       \t|\n",
    "|     is   not    \t|     같지   않음    \t|"
   ]
  },
  {
   "cell_type": "markdown",
   "metadata": {},
   "source": [
    "### 논리 연산자\n",
    "\n",
    "|     기호    \t|      연산자     \t|                                        내용                                       \t|\n",
    "|:-----------:\t|:---------------:\t|:---------------------------------------------------------------------------------:\t|\n",
    "|      and    \t|      논리곱     \t|       두   피연산자 모두 True인   경우에만      전체   표현식을 True로   평가     \t|\n",
    "|      or     \t|      논리합     \t|     두   피연산자 중 하나라도 True인   경우      전체   표현식을 True로   평가    \t|\n",
    "|      not    \t|     논리부정    \t|                               단일   피연산자를 부정                              \t|\n"
   ]
  },
  {
   "cell_type": "markdown",
   "metadata": {},
   "source": [
    "### 멤버십 연산자\n",
    "- 특정 값이 시퀀스나 다른 컬렉션에 속하는지 여부를 확인\n",
    "\n",
    "|       기호      \t|                                    내용                                  \t|\n",
    "|:---------------:\t|:------------------------------------------------------------------------:\t|\n",
    "|        in       \t|        왼쪽   피연산자가 오른쪽 피연산자의 시퀀스에 속하는지를 확인      \t|\n",
    "|     not   in    \t|     왼쪽   피연산자가 오른쪽 피연산자의 시퀀스에 속하지 않는지를 확인    \t|"
   ]
  },
  {
   "cell_type": "markdown",
   "metadata": {},
   "source": [
    "### 시퀀스형 연산자\n",
    "- `+` 와 `*` 는 시퀀스 간 연산에서 산술 연산자일때와 다른 역할을 가짐\n",
    "\n",
    "|     연산자    \t|          내용        \t|\n",
    "|:-------------:\t|:--------------------:\t|\n",
    "|        +      \t|     결합   연산자    \t|\n",
    "|        *      \t|     반복   연산자    \t|"
   ]
  },
  {
   "cell_type": "markdown",
   "metadata": {},
   "source": [
    "### 연산자 우선순위\n",
    "\n",
    "|     우선순위    \t|             연산자            \t|               내용             \t|\n",
    "|:---------------:\t|:-----------------------------:\t|:------------------------------:\t|\n",
    "|       높음      \t|               ()              \t|        소괄호   grouping       \t|\n",
    "|                 \t|               []              \t|        인덱싱,   슬라이싱      \t|\n",
    "|                 \t|               **              \t|             거듭제곱           \t|\n",
    "|                 \t|             +,   -            \t|     단항   연산자 양수/음수    \t|\n",
    "|                 \t|          *,   /, //, %        \t|          산술   연산자         \t|\n",
    "|                 \t|             +,   -            \t|          산술   연산자         \t|\n",
    "|                 \t|     <,   <=, >, >=, ==, !=    \t|          비교   연산자         \t|\n",
    "|                 \t|          is,   is not         \t|           객체   비교          \t|\n",
    "|                 \t|          in,   not in         \t|         멤버십   연산자        \t|\n",
    "|                 \t|               not             \t|           논리   부정          \t|\n",
    "|                 \t|               and             \t|            논리   AND          \t|\n",
    "|       낮음      \t|               or              \t|            논리   OR           \t|\n"
   ]
  },
  {
   "cell_type": "markdown",
   "metadata": {},
   "source": [
    "# Functions"
   ]
  },
  {
   "cell_type": "markdown",
   "metadata": {},
   "source": [
    "## 함수 `Functions`\n",
    "### 개요\n",
    "- 특정 작업을 수행하기 위한 재사용 가능한 코드 묶음"
   ]
  },
  {
   "cell_type": "markdown",
   "metadata": {},
   "source": [
    "#### 함수를 사용하는 이유 \n",
    "- 두 수의 합을 구하는 함수를 정의하고 사용함으로써 코드의 중복을 방지\n",
    "- <span style='color:red;'>재사용성</span>이 높아지고, 코드의 <span style='color:red;'>가독성과 유지보수성</span> 향상\n",
    "\n",
    " "
   ]
  },
  {
   "cell_type": "markdown",
   "metadata": {},
   "source": [
    "##### 예시\n",
    "   ```python\n",
    "    # 두 수의 합을 구하는 코드\n",
    "    num1 = 5\n",
    "    num2 = 3\n",
    "\n",
    "    sum_result = num1 + num2\n",
    "    print(sum_result)\n",
    "    ```\n",
    "    \n",
    "    ```python\n",
    "    # 두 수의 합을 구하는 함수\n",
    "    def get_sum(num1, num2):\n",
    "        return num1 + num2\n",
    "\n",
    "    # 함수 사용하여 결과 출력\n",
    "    num1 = 5\n",
    "    num2 = 3\n",
    "    sum_result = get_sum(num1, num2)\n",
    "    print(sum_result)\n",
    "    ```"
   ]
  },
  {
   "cell_type": "markdown",
   "metadata": {},
   "source": [
    "### 함수의 구조\n",
    "#### 함수 구조 \n",
    "![image](https://github.com/ragu6963/TIL/assets/32388270/fe4bb4a9-f88d-43f8-9e6e-915e3c790b48)"
   ]
  },
  {
   "cell_type": "markdown",
   "metadata": {},
   "source": [
    "#### 함수의 정의와 호출 1\n",
    "- 함수 정의(정의)\n",
    "    - 함수 정의는 `def` 키워드로 시작\n",
    "    - def 키워드 이후 함수 이름 작성\n",
    "    - 괄호안에 매개변수를 정의할 수 있음\n",
    "    - 매개변수(parameter)는 함수에 전달되는 값을 나타냄\n"
   ]
  },
  {
   "cell_type": "markdown",
   "metadata": {},
   "source": [
    "##### 예시\n",
    "```python\n",
    "# 함수 정의\n",
    "def greet(name):\n",
    "    \"\"\"입력된 이름(name) 값에\n",
    "    인사를 하는 메세지('Hello, ')를 만드는 함수\n",
    "    \"\"\"\n",
    "    message = 'Hello, ' + name\n",
    "    return message\n",
    "\n",
    "# 함수 호출 및 반환 값 할당\n",
    "result = greet('Alice')\n",
    "print(result)\n",
    "```"
   ]
  },
  {
   "cell_type": "markdown",
   "metadata": {},
   "source": [
    "#### 함수의 정의와 호출 2\n",
    "- 함수 body\n",
    "    - 콜론(`:`) 다음에 들여쓰기 된 코드 블록\n",
    "    - 함수가 실행 될 때 수행되는 코드를 정의\n",
    "    - Docstring은 함수 body 앞에 선택적으로 작성 가능한 함수 설명서\n",
    "    ![image](https://github.com/ragu6963/TIL/assets/32388270/71898c0f-abee-4946-9b19-9083d0d8c4e7)\n"
   ]
  },
  {
   "cell_type": "markdown",
   "metadata": {},
   "source": [
    "#### 함수의 정의와 호출 3\n",
    "- 함수 반환 값\n",
    "    - 함수는 필요한 경우 결과를 반환할 수 있음\n",
    "    - `return` 키워드 이후에 반환할 값을 명시\n",
    "    - `return` 문은 함수의 실행을 종료하고, 결과를 호출 부분으로 반환\n",
    "    ![image](https://github.com/ragu6963/TIL/assets/32388270/9b0cadc1-aeb7-4bf9-a9fe-e8d13f06717f)\n"
   ]
  },
  {
   "cell_type": "markdown",
   "metadata": {},
   "source": [
    "#### 함수의 정의와 호출 4\n",
    "- 함수 호출\n",
    "    - 함수를 사용하기 위해서는 호출이 필요\n",
    "    - 함수의 이름과 소괄호를 활용해 호출\n",
    "    - 필요한 경우 인자(argument)를 전달해야 함\n",
    "    - 호출 부분에서 전달된 인자는 함수 정의 시 작성한 매개변수에 대입됨\n",
    "    ![image](https://github.com/ragu6963/TIL/assets/32388270/01253ed5-3ab6-40c5-bfd8-04ca0c2ae01d)\n"
   ]
  },
  {
   "cell_type": "markdown",
   "metadata": {},
   "source": [
    "### 함수 호출 (function call)\n",
    "- 함수를 실행하기 위해 함수의 이름을 사용하여 해당 함수의 코드 블록을 실행하는 것\n",
    "```python\n",
    "function_name(arguments)\n",
    "```"
   ]
  },
  {
   "cell_type": "markdown",
   "metadata": {},
   "source": [
    "## 매개변수와 인자"
   ]
  },
  {
   "cell_type": "markdown",
   "metadata": {},
   "source": [
    "### 매개변수와 인자\n",
    "#### 매개변수 `parameter`\n",
    "- 함수를 정의할 때, 함수가 받을 값을 나타내는 변수\n",
    "\n",
    "#### 인자 `argument`\n",
    "- 함수를 호출할 때, 실제로 전달되는 값"
   ]
  },
  {
   "cell_type": "markdown",
   "metadata": {},
   "source": [
    "\n",
    "#### 매개변수와 인자 예시\n",
    "```python\n",
    "def add_numbers(x, y): # x와 y는 매개변수(parameter)\n",
    "    result = x + y\n",
    "    return result\n",
    "\n",
    "\n",
    "a = 2\n",
    "b = 3\n",
    "sum_result = add_numbers(a, b) # a와 b는 인자(argument)\n",
    "print(sum_result)\n",
    "```"
   ]
  },
  {
   "cell_type": "markdown",
   "metadata": {},
   "source": [
    "### 다양한 인자 종류\n",
    "1. 위치 인자\n",
    "2. 기본 인자 값\n",
    "3. 키워드 인자\n",
    "4. 임의의 인자 목록\n",
    "5. 임의의 키워드 인자 목록"
   ]
  },
  {
   "cell_type": "markdown",
   "metadata": {},
   "source": [
    "#### Positional Arguments (위치인자)\n",
    "- 함수 호출 시 인자의 위치에 따라 전달되는 인자\n",
    "- <span style='color:crimson;'>위치인자는 함수 호출 시 반드시 값을 전달해야 함</span>\n",
    "\n",
    "    ```python\n",
    "    def greet(name, age):\n",
    "        print(f'안녕하세요, {name}님! {age}살이시군요.')\n",
    "\n",
    "\n",
    "    greet('Alice', 25) # 안녕하세요, Alice님! 25살이시군요\n",
    "    ```"
   ]
  },
  {
   "cell_type": "markdown",
   "metadata": {},
   "source": [
    "#### Default Argument Values (기본 인자 값)\n",
    "- 함수 정의에서 매개변수에 기본 값을 할당하는 것\n",
    "- 함수 호출 시 인자를 전달하지 않으면, 기본값이 매개변수에 할당됨\n",
    "\n",
    "    ```python\n",
    "    def greet(name, age=30):\n",
    "        print(f'안녕하세요, {name}님! {age}살이시군요.')\n",
    "\n",
    "\n",
    "    greet('Bob') # 안녕하세요, Bob님! 30살이시군요.\n",
    "    greet('Charlie', 40) # 안녕하세요, Charlie님! 40살이시군요.\n",
    "    ```"
   ]
  },
  {
   "cell_type": "markdown",
   "metadata": {},
   "source": [
    "####  Keyword Arguments (키워드 인자)\n",
    "- 함수 호출 시 인자의 이름과 함께 값을 전달하는 인자\n",
    "- 매개변수와 인자를 일치시키지 않고, 특정 매개변수에 값을 할당할 수 있음\n",
    "- 인자의 순서는 중요하지 않으며, 인자의 이름을 명시하여 전달\n",
    "- <span style='color:crimson;'>단, 호출 시 키워드 인자는 위치 인자 뒤에 위치해야 함</span>\n",
    "\n",
    "    ```python\n",
    "    def greet(name, age):\n",
    "        print(f'안녕하세요, {name}님! {age}살이시군요.')\n",
    "\n",
    "\n",
    "    greet(name='Dave', age=35)  # 안녕하세요, Dave님! 35살이시군요.\n",
    "    greet(age=35, 'Dave')  #  positional argument follows keyword argument\n",
    "    ```"
   ]
  },
  {
   "cell_type": "markdown",
   "metadata": {},
   "source": [
    "#### Arbitrary Argument Lists (임의의 인자 목록)\n",
    "- 정해지지 않은 개수의 인자를 처리하는 인자\n",
    "- 함수 정의 시 매개변수 앞에 <span style='color:red;'>`‘*’`</span>를 붙여 사용하며, 여러 개의 인자를 tuple로 처리\n",
    "\n",
    "    ```python\n",
    "    def calculate_sum(*args):\n",
    "        print(args)\n",
    "        total = sum(args)\n",
    "        print(f'합계: {total}')\n",
    "\n",
    "\n",
    "    \"\"\"\n",
    "    (1, 2, 3)\n",
    "    합계: 6\n",
    "    \"\"\"\n",
    "    calculate_sum(1, 2, 3)\n",
    "    ```\n"
   ]
  },
  {
   "cell_type": "markdown",
   "metadata": {},
   "source": [
    "#### Arbitrary Keyword Argument Lists (임의의 키워드 인자 목록)\n",
    "- 정해지지 않은 개수의 키워드 인자를 처리하는 인자\n",
    "- 함수 정의 시 매개변수 앞에 <span style='color:red;'>`‘**’`</span>를 붙여 사용하며, <br>여러 개의 인자를 dictionary로 묶어 처리\n",
    "\n",
    "    ```python\n",
    "    def print_info(**kwargs):\n",
    "        print(kwargs)\n",
    "\n",
    "\n",
    "    print_info(name='Eve', age=30) # {'name': 'Eve', 'age': 30}\n",
    "    ```"
   ]
  },
  {
   "cell_type": "markdown",
   "metadata": {},
   "source": [
    "#### 함수 인자 권장 작성순서\n",
    "- 위치 -> 기본 -> 가변 -> 가변 키워드\n",
    "- 호출 시 인자를 전달하는 과정에서 혼란을 줄일 수 있도록 함\n",
    "- <span style='color:crimson;'>단, 모든 상황에 적용되는 절대적인 규칙은 아니며, 상황에 따라 유연하게 조정될 수 있음</span>\n",
    "\n",
    "    ```python\n",
    "    def func(pos1, pos2, default_arg='default', *args, **kwargs):\n",
    "        # ...\n",
    "    ```"
   ]
  },
  {
   "cell_type": "markdown",
   "metadata": {},
   "source": [
    "##### 인자의 모든 종류를 적용한 예시\n",
    "```python\n",
    "def func(pos1, pos2, default_arg='default', *args, **kwargs):\n",
    "    print('pos1:', pos1)\n",
    "    print('pos2:', pos2)\n",
    "    print('default_arg:', default_arg)\n",
    "    print('args:', args)\n",
    "    print('kwargs:', kwargs)\n",
    "\n",
    "func(1, 2, 3, 4, 5, 6, key1='value1', key2='value2')\n",
    "\n",
    "\"\"\"\n",
    "pos1: 1\n",
    "pos2: 2\n",
    "default_arg: 3\n",
    "args: (4, 5, 6)\n",
    "kwargs: {'key1': 'value1', 'key2': 'value2'}\n",
    "\"\"\"\n",
    "```"
   ]
  },
  {
   "cell_type": "markdown",
   "metadata": {},
   "source": [
    "## 재귀 함수"
   ]
  },
  {
   "cell_type": "markdown",
   "metadata": {},
   "source": [
    "### 재귀 함수\n",
    "- 함수 내부에서 자기 자신을 호출하는 함수\n",
    "\n",
    "#### 재귀 함수 예시 (팩토리얼)\n",
    "```python\n",
    "𝑛!\n",
    "𝑛 ∗ (𝑛−1)!\n",
    "𝑛 ∗ (𝑛−1) ∗ (𝑛−2)!\n",
    "…\n",
    "```\n",
    "- factorial 함수는 자기 자신을 재귀적으로 호출하여 입력된 숫자 n의 팩토리얼을 계산\n",
    "- 재귀 호출은 n이 0이 될 때까지 반복되며, 종료 조건을 설정하여 재귀 호출이 멈추도록 함\n",
    "- 재귀 호출의 결과를 이용하여 문제를 작은 단위의 문제로 분할하고, 분할된 문제들의 결과를 조합하여 최종 결과를 도출\n",
    "```python\n",
    "def factorial(n):\n",
    "    # 종료 조건: n이 0이면 1을 반환\n",
    "    if n == 0:\n",
    "        return 1\n",
    "    else:\n",
    "        # 재귀 호출: n과 n-1의 팩토리얼을 곱한 결과를 반환\n",
    "        return n * factorial(n - 1)\n",
    "# 팩토리얼 계산 예시\n",
    "print(factorial(5))  # 120\n",
    "```\n",
    "\n",
    "----\n",
    "\n",
    "#### 재귀 함수 특징\n",
    "- 특정 알고리즘 식을 표현할 때 변수의 사용이 줄어들며, 코드의 가독성이 높아짐\n",
    "- 1개 이상의 base case(종료되는 상황)가 존재하고, 수렴하도록 작성\n",
    "\n",
    "#### 재귀 함수를 사용하는 이유\n",
    "- 문제의 자연스러운 표현\n",
    "  - 복잡한 문제를 간결하고 직관적으로 표현 가능\n",
    "\n",
    "- 코드 간결성\n",
    "  - 상황에 따라 반복문보다 알고리즘 코드가 더 간결하고 명확해질 수 있음\n",
    "\n",
    "- 수학적 문제 해결\n",
    "  - 수학적 정의가 재귀적으로 표현되는 경우, 직접적인 구현 가능\n",
    "\n",
    "#### 재귀 함수 활용 시 기억해야 할 것\n",
    "1. 종료 조건을 명확히\n",
    "2. 반복되는 호출이 종료 조건을 향하도록"
   ]
  },
  {
   "cell_type": "markdown",
   "metadata": {},
   "source": [
    "## 내장 함수"
   ]
  },
  {
   "cell_type": "markdown",
   "metadata": {},
   "source": [
    "### 내장 함수\n",
    "- 파이썬이 기본적으로 제공하는 함수 (별도의 import 없이 바로 사용 가능)\n",
    "\n",
    "```python\n",
    "# 자주 사용되는 내장 함수 예시\n",
    "numbers = [1, 2, 3, 4, 5]\n",
    "\n",
    "print(len(numbers))  # 5\n",
    "print(max(numbers))  # 5\n",
    "print(min(numbers))  # 1\n",
    "print(sum(numbers))  # 15\n",
    "print(sorted(numbers, reverse=True))  # [5, 4, 3, 2, 1]\n",
    "```"
   ]
  },
  {
   "cell_type": "markdown",
   "metadata": {},
   "source": [
    "### 유용한 내장 함수 map & zip\n",
    "#### `map(function, iterable)`\n",
    "- 순회 가능한 데이터구조(iterable)의 모든 요소에 함수를 적용하고, 그 결과를 map object로 반환\n",
    "```python\n",
    "numbers = [1, 2, 3]\n",
    "result = map(str, numbers)\n",
    "\n",
    "print(result)  # <map object at 0x00000239C915D760>\n",
    "print(list(result))  # ['1', '2', '3']\n",
    "```\n",
    "##### `map()` 활용\n",
    "- SWEA 문제의 input 처럼 문자열 `'1 2 3'`이 입력 되었을 때 활용 예시\n",
    "\n",
    "```python\n",
    "numbers1 = input().split()\n",
    "print(numbers1)  # ['1', '2', '3']\n",
    "\n",
    "numbers2 = list(map(int, input().split()))\n",
    "print(numbers2)  # [1, 2, 3]\n",
    "```"
   ]
  },
  {
   "cell_type": "markdown",
   "metadata": {},
   "source": [
    "#### `zip(*iterable)`\n",
    "- 임의의 iterable을 모아 튜플을 원소로 하는 zip object를 반환\n",
    "\n",
    "    ```python\n",
    "    girls = ['jane', 'ashley']\n",
    "    boys = ['peter', 'jay']\n",
    "    pair = zip(girls, boys)\n",
    "\n",
    "    print(pair)  # <zip object at 0x000001C76DE58700>\n",
    "    print(list(pair))  # [('jane', 'peter'), ('ashley', 'jay')]\n",
    "    ```\n",
    "\n",
    "##### `zip()` 활용\n",
    "- 여러 개의 리스트를 동시에 조회할 때\n",
    "\n",
    "    ```python\n",
    "    kr_scores = [10, 20, 30, 50]\n",
    "    math_scores = [20, 40, 50, 70]\n",
    "    en_scores = [40, 20, 30, 50]\n",
    "\n",
    "    for student_scores in zip(kr_scores, math_scores, en_scores):\n",
    "        print(student_scores)\n",
    "\n",
    "    \"\"\"\n",
    "    (10, 20, 40)\n",
    "    (20, 40, 20)\n",
    "    (30, 50, 30)\n",
    "    (50, 70, 50)\n",
    "    \"\"\"\n",
    "    ```\n",
    "- 2차원 리스트의 같은 컬럼(열) 요소를 동시에 조회할 때\n",
    "\n",
    "    ```python\n",
    "    scores = [\n",
    "        [10, 20, 30],\n",
    "        [40, 50, 39],\n",
    "        [20, 40, 50],\n",
    "    ]\n",
    "\n",
    "    for score in zip(*scores):\n",
    "        print(score)\n",
    "\n",
    "    \"\"\"\n",
    "    (10, 40, 20)\n",
    "    (20, 50, 40)\n",
    "    (30, 39, 50)\n",
    "    \"\"\"\n",
    "    ```"
   ]
  },
  {
   "cell_type": "markdown",
   "metadata": {},
   "source": [
    "## 함수와 Scope"
   ]
  },
  {
   "cell_type": "markdown",
   "metadata": {},
   "source": [
    "### Python의 범위(Scope)\n",
    "- 함수는 코드 내부에 `local scope`를 생성하며, 그 외의 공간인 `global scope`로 구분\n",
    "\n",
    "### 범위와 변수 관계\n",
    "- scope\n",
    "    - global scope : 코드 어디에서든 참조할 수 있는 공간\n",
    "    - local scope : 함수가 만든 scope (함수 내부에서만 참조 가능)\n",
    "- variable \n",
    "    - global variable : global scope에 정의된 변수\n",
    "    - local variable : local scope에 정의된 변수"
   ]
  },
  {
   "cell_type": "markdown",
   "metadata": {},
   "source": [
    "## 참고"
   ]
  },
  {
   "cell_type": "markdown",
   "metadata": {},
   "source": [
    "### 람다 표현식 (Lambda expressions)\n",
    "- 익명 함수를 만드는 데 사용되는 표현식\n",
    "- 한 줄로 간단한 함수를 정의\n",
    "\n",
    "#### lambda 함수 구조\n",
    "```python\n",
    "lambda 매개변수: 표현식\n",
    "```\n",
    "- `lambda` 키워드\n",
    "    - 람다 함수를 선언하기 위해 사용되는 키워드입니다.\n",
    "- 매개변수\n",
    "    - 함수에 전달되는 매개변수들\n",
    "    - 여러 개의 매개변수가 있을 경우 쉼표로 구분\n",
    "- 표현식\n",
    "    - 함수의 실행되는 코드 블록으로, 결과값을 반환하는 표현식으로 작성\n"
   ]
  },
  {
   "cell_type": "markdown",
   "metadata": {},
   "source": [
    "# Packing & Unpacking"
   ]
  },
  {
   "cell_type": "markdown",
   "metadata": {},
   "source": [
    "# Module"
   ]
  },
  {
   "cell_type": "markdown",
   "metadata": {},
   "source": [
    "# Control of flow"
   ]
  }
 ],
 "metadata": {
  "language_info": {
   "name": "python"
  }
 },
 "nbformat": 4,
 "nbformat_minor": 2
}

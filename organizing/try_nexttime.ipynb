{
 "cells": [
  {
   "cell_type": "markdown",
   "metadata": {},
   "source": [
    "# Fundamentals of Python"
   ]
  },
  {
   "cell_type": "markdown",
   "metadata": {},
   "source": [
    "## 목차\n"
   ]
  },
  {
   "cell_type": "markdown",
   "metadata": {},
   "source": [
    "### 파이썬 소개"
   ]
  },
  {
   "cell_type": "markdown",
   "metadata": {},
   "source": [
    "### 파이썬 실행"
   ]
  },
  {
   "cell_type": "markdown",
   "metadata": {},
   "source": [
    "### 표현식과 값"
   ]
  },
  {
   "cell_type": "markdown",
   "metadata": {},
   "source": [
    "#### 표현식(Expression)\n",
    "\n",
    "- **값으로 평가될 수 있는 코드 조각**\n",
    "\n",
    "#### 값(Value)\n",
    "\n",
    "- **표현식이 평가된 결과**"
   ]
  },
  {
   "cell_type": "markdown",
   "metadata": {},
   "source": [
    "##### 예시\n",
    "```python\n",
    "3 + 5\n",
    "```\n",
    " > 표현식 : 3 + 5\n",
    "\n",
    " > 값 : 8\n",
    "\n",
    "##### 평가(evaluate)\n",
    "- 표현식을 실행하여 값을 얻는 과정\n",
    "\n",
    "> 표현식을 순차적으로 평가하여 프로그램의 동작을 결정\n",
    "\n",
    "##### 문장(statement)\n",
    "- 실행 가능한 동작을 기술하는 코드 (조건문, 반복문, 함수 정의 등)\n",
    "\n"
   ]
  },
  {
   "cell_type": "markdown",
   "metadata": {},
   "source": [
    "##### 표현식과 문장\n",
    "> 문장은 보통 여러 개의 표현식을 포함\n",
    "\n",
    "![image](https://github.com/ragu6963/TIL/assets/32388270/39aa9d7f-aa5b-44eb-a661-dae74c4af7b2)"
   ]
  },
  {
   "cell_type": "markdown",
   "metadata": {},
   "source": [
    "### 타입"
   ]
  },
  {
   "cell_type": "markdown",
   "metadata": {},
   "source": [
    "#### 타입(Type)\n",
    "- 변수나 값이 가질 수 있는 데이터의 종류를 의미\n",
    "- 어떤 종류의 데이터인지, 어떻게 해석되고 처리되어야 하는지를 정의\n",
    "- 타입은 2가지 요소로 이루어짐 \n",
    "    - <span style='color:red'>“값”</span>과 <span style='color:red'>“값에 적용할 수 있는 연산”</span>\n",
    "\n",
    "![image](https://github.com/ragu6963/TIL/assets/32388270/8124c2d4-f2b7-4c29-b11f-b08fb478b5d8)"
   ]
  },
  {
   "cell_type": "markdown",
   "metadata": {},
   "source": [
    "#### 데이터 타입\n",
    "- Numeric Types\n",
    "    - int (정수), float (실수), complex (복소수)\n",
    "- Sequence Types\n",
    "    - list, tuple, range\n",
    "- Text Sequence Type\n",
    "    - str (문자열)\n",
    "- Non-sequence Types\n",
    "    - set, dict\n",
    "- 기타\n",
    "    - None, Boolean, Functions\n",
    "\n",
    "#### 데이터 타입의 중요성\n",
    "- 데이터 타입에 맞는 연산을 수행할 수 있기 때문"
   ]
  },
  {
   "cell_type": "markdown",
   "metadata": {},
   "source": [
    "#### 산술 연산자\n",
    "| 기호 | 연산자        |\n",
    "|:---:|:----------:|\n",
    "| -  | 음수 부호      |\n",
    "| +  | 덧셈         |\n",
    "| -  | 뺄셈         |\n",
    "| *  | 곱셈         |\n",
    "| /  | 나눗셈        |\n",
    "| // | 정수 나눗셈 (몫) |\n",
    "| %  | 나머지        |\n",
    "| ** | 지수 (거듭제곱)  |\n"
   ]
  },
  {
   "cell_type": "markdown",
   "metadata": {},
   "source": [
    "#### 연산자 우선순위\n",
    "| 우선순위 | 연산자         | 연산                   |\n",
    "|:----:|:-----------:|:--------------------:|\n",
    "| 높음   | **          | 지수                   |\n",
    "|      | -           | 음수 부호                |\n",
    "|      | *, /, //, % | 곱셈, 나눗셈, 정수 나눗셈, 나머지 |\n",
    "| 낮음   | +, -        | 덧셈, 뺄셈               |\n"
   ]
  },
  {
   "cell_type": "markdown",
   "metadata": {},
   "source": [
    "#### 연산자 우선순위 예시\n",
    "```python\n",
    "# -16\n",
    "-2 ** 4\n",
    "\n",
    "# -16\n",
    "-(2 ** 4)\n",
    "\n",
    "# 16\n",
    "(-2) ** 4\n",
    "```"
   ]
  },
  {
   "cell_type": "markdown",
   "metadata": {},
   "source": [
    "### 변수와 메모리 '값이 저장되는 법'"
   ]
  },
  {
   "cell_type": "markdown",
   "metadata": {},
   "source": [
    "#### 변수(variable)\n",
    "- 값을 저장하기 위한 이름\n",
    "\n",
    "#### 변수 할당\n",
    "- 표현식을 통해 변수에 값을 저장\n",
    "\n",
    "#### 할당문\n",
    "```python\n",
    "degrees = 36.5\n",
    "```\n",
    "- “변수 degrees에 값 36.5를 <span style='color:red'>할당</span>했다”\n",
    "\n",
    "```python\n",
    "degrees = 'abc'\n",
    "```\n",
    "\n",
    "- \"변수 degrees에 값 'abc'를 재할당했다.\""
   ]
  },
  {
   "cell_type": "markdown",
   "metadata": {},
   "source": [
    "##### 할당문\n",
    "![image](https://github.com/ragu6963/TIL/assets/32388270/21737370-e926-4b74-9055-436ed9e26270)\n",
    "1. 할당 연산자(=) 오른쪽에 있는 표현식을 평가해서 값(메모리 주소)을 생성\n",
    "2. 값의 메모리 주소를 ‘=‘ 왼쪽에 있는 변수에 저장\n",
    "- 존재하지 않는 변수라면\n",
    "    - 새 변수를 생성\n",
    "- 기존에 존재했던 변수라면\n",
    "    - 기존 변수를 재사용해서 변수에 들어 있는 메모리 주소를 변경\n",
    "\n",
    "\n"
   ]
  },
  {
   "cell_type": "markdown",
   "metadata": {},
   "source": [
    "## 참고\n",
    "\n",
    "\n"
   ]
  },
  {
   "cell_type": "markdown",
   "metadata": {},
   "source": [
    "# Data Types"
   ]
  },
  {
   "cell_type": "markdown",
   "metadata": {},
   "source": [
    "## Data Types\n",
    "### 개요\n",
    "- 값의 종류와 그 값에 적용 가능한 연산과 동작을 결정하는 속성\n",
    "\n",
    "### 데이터 타입 분류\n",
    "- Numeric Types\n",
    "    - int (정수), float (실수), complex (복소수, 이건 잘 안씀)\n",
    "- Text Sequence Type\n",
    "    - str (문자열)\n",
    "- Sequence Types\n",
    "    - list, tuple, range\n",
    "- Non-sequence Types\n",
    "    -  set, dict\n",
    "- 기타\n",
    "    - Boolean, None, Functions"
   ]
  },
  {
   "cell_type": "markdown",
   "metadata": {},
   "source": [
    "#### 데이터 타입이 필요한 이유\n",
    "- 값들을 구분하고, 어떻게 다뤄야 하는지를 알 수 있음\n",
    "- 요리 재료마다 특정한 도구가 필요하듯이 각 데이터 타입 값들도 각자에게 적합한 도구를 가짐\n",
    "- 타입을 명시적으로 지정하면 코드를 읽는 사람이 변수의 의도를 더 쉽게 이해할 수 있고, 잘못된 데이터 타입으로 인한 오류를 미리 예방"
   ]
  },
  {
   "cell_type": "markdown",
   "metadata": {},
   "source": [
    "## Numeric Types\n"
   ]
  },
  {
   "cell_type": "markdown",
   "metadata": {},
   "source": [
    "### int `정수 자료형`\n",
    "- 정수를 표현하는 자료형\n",
    "\n",
    "```python\n",
    "a = 10\n",
    "b = 0\n",
    "c = -5\n",
    "```"
   ]
  },
  {
   "cell_type": "markdown",
   "metadata": {},
   "source": [
    "### float `실수 자료형`\n",
    "- 실수를 표현하는 자료형\n",
    "```python\n",
    "d = 3.14\n",
    "e = -2.7\n",
    "```\n",
    "- 프로그래밍 언어에서 float는 실수에 대한 <span style='color:crimson;'>근삿값</span>"
   ]
  },
  {
   "cell_type": "markdown",
   "metadata": {},
   "source": [
    "#### 유한 정밀도\n",
    "- 컴퓨터 메모리 용량이 한정돼 있고 한 숫자에 대해 저장하는 용량이 제한 됨\n",
    "- 0.6666666666666666과 1.6666666666666667은 제한된 양의 메모리에 저장할 수 있는 2/3과 5/3에 가장 가까운 값\n",
    "\n",
    "```python\n",
    "# 0.6666666666666666\n",
    "print(2 / 3)\n",
    "\n",
    "# 1.6666666666666667\n",
    "print(5 / 3)\n",
    "```"
   ]
  },
  {
   "cell_type": "markdown",
   "metadata": {},
   "source": [
    "#### 실수 연산 시 주의사항\n",
    "- 컴퓨터는 2진수를 사용, 사람은 10진법을 사용\n",
    "- 이때 10진수 0.1은 2진수로 표현하면 0.0001100110011001100110... - 같이 무한대로 반복\n",
    "- 무한대 숫자를 그대로 저장할 수 없어서 사람이 사용하는 10진법의 근사값만 표시\n",
    "- 0.1의 경우 3602879701896397 / 2 ** 55 이며 0.1에 가깝지만 정확히 동일하지는 않음\n",
    "- 이런 과정에서 예상치 못한 결과가 나타남\n",
    "- 이런 증상을 <span style='color:crimson;'>Floating point rounding error 부동소수점 에러</span>라고 함\n",
    "\n",
    "##### 부동소수점 에러\n",
    "- 컴퓨터가 실수를 표현하는 방식으로 인해 발생하는 작은 오차\n",
    "- 원인\n",
    "  - 실수를 2진수로 변환하는 과정에서 발생하는 근사치 표현"
   ]
  },
  {
   "cell_type": "markdown",
   "metadata": {},
   "source": [
    "##### 부동소수점 에러 해결책\n",
    "- 대표적으로 `decimal` 모듈을 사용해 부동소수점 연산의 정확성을 보장하는 방법\n",
    "- 이외에도 다양한 해결 방법이 존재\n",
    "\n",
    "\n",
    "```python\n",
    "# 해결 전\n",
    "a = 3.2 - 3.1\n",
    "b = 1.2 - 1.1\n",
    "print(a)  # 0.10000000000000009\n",
    "print(b)  # 0.09999999999999987\n",
    "print(a == b)  # False\n",
    "\n",
    "# 해결 후\n",
    "from decimal import Decimal\n",
    "\n",
    "a = Decimal('3.2') - Decimal('3.1')\n",
    "b = Decimal('1.2') - Decimal('1.1')\n",
    "\n",
    "print(a)  # 0.1\n",
    "print(b)  # 0.1\n",
    "print(a == b)  # True\n",
    "```"
   ]
  },
  {
   "cell_type": "markdown",
   "metadata": {},
   "source": [
    "#### 진수 표현 방식\n",
    "- 2진수(binary) : `0b`\n",
    "- 8진수(octal) : `0o`\n",
    "- 16진수(hexadecimal) : `0x`"
   ]
  },
  {
   "cell_type": "markdown",
   "metadata": {},
   "source": [
    "#### 지수 표현 방식\n",
    "- `e` 또는 `E`를 사용한 지수 표현\n",
    "\n",
    "```python \n",
    "# 314 ∗ 0.01\n",
    "number = 314e-2\n",
    "\n",
    "# 3.14\n",
    "print(number)\n",
    "```"
   ]
  },
  {
   "cell_type": "markdown",
   "metadata": {},
   "source": [
    "## Sequence Types"
   ]
  },
  {
   "cell_type": "markdown",
   "metadata": {},
   "source": [
    "### Sequence Types\n",
    "- 여러 개의 값들을 <span style='color:crimson;'>순서대로 나열</span>하여 저장하는 자료형\n",
    "(str, list, tuple, range)\n",
    "\n"
   ]
  },
  {
   "cell_type": "markdown",
   "metadata": {},
   "source": [
    "#### Sequence Type 특징\n",
    "1. 순서(Sequence)\n",
    "    - 값들이 순서대로 저장 (정렬 X)\n",
    "2. 인덱싱(Indexing)\n",
    "    - 각 값에 고유한 인덱스(번호)를 가지고 있으며, 인덱스를 사용하여 특정 위치의 값을 선택하거나 수정할 수 있음\n",
    "3. 슬라이싱(Slicing)\n",
    "    - 인덱스 범위를 조절해 부분적인 값을 추출할 수 있음\n",
    "4. 길이(Length)\n",
    "    - len() 함수를 사용하여 저장된 값의 개수(길이)를 구할 수 있음\n",
    "5. 반복(Iteration)\n",
    "    - 반목문을 사용하여 저장된 값들을 반복적으로 처리할 수 있음"
   ]
  },
  {
   "cell_type": "markdown",
   "metadata": {},
   "source": [
    "##### 인덱스 `index`\n",
    "- 시퀀스 내의 값들에 대한 고유한 번호로, 각 값의 위치를 식별하는 데 사용되는 숫자\n",
    "\n",
    "##### index 예시\n",
    "|         \"    \t|      h    \t|      e    \t|      l    \t|      l    \t|      o    \t|     \"    \t|\n",
    "|-------------:\t|:---------:\t|:---------:\t|:---------:\t|:---------:\t|:---------:\t|----------\t|\n",
    "|     index    \t|      0    \t|      1    \t|      2    \t|      3    \t|      4    \t|          \t|\n",
    "|     index    \t|     -5    \t|     -4    \t|     -3    \t|     -2    \t|     -1    \t|          \t|\n"
   ]
  },
  {
   "cell_type": "markdown",
   "metadata": {},
   "source": [
    "\n",
    "##### 슬라이싱 `slicing`\n",
    "시퀀스의 일부분을 선택하여 추출하는 작업\n",
    "\n",
    "-> 시작 인덱스와 끝 인덱스를 지정하여 해당 범위의 값을 포함하는 새로운 시퀀스를 생성\n",
    "\n",
    "##### slicing 예시\n",
    "```python\n",
    "my_str = 'hello'\n",
    "my_str[2:4]\n",
    "```\n",
    "|         \"    \t|      h    \t|      e    \t|      <span style='color:red;'>l</span>    \t|      <span style='color:red;'>l</span>    \t|      o    \t|     \"    \t|\n",
    "|-------------:\t|:---------:\t|:---------:\t|:---------:\t|:---------:\t|:---------:\t|----------\t|\n",
    "|     index    \t|      0    \t|      1    \t|      <span style='color:yellow;'>2</span>    \t|      <span style='color:yellow;'>3</span>    \t|      4    \t|          \t|\n",
    "|     index    \t|     -5    \t|     -4    \t|     -3    \t|     -2    \t|     -1    \t|          \t|\n",
    "\n",
    "\n",
    "```python\n",
    "my_str = 'hello'\n",
    "my_str[:3]\n",
    "```\n",
    "|         \"    \t|      <span style='color:red;'>h</span>    \t|      <span style='color:red;'>e</span>    \t|      <span style='color:red;'>l</span>    \t|      l    \t|      o    \t|     \"    \t|\n",
    "|-------------:\t|:---------:\t|:---------:\t|:---------:\t|:---------:\t|:---------:\t|----------\t|\n",
    "|     index    \t|      <span style='color:yellow;'>0</span>    \t|      <span style='color:yellow;'>1</span>    \t|      <span style='color:yellow;'>2</span>    \t|      3    \t|      4    \t|          \t|\n",
    "|     index    \t|     -5    \t|     -4    \t|     -3    \t|     -2    \t|     -1    \t|          \t|\n",
    "\n",
    "```python\n",
    "my_str = 'hello'\n",
    "my_str[3:]\n",
    "```\n",
    "|         \"    \t|      h    \t|      e    \t|      l    \t|      <span style='color:red;'>l</span>    \t|      <span style='color:red;'>o</span>    \t|     \"    \t|\n",
    "|-------------:\t|:---------:\t|:---------:\t|:---------:\t|:---------:\t|:---------:\t|----------\t|\n",
    "|     index    \t|      0    \t|      1    \t|      2    \t|      <span style='color:yellow;'>3</span>    \t|      <span style='color:yellow;'>4</span>    \t|          \t|\n",
    "|     index    \t|     -5    \t|     -4    \t|     -3    \t|     -2    \t|     -1    \t|          \t|\n",
    "\n",
    "- step을 지정하여 추출\n",
    "```python\n",
    "my_str = 'hello'\n",
    "my_str[0:5:2]\n",
    "```\n",
    "|         \"    \t|      <span style='color:red;'>h</span>    \t|      e    \t|      <span style='color:red;'>l</span>    \t|      l    \t|      <span style='color:red;'>o</span>    \t|     \"    \t|\n",
    "|-------------:\t|:---------:\t|:---------:\t|:---------:\t|:---------:\t|:---------:\t|----------\t|\n",
    "|     index    \t|      <span style='color:yellow;'>0</span>    \t|      1    \t|      <span style='color:yellow;'>2</span>    \t|      3    \t|      <span style='color:yellow;'>4</span>    \t|          \t|\n",
    "|     index    \t|     -5    \t|     -4    \t|     -3    \t|     -2    \t|     -1    \t|          \t|\n",
    "\n",
    "- step이 음수일 경우\n",
    "```python\n",
    "my_str = 'hello'\n",
    "my_str[::-1]\n",
    "```\n",
    "\n",
    "|         \"    \t|      <span style='color:red;'>h</span>    \t|      <span style='color:red;'>e</span>    \t|      <span style='color:red;'>l</span>    \t|      <span style='color:red;'>l</span>    \t|      <span style='color:red;'>o</span>    \t|     \"    \t|\n",
    "|-------------:\t|:---------:\t|:---------:\t|:---------:\t|:---------:\t|:---------:\t|----------\t|\n",
    "|     index    \t|      0    \t|      1    \t|      2    \t|      3    \t|      4    \t|          \t|\n",
    "|     index    \t|     <span style='color:yellow;'>-5</span>    \t|     <span style='color:yellow;'>-4</span>    \t|     <span style='color:yellow;'>-3</span>    \t|     <span style='color:yellow;'>-2</span>    \t|     <span style='color:yellow;'>-1</span>    \t|          \t|"
   ]
  },
  {
   "cell_type": "markdown",
   "metadata": {},
   "source": [
    "### str `문자열` \n",
    "- 문자들의 순서가 있는 변경 불가능한 시퀀스 자료형\n"
   ]
  },
  {
   "cell_type": "markdown",
   "metadata": {},
   "source": [
    "#### 문자열 표현\n",
    "- 문자열은 단일 문자나 여러 문자의 조합으로 이루어짐 \n",
    "- 작은따옴표(`'`) 또는 큰따옴표(`\"`) 감싸서 표현\n",
    "\n",
    "```python\n",
    "# Hello, World!\n",
    "print('Hello, World!') \n",
    "\n",
    "# str\n",
    "print(type('Hello, World!')) \n",
    "```"
   ]
  },
  {
   "cell_type": "markdown",
   "metadata": {},
   "source": [
    "#### Escape sequence\n",
    "- 역슬래시(backslash, `/`)뒤에 특정 문자가 와서 특수한 기능을 하는 문자 조합\n",
    "- 파이썬의 일반적인 문법 규칙을 잠시 탈출한다는 의미\n",
    "\n",
    "|     예약   문자    \t|      내용(의미)    \t|\n",
    "|:------------------:\t|:------------------:\t|\n",
    "|          `\\n`        \t|      줄   바꿈     \t|\n",
    "|          `\\t`        \t|          탭        \t|\n",
    "|          `\\\\`        \t|       백슬래시     \t|\n",
    "|          `\\’`        \t|     작은 따옴표    \t|\n",
    "|          `\\\"`        \t|     큰   따옴표    \t|"
   ]
  },
  {
   "cell_type": "markdown",
   "metadata": {},
   "source": [
    "#### String Interpolation\n",
    "- 문자열 내에 변수나 표현식을 삽입하는 방법\n",
    "\n",
    "##### f-string\n",
    "- 문자열에 `f` 또는 `F` 접두어를 붙이고 표현식을 `{expression}`로 작성하는 문법\n",
    "- 문자열에 파이썬 표현식의 값을 삽입할 수 있음\n",
    "\n",
    "```python \n",
    "bugs = 'roaches'\n",
    "counts = 13\n",
    "area = 'living room'\n",
    "\n",
    "# Debugging roaches 13 living room\n",
    "print(f'Debugging {bugs} {counts} {area}')\n",
    "```"
   ]
  },
  {
   "cell_type": "markdown",
   "metadata": {},
   "source": [
    "\n",
    "### list `리스트`\n",
    "- 여러 개의 값을 순서대로 저장하는 변경 가능한 시퀀스 자료형\n",
    "\n"
   ]
  },
  {
   "cell_type": "markdown",
   "metadata": {},
   "source": [
    "#### 리스트 표현\n",
    "- 0개 이상의 객체를 포함하며 데이터 목록을 저장\n",
    "- 대괄호(`[]`)로 표기\n",
    "- 데이터는 어떤 자료형도 저장할 수 있음\n",
    "```python\n",
    "my_list_1 = []\n",
    "\n",
    "my_list_2 = [1, 'a', 3, 'b', 5]\n",
    "\n",
    "my_list_3 = [1, 2, 3, 'Python', ['hello', 'world', '!!!']]\n",
    "```\n"
   ]
  },
  {
   "cell_type": "markdown",
   "metadata": {},
   "source": [
    "#### 리스트의 시퀀스 특징\n",
    "```python\n",
    "my_list = [1, 'a', 3, 'b', 5]\n",
    "\n",
    "# 인덱싱\n",
    "print(my_list[1])  # a\n",
    "\n",
    "# 슬라이싱\n",
    "print(my_list[2:4])  # [3, 'b']\n",
    "print(my_list[:3])  # [1, 'a', 3]\n",
    "print(my_list[3:])  # ['b', 5]\n",
    "print(my_list[0:5:2])  # [1, 3, 5]\n",
    "print(my_list[::-1])  # [5, 'b', 3, 'a', 1]\n",
    "\n",
    "# 길이\n",
    "print(len(my_list))  # 5\n",
    "```\n",
    "\n",
    "#### 중첩된 리스트 접근\n",
    "출력 값 예상해보기\n",
    "\n",
    "```python\n",
    "my_list = [1, 2, 3, 'Python', ['hello', 'world', '!!!']]\n",
    "print(len(my_list))  # 5\n",
    "print(my_list[4][-1])  # !!!\n",
    "print(my_list[-1][1][0])  # w\n",
    "```\n",
    "\n",
    "#### 리스트는 가변 (변경 가능)\n",
    "```python\n",
    "my_list = [1, 2, 3]\n",
    "my_list[0] = 100\n",
    "\n",
    "print(my_list)  # [100, 2, 3]\n",
    "```"
   ]
  },
  {
   "cell_type": "markdown",
   "metadata": {},
   "source": [
    "### tuple `튜플`\n",
    "- 여러 개의 값을 순서대로 저장하는 변경 불가능한 시퀀스 자료형\n"
   ]
  },
  {
   "cell_type": "markdown",
   "metadata": {},
   "source": [
    "#### 튜플 표현\n",
    "- 0개 이상의 객체를 포함하며 데이터 목록을 저장\n",
    "- 소괄호(`()`)로 표기\n",
    "- 데이터는 어떤 자료형도 저장할 수 있음\n",
    "\n",
    "    ```python\n",
    "    my_tuple_1 = ()\n",
    "\n",
    "    my_tuple_2 = (1,)\n",
    "\n",
    "    my_tuple_3 = (1, 'a', 3, 'b', 5)\n",
    "    ```\n"
   ]
  },
  {
   "cell_type": "markdown",
   "metadata": {},
   "source": [
    "\n",
    "#### 튜플의 시퀀스 특징\n",
    "```python\n",
    "my_tuple = (1, 'a', 3, 'b', 5)\n",
    "\n",
    "# 인덱싱\n",
    "print(my_tuple[1])  # a\n",
    "\n",
    "# 슬라이싱\n",
    "print(my_tuple[2:4])  # (3, 'b')\n",
    "print(my_tuple[:3])  # (1, 'a', 3)\n",
    "print(my_tuple[3:])  # ('b', 5)\n",
    "print(my_tuple[0:5:2])  # (1, 3, 5)\n",
    "print(my_tuple[::-1])  # (5, 'b', 3, 'a', 1)\n",
    "\n",
    "# 길이\n",
    "print(len(my_tuple))  # 5\n",
    "```\n",
    "\n",
    "#### 튜플은 불변(변경 불가)\n",
    "```python\n",
    "my_tuple = (1, 'a', 3, 'b', 5)\n",
    "\n",
    "# TypeError: 'tuple' object does not support item assignment\n",
    "my_tuple[1] = 'z'\n",
    "```\n",
    "\n",
    "#### 튜플은 어디에 쓰일까?\n",
    "- 튜플의 불변 특성을 사용한 안전하게 여러 개의 값을 전달, 그룹화, 다중 할당 등\n",
    "- 개발자가 직접 사용하기 보다 ‘파이썬 내부 동작’에서 주로 사용됨\n",
    "\n",
    "```python\n",
    "x, y = (10, 20)\n",
    "\n",
    "print(x)  # 10\n",
    "print(y)  # 20\n",
    "\n",
    "# 파이썬은 쉼표를 튜플 생성자로 사용하니 괄호는 생략 가능\n",
    "x, y = 10, 20\n",
    "```"
   ]
  },
  {
   "cell_type": "markdown",
   "metadata": {},
   "source": [
    "### range `레인지`\n",
    " - 연속된 정수 시퀀스를 생성하는 변경 불가능한 자료형"
   ]
  },
  {
   "cell_type": "markdown",
   "metadata": {},
   "source": [
    "#### range 표현\n",
    "- `range(시작 값, 끝 값, 증가 값)`\n",
    "- `range(n)`\n",
    "    - 0부터 n-1까지의 숫자의 시퀀스\n",
    "- `range(n, m) `\n",
    "    - n부터 m-1까지의 숫자 시퀀스\n",
    "\n",
    "    ```python\n",
    "    my_range_1 = range(5)\n",
    "    my_range_2 = range(1, 10)\n",
    "\n",
    "    print(my_range_1)  # range(0, 5)\n",
    "    print(my_range_2)  # range(1, 10)\n",
    "    ```\n",
    "\n"
   ]
  },
  {
   "cell_type": "markdown",
   "metadata": {},
   "source": [
    "#####\n",
    "- 주료 반복문과 함께 사용 예정\n",
    "\n",
    "```python\n",
    "# 리스트로 형 변환 시 데이터 확인 가능\n",
    "print(list(range(5)))   # [0, 1, 2, 3, 4]\n",
    "print(list(range(1, 10)))  # [1, 2, 3, 4, 5, 6, 7, 8, 9]\n",
    "\n",
    "# 반복문과 함께 활용\n",
    "for i in range(1, 10):\n",
    "    print(i)  # 1 2 3 4 5 6 7 8 9\n",
    "for i in range(1, 10, 2):\n",
    "    print(i)  # 1 3 5 7 9\n",
    "```"
   ]
  },
  {
   "cell_type": "markdown",
   "metadata": {},
   "source": [
    "#### range 특징\n",
    "- 증가 값이 없으면 1씩 증가\n",
    "- 증가 값이 음수이면 감소 / 증가 값이 양수이면 증가\n",
    "- 증가 값이 0이면 에러\n",
    "- 증가 값이 음수이면 시작 값이 끝 값보다 커야 함\n",
    "- 증가 값이 양수이면 시작 값이 끝 값보다 작아야 함"
   ]
  }
 ],
 "metadata": {
  "language_info": {
   "name": "python"
  }
 },
 "nbformat": 4,
 "nbformat_minor": 2
}

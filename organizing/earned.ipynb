{
 "cells": [
  {
   "cell_type": "markdown",
   "metadata": {},
   "source": [
    "# 1. 표현식, 값, 평가, 문장, 변수, 할당\n",
    "\n"
   ]
  },
  {
   "cell_type": "markdown",
   "metadata": {},
   "source": [
    "#### 표현식(Expression)\n",
    "- 값으로 평가될 수 있는 코드 조각\n",
    "\n",
    "#### 값(Value)\n",
    "- 표현식이 평가된 결과\n",
    "\n",
    "> 표현식 : 3 + 5\n",
    "\n",
    "> 값 : 8\n",
    "\n",
    "#### 평가(evaluate)\n",
    "- 표현식(Expression)을 실행하여 값(Value)을 얻는 과정\n",
    "> 표현식(Expression)을 순차적으로 평가하여 프로그램의 동작을 결정\n",
    "\n",
    "#### 문장(statement)\n",
    "- 실행 가능한 동작을 기술하는 코드(ex. 조건문, 반복문, 함수 정의 ...)\n",
    "- 문장은 1개 이상의 표현식을 포함\n",
    "\n",
    "![image](https://github.com/ragu6963/TIL/assets/32388270/39aa9d7f-aa5b-44eb-a661-dae74c4af7b2)"
   ]
  },
  {
   "cell_type": "markdown",
   "metadata": {},
   "source": [
    "#### 변수(variable)\n",
    "- 값을 저장하기 위한 이름\n",
    "\n",
    "#### 변수 할당\n",
    "- 표현식을 통해 변수에 값을 저장"
   ]
  },
  {
   "cell_type": "markdown",
   "metadata": {},
   "source": [
    "# 2. 타입\n"
   ]
  },
  {
   "cell_type": "markdown",
   "metadata": {},
   "source": [
    "타입(Type)\n",
    "- 변수, 값이 가질 수 있는 데이터의 종류\n",
    "- 어떤 종류의 데이터인가, 어떻게 해석되고 처리되어야 하는가 를 정의\n",
    "- 타입은 두가지 요소.\n",
    "    - 피연산자 : 값\n",
    "    - 연산자 : 값에 적용할 수 있는 연산\n",
    "\n",
    "![image](https://github.com/ragu6963/TIL/assets/32388270/8124c2d4-f2b7-4c29-b11f-b08fb478b5d8)"
   ]
  },
  {
   "cell_type": "markdown",
   "metadata": {},
   "source": [
    "## 데이터 타입\n",
    "- 값의 종류, 값에 적용 가능한 연산과 동작을 결정하는 속성\n",
    "\n",
    "- Numeric Types\n",
    "    - int(정수), float(실수), complex(복소수)\n",
    "- Text Sequence Type\n",
    "    - `str(문자열)`\n",
    "- Sequence Types\n",
    "    - `list`, tuple, range\n",
    "- Non-Sequence Types\n",
    "    - set, `dict`\n",
    "- etc\n",
    "    - None, Boolean, Functions\n",
    "\n",
    "- 데이터 타입에 맞게 연산을 수행해야 해서 중요."
   ]
  },
  {
   "cell_type": "markdown",
   "metadata": {},
   "source": [
    "### Numeric Types"
   ]
  },
  {
   "cell_type": "markdown",
   "metadata": {},
   "source": [
    "- int : 정수 표현 자료형.\n",
    "    - ++ 진수 표현 방식\n",
    "\n",
    "- float : 실수 표현 자료형\n",
    "    - ++ 지수 표현 방식\n",
    "    - ++ float은 실수에 대한 `근삿값`\n",
    "    - -> 유한 정밀도 -> 부동소수점 에러 -> 해결책"
   ]
  },
  {
   "cell_type": "markdown",
   "metadata": {},
   "source": [
    "### Sequence Types\n",
    "- 여러 개의 값(`0개도 가능`), `순서대로 나열`, `저장`하는 자료형\n",
    "\n",
    "- 특징\n",
    "    1. 순서(Sequence)\n",
    "\n",
    "    2. 인덱싱(Indexing)\n",
    "        - 인덱스(Index) : 시퀀스 내 값들의 고유번호. 각 값의 위치 식별에 사용\n",
    "        - [이상:미만:증가값]\n",
    "\n",
    "    3. 슬라이싱(Slicing)\n",
    "        - 시퀀스의 일부분 선택, 추출\n",
    "\n",
    "    4. 길이(Length)\n",
    "\n",
    "    5. 반복(Iteration)"
   ]
  },
  {
   "cell_type": "markdown",
   "metadata": {},
   "source": [
    "- str(문자열) : 문자들, 순서o, 변경 불가능 자료형\n",
    "    - ++ 문자열 표현 방식\n",
    "    - ++ 중첩 따옴표\n",
    "    - ++ Escape sequence\n",
    "    - ++ String Interpolation : 문자열 내에 변수나 표현식 삽입하는 방법\n",
    "    - -> f-string : f'~, {expression} ~~'\n",
    "    - 인덱싱, 슬라이싱, 길이"
   ]
  },
  {
   "cell_type": "markdown",
   "metadata": {},
   "source": [
    "- list : 여러 개, 순서o, 변경 가능 자료형\n",
    "    - 0개 이상의 객체(Object) 포함, 데이터 목록 저장\n",
    "    - [] 대괄호 표기\n",
    "    - 모든 자료형 저장 가능. -> 중첩 리스트\n",
    "    - 인덱싱, 슬라이싱, 길이"
   ]
  },
  {
   "cell_type": "markdown",
   "metadata": {},
   "source": [
    "- tuple\n",
    "- range"
   ]
  },
  {
   "cell_type": "markdown",
   "metadata": {},
   "source": [
    "### Non-Sequence Types"
   ]
  },
  {
   "cell_type": "markdown",
   "metadata": {},
   "source": [
    "- dict : key: value 쌍로 이루어진, 순서x, 중복x 변경 가능 자료형\n",
    "    - key : 변경 불가능 자료형만 사용\n",
    "    - value : 모든 자료형 사용\n",
    "    - {} 중괄호"
   ]
  },
  {
   "cell_type": "markdown",
   "metadata": {},
   "source": [
    "- set"
   ]
  },
  {
   "cell_type": "markdown",
   "metadata": {},
   "source": [
    "### Other Types"
   ]
  },
  {
   "cell_type": "markdown",
   "metadata": {},
   "source": [
    "- None\n",
    "- Boolean\n",
    "- Collection"
   ]
  },
  {
   "cell_type": "markdown",
   "metadata": {},
   "source": [
    "## 형변환\n"
   ]
  },
  {
   "cell_type": "markdown",
   "metadata": {},
   "source": [
    "형변환(Type Conversion)\n",
    "- 데이터 타입 변환 : 암시적 / 명시적\n",
    "- 암시적 형변환(Implicit Type conversion)\n",
    "    - 파이썬이 자동으로 수행\n",
    "    - 정수 + 실수 = 실수\n",
    "    - Boolean, Numeric Type만 수행\n",
    "        - True == 1, Falue == 0\n",
    "- 명시적 형변환(Explicit Type conversion)\n",
    "    - 프로그래머가 직접 지정\n",
    "    - 예시\n",
    "        - string -> integer : 형식에 맞을 경우만 가능\n",
    "            - -> 안맞을 경우 : ValueError\n",
    "        - integer -> string : 모두 가능"
   ]
  },
  {
   "cell_type": "markdown",
   "metadata": {},
   "source": [
    "## 연산자 **\n",
    "\n",
    "연산자(Operator)\n",
    "\n",
    "- 산술 연산자, +우선순위\n",
    "- 복합 연산자\n",
    "- 비교 연산자\n",
    "- is 비교 연산자\n",
    "- 논리 연산자\n",
    "    - ++ 단축평가\n",
    "- 멤버십 연산자\n",
    "- 시퀀스형 연산자\n",
    "- 연산자 우선순위"
   ]
  },
  {
   "cell_type": "markdown",
   "metadata": {},
   "source": [
    "## 함수"
   ]
  },
  {
   "cell_type": "markdown",
   "metadata": {},
   "source": [
    "함수(Function)\n",
    "\n",
    "- 특정 작업을 수행하기 위한 재사용 가능한 코드 묶음\n",
    "- 사용하는 이유\n",
    "    - 코드의 중복 방지, 재사용성 증가, 가독성 & 유지보수상 향상"
   ]
  },
  {
   "cell_type": "markdown",
   "metadata": {},
   "source": [
    "### 함수 구조\n",
    "\n",
    "![image](https://github.com/ragu6963/TIL/assets/32388270/fe4bb4a9-f88d-43f8-9e6e-915e3c790b48)\n",
    "\n",
    "```py\n",
    "def `함수이름` ( `parameter` ) : # 함수 정의\n",
    "    Docstring\n",
    "    function body\n",
    "    return `return_value`\n",
    "```\n",
    "\n",
    "- 함수 정의\n",
    "    - `def` 키워드로 시작\n",
    "    - 함수 이름 작성\n",
    "    - 괄호 안에 `parameter` 정의(안해도 됨)\n",
    "\n",
    "- Docstring\n",
    "    - 함수에 대한 설명서 (선택사항)\n",
    "\n",
    "- 함수 바디\n",
    "    - 콜론(:) 다음 들여쓰기 된 코드 블록\n",
    "    - 실행 시에 수행되는 코드 정의\n",
    "\n",
    "- 함수 반환 값\n",
    "    - 필요시 결과를 반환할 수 있음\n",
    "    - `return` 이후 `return_value` 명시\n",
    "\n",
    "\n"
   ]
  },
  {
   "cell_type": "markdown",
   "metadata": {},
   "source": [
    "### 매개변수 & 인자\n",
    "\n",
    "- 매개변수(parameter) : 함수를 정의할 때 함수가 받을 값을 나타내는 변수\n",
    "\n",
    "- 인자(argument) : 함수를 호출할 때 실제로 전달되는 값\n"
   ]
  },
  {
   "cell_type": "markdown",
   "metadata": {},
   "source": [
    "#### 인자 종류\n",
    "\n",
    "1. 위치 인자(Positional Argument)\n",
    "    - 함수 호출 시 인자의 위치에 따라 전달되는 인자\n",
    "    - `함수 호출 시 반드시 값을 전달해야 함`\n",
    "\n",
    "    ```python\n",
    "    def greet(name, age):\n",
    "        print(f'안녕하세요, {name}님! {age}살이시군요.')\n",
    "\n",
    "\n",
    "    greet('Alice', 25) # 안녕하세요, Alice님! 25살이시군요\n",
    "    ```\n",
    "\n",
    "2. 기본 인자 값(Default Argument Values)\n",
    "    - 함수 정의에서 매개변수에 기본 값을 할당\n",
    "    - 인자를 전달하지 않으면 기본값이 매개변수에 할당됨\n",
    "\n",
    "    ```python\n",
    "    def greet(name, age=30):\n",
    "        print(f'안녕하세요, {name}님! {age}살이시군요.')\n",
    "\n",
    "\n",
    "    greet('Bob') # 안녕하세요, Bob님! 30살이시군요.\n",
    "    greet('Charlie', 40) # 안녕하세요, Charlie님! 40살이시군요.\n",
    "    ```\n",
    "\n",
    "3. 키워드 인자(Keyword Argument)\n",
    "    - 함수 호출 시 인자의 이름과 함께 값을 전달하는 인자\n",
    "    - 매개 변수와 인자를 일치시키지 않고 특정 매개변수에 값을 할당할 수 있음\n",
    "    - 인자의 순서는 중요하지 않고, `인자의 이름을 명시`하여 전달\n",
    "    - <span style='color:crimson;'>단, 호출 시 키워드 인자는 위치 인자 뒤에 위치해야 함</span>\n",
    "    - -> 제대로 안쓰면 SyntaxError\n",
    "\n",
    "    ```python\n",
    "    def greet(name, age):\n",
    "        print(f'안녕하세요, {name}님! {age}살이시군요.')\n",
    "\n",
    "\n",
    "    greet(name='Dave', age=35)  # 안녕하세요, Dave님! 35살이시군요.\n",
    "    greet(age=35, 'Dave')  #  positional argument follows keyword argument\n",
    "    ```\n",
    "\n",
    "4. 임의의 인자 목록(Arbitary Argument Lists)\n",
    "    - 임의의 갯수의 인자를 처리하는 인자\n",
    "    - 함수 정의 시 매개변수 앞에 `'*'`를 붙여 사용, 여러 인자를 튜플로 처리\n",
    "\n",
    "    ```python\n",
    "    def calculate_sum(*args):\n",
    "        print(args)\n",
    "        total = sum(args)\n",
    "        print(f'합계: {total}')\n",
    "\n",
    "\n",
    "    \"\"\"\n",
    "    (1, 2, 3)\n",
    "    합계: 6\n",
    "    \"\"\"\n",
    "    calculate_sum(1, 2, 3)\n",
    "    ```\n",
    "\n",
    "5. 임의의 키워드 인자 목록(Arbitary Keyword Argument Lists)\n",
    "    - 임의의 갯수의 키워드 인자를 처리하는 인자\n",
    "    - 함수정의시 매개변수 앞에 `'**'`를 붙여 사용, 여러 인자를 딕셔너리로 묶어 처리\n",
    "\n",
    "    ```python\n",
    "    def print_info(**kwargs):\n",
    "        print(kwargs)\n",
    "\n",
    "\n",
    "    print_info(name='Eve', age=30) # {'name': 'Eve', 'age': 30}\n",
    "    ```\n",
    "\n",
    "- 함수 인자 권장 작성 순서\n",
    "    - 위치 -> 기본 -> 가변 -> 가변 키워드\n",
    "    - <span style='color:crimson;'>단, 모든 상황에 적용되는 절대적인 규칙은 아니며, 상황에 따라 유연하게 조정될 수 있음</span>"
   ]
  },
  {
   "cell_type": "markdown",
   "metadata": {},
   "source": [
    "### 재귀 함수\n",
    "- 함수 내부에서 자기 자신을 호출하는 함수\n",
    "- 특정 알고리즘 식을 표현할 때 변수의 사용이 줄어듦, 가독성 증가\n",
    "- 1개 이상의 base case(종료 상황), 수렴하도록 작성"
   ]
  },
  {
   "cell_type": "markdown",
   "metadata": {},
   "source": [
    "#### 예시\n",
    "팩토리얼\n",
    "```python\n",
    "def factorial(n):\n",
    "    # 종료 조건: n이 0이면 1을 반환\n",
    "    if n == 0:\n",
    "        return 1\n",
    "    else:\n",
    "        # 재귀 호출: n과 n-1의 팩토리얼을 곱한 결과를 반환\n",
    "        return n * factorial(n - 1)\n",
    "# 팩토리얼 계산 예시\n",
    "print(factorial(5))  # 120\n",
    "```"
   ]
  },
  {
   "cell_type": "markdown",
   "metadata": {},
   "source": [
    "### 내장 함수\n",
    "- 파이썬에서 기본적으로 제공하는 함수 (별도의 import 필요 x)\n",
    "\n",
    "```python\n",
    "numbers = [1, 2, 3, 4, 5]\n",
    "print(sorted(numbers, reverse=True))  # [5, 4, 3, 2, 1]\n",
    "```"
   ]
  },
  {
   "cell_type": "markdown",
   "metadata": {},
   "source": [
    "#### `map(function, iterable)`\n",
    "- 순회 가능 데이터 타입의 모든 요소에 함수 적용, `map object`로 반환\n",
    "\n",
    "\n"
   ]
  },
  {
   "cell_type": "markdown",
   "metadata": {},
   "source": [
    "```python\n",
    "numbers = [1, 2, 3]\n",
    "result = map(str, numbers)\n",
    "\n",
    "print(result)  # <map object at 0x00000239C915D760>\n",
    "print(list(result))  # ['1', '2', '3']\n",
    "```\n",
    "`map()` 활용\n",
    "- SWEA 문제의 input 처럼 문자열 `'1 2 3'`이 입력 되었을 때 활용 예시\n",
    "\n",
    "```python\n",
    "numbers1 = input().split()\n",
    "print(numbers1)  # ['1,', '2,', '3']\n",
    "\n",
    "numbers2 = list(map(int, input().split()))\n",
    "print(numbers2)  # [1, 2, 3]"
   ]
  },
  {
   "cell_type": "markdown",
   "metadata": {},
   "source": [
    "#### `zip(*iterable)`\n",
    "- 임의의 iterable을 모아 튜플을 원소로 하는 zip object를 반환\n",
    "\n"
   ]
  },
  {
   "cell_type": "markdown",
   "metadata": {},
   "source": [
    "```python\n",
    "girls = ['jane', 'ashley']\n",
    "boys = ['peter', 'jay']\n",
    "pair = zip(girls, boys)\n",
    "\n",
    "print(pair)  # <zip object at 0x000001C76DE58700>\n",
    "print(list(pair))  # [('jane', 'peter'), ('ashley', 'jay')]\n",
    "```\n",
    "\n",
    "`zip()` 활용\n",
    "- 여러 개의 리스트를 동시에 조회할 때\n",
    "\n",
    "    ```python\n",
    "    kr_scores = [10, 20, 30, 50]\n",
    "    math_scores = [20, 40, 50, 70]\n",
    "    en_scores = [40, 20, 30, 50]\n",
    "\n",
    "    for student_scores in zip(kr_scores, math_scores, en_scores):\n",
    "        print(student_scores)\n",
    "\n",
    "    \"\"\"\n",
    "    (10, 20, 40)\n",
    "    (20, 40, 20)\n",
    "    (30, 50, 30)\n",
    "    (50, 70, 50)\n",
    "    \"\"\"\n",
    "    ```\n",
    "- 2차원 리스트의 같은 컬럼(열) 요소를 동시에 조회할 때\n",
    "\n",
    "    ```python\n",
    "    scores = [\n",
    "        [10, 20, 30],\n",
    "        [40, 50, 39],\n",
    "        [20, 40, 50],\n",
    "    ]\n",
    "\n",
    "    for score in zip(*scores):\n",
    "        print(score)\n",
    "\n",
    "    \"\"\"\n",
    "    (10, 40, 20)\n",
    "    (20, 50, 40)\n",
    "    (30, 39, 50)\n",
    "    \"\"\"\n",
    "    ```"
   ]
  },
  {
   "cell_type": "markdown",
   "metadata": {},
   "source": [
    "#### `enumerate(iterable, start=0) `\n",
    "- iterable 객체의 각 요소에 대해 인덱스와 함께 반환하는 내장함수\n",
    "\n",
    "#### enumerate 예시\n",
    "\n",
    "```python\n",
    "fruits = ['apple', 'banana', 'cherry']\n",
    "\n",
    "for index, fruit in enumerate(fruits):\n",
    "print(f'인덱스 {index}: {fruit}')\n",
    "\n",
    "\"\"\"\n",
    "인덱스 0: apple\n",
    "인덱스 1: banana\n",
    "인덱스 2: cherry\n",
    "\"\"\"\n",
    "```\n"
   ]
  },
  {
   "cell_type": "markdown",
   "metadata": {},
   "source": [
    "### 람다 표현식 (Lambda expressions)\n",
    "- 익명 함수를 만드는 데 사용되는 표현식\n",
    "- 한 줄로 간단한 함수를 정의\n",
    "\n",
    "#### lambda 함수 구조\n",
    "```python\n",
    "lambda 매개변수: 표현식\n",
    "```\n",
    "- `lambda` 키워드\n",
    "    - 람다 함수를 선언하기 위해 사용되는 키워드입니다.\n",
    "- 매개변수\n",
    "    - 함수에 전달되는 매개변수들\n",
    "    - 여러 개의 매개변수가 있을 경우 쉼표로 구분\n",
    "- 표현식\n",
    "    - 함수의 실행되는 코드 블록으로, 결과값을 반환하는 표현식으로 작성\n"
   ]
  },
  {
   "cell_type": "markdown",
   "metadata": {},
   "source": [
    "#### 람다 표현식 예시\n",
    "- 간단한 연산이나 함수를 한 줄로 표현할 때 사용\n",
    "- 함수를 매개변수로 전달하는 경우에도 유용하게 활용\n",
    "\n",
    "    ```python\n",
    "    # 람다 함수 미적용 코드\n",
    "    def addition(x, y):\n",
    "        return x + y\n",
    "\n",
    "    result = addition(3, 5)\n",
    "    print(result) # 8\n",
    "    ```\n",
    "\n",
    "    ```python\n",
    "    # 람다 함수 적용 코드\n",
    "    addition = lambda x, y: x + y\n",
    "\n",
    "    result = addition(3, 5)\n",
    "    print(result) # 8\n",
    "    ```"
   ]
  },
  {
   "cell_type": "markdown",
   "metadata": {},
   "source": [
    "#### 람다 표현식 활용 (with map 함수)\n",
    "```python\n",
    "numbers = [1, 2, 3, 4, 5]\n",
    "def square(x):\n",
    "    return x**2\n",
    "\n",
    "# lambda 미사용\n",
    "squared1 = list(map(square, numbers))\n",
    "print(squared1)  # [1, 4, 9, 16, 25]\n",
    "\n",
    "# lambda 사용\n",
    "squared2 = list(map(lambda x: x**2, numbers))\n",
    "print(squared2)  # [1, 4, 9, 16, 25]\n",
    "```"
   ]
  },
  {
   "cell_type": "markdown",
   "metadata": {},
   "source": [
    "## 함수와 Scope\n",
    "### Python의 범위(Scope)\n",
    "- 함수는 코드 내부에 `local scope`를 생성하며, 그 외의 공간인 `global scope`로 구분\n",
    "\n"
   ]
  },
  {
   "cell_type": "markdown",
   "metadata": {},
   "source": [
    "### 범위와 변수 관계\n",
    "- scope\n",
    "    - global scope : 코드 어디에서든 참조할 수 있는 공간\n",
    "    - local scope : 함수가 만든 scope (함수 내부에서만 참조 가능)\n",
    "- variable \n",
    "    - global variable : global scope에 정의된 변수\n",
    "    - local variable : local scope에 정의된 변수"
   ]
  },
  {
   "cell_type": "markdown",
   "metadata": {},
   "source": [
    "#### Scope 예시\n",
    "- `num`은 local scope에 존재하기 때문에 global에서 사용할 수 없음\n",
    "- 이는 변수의 `수명주기`와 연관이 있음\n",
    "\n",
    "    ```python\n",
    "    def func():\n",
    "        num = 20\n",
    "        print('local', num)  # local 20\n",
    "\n",
    "\n",
    "    func()\n",
    "\n",
    "    print('global', num)  # NameError: name 'num' is not defined\n",
    "    ```"
   ]
  },
  {
   "cell_type": "markdown",
   "metadata": {},
   "source": [
    "#### 변수 수명주기(lifecycle)\n",
    "- 변수의 수명주기는 변수가 선언되는 위치와 스코프에 따라 결정됨\n",
    "1. built-in scope\n",
    "    - 파이썬이 실행된 이후부터 영원히 유지\n",
    "2. global scope\n",
    "    - 모듈이 호출된 시점 이후 혹은 인터프리터가 끝날 때까지 유지\n",
    "3. local scope\n",
    "    - 함수가 호출될 때 생성되고, 함수가 종료될 때까지 유지"
   ]
  },
  {
   "cell_type": "markdown",
   "metadata": {},
   "source": [
    "#### 이름 검색 규칙(Name Resolution)\n",
    "- 파이썬에서 사용되는 이름(식별자)들은 특정한 이름공간(namespace)에 저장되어 있음\n",
    "- 아래와 같은 순서로 이름을 찾아 나가며, LEGB Rule이라고 부름\n",
    "    1. Local scope : 지역 범위(현재 작업 중인 범위)\n",
    "    2. Enclosed scope : 지역 범위 한 단계 위 범위\n",
    "    3. Global scope : 최상단에 위치한 범위\n",
    "    4. Built-in scope : 모든 것을 담고 있는 범위(정의하지 않고 사용할 수 있는 모든 것)\n",
    "- <span style='color:crimson;'>함수 내에서는 바깥 Scope의 변수에 접근 가능하나 수정은 할 수 없음</span>\n",
    "\n",
    "![image](https://github.com/ragu6963/TIL/assets/32388270/15b4f0c6-7f21-4986-8349-fd8740e49573)\n"
   ]
  },
  {
   "cell_type": "markdown",
   "metadata": {},
   "source": [
    "#### LEGB Rule 예시 1\n",
    "- sum이라는 이름을 global scope에서 사용하게 되면서 <br>기존에 built-in scope에 있던 내장함수 sum을 사용하지 못하게 됨\n",
    "- sum을 참조 시 LEGB Rule에 따라 global에서 먼저 찾기 때문\n",
    "\n",
    "    ```python\n",
    "    print(sum) # <built-in function sum>\n",
    "    print(sum(range(3))) # 3\n",
    "\n",
    "    sum = 5\n",
    "\n",
    "    print(sum) # 5\n",
    "    print(sum(range(3))) # TypeError: 'int' object is not callable\n",
    "    ```"
   ]
  },
  {
   "cell_type": "markdown",
   "metadata": {},
   "source": [
    "#### LEGB Rule 퀴즈\n",
    "```python\n",
    "a = 1\n",
    "b = 2\n",
    "\n",
    "\n",
    "def enclosed():\n",
    "    a = 10\n",
    "    c = 3\n",
    "\n",
    "    def local(c):\n",
    "        print(a, b, c) # 10 2 500\n",
    "\n",
    "    local(500)\n",
    "    print(a, b, c) # 10 2 3\n",
    "\n",
    "\n",
    "enclosed()\n",
    "print(a, b) # 1 2\n",
    "```"
   ]
  },
  {
   "cell_type": "markdown",
   "metadata": {},
   "source": [
    "#### `global` 키워드\n",
    "- 변수의 스코프를 전역 범위로 지정하기 위해 사용\n",
    "- 일반적으로 함수 내에서 전역 변수를 수정하려는 경우에 사용\n",
    "\n",
    "    ```python\n",
    "    num = 0 # 전역 변수\n",
    "\n",
    "\n",
    "    def increment():\n",
    "        global num # num를 전역 변수로 선언\n",
    "        num += 1\n",
    "\n",
    "\n",
    "    print(num) # 0\n",
    "    increment()\n",
    "    print(num) # 1\n",
    "    ```"
   ]
  },
  {
   "cell_type": "markdown",
   "metadata": {},
   "source": [
    "#### ‘global’ 키워드 주의사항\n",
    "- global 키워드 선언 전에 참조 불가\n",
    "    ```python\n",
    "    num = 0\n",
    "\n",
    "    def increment():\n",
    "        # SyntaxError: name 'num' is used prior to global declaration\n",
    "        print(num)\n",
    "        global num\n",
    "        num += 1\n",
    "    ```\n",
    "- 매개변수에는 global 키워드 사용 불가\n",
    "\n",
    "    ```python\n",
    "    num = 0\n",
    "\n",
    "    def increment(num):\n",
    "        # \"num\" is assigned before global declaration\n",
    "        global num\n",
    "        num += 1\n",
    "    ```"
   ]
  },
  {
   "cell_type": "markdown",
   "metadata": {},
   "source": [
    "## 모듈\n",
    "- 과학자, 수학자가 모든 이론을 새로 만들거나 증명하지 않는 것처럼<br>개발자 또한 프로그램 전체를 모두 혼자 힘으로 작성하는 것은 드문 일\n",
    "- 이미 다른 프로그래머가 이미 작성해 놓은 수천, 수백만 줄의 코드를 사용하는<br>것은 생산성에서 매우 중요한 일"
   ]
  },
  {
   "cell_type": "markdown",
   "metadata": {},
   "source": [
    "#### 모듈 `Module`\n",
    "- 한 파일로 묶인 변수와 함수의 모음<br>특정한 기능을 하는 코드가 작성된 파이썬 파일(`.py`)\n"
   ]
  },
  {
   "cell_type": "markdown",
   "metadata": {},
   "source": [
    "#### 모듈 예시\n",
    "- math 내장 모듈\n",
    "- 파이썬이 미리 작성해 둔 수학 관련 변수와 함수가 작성된 모듈\n",
    "    \n",
    "    ```python\n",
    "    import math\n",
    "    \n",
    "    print(math.pi)  # 3.141592653589793\n",
    "    \n",
    "    print(math.sqrt(4))  # 2.0\n",
    "    ```\n",
    "> 참고 문서 : https://docs.python.org/3/library/math.html"
   ]
  },
  {
   "cell_type": "markdown",
   "metadata": {},
   "source": [
    "#### 모듈을 가져오는 방법\n",
    "- `import` 문 사용\n",
    "\n",
    "    ```python\n",
    "    import math\n",
    "    \n",
    "    print(math.sqrt(4))\n",
    "    ```\n",
    "- `from` 절 사용\n",
    "\n",
    "    ```python\n",
    "    from math import sqrt\n",
    "\n",
    "    print(sqrt(4))\n",
    "    ```"
   ]
  },
  {
   "cell_type": "markdown",
   "metadata": {},
   "source": [
    "#### 모듈 사용하기\n",
    "- `'.' (dot)` 연산자\n",
    "  - \"점의 왼쪽 객체에서 점의 오른쪽 이름을 찾아라“ 라는 의미\n",
    "\n",
    "    ```python\n",
    "    # 모듈명.변수명\n",
    "    print(math.pi)\n",
    "\n",
    "    # 모듈명.함수명\n",
    "    print(math.sqrt(4))\n",
    "    ```\n"
   ]
  },
  {
   "cell_type": "markdown",
   "metadata": {},
   "source": [
    "#### 모듈 주의사항\n",
    "- 서로 다른 모듈이 같은 이름의 함수를 제공할 경우 문제 발생\n",
    "- 마지막에 `import`된 이름으로 대체됨\n",
    "\n",
    "    ```python\n",
    "    from math import pi, sqrt\n",
    "    from my_math import sqrt\n",
    "\n",
    "    ```\n",
    "    ```python\n",
    "    # 그래서 모듈 내 모든 요소를 한번에 import 하는 * 표기는 권장하지 않음\n",
    "    \n",
    "    from math import *\n",
    "    ```"
   ]
  },
  {
   "cell_type": "markdown",
   "metadata": {},
   "source": [
    "#### `as` 키워드\n",
    "- as 키워드를 사용하여 별칭(alias)을 부여\n",
    "  - 두 개 이상의 모듈에서 동일한 이름의 변수, 함수 클래스 등을 가져올 때 발생하는 이름 충돌 해결\n",
    "\n",
    "  ```python\n",
    "  from math import sqrt\n",
    "  from my_math import sqrt as my_sqrt\n",
    "  \n",
    "  sqrt(4)\n",
    "  my_sqrt(4)\n",
    "  ```\n"
   ]
  },
  {
   "cell_type": "markdown",
   "metadata": {},
   "source": [
    "#### 직접 정의한 모듈 사용하기\n",
    "1. 모듈 my_math.py 작성\n",
    "2. 두 수의 합을 구하는 add 함수 작성\n",
    "3. my_math 모듈 import 후 add 함수 호출\n",
    "\n",
    "![image](https://github.com/ragu6963/TIL/assets/32388270/16905377-6a9c-4ba5-9d3e-0ce5a77da4f1)"
   ]
  },
  {
   "cell_type": "markdown",
   "metadata": {},
   "source": [
    "### 파이썬 표준 라이브러리 `Python Standard Library`\n",
    "- 파이썬 언어와 함께 제공되는 다양한 모듈과 패키지의 모음\n",
    "\n",
    "> 참고 문서 : https://docs.python.org/ko/3/library/index.html"
   ]
  },
  {
   "cell_type": "markdown",
   "metadata": {},
   "source": [
    "#### 패키지 `Package`\n",
    "- 연관된 모듈들을 하나의 디렉토리에 모아 놓은 것\n",
    "- 모듈들의 이름공간을 구분하여 충돌을 방지 \n",
    "- 모듈들을 효율적으로 관리하고 재사용할 수 있도록 돕는 역할\n"
   ]
  },
  {
   "cell_type": "markdown",
   "metadata": {},
   "source": [
    "#### 패키지 사용하기\n",
    "- 아래와 같은 디렉토리 구조로 작성\n",
    "- 패키지 3개 : my_package, math, statistics\n",
    "- 모듈 2개 : my_math, tools\n",
    "- 디렉토리 전체 구조\n",
    "    ```markdown\n",
    "    📦...\n",
    "     ┣ 📜sample.py\n",
    "     ┣ 📂my_package\n",
    "     ┃ ┣ 📂math\n",
    "     ┃ ┃ ┗ 📜my_math.py\n",
    "     ┃ ┣ 📂statistics\n",
    "     ┃ ┃ ┗ 📜tools.py\n",
    "    ```\n",
    "\n",
    "![image](https://github.com/ragu6963/TIL/assets/32388270/01f0ca51-45b2-4468-8a38-b81c6db14b24)\n",
    "\n",
    "- 각 패키지의 모듈을 `import` 하여 사용하기\n",
    "    ```python\n",
    "    # sample.py\n",
    "\n",
    "    from my_package.math import my_math\n",
    "    from my_package.statistics import tools\n",
    "\n",
    "\n",
    "    print(my_math.add(1, 2))  # 3\n",
    "    print(tools.mod(1, 2))  # 1\n",
    "    ```"
   ]
  },
  {
   "cell_type": "markdown",
   "metadata": {},
   "source": [
    "#### PSL 내부 패키지\n",
    "- 설치 없이 바로 `import`하여 사용\n",
    "\n",
    "#### 외부 패키지\n",
    "- `pip`를 사용하여 설치 후 `import` 필요\n",
    "\n"
   ]
  },
  {
   "cell_type": "markdown",
   "metadata": {},
   "source": [
    "#### pip `파이썬 패키지 관리자`\n",
    "- 외부 패키지들을 설치하도록 도와주는 파이썬의 패키지 관리 시스템\n",
    "\n",
    "- PyPI(Python Package Index)에 저장된 외부 패키지들을 설치\n",
    "> https://pypi.org/\n",
    "\n"
   ]
  },
  {
   "cell_type": "markdown",
   "metadata": {},
   "source": [
    "#### 패키지 설치\n",
    "- 최신 버전 / 특정 버전 / 최소 버전을 명시하여 설치할 수 있음\n",
    "\n",
    "    ```bash\n",
    "    $ pip install SomePackage\n",
    "    $ pip install SomePackage==1.0.5\n",
    "    $ pip install SomePackage>=1.0.4\n",
    "    ```"
   ]
  },
  {
   "cell_type": "markdown",
   "metadata": {},
   "source": [
    "#### requests 외부 패키지 설치 및 사용 예시\n",
    "\n",
    "```bash\n",
    "$ pip install requests\n",
    "```\n",
    "\n",
    "```python\n",
    "import requests\n",
    "\n",
    "\n",
    "url = 'https://random-data-api.com/api/v2/users'\n",
    "response = requests.get(url).json()\n",
    "\n",
    "print(response)\n",
    "```"
   ]
  },
  {
   "cell_type": "markdown",
   "metadata": {},
   "source": [
    "# 3. 구조"
   ]
  },
  {
   "cell_type": "markdown",
   "metadata": {},
   "source": [
    "## 데이터 구조 `Data Structure`\n",
    "- 여러 데이터를 효과적으로 사용, 관리하기 위한 구조 (str, list, dict 등)"
   ]
  },
  {
   "cell_type": "markdown",
   "metadata": {},
   "source": [
    "### 자료 구조 = 데이터 구조\n",
    "- 컴퓨터 공학에서는 ‘자료 구조’ 라고 함\n",
    "- 각 데이터의 효율적인 저장, 관리를 위한 구조를 나눠 놓은 것\n",
    "- 문자열, 리스트, 딕셔너리 등 각 데이터 구조의 <span style='color:red;'>메서드</span>를 호출하여 다양한 기능을 활용하기\n",
    "\n",
    "    ![image](https://github.com/ragu6963/TIL/assets/32388270/ec3c4025-1305-4ba1-8f7a-fc355c1fa4e3)\n"
   ]
  },
  {
   "cell_type": "markdown",
   "metadata": {},
   "source": [
    "### 메서드 `method`\n",
    "- 객체에 속한 함수\n",
    "- 객체의 상태를 조작하거나 동작을 수행\n",
    "- 메서드는 클래스(class) 내부에 정의되는 함수\n",
    "- 클래스는 파이썬에서 ‘타입을 표현하는 방법’이며 이미 은연중에 사용해왔음\n",
    "- 예를 들어 help 함수를 통해 str을 호출해보면 class 였다는 것을 확인 가능\n"
   ]
  },
  {
   "cell_type": "markdown",
   "metadata": {},
   "source": [
    "```python\n",
    "print(help(str))\n",
    "\n",
    "\"\"\"\n",
    "Help on class str in module builtins:\n",
    "\n",
    "class str(object)\n",
    " |  str(object='') -> str\n",
    " |  str(bytes_or_buffer[, encoding[, errors]]) -> str\n",
    " |\n",
    " |  Create a new string object from the given object. If encoding or\n",
    " |  errors is specified, then the object must expose a data buffer\n",
    " |  …\n",
    "\"\"\"\n",
    "```"
   ]
  },
  {
   "cell_type": "markdown",
   "metadata": {},
   "source": [
    "#### 메서드 호출 방법\n",
    "```python\n",
    "'hello'.capitalize()\n",
    "```\n",
    "\n",
    "#### 메서드 호출 예시\n",
    "```python\n",
    "# 문자열 메서드 예시\n",
    "print('hello'.capitalize())  # Hello\n",
    "\n",
    "\n",
    "# 리스트 메서드 예시\n",
    "numbers = [1, 2, 3]\n",
    "numbers.append(4)\n",
    "\n",
    "print(numbers)  # [1, 2, 3, 4]\n",
    "```"
   ]
  },
  {
   "cell_type": "markdown",
   "metadata": {},
   "source": [
    "## 시퀀스 데이터 구조"
   ]
  },
  {
   "cell_type": "markdown",
   "metadata": {},
   "source": [
    "### 문자열 `str`"
   ]
  },
  {
   "cell_type": "markdown",
   "metadata": {},
   "source": [
    "#### 문자열 조회/탐색 및 검증 메서드\n",
    "|        메서드      \t|                                         설명                                        \t|\n",
    "|:------------------:\t|:-----------------------------------------------------------------------------------:\t|\n",
    "|      s.find(x)     \t|     x의   첫 번째 위치를 반환. 없으면,   -1을 반환                                  \t|\n",
    "|      s.index(x)    \t|     x의   첫 번째 위치를 반환. 없으면,   오류 발생                                  \t|\n",
    "|     s.isupper()    \t|     대문자 여부                                                                     \t|\n",
    "|     s.islower()    \t|     소문자 여부                                                                   \t|\n",
    "|     s.isalpha()    \t|     알파벳 문자 여부      *단순 알파벳이 아닌 유니코드 상 Letter (한국어도 포함)    \t|"
   ]
  },
  {
   "cell_type": "markdown",
   "metadata": {},
   "source": [
    "#### 문자열 조작 메서드 (새 문자열 반환)\n",
    "|                  메서드                 \t|                                              설명                                            \t|\n",
    "|:---------------------------------------:\t|:--------------------------------------------------------------------------------------------:\t|\n",
    "|       s.replace(old,   new[,count])     \t|     바꿀 대상 글자를 새로운 글자로 바꿔서 반환                                               \t|\n",
    "|             s.strip([chars])            \t|     공백이나 특정 문자를 제거                                                                \t|\n",
    "|     s.split(sep=None,   maxsplit=-1)    \t|     공백이나 특정 문자를 기준으로 분리                                                       \t|\n",
    "|       'separator'.join(iterable)      \t|     구분자로 iterable의 문자열을 연결한 문자열을 반환                                           |\n",
    "|              s.capitalize()             \t|     가장   첫 번째   글자를   대문자로   변경                                                \t|\n",
    "|                 s.title()               \t|     문자열 내 띄어쓰기 기준으로 각 단어의 첫 글자는 대문자로,      나머지는 소문자로 변환    \t|\n",
    "|                 s.upper()               \t|     모두   대문자로 변경                                                                     \t|\n",
    "|                 s.lower()               \t|     모두   소문자로 변경                                                                     \t|\n",
    "|               s.swapcase()              \t|     대↔소문자 서로 변경                                                                      \t|"
   ]
  },
  {
   "cell_type": "markdown",
   "metadata": {},
   "source": [
    "### 리스트 `list`\n"
   ]
  },
  {
   "cell_type": "markdown",
   "metadata": {},
   "source": [
    "#### 리스트 값 추가 및 삭제 메서드\n",
    "|          메서드         \t|                                                   설명                                                  \t|\n",
    "|:-----------------------:\t|:-------------------------------------------------------------------------------------------------------:\t|\n",
    "|        L.append(x)      \t|     리스트   마지막에 항목 x를   추가                                                                   \t|\n",
    "|        L.extend(m)      \t|     Iterable m의   모든 항목들을 리스트 끝에 추가 (+=과   같은 기능)                                    \t|\n",
    "|     L.insert(i,   x)    \t|     리스트   인덱스 i에 항목 x를 삽입                                                                   \t|\n",
    "|        L.remove(x)      \t|     리스트   가장 왼쪽에 있는 항목(첫 번째)   x를   제거     항목이 존재하지 않을 경우,   ValueError    \t|\n",
    "|          L.pop()        \t|     리스트   가장 오른쪽에 있는 항목(마지막)을   반환 후 제거                                           \t|\n",
    "|         L.pop(i)        \t|     리스트의 인덱스 i에   있는 항목을 반환 후 제거                                                      \t|\n",
    "|         L.clear()       \t|     리스트의 모든 항목 삭제                                                                             \t|"
   ]
  },
  {
   "cell_type": "markdown",
   "metadata": {},
   "source": [
    "#### 리스트 탐색 및 정렬 메서드\n",
    "|               문법              \t|                                   설명                                 \t|\n",
    "|:-------------------------------:\t|:----------------------------------------------------------------------:\t|\n",
    "|     L.index(x)    \t|     리스트에   있는 항목 중 가장 왼쪽에 있는 항목 x의 인덱스를 반환    \t|\n",
    "|            L.count(x)           \t|     리스트에서 항목   x의 개수를 반환                                  \t|\n",
    "|            L.reverse()          \t|     리스트의 순서를 역순으로 변경 (정렬 X)|\n",
    "|             L.sort()            \t|     리스트를 정렬 (매개변수   이용가능)                                \t|"
   ]
  },
  {
   "cell_type": "markdown",
   "metadata": {},
   "source": [
    "## 비시퀀스 데이터 구조"
   ]
  },
  {
   "cell_type": "markdown",
   "metadata": {},
   "source": [
    "### 세트 `set`\n",
    "- 고유한 항목들의 정렬되지 않은 컬렉션"
   ]
  },
  {
   "cell_type": "markdown",
   "metadata": {},
   "source": [
    "#### 세트 메서드\n",
    "|           메서드          \t|                                설명                               \t|\n",
    "|:-------------------------:\t|:-----------------------------------------------------------------:\t|\n",
    "|          s.add(x)         \t|     세트 s에 항목   x를 추가. 이미   x가 있다면 변화 없음         \t|\n",
    "|          s.clear()        \t|     세트 s의   모든 항목을   제거                                 \t|\n",
    "|         s.remove(x)       \t|     세트 s에서   항목 x를 제거. 항목   x가 없을 경우 Key error    \t|\n",
    "|           s.pop()         \t|     세트 s에서   랜덤하게 항목을 반환하고,   해당 항목을 제거     \t|\n",
    "|        s.discard(x)       \t|     세트 s에서   항목 x를 제거                                    \t|\n",
    "|     s.update(iterable)    \t|     세트 s에   다른 iterable 요소를   추가                        \t|"
   ]
  },
  {
   "cell_type": "markdown",
   "metadata": {},
   "source": [
    "#### 세트의 집합 메서드\n",
    "|              메서드            \t|                                         설명                                       \t|         연산자        \t|\n",
    "|:------------------------------:\t|:----------------------------------------------------------------------------------:\t|:---------------------:\t|\n",
    "|      set1.difference(set2)     \t|        set1에는 들어있지만 set2에는      없는   항목으로 세트를 생성 후 반환       \t|      set1   – set2    \t|\n",
    "|     set1.intersection(set2)    \t|           set1과 set2 모두   들어있는 항목으로      세트를   생성 후 반환          \t|     set1   & set 2    \t|\n",
    "|       set1.issubset(set2)      \t|               set1의 항목이 모두 set2에 들어있으면      True를   반환              \t|     set1   <= set2    \t|\n",
    "|      set1.issuperset(set2)     \t|               set1가 set2의   항목을 모두 포함하면      True를   반환              \t|     set1   >= set2    \t|\n",
    "|         set1.union(set2)       \t|     set1 또는 set2에(혹은   둘 다) 들어있는      항목으로   세트를 생성 후 반환    \t|     set1   \\| set2    \t|"
   ]
  },
  {
   "cell_type": "markdown",
   "metadata": {},
   "source": [
    "### 딕셔너리 `dictionary`\n",
    "- 고유한 항목들의 정렬되지 않은 컬렉션\n"
   ]
  },
  {
   "cell_type": "markdown",
   "metadata": {},
   "source": [
    "#### 딕셔너리 메서드\n",
    "|            메서드           \t|                                                                                설명                                                                              \t|\n",
    "|:---------------------------:\t|:----------------------------------------------------------------------------------------------------------------------------------------------------------------:\t|\n",
    "|           D.clear()         \t|     딕셔너리 D의   모든 키/값 쌍을 제거                                                                                                                          \t|\n",
    "|           D.get(k)          \t|     키 k에   연결된 값을 반환 (키가 없으면 None을 반환)                                                                                                          \t|\n",
    "|         D.get(k,   v)       \t|     키 k에   연결된 값을 반환하거나 키가 없으면 기본 값으로 v를 반환                                                                                             \t|\n",
    "|           D.keys()          \t|     딕셔너리 D의   키를 모은 객체를 반환                                                                                                                         \t|\n",
    "|          D.values()         \t|     딕셔너리 D의   값을 모은 객체를 반환                                                                                                                         \t|\n",
    "|           D.items()         \t|     딕셔너리 D의   키/값 쌍을 모은 객체를 반환                                                                                                                   \t|\n",
    "|           D.pop(k)          \t|     딕셔너리 D에서   키 k를 제거하고 연결됐던 값을 반환 (없으면   오류)                                                                                          \t|\n",
    "|         D.pop(k,   v)       \t|     딕셔너리 D에서   키 k를 제거하고 연결됐던 값을 반환 (없으면   v를 반환)                                                                                      \t|\n",
    "|        D.setdefault(k)      \t|     딕셔너리 D에서   키 k와 연결된 값을 반환                                                                                                                     \t|\n",
    "|     D.setdefault(k,   v)    \t|     딕셔너리 D에서   키 k와 연결된 값을 반환     k가   D의 키가 아니면 값 v와   연결한 키 k를 D에   추가하고 v를 반환                                            \t|\n",
    "|        D.update(other)      \t|     other 내 각 키에 대해 D에   있는 키면 D에 있는 그 키의 값을 other에 있는 값으로 대체.     other에 있는 각 키에 대해 D에   없는 키면 키/값 쌍을 D에   추가    \t|"
   ]
  },
  {
   "cell_type": "markdown",
   "metadata": {},
   "source": [
    "## 참고"
   ]
  },
  {
   "cell_type": "markdown",
   "metadata": {},
   "source": [
    "### 문자 유형 판별 메서드\n",
    "#### 문자열에 포함된 문자들의 유형을 판별하는 메서드\n",
    "- `isdecimal()`\n",
    "    - 문자열이 모두 숫자 문자(0~9)로만 이루어져 있어야 True\n",
    "- `isdigit()`\n",
    "    - isdecimal()과 비슷하지만, 유니코드 숫자도 인식 ('①’ 도 숫자로 인식)\n",
    "- `isnumeric()`\n",
    "    - isdigit()과 유사하지만, 몇 가지 추가적인 유니코드 문자들을 인식 <br>(분수, 지수, 루트 기호도 숫자로 인식)\n",
    "\n"
   ]
  },
  {
   "cell_type": "markdown",
   "metadata": {},
   "source": [
    "- `isdecimal()` ⊆ `isdigit()` ⊆ `isnumeric()`\n",
    "\n",
    "|     isdecimal()    \t|     isdigit()    \t|     isnumeric()    \t|                  예시                \t|\n",
    "|:------------------:\t|:----------------:\t|:------------------:\t|:------------------------------------:\t|\n",
    "|         True       \t|        True      \t|         True       \t|       \"038\",   \"੦੩੮\",   \"０３８\"     \t|\n",
    "|        False       \t|        True      \t|         True       \t|          \"⁰³⁸\", \"🄀⒊⒏\", \"⓪③⑧\"         \t|\n",
    "|        False       \t|       False      \t|         True       \t|     \"⅛⅘\", \"ⅠⅢⅧ\", \"⑩⑬㊿\", \"壹貳參\"    \t|\n",
    "|        False       \t|       False      \t|        False       \t|          \"abc\", \"38.0\", \"-38\"        \t|"
   ]
  },
  {
   "cell_type": "markdown",
   "metadata": {},
   "source": [
    "# 4."
   ]
  },
  {
   "cell_type": "markdown",
   "metadata": {},
   "source": []
  },
  {
   "cell_type": "markdown",
   "metadata": {},
   "source": [
    "# 5. 제어문\n"
   ]
  },
  {
   "cell_type": "markdown",
   "metadata": {},
   "source": [
    "제어문(`Control Statement`)\n",
    "- 코드의 실행 흐름을 제어하는 데 사용되는 구문<br>\n",
    "- <span style='color:red;'>조건</span>에 따라 코드 블록을 실행하거나 <span style='color:red;'>반복</span>적으로 코드를 실행 "
   ]
  },
  {
   "cell_type": "markdown",
   "metadata": {},
   "source": [
    "### 제어문 종류\n",
    "- 조건문\n",
    "    - `if`, `elif`, `else`\n",
    "- 반복문\n",
    "    - `for`, `while`\n",
    "- 반복문 제어\n",
    "    - `break`, `continue`, `pass`"
   ]
  },
  {
   "cell_type": "markdown",
   "metadata": {},
   "source": [
    "## 조건문 `Conditional Statement`\n",
    "- 주어진 조건식을 평가하여 해당 조건이 참(True)인 경우에만 <br>\n",
    "코드 블록을 실행하거나 건너뜀\n"
   ]
  },
  {
   "cell_type": "markdown",
   "metadata": {},
   "source": [
    "### `‘if’` statement\n",
    "- if statement의 기본 구조\n",
    "\n",
    "    ```python\n",
    "    if 표현식:\n",
    "        코드 블록\n",
    "    elif 표현식:\n",
    "        코드 블록\n",
    "    else:\n",
    "        코드 블록\n",
    "    ```"
   ]
  },
  {
   "cell_type": "markdown",
   "metadata": {},
   "source": [
    "## 반복문 `Loop Statement`\n",
    "- 주어진 코드 블록을 여러 번 반복해서 실행하는 구문\n",
    "1. 특정 작업을 반복적으로 수행\n",
    "2. 주어진 조건이 참인 동안 반복해서 실행"
   ]
  },
  {
   "cell_type": "markdown",
   "metadata": {},
   "source": [
    "### `‘for’` statement\n",
    "- 임의의 시퀀스의 항목들을 그 시퀀스에 들어있는 순서대로 반복\n",
    "- for statement의 기본 구조\n",
    "\n",
    "    ```python\n",
    "    for 변수 in 반복 가능한 객체:\n",
    "        코드 블록\n",
    "    ```"
   ]
  },
  {
   "cell_type": "markdown",
   "metadata": {},
   "source": [
    "#### 반복 가능한 객체 `iterable`\n",
    "- 반복문에서 순회할 수 있는 객체<br>\n",
    "(시퀀스 객체 뿐만 아니라 dict, set 등도 포함)\n"
   ]
  },
  {
   "cell_type": "markdown",
   "metadata": {},
   "source": [
    "#### for 문 원리\n",
    "- 리스트 내 첫 항목이 반복 변수에 할당되고 코드블록이 실행\n",
    "- 다음으로 반복 변수에 리스트의 2번째 항목이 할당되고 코드블록이 다시 실행\n",
    "- ... 마지막으로 반복 변수에 리스트의 마지막 요소가 할당되고 코드블록이 실행\n",
    "\n",
    "    ```python\n",
    "    items = ['apple', 'banana', 'coconut']\n",
    "    \n",
    "    for item in items:\n",
    "        print(item)\n",
    "    \n",
    "    \"\"\"\n",
    "    apple\n",
    "    banana\n",
    "    coconut\n",
    "    \"\"\"\n",
    "    ``` "
   ]
  },
  {
   "cell_type": "markdown",
   "metadata": {},
   "source": [
    "##### 문자열 순회\n",
    "```python\n",
    "country = 'Korea'\n",
    "\n",
    "for char in country:\n",
    "    print(char)\n",
    "\n",
    "\"\"\"\n",
    "K\n",
    "o\n",
    "r\n",
    "e\n",
    "a\n",
    "\"\"\"\n",
    "```"
   ]
  },
  {
   "cell_type": "markdown",
   "metadata": {},
   "source": [
    "##### range 순회\n",
    "```python\n",
    "for i in range(5):\n",
    "    print(i)\n",
    "\n",
    "\"\"\"\n",
    "0\n",
    "1\n",
    "2\n",
    "3\n",
    "4\n",
    "\"\"\"\n",
    "```"
   ]
  },
  {
   "cell_type": "markdown",
   "metadata": {},
   "source": [
    "##### dict 순회\n",
    "```python\n",
    "my_dict = {\n",
    "    'x': 10,\n",
    "    'y': 20,\n",
    "    'z': 30,\n",
    "}\n",
    "\n",
    "for key in my_dict:\n",
    "    print(key)\n",
    "    print(my_dict[key])\n",
    "\n",
    "\n",
    "\"\"\"\n",
    "x\n",
    "10\n",
    "y\n",
    "20\n",
    "z\n",
    "30\n",
    "\"\"\"\n",
    "```"
   ]
  },
  {
   "cell_type": "markdown",
   "metadata": {},
   "source": [
    "##### 인덱스로 리스트 순회\n",
    "- 리스트의 요소가 아닌 인덱스로 접근하여 해당 요소들을 변경하기\n",
    "    \n",
    "    ```python\n",
    "    numbers = [4, 6, 10, -8, 5]\n",
    "    \n",
    "    for i in range(len(numbers)):\n",
    "        numbers[i] = numbers[i] * 2\n",
    "    \n",
    "    print(numbers) # [8, 12, 20, -16, 10]\n",
    "    ```"
   ]
  },
  {
   "cell_type": "markdown",
   "metadata": {},
   "source": [
    "#### 중첩된 반복문\n",
    "- 안쪽 반복문은 outers 리스트의 각 항목에 대해 한 번씩 실행됨\n",
    "- print가 호출되는 횟수 => `len(outers) * len(inners)`\n",
    "    ```python\n",
    "    outers = ['A', 'B']\n",
    "    inners = ['c', 'd']\n",
    "        \n",
    "    for outer in outers:\n",
    "        for inner in inners:\n",
    "            print(outer, inner)\n",
    "        \n",
    "    \"\"\"\n",
    "    A c\n",
    "    A d\n",
    "    B c\n",
    "    B d\n",
    "    \"\"\"\n",
    "    ```"
   ]
  },
  {
   "cell_type": "markdown",
   "metadata": {},
   "source": [
    "##### 중첩 리스트 순회\n",
    "- 안쪽 리스트 요소에 접근하려면 바깥 리스트를 순회하면서 중첩 반복을 사용해 각 안쪽 반복을 순회\n",
    "    ```python\n",
    "    elements = [['A', 'B'], ['c', 'd']]\n",
    "\n",
    "    for elem in elements:\n",
    "        print(elem)\n",
    "\n",
    "    \"\"\"\n",
    "    ['A', 'B']\n",
    "    ['c', 'd']\n",
    "    \"\"\"\n",
    "    ```\n",
    "    ```python\n",
    "    elements = [['A', 'B'], ['c', 'd']]\n",
    "\n",
    "    for elem in elements:\n",
    "        for item in elem:\n",
    "            print(item)\n",
    "\n",
    "    \"\"\"\n",
    "    A\n",
    "    B\n",
    "    c\n",
    "    d\n",
    "    \"\"\"\n",
    "    ```"
   ]
  },
  {
   "cell_type": "markdown",
   "metadata": {},
   "source": [
    "### `‘while’` statement\n",
    "- 주어진 조건식이 참(True)인 동안 코드를 반복해서 실행 == 조건식이 거짓(False)가 될 때 까지 반복\n",
    "- 반드시 `종료 조건` 필요\n",
    "- while statement의 기본 구조\n",
    "\n",
    "    ```python\n",
    "    while 조건식:\n",
    "        코드 블록\n",
    "    ```"
   ]
  },
  {
   "cell_type": "markdown",
   "metadata": {},
   "source": [
    "#### while 반복문 예시\n",
    "```python\n",
    "a = 0\n",
    "\n",
    "while a < 3:\n",
    "    print(a)\n",
    "    a += 1\n",
    "\n",
    "print('끝')\n",
    "\n",
    "\"\"\"\n",
    "0\n",
    "1 \n",
    "2 \n",
    "끝\n",
    "\"\"\"\n",
    "```"
   ]
  },
  {
   "cell_type": "markdown",
   "metadata": {},
   "source": [
    "#### 사용자 입력에 따른 반복\n",
    "- while문을 사용한 특정 입력 값에 대한 종료 조건 활용하기\n",
    "    \n",
    "    ```python\n",
    "    number = int(input('양의 정수를 입력해주세요.: '))\n",
    "\n",
    "    while number <= 0:\n",
    "        if number < 0:\n",
    "            print('음수를 입력했습니다.')\n",
    "        else:\n",
    "            print('0은 양의 정수가 아닙니다.')\n",
    "\n",
    "        number = int(input('양의 정수를 입력해주세요.: '))\n",
    "\n",
    "    print('잘했습니다!')\n",
    "    \"\"\"\n",
    "    양의 정수를 입력해주세요.: 0\n",
    "    0은 양의 정수가 아닙니다.  \n",
    "    양의 정수를 입력해주세요.: -1\n",
    "    음수를 입력했습니다.       \n",
    "    양의 정수를 입력해주세요.: 1\n",
    "    잘했습니다!\n",
    "    \"\"\"\n",
    "    ```"
   ]
  },
  {
   "cell_type": "markdown",
   "metadata": {},
   "source": [
    "### 적절한 반복문 활용하기\n",
    "- `for`\n",
    "    - 반복 횟수가 명확하게 정해져 있는 경우에 유용\n",
    "    - 예를 들어 리스트, 튜플, 문자열 등과 같은 시퀀스 형식의 데이터를 처리할 때 \n",
    "\n",
    "- `while`\n",
    "    - 반복 횟수가 불명확하거나 조건에 따라 반복을 종료해야 할 때 유용\n",
    "    - 예를 들어 사용자의 입력을 받아서 특정 조건이 충족될 때까지 반복하는 경우\n"
   ]
  },
  {
   "cell_type": "markdown",
   "metadata": {},
   "source": [
    "### 반복문 제어\n",
    "- for문과 while은 매 반복마다 본문 내 모든 코드를 실행하지만<br>\n",
    "때때로 일부만 실행하는 것이 필요할 때가 있음\n",
    "\n",
    "#### 반복문 제어 키워드\n",
    "- `break`\n",
    "  - 반복을 즉시 중지\n",
    "- `continue`\n",
    "  - 다음 반복으로 건너뜀\n",
    "- `pass`\n",
    "  - 아무런 동작도 수행하지 않고 넘어감\n"
   ]
  },
  {
   "cell_type": "markdown",
   "metadata": {},
   "source": [
    "#### 반복문 제어 예시\n",
    "\n",
    "```python\n",
    "# break\n",
    "\n",
    "for i in range(10):\n",
    "    if i == 5:\n",
    "        break\n",
    "    print(i)  # 0 1 2 3 4\n",
    "```\n",
    "\n",
    "```python\n",
    "# continue\n",
    "\n",
    "for i in range(10):\n",
    "    if i % 2 == 0:\n",
    "        continue\n",
    "    print(i)  # 1 3 5 7 9\n",
    "```\n",
    "\n",
    "```python\n",
    "# pass\n",
    "\n",
    "for i in range(10):\n",
    "    pass  # 아무 작업도 안함\n",
    "```"
   ]
  },
  {
   "cell_type": "markdown",
   "metadata": {},
   "source": [
    "#### break 예시\n",
    "- 리스트에서 첫번째 짝수만 찾은 후 반복 종료하기\n",
    "\n",
    "    ```python\n",
    "    numbers = [1, 3, 5, 6, 7, 9, 10, 11]\n",
    "    found_even = False\n",
    "\n",
    "    for num in numbers:\n",
    "        if num % 2 == 0:\n",
    "            print('첫 번째 짝수를 찾았습니다:', num)\n",
    "            found_even = True\n",
    "            break\n",
    "\n",
    "    if not found_even:\n",
    "        print('짝수를 찾지 못했습니다')\n",
    "\n",
    "    \"\"\"\n",
    "    첫 번째 짝수를 찾았습니다: 6\n",
    "    \"\"\"\n",
    "    ```"
   ]
  },
  {
   "cell_type": "markdown",
   "metadata": {},
   "source": [
    "#### continue 예시\n",
    "- 리스트에서 홀수만 출력하기\n",
    "- `현재 반복문의 남은 코드를 건너뛰고 다음 반복으로 넘어감`\n",
    "\n",
    "    ```python\n",
    "    numbers = [1, 2, 3, 4, 5, 6, 7, 8, 9, 10]\n",
    "\n",
    "    for num in numbers:\n",
    "        if num % 2 == 0:\n",
    "            continue\n",
    "        print(num)\n",
    "        \n",
    "    \"\"\"\n",
    "    1\n",
    "    3\n",
    "    5\n",
    "    7\n",
    "    9\n",
    "    \"\"\"\n",
    "    ```"
   ]
  },
  {
   "cell_type": "markdown",
   "metadata": {},
   "source": [
    "#### pass 예시\n",
    "1. 코드 작성 중 미완성 부분\n",
    "    - 구현해야 할 부분이 나중에 추가될 수 있고, 코드를 컴파일하는 동안 오류가 발생하지 않음\n",
    "      ```python\n",
    "      def my_function():\n",
    "          pass  \n",
    "      ```\n",
    "2. 조건문에서 아무런 동작을 수행하지 않아야 할 때\n",
    "    ```python\n",
    "    if condition:\n",
    "        pass  # 아무런 동작도 수행하지 않음\n",
    "    else:\n",
    "        # 다른 동작 수행\n",
    "    ```\n",
    "3. 무한 루프에서 조건이 충족되지 않을 때 pass를 사용하여 루프를 계속 진행하는 방법\n",
    "    ```python\n",
    "    while True:\n",
    "        if condition:\n",
    "            break\n",
    "        elif condition:\n",
    "            pass  # 루프 계속 진행\n",
    "        else:\n",
    "            print('..')\n",
    "    ```\n"
   ]
  },
  {
   "cell_type": "markdown",
   "metadata": {},
   "source": [
    "## List Comprehension\n",
    "- 간결하고 효율적인 리스트 생성 방법\n",
    "- 가독성은 떨어짐"
   ]
  },
  {
   "cell_type": "markdown",
   "metadata": {},
   "source": [
    "### List Comprehension 구조\n",
    "```python\n",
    "[expression for 변수 in iterable]\n",
    "list(expression for 변수 in iterable)\n",
    "\n",
    "[expression for 변수 in iterable if 조건식]\n",
    "list(expression for 변수 in iterable if 조건식)\n",
    "```"
   ]
  },
  {
   "cell_type": "markdown",
   "metadata": {},
   "source": [
    "#### List Comprehension 사용 전/후 비교\n",
    "\n",
    "- 사용 전\n",
    "    ```python\n",
    "    numbers = [1, 2, 3, 4, 5]\n",
    "    squared_numbers = []\n",
    "\n",
    "    for num in numbers:\n",
    "        squared_numbers.append(num**2)\n",
    "\n",
    "    print(squared_numbers)  # [1, 4, 9, 16, 25]\n",
    "    ```\n",
    "\n",
    "- 사용 후\n",
    "    ```python\n",
    "    numbers = [1, 2, 3, 4, 5]\n",
    "    squared_numbers = [num**2 for num in numbers]\n",
    "\n",
    "    print(squared_numbers)  # [1, 4, 9, 16, 25]\n",
    "    ```"
   ]
  },
  {
   "cell_type": "markdown",
   "metadata": {},
   "source": [
    "#### List Comprehension 활용 예시\n",
    "- 2차원 배열 생성 시 (인접행렬 생성 시)\n",
    "\n",
    "```python\n",
    "data1 = [[0] * (5) for _ in range(5)]\n",
    "\n",
    "# 또는\n",
    "data2 = [[0 for _ in range(5)] for _ in range(5)]\n",
    "\n",
    "\"\"\"\n",
    "[[0, 0, 0, 0, 0],\n",
    " [0, 0, 0, 0, 0],\n",
    " [0, 0, 0, 0, 0],\n",
    " [0, 0, 0, 0, 0],\n",
    " [0, 0, 0, 0, 0]]\n",
    "\"\"\"\n",
    "```"
   ]
  },
  {
   "cell_type": "markdown",
   "metadata": {},
   "source": [
    "#### 가독성 비교\n",
    "\n",
    "- Comprehension 사용\n",
    "    \n",
    "    ```python\n",
    "    result = [i for i in range(10) if i % 2 == 1]\n",
    "    ```\n",
    "- Comprehension 미사용\n",
    "    \n",
    "    ```python\n",
    "    result = []\n",
    "    for i in range(10):\n",
    "        if i % 2 == 1:\n",
    "            result.append(i)\n",
    "    ```\n"
   ]
  },
  {
   "cell_type": "markdown",
   "metadata": {},
   "source": [
    "# +"
   ]
  },
  {
   "cell_type": "markdown",
   "metadata": {},
   "source": [
    "## 패킹 & 언패킹"
   ]
  }
 ],
 "metadata": {
  "language_info": {
   "name": "python"
  }
 },
 "nbformat": 4,
 "nbformat_minor": 2
}

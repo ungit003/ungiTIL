{
 "cells": [
  {
   "cell_type": "markdown",
   "metadata": {},
   "source": [
    "# 1. Javascript"
   ]
  },
  {
   "cell_type": "markdown",
   "metadata": {},
   "source": [
    "- js와 css는 html을 이용해서 표현한다.\n",
    "- F11의 Element, Console 창을 이용해서 확인할 수 있다."
   ]
  },
  {
   "cell_type": "code",
   "execution_count": null,
   "metadata": {
    "vscode": {
     "languageId": "javascript"
    }
   },
   "outputs": [],
   "source": [
    "// 변수 지정하는 방법\n",
    "const a = 5;\n",
    "const b = 2;\n",
    "const myName = 'nico'\n",
    "\n",
    "\n",
    "// 콘솔창에 무언가 표기하는 방법\n",
    "// console.log = print\n",
    "console.log(a);\n",
    "console.log(a-b);\n",
    "console.log('a' + myName)\n",
    "\n",
    "// 짜스는 CamelCase로 이름 작성\n",
    "// 파이썬은 snake_case로 이름 작성"
   ]
  },
  {
   "cell_type": "code",
   "execution_count": null,
   "metadata": {
    "vscode": {
     "languageId": "javascript"
    }
   },
   "outputs": [],
   "source": [
    "// boolean\n",
    "const amIFat = true;\n",
    "\n",
    "// null : 공간을 null로 채운다? 이 value가 비어있다고 의도적으로 표기하는 것.\n",
    "myHouse = null;\n",
    "\n",
    "// undefined : 이게 뭔지 정의를 안했다.\n",
    "let goal;\n",
    "console.log(goal);"
   ]
  },
  {
   "cell_type": "code",
   "execution_count": null,
   "metadata": {
    "vscode": {
     "languageId": "javascript"
    }
   },
   "outputs": [],
   "source": [
    "// 어떻게 데이터를 정리할까.\n",
    "// array\n",
    "const mon = 'mon'\n",
    "const tue = 'tue'\n",
    "const wed = 'wed'\n",
    "const thu = 'thur'\n",
    "const fri = 'fri'\n",
    "const sat = 'sat'\n",
    "const sun = 'sun'\n",
    "\n",
    "const daysOfWeek = [mon, tue, wed, thu, fri, sat, sun];\n",
    "\n",
    "// 인덱싱 가능\n",
    "console.log(daysOfWeek[3])\n",
    "\n",
    "const nonsense = [1, 2, 'hello', true, null, undefined]\n",
    "\n",
    "// array에 추가하기\n",
    "nonsense.push('nico')"
   ]
  },
  {
   "cell_type": "code",
   "execution_count": null,
   "metadata": {
    "vscode": {
     "languageId": "javascript"
    }
   },
   "outputs": [],
   "source": [
    "// object := dictionary\n",
    "const player = {\n",
    "    name: 'nico',\n",
    "    points: 10,\n",
    "    fat: true,\n",
    "};\n",
    "console.log(player);\n",
    "\n",
    "// 안의 값 불러오기\n",
    "console.log(player.name);\n",
    "console.log(player[\"fat\"]);\n",
    "\n",
    "// 안의 값 변경하기\n",
    "player.fat = false;\n",
    "console.log(player);\n",
    "\n",
    "// 값 추가하기\n",
    "player.lastname = 'potato';\n",
    "console.log(player)"
   ]
  },
  {
   "cell_type": "code",
   "execution_count": null,
   "metadata": {
    "vscode": {
     "languageId": "javascript"
    }
   },
   "outputs": [],
   "source": [
    "// function\n",
    "function sayHello(nameOfPerson){\n",
    "    console.log('hello my name is', nameOfPerson);\n",
    "    console.log('name : ' + nameOfPerson);\n",
    "}\n",
    "\n",
    "sayHello('nico');\n",
    "sayHello('dal');\n",
    "sayHello('lynn');\n",
    "\n",
    "function plus(a, b) {\n",
    "    console.log(a + b);\n",
    "}\n",
    "\n",
    "plus(8, 20)\n",
    "\n",
    "const player = {\n",
    "    name: 'nico',\n",
    "    sayHello: function (otherPersonName) {\n",
    "        console.log('hello', otherPersonName, 'nice to meet you');\n",
    "    },\n",
    "}\n",
    "\n",
    "player.sayHello(player.name)"
   ]
  },
  {
   "cell_type": "code",
   "execution_count": null,
   "metadata": {
    "vscode": {
     "languageId": "javascript"
    }
   },
   "outputs": [],
   "source": [
    "// const vs let vs var\n",
    "const a = 5; // good\n",
    "let b = 10; // somtimes\n",
    "var c = 25; // never\n",
    "\n",
    "// calculator\n",
    "let calculator = {\n",
    "    plus: function (a, b) {\n",
    "        console.log(a + b);\n",
    "    },\n",
    "    minus: function (a, b) {\n",
    "        console.log(a - b);\n",
    "    },\n",
    "    multi: function (a, b) {\n",
    "        console.log(a + b);\n",
    "    },\n",
    "    div: function (a, b) {\n",
    "        console.log(a / b);\n",
    "    },\n",
    "    pow: function (a, b) {\n",
    "        console.log(a**b);\n",
    "    },\n",
    "}\n",
    "calculator.plus(1, 4);\n",
    "calculator.minus(10, 144);\n",
    "calculator.multi(2, 4)\n",
    "calculator.div(14, 3)\n",
    "calculator.pow(4, 100)"
   ]
  },
  {
   "cell_type": "code",
   "execution_count": 6,
   "metadata": {
    "vscode": {
     "languageId": "javascript"
    }
   },
   "outputs": [
    {
     "ename": "SyntaxError",
     "evalue": "invalid syntax (3611591449.py, line 1)",
     "output_type": "error",
     "traceback": [
      "\u001b[1;36m  Cell \u001b[1;32mIn[6], line 1\u001b[1;36m\u001b[0m\n\u001b[1;33m    // return : def의 return과 같은 기능. 함수를 끝내고 결과를 반환.\u001b[0m\n\u001b[1;37m    ^\u001b[0m\n\u001b[1;31mSyntaxError\u001b[0m\u001b[1;31m:\u001b[0m invalid syntax\n"
     ]
    }
   ],
   "source": [
    "// return : def의 return과 같은 기능. 함수를 끝내고 결과를 반환.\n",
    "const a = 10;\n",
    "function plus(a) {\n",
    "    return a + 2;\n",
    "}\n",
    "b = plus(a)\n",
    "console.log(plus(a))\n",
    "console.log(b)"
   ]
  },
  {
   "cell_type": "code",
   "execution_count": 7,
   "metadata": {
    "vscode": {
     "languageId": "javascript"
    }
   },
   "outputs": [
    {
     "ename": "SyntaxError",
     "evalue": "invalid syntax (4030135110.py, line 1)",
     "output_type": "error",
     "traceback": [
      "\u001b[1;36m  Cell \u001b[1;32mIn[7], line 1\u001b[1;36m\u001b[0m\n\u001b[1;33m    // conditionals = if\u001b[0m\n\u001b[1;37m    ^\u001b[0m\n\u001b[1;31mSyntaxError\u001b[0m\u001b[1;31m:\u001b[0m invalid syntax\n"
     ]
    }
   ],
   "source": [
    "// conditionals = if\n",
    "\n",
    "// prompt : old 팝업창으로 물어봄. 직접적인 방법. 이건 예쁘게 고치지도 못함. 비추.\n",
    "const age = prompt('how old are you?')\n",
    "console.log(age)\n",
    "\n",
    "// typeof 이거 좀 이상한듯?\n",
    "console.log(typeof age)                                                                             \n",
    "\n",
    "// parseInt := int()\n",
    "console.log(typeof age, typeof  parseInt(age))\n"
   ]
  },
  {
   "cell_type": "code",
   "execution_count": null,
   "metadata": {
    "vscode": {
     "languageId": "javascript"
    }
   },
   "outputs": [],
   "source": [
    "// age calculator\n",
    "const age = parseInt(prompt('how old are you?'))\n",
    "// console.log(age)\n",
    "// console.log(isNaN(age))\n",
    "\n",
    "if(isNaN(age) || age <0) {\n",
    "    console.log('please write a number');\n",
    "    // === : is, !== : in not\n",
    "} else if (age === 100) {\n",
    "    console.log('he can do anything');\n",
    "} else if (age < 18) {\n",
    "    console.log('you are too young');\n",
    "    // && : and,  || : or\n",
    "} else if (age >= 18 && age <= 50) {\n",
    "    console.log('you can drink');    \n",
    "} else {\n",
    "    console.log('you cannot drink');\n",
    "}"
   ]
  },
  {
   "cell_type": "markdown",
   "metadata": {},
   "source": [
    "# 2. JS on Browser"
   ]
  },
  {
   "cell_type": "code",
   "execution_count": 8,
   "metadata": {
    "vscode": {
     "languageId": "javascript"
    }
   },
   "outputs": [
    {
     "ename": "SyntaxError",
     "evalue": "invalid syntax (706921154.py, line 1)",
     "output_type": "error",
     "traceback": [
      "\u001b[1;36m  Cell \u001b[1;32mIn[8], line 1\u001b[1;36m\u001b[0m\n\u001b[1;33m    // document :html에 쓴 내용 확인할 수 있음. = object\u001b[0m\n\u001b[1;37m    ^\u001b[0m\n\u001b[1;31mSyntaxError\u001b[0m\u001b[1;31m:\u001b[0m invalid syntax\n"
     ]
    }
   ],
   "source": [
    "// document :html에 쓴 내용 확인할 수 있음. = object\n",
    "document\n",
    "// 제목\n",
    "document.title\n",
    "// 수정도 가능.\n",
    "document.title = 'hi'\n",
    "// html에서 원하는 부분을 불러오고, 수정도 가능함.\n",
    "document.body"
   ]
  },
  {
   "cell_type": "code",
   "execution_count": 10,
   "metadata": {
    "vscode": {
     "languageId": "javascript"
    }
   },
   "outputs": [
    {
     "ename": "SyntaxError",
     "evalue": "invalid syntax (4103207318.py, line 1)",
     "output_type": "error",
     "traceback": [
      "\u001b[1;36m  Cell \u001b[1;32mIn[10], line 1\u001b[1;36m\u001b[0m\n\u001b[1;33m    // ID로 원하는걸 get하기\u001b[0m\n\u001b[1;37m    ^\u001b[0m\n\u001b[1;31mSyntaxError\u001b[0m\u001b[1;31m:\u001b[0m invalid syntax\n"
     ]
    }
   ],
   "source": [
    "// ID로 원하는걸 get하기\n",
    "const title = document.getElementById('title')\n",
    "console.log(title)\n",
    "// dir : 좀 더 자세히 \n",
    "console.dir(title)\n",
    "// title.innerText = 'got you'\n",
    "console.log(title.className)"
   ]
  },
  {
   "cell_type": "code",
   "execution_count": 11,
   "metadata": {
    "vscode": {
     "languageId": "javascript"
    }
   },
   "outputs": [
    {
     "ename": "SyntaxError",
     "evalue": "invalid syntax (207365000.py, line 1)",
     "output_type": "error",
     "traceback": [
      "\u001b[1;36m  Cell \u001b[1;32mIn[11], line 1\u001b[1;36m\u001b[0m\n\u001b[1;33m    // 원하는 element 가져오기\u001b[0m\n\u001b[1;37m    ^\u001b[0m\n\u001b[1;31mSyntaxError\u001b[0m\u001b[1;31m:\u001b[0m invalid syntax\n"
     ]
    }
   ],
   "source": [
    "// 원하는 element 가져오기\n",
    "// class로 get하기 : 여러개로 가져올 때 좋다\n",
    "const hellos = document.getElementsByClassName('hello');\n",
    "// = document.querySelector('#hello')\n",
    "\n",
    "console.log(hellos)\n",
    "\n",
    "hellos[1] = 'bye'\n",
    "\n",
    "console.log(hellos)\n",
    "\n",
    "// div 안에 h1 get하기 : div, h1~6, a 등등 다 가능.\n",
    "const title = document.getElementsByTagName(\"h1\");\n",
    "\n",
    "console.log(title)\n",
    "\n",
    "// querySelector : css방식?으로 찾아줌. 하나의 element만 return. 여러개면 맨 첫번째만.\n",
    "const title2 = document.querySelector(\".hello h1\")\n",
    "\n",
    "console.log(title2)\n",
    "\n",
    "title2.innerText = 'hi'\n",
    "// querySelectorAll : 똑같은데 전부다 찾아줌."
   ]
  },
  {
   "cell_type": "code",
   "execution_count": 13,
   "metadata": {
    "vscode": {
     "languageId": "javascript"
    }
   },
   "outputs": [
    {
     "ename": "SyntaxError",
     "evalue": "invalid syntax (2894655007.py, line 1)",
     "output_type": "error",
     "traceback": [
      "\u001b[1;36m  Cell \u001b[1;32mIn[13], line 1\u001b[1;36m\u001b[0m\n\u001b[1;33m    // Events : on으로 시작하는 object안의 property\u001b[0m\n\u001b[1;37m    ^\u001b[0m\n\u001b[1;31mSyntaxError\u001b[0m\u001b[1;31m:\u001b[0m invalid syntax\n"
     ]
    }
   ],
   "source": [
    "// Events : on으로 시작하는 object안의 property\n",
    "\n",
    "// event가 내가 하는 모든 행동이라는데? \n",
    "// 우리가 할 건 click event이고 그걸 listen한데.\n",
    "// listen 한다는건 지정한(click)이 발생한걸 감지하는 것 인듯.\n",
    "\n",
    "// const title2 = document.querySelector(\".hello h1\")\n",
    "const title = document.querySelector(\"div.hello:first-child h1\");\n",
    "\n",
    "// console.dir(title)\n",
    "\n",
    "// title.innerText = 'hi'\n",
    "\n",
    "// title.style.color = \"blue\";\n",
    "\n",
    "function handleTitleClick() {\n",
    "    title.style.color = \"red\"\n",
    "    console.log(\"title was clicked!\");\n",
    "}\n",
    "\n",
    "title.addEventListener(\"click\", handleTitleClick);"
   ]
  },
  {
   "cell_type": "code",
   "execution_count": 14,
   "metadata": {
    "vscode": {
     "languageId": "javascript"
    }
   },
   "outputs": [
    {
     "ename": "SyntaxError",
     "evalue": "invalid syntax (1947669540.py, line 1)",
     "output_type": "error",
     "traceback": [
      "\u001b[1;36m  Cell \u001b[1;32mIn[14], line 1\u001b[1;36m\u001b[0m\n\u001b[1;33m    // 원하는 event를 찾고 싶으면 html mdn을 이용해라.\u001b[0m\n\u001b[1;37m    ^\u001b[0m\n\u001b[1;31mSyntaxError\u001b[0m\u001b[1;31m:\u001b[0m invalid syntax\n"
     ]
    }
   ],
   "source": [
    "// 원하는 event를 찾고 싶으면 html mdn을 이용해라.\n",
    "// HTML Heading Element ~~로 들어가면 h1~6에 대한 정보를 얻을 수 있다.\n",
    "const title = document.querySelector(\"div.hello:first-child h1\");\n",
    "\n",
    "function handleTitleClick() {\n",
    "    title.style.color = \"blue\";\n",
    "}\n",
    "\n",
    "function handleMouseEnter() {\n",
    "    // 강의에는 innerText로 설명하는데, innerHTML이 좀 더 최근건가? 이것만 뜸\n",
    "    title.innerHTML = \"Mouse is here!\"\n",
    "    // alert(\"mouse is here!\")\n",
    "}\n",
    "\n",
    "function handleMouseLeave() {\n",
    "    title.innerHTML = \"Mouse is gone!\"\n",
    "}\n",
    "\n",
    "// document로 들고 올 수 있는건 head, body, title 깥이 중요한 것.\n",
    "// 나머지는 querySelector 로 찾아서 들고와야함.\n",
    "function handleWindowResize() {\n",
    "    document.body.style.backgroundColor = \"tomato\"\n",
    "}\n",
    "\n",
    "function handleWindowCopy() {\n",
    "    alert(\"복사를 하셨군요?\")\n",
    "}\n",
    "\n",
    "title.addEventListener(\"click\", handleTitleClick);\n",
    "// 이것도 같은 기능인데. 차후에 수정이 힘들어서 선호하지 않는데.\n",
    "// title.onclick = handleTitleClick\n",
    "title.addEventListener(\"mouseenter\", handleMouseEnter);\n",
    "title.addEventListener(\"mouseleave\", handleMouseLeave);\n",
    "\n",
    "\n",
    "// window는 따로 설정하지 않아도 기본으로 제공.\n",
    "// 그냥 창 자체에 대한 이야기 인듯. \n",
    "// 창 크기를 조절하면.\n",
    "window.addEventListener(\"resize\", handleWindowResize);\n",
    "// 창에서 복사기능을 사용하면.\n",
    "window.addEventListener(\"copy\", handleWindowCopy);"
   ]
  },
  {
   "cell_type": "code",
   "execution_count": 15,
   "metadata": {
    "vscode": {
     "languageId": "javascript"
    }
   },
   "outputs": [
    {
     "ename": "SyntaxError",
     "evalue": "invalid syntax (1303293652.py, line 2)",
     "output_type": "error",
     "traceback": [
      "\u001b[1;36m  Cell \u001b[1;32mIn[15], line 2\u001b[1;36m\u001b[0m\n\u001b[1;33m    // step.1 find element\u001b[0m\n\u001b[1;37m    ^\u001b[0m\n\u001b[1;31mSyntaxError\u001b[0m\u001b[1;31m:\u001b[0m invalid syntax\n"
     ]
    }
   ],
   "source": [
    "// 실제로 어떻게 만들까?\n",
    "// step.1 find element\n",
    "// step.2 listen event\n",
    "// step.3 react the event \n",
    "\n",
    "\n",
    "// if 로 색 왔다갔다 해보기\n",
    "const title = document.querySelector(\"div.hello:first-child h1\");\n",
    "\n",
    "// version.1\n",
    "// function handleTitleClick() {\n",
    "//     if (title.style.color === \"blue\") {\n",
    "//         title.style.color = \"tomato\";\n",
    "//     } else {\n",
    "//         title.style.color = \"blue\";\n",
    "//     }\n",
    "// }\n",
    "\n",
    "// version.2\n",
    "function handleTitleClick() {\n",
    "    const currentColor = title.style.color;\n",
    "    let newColor;\n",
    "    if (currentColor === \"blue\") {\n",
    "        newColor = \"tomato\";\n",
    "    } else {\n",
    "        newColor = \"blue\";\n",
    "    }\n",
    "    title.style.color = newColor;\n",
    "}\n",
    "\n",
    "title.addEventListener(\"click\", handleTitleClick);"
   ]
  },
  {
   "cell_type": "code",
   "execution_count": 16,
   "metadata": {
    "vscode": {
     "languageId": "javascript"
    }
   },
   "outputs": [
    {
     "ename": "SyntaxError",
     "evalue": "invalid syntax (2931610183.py, line 1)",
     "output_type": "error",
     "traceback": [
      "\u001b[1;36m  Cell \u001b[1;32mIn[16], line 1\u001b[1;36m\u001b[0m\n\u001b[1;33m    // 짜스는 애니메이션에만 사용하는게 좋다고 생각한대.\u001b[0m\n\u001b[1;37m    ^\u001b[0m\n\u001b[1;31mSyntaxError\u001b[0m\u001b[1;31m:\u001b[0m invalid syntax\n"
     ]
    }
   ],
   "source": [
    "// 짜스는 애니메이션에만 사용하는게 좋다고 생각한대.\n",
    "// 색변경은 css에 할당하는게 더 보기 좋다고 생각함.\n",
    "// 다섯 버전으로 해보기.\n",
    "\n",
    "const h1 = document.querySelector(\"div.hello:first-child h1\");\n",
    "\n",
    "// version.1\n",
    "// function handleTitleClick() {\n",
    "//     h1.className = \"active\";\n",
    "// }\n",
    "\n",
    "// version.2\n",
    "// function handleTitleClick() {\n",
    "//     if (h1.className === \"active\") {\n",
    "//         h1.className = \"\";\n",
    "//     } else {\n",
    "//         h1.className = \"active\";\n",
    "//     }\n",
    "// }\n",
    "\n",
    "// version.3 active는 내가 지어준거니까 css에서 변경하면 한번에 싹 변경되게.\n",
    "// function handleTitleClick() {\n",
    "// const clickClass = \"active\"\n",
    "//     if (h1.className === clickClass) {\n",
    "//         h1.className = \"\";\n",
    "//     } else {\n",
    "//         h1.className = clickClass;\n",
    "//     }\n",
    "// }\n",
    "\n",
    "// version.4 기존에 class가 있을 때, 걔는 건드리지 않고 active만 있다 없다 하게.\n",
    "// className -> classList\n",
    "// function handleTitleClick() {\n",
    "//     const clickClass = \"active\"\n",
    "//         if (h1.classList.contains(clickClass)) {\n",
    "//             h1.classList.remove(clickClass);\n",
    "//         } else {\n",
    "//             h1.classList.add(clickClass);\n",
    "//         }\n",
    "//     }\n",
    "\n",
    "// version.5 이 기능을 간단하게 -> toggle.\n",
    "function handleTitleClick() {\n",
    "    h1.classList.toggle(\"active\");\n",
    "    }\n",
    "\n",
    "h1.addEventListener(\"click\", handleTitleClick);"
   ]
  },
  {
   "cell_type": "code",
   "execution_count": 17,
   "metadata": {
    "vscode": {
     "languageId": "html"
    }
   },
   "outputs": [
    {
     "ename": "SyntaxError",
     "evalue": "invalid syntax (4153369529.py, line 1)",
     "output_type": "error",
     "traceback": [
      "\u001b[1;36m  Cell \u001b[1;32mIn[17], line 1\u001b[1;36m\u001b[0m\n\u001b[1;33m    <!-- CSS -->\u001b[0m\n\u001b[1;37m    ^\u001b[0m\n\u001b[1;31mSyntaxError\u001b[0m\u001b[1;31m:\u001b[0m invalid syntax\n"
     ]
    }
   ],
   "source": [
    "<!-- CSS -->\n",
    "\n",
    "body {\n",
    "    background-color: beige;\n",
    "}\n",
    "\n",
    "h1 {\n",
    "    color: blue;\n",
    "    transition: color 0.5s ease-in-out;\n",
    "}\n",
    "\n",
    ".active {\n",
    "    color: tomato;\n",
    "}\n",
    "\n",
    ".sexy-font {\n",
    "    font-style: inherit;\n",
    "}"
   ]
  },
  {
   "cell_type": "code",
   "execution_count": 18,
   "metadata": {
    "vscode": {
     "languageId": "javascript"
    }
   },
   "outputs": [
    {
     "ename": "SyntaxError",
     "evalue": "invalid syntax (676423217.py, line 1)",
     "output_type": "error",
     "traceback": [
      "\u001b[1;36m  Cell \u001b[1;32mIn[18], line 1\u001b[1;36m\u001b[0m\n\u001b[1;33m    // 입력 받기.\u001b[0m\n\u001b[1;37m    ^\u001b[0m\n\u001b[1;31mSyntaxError\u001b[0m\u001b[1;31m:\u001b[0m invalid syntax\n"
     ]
    }
   ],
   "source": [
    "// 입력 받기.\n",
    "\n",
    "// version.1\n",
    "// const loginForm = document.querySelector(\"#login-form\");\n",
    "// const loginInput = loginForm.querySelector(\"input\");\n",
    "// const loginButton = loginForm.querySelector(\"button\");\n",
    "\n",
    "// verison.2\n",
    "const loginInput = document.querySelector(\"#login-form input\");\n",
    "const loginButton = document.querySelector(\"#login-form button\");\n",
    "\n",
    "function clickLoginButton() {\n",
    "    console.dir(loginInput.value);\n",
    "    console.log(\"click\");\n",
    "}\n",
    "\n",
    "loginButton.addEventListener(\"click\", clickLoginButton);"
   ]
  },
  {
   "cell_type": "code",
   "execution_count": null,
   "metadata": {
    "vscode": {
     "languageId": "html"
    }
   },
   "outputs": [],
   "source": [
    "<!-- form으로 입력 받기 -->\n",
    "<!DOCTYPE html>\n",
    "<html lang=\"en\">\n",
    "<head>\n",
    "    <meta charset=\"UTF-8\">\n",
    "    <meta name=\"viewport\" content=\"width=device-width, initial-scale=1.0\">\n",
    "    <link rel=\"stylesheet\" href=\"style.css\">\n",
    "    <title>Momentum</title>\n",
    "</head>\n",
    "<body>\n",
    "    <form id=\"login-form\">\n",
    "        <input \n",
    "            required\n",
    "            maxlength=\"15\"\n",
    "            type=\"text\" \n",
    "            placeholder=\"what is your name?\"\n",
    "        >\n",
    "        <button>Log In</button>    \n",
    "    </form>\n",
    "    <script src=\"app.js\"></script>\n",
    "</body>\n",
    "</html>"
   ]
  },
  {
   "cell_type": "code",
   "execution_count": 19,
   "metadata": {
    "vscode": {
     "languageId": "javascript"
    }
   },
   "outputs": [
    {
     "ename": "SyntaxError",
     "evalue": "invalid syntax (2346605531.py, line 1)",
     "output_type": "error",
     "traceback": [
      "\u001b[1;36m  Cell \u001b[1;32mIn[19], line 1\u001b[1;36m\u001b[0m\n\u001b[1;33m    // 유효성 검사\u001b[0m\n\u001b[1;37m    ^\u001b[0m\n\u001b[1;31mSyntaxError\u001b[0m\u001b[1;31m:\u001b[0m invalid syntax\n"
     ]
    }
   ],
   "source": [
    "// 유효성 검사\n",
    "const loginInput = document.querySelector(\"#login-form input\");\n",
    "const loginButton = document.querySelector(\"#login-form button\");\n",
    "\n",
    "// version.1\n",
    "// function clickLoginButton() {\n",
    "//     const username = loginInput.value;\n",
    "//     if (username === \"\") {\n",
    "//         alert(\"please write your name\");\n",
    "//     } else if (username.length > 15) {\n",
    "//         alert(\"your name is too long\");\n",
    "//     }\n",
    "// }\n",
    "\n",
    "// version.2  기능적인 부분은 html에서 form으로 쓸 수 있으니 거기다 써보자.\n",
    "function clickLoginButton() {\n",
    "    const username = loginInput.value;\n",
    "    console.log(username);\n",
    "}\n",
    "\n",
    "loginButton.addEventListener(\"click\", clickLoginButton);"
   ]
  },
  {
   "cell_type": "code",
   "execution_count": 21,
   "metadata": {
    "vscode": {
     "languageId": "javascript"
    }
   },
   "outputs": [
    {
     "ename": "SyntaxError",
     "evalue": "invalid syntax (318170992.py, line 1)",
     "output_type": "error",
     "traceback": [
      "\u001b[1;36m  Cell \u001b[1;32mIn[21], line 1\u001b[1;36m\u001b[0m\n\u001b[1;33m    // 새로고침 막기\u001b[0m\n\u001b[1;37m    ^\u001b[0m\n\u001b[1;31mSyntaxError\u001b[0m\u001b[1;31m:\u001b[0m invalid syntax\n"
     ]
    }
   ],
   "source": [
    "// 새로고침 막기\n",
    "// form은 실행하면 창을 무조건 새로고침 해서 이걸 막아야한다.!\n",
    "const loginForm = document.querySelector(\"#login-form\");\n",
    "const loginInput = document.querySelector(\"#login-form input\");\n",
    "\n",
    "const link = document.querySelector(\"a\");\n",
    "\n",
    "// function loginSubmit() {\n",
    "//     const username = loginInput.value;\n",
    "//     console.log(username);\n",
    "// }\n",
    "\n",
    "// magic?\n",
    "function loginSubmit(event) {\n",
    "    // 브라우저의 기본 동작을 막아줘야해서.\n",
    "    event.preventDefault();\n",
    "    console.log(event);\n",
    "    console.log(loginInput.value);\n",
    "}\n",
    "\n",
    "function handleLinkClick(event) {\n",
    "    event.preventDefault();\n",
    "    console.log(event);\n",
    "}\n",
    "\n",
    "// function 뒤에 ()쓰면 즉시 실행한다는 뜻임\n",
    "loginForm.addEventListener(\"submit\", loginSubmit);\n",
    "link.addEventListener(\"click\", handleLinkClick);\n"
   ]
  },
  {
   "cell_type": "code",
   "execution_count": 22,
   "metadata": {
    "vscode": {
     "languageId": "javascript"
    }
   },
   "outputs": [
    {
     "ename": "SyntaxError",
     "evalue": "invalid syntax (1456977488.py, line 1)",
     "output_type": "error",
     "traceback": [
      "\u001b[1;36m  Cell \u001b[1;32mIn[22], line 1\u001b[1;36m\u001b[0m\n\u001b[1;33m    // 유저네임 얻기.\u001b[0m\n\u001b[1;37m    ^\u001b[0m\n\u001b[1;31mSyntaxError\u001b[0m\u001b[1;31m:\u001b[0m invalid syntax\n"
     ]
    }
   ],
   "source": [
    "// 유저네임 얻기.\n",
    "\n",
    "const loginForm = document.querySelector(\"#login-form\");\n",
    "const loginInput = document.querySelector(\"#login-form input\");\n",
    "const greeting = document.querySelector(\"#greeting\");\n",
    "\n",
    "// 관습이라는데, string만 있으면 전부 대문자, 별로 중요하지도 않아서? 라는 식이었는데.\n",
    "const HIDDEN_CLASSNAME = \"hidden\";\n",
    "\n",
    "function loginSubmit(event) {\n",
    "    event.preventDefault();\n",
    "    loginForm.classList.add(HIDDEN_CLASSNAME);\n",
    "    const username = loginInput.value;\n",
    "    // greeting.innerText = \"Hello \" + username;\n",
    "    // new method : 백틱으로 써야함.\n",
    "    greeting.innerText = `Hello ${username}`;\n",
    "    greeting.classList.remove(HIDDEN_CLASSNAME);\n",
    "}\n",
    "\n",
    "loginForm.addEventListener(\"submit\", loginSubmit);\n"
   ]
  },
  {
   "cell_type": "code",
   "execution_count": 1,
   "metadata": {
    "vscode": {
     "languageId": "javascript"
    }
   },
   "outputs": [
    {
     "ename": "SyntaxError",
     "evalue": "invalid syntax (223268137.py, line 1)",
     "output_type": "error",
     "traceback": [
      "\u001b[1;36m  Cell \u001b[1;32mIn[1], line 1\u001b[1;36m\u001b[0m\n\u001b[1;33m    // interval : 정해진 시간마다 반복해서 일어나야 하는 것.\u001b[0m\n\u001b[1;37m    ^\u001b[0m\n\u001b[1;31mSyntaxError\u001b[0m\u001b[1;31m:\u001b[0m invalid syntax\n"
     ]
    }
   ],
   "source": [
    "// interval : 정해진 시간마다 반복해서 일어나야 하는 것.\n",
    "const clock =  document.querySelector(\"h2#clock\");\n",
    "\n",
    "function sayHello() {\n",
    "    console.log(\"hello\");\n",
    "}\n",
    "\n",
    "// 뒤의 숫자는 ms 단위\n",
    "setInterval(sayHello, 5000);"
   ]
  },
  {
   "cell_type": "code",
   "execution_count": 2,
   "metadata": {
    "vscode": {
     "languageId": "javascript"
    }
   },
   "outputs": [
    {
     "ename": "SyntaxError",
     "evalue": "invalid syntax (789424850.py, line 1)",
     "output_type": "error",
     "traceback": [
      "\u001b[1;36m  Cell \u001b[1;32mIn[2], line 1\u001b[1;36m\u001b[0m\n\u001b[1;33m    // 시계 만들기.\u001b[0m\n\u001b[1;37m    ^\u001b[0m\n\u001b[1;31mSyntaxError\u001b[0m\u001b[1;31m:\u001b[0m invalid syntax\n"
     ]
    }
   ],
   "source": [
    "// 시계 만들기.\n",
    "// timeout, Date\n",
    "const clock =  document.querySelector(\"h2#clock\");\n",
    "\n",
    "function getClock() {\n",
    "    const date = new Date();\n",
    "    // padStart, padEnd(a, b) : a길이만큼 만들고, 모자란 부분은 b로 채운다.\n",
    "    const hours = String(date.getHours()).padStart(2, \"0\");\n",
    "    const minutes = String(date.getMinutes()).padStart(2, \"0\");\n",
    "    const seconds = String(date.getSeconds()).padStart(2, \"0\");\n",
    "    clock.innerText = `${hours}:${minutes}:${seconds}`\n",
    "\n",
    "    // 시,분,초 추가\n",
    "    // clock.innerText = `${date.getHours()}:${date.getMinutes()}:${date.getSeconds()}`\n",
    "}\n",
    "\n",
    "// 뒤의 숫자는 ms 단위\n",
    "getClock()\n",
    "setInterval(getClock, 1000);"
   ]
  },
  {
   "cell_type": "code",
   "execution_count": 3,
   "metadata": {
    "vscode": {
     "languageId": "javascript"
    }
   },
   "outputs": [
    {
     "ename": "SyntaxError",
     "evalue": "invalid syntax (3941899585.py, line 1)",
     "output_type": "error",
     "traceback": [
      "\u001b[1;36m  Cell \u001b[1;32mIn[3], line 1\u001b[1;36m\u001b[0m\n\u001b[1;33m    // 랜덤 명언 넣기 : 리스트 안에 오브젝트.\u001b[0m\n\u001b[1;37m    ^\u001b[0m\n\u001b[1;31mSyntaxError\u001b[0m\u001b[1;31m:\u001b[0m invalid syntax\n"
     ]
    }
   ],
   "source": [
    "// 랜덤 명언 넣기 : 리스트 안에 오브젝트.\n",
    "const quotes = [\n",
    "    {\n",
    "        quote: \"The best way to predict the future is to invent it.\",\n",
    "        author: \"Alan Kay\"\n",
    "    },\n",
    "    {\n",
    "        quote: \"Science is not only compatible with spirituality; it is a profound source of spirituality.\",\n",
    "        author: \"Carl Sagan\"\n",
    "    },\n",
    "    {\n",
    "        quote: \"Simplicity is the ultimate sophistication.\",\n",
    "        author: \"Leonardo da Vinci\"\n",
    "    },\n",
    "    {\n",
    "        quote: \"Failure is simply the opportunity to begin again, this time more intelligently.\",\n",
    "        author: \"Henry Ford\"\n",
    "    },\n",
    "    {\n",
    "        quote: \"In the middle of difficulty lies opportunity.\",\n",
    "        author: \"Albert Einstein\"\n",
    "    },\n",
    "    {\n",
    "        quote: \"You can't connect the dots looking forward; you can only connect them looking backwards.\",\n",
    "        author: \"Steve Jobs\"\n",
    "    },\n",
    "    {\n",
    "        quote: \"If you can't explain it simply, you don't understand it well enough.\",\n",
    "        author: \"Albert Einstein\"\n",
    "    },\n",
    "    {\n",
    "        quote: \"Innovation distinguishes between a leader and a follower.\",\n",
    "        author: \"Steve Jobs\"\n",
    "    },\n",
    "    {\n",
    "        quote: \"Success is the sum of small efforts, repeated day in and day out.\",\n",
    "        author: \"Robert Collier\"\n",
    "    },\n",
    "    {\n",
    "        quote: \"What we fear doing most is usually what we most need to do.\",\n",
    "        author: \"Tim Ferriss\"\n",
    "    }\n",
    "];\n",
    "\n",
    "const quote = document.querySelector(\"#quote span:first-child\");\n",
    "const author = document.querySelector(\"#quote span:last-child\");\n",
    "\n",
    "// new technic : Math\n",
    "// Math.random() * a : 0~a사이의 숫자 랜덤으로 추출(소수 달렸음)\n",
    "// Math.round, ceil, floor : 소수 없애는 여러가지 방법\n",
    "const randomQuotes = quotes[Math.floor(Math.random() * quotes.length)];\n",
    "\n",
    "quote.innerText = randomQuotes.quote;\n",
    "author.innerText = randomQuotes.author;"
   ]
  },
  {
   "cell_type": "code",
   "execution_count": 4,
   "metadata": {
    "vscode": {
     "languageId": "javascript"
    }
   },
   "outputs": [
    {
     "ename": "SyntaxError",
     "evalue": "invalid syntax (2226101043.py, line 1)",
     "output_type": "error",
     "traceback": [
      "\u001b[1;36m  Cell \u001b[1;32mIn[4], line 1\u001b[1;36m\u001b[0m\n\u001b[1;33m    // 랜덤 이미지 불러오기 := 명언이랑 거의 비슷함.\u001b[0m\n\u001b[1;37m    ^\u001b[0m\n\u001b[1;31mSyntaxError\u001b[0m\u001b[1;31m:\u001b[0m invalid syntax\n"
     ]
    }
   ],
   "source": [
    "// 랜덤 이미지 불러오기 := 명언이랑 거의 비슷함.\n",
    "// 이미지 폴더, 이름이 같도록 주의해서 넣을 것.\n",
    "const images = [\n",
    "    \"0.jpg\",\n",
    "    \"1.jpg\",\n",
    "    \"2.jpg\",\n",
    "    \"3.jpg\",\n",
    "]\n",
    "\n",
    "const chosenImage = images[Math.floor(Math.random() * images.length)];\n",
    "// 짜스에서 html을 만들어서 추가하기.\n",
    "const bgImage = document.createElement(\"img\");\n",
    "\n",
    "bgImage.src = `pics/${chosenImage}`;\n",
    "\n",
    "document.body.appendChild(bgImage);"
   ]
  },
  {
   "cell_type": "code",
   "execution_count": 5,
   "metadata": {
    "vscode": {
     "languageId": "javascript"
    }
   },
   "outputs": [
    {
     "ename": "SyntaxError",
     "evalue": "invalid syntax (3413571582.py, line 1)",
     "output_type": "error",
     "traceback": [
      "\u001b[1;36m  Cell \u001b[1;32mIn[5], line 1\u001b[1;36m\u001b[0m\n\u001b[1;33m    // TODO리스트 만들기\u001b[0m\n\u001b[1;37m    ^\u001b[0m\n\u001b[1;31mSyntaxError\u001b[0m\u001b[1;31m:\u001b[0m invalid syntax\n"
     ]
    }
   ],
   "source": [
    "// TODO리스트 만들기\n",
    "// 기존의 기능들 짬뽕\n",
    "const toDoForm = document.getElementById(\"todo-form\");\n",
    "const toDoInput = document.querySelector(\"#todo-form input\");\n",
    "const toDoList = document.getElementById(\"todo-list\");\n",
    "\n",
    "// 여러번 쓰는 이름 저장해두기\n",
    "const TODOS_KEY = \"todos\"\n",
    "\n",
    "// 저장할 리스트 만들기\n",
    "// problem : 실행할 때 마다 빈 어레이를 갖고와서, 새로 입력을 받으면 이전것들이 사라짐.\n",
    "// const toDos = [];\n",
    "// solution : const => let\n",
    "let toDos = [];\n",
    "\n",
    "function saveToDo() {\n",
    "    // 이거 해도 스트링으로만 저장되고 어레이로 안됨. \n",
    "    // localStorage.setItem(\"todos\", toDos);\n",
    "    // new technic : JSON.stringfy(A) : A 어레이를 스트링모양으로 만들어줌 ! \n",
    "    localStorage.setItem(TODOS_KEY, JSON.stringify(toDos));\n",
    "}\n",
    "\n",
    "\n",
    "function deleteToDo(event) {\n",
    "    const li = event.target.parentElement;\n",
    "    li.remove();\n",
    "}\n",
    "\n",
    "function paintToDo(newToDo) {\n",
    "    // 어레이 안에 스판 넣어서 만들기\n",
    "    const li = document.createElement(\"li\");\n",
    "    const span = document.createElement(\"span\");\n",
    "    const button = document.createElement(\"button\");\n",
    "    \n",
    "    span.innerText = newToDo;\n",
    "    button.innerText = \"X\"\n",
    "\n",
    "    li.appendChild(span);\n",
    "    li.appendChild(button);\n",
    "    \n",
    "    // 만든걸 투두리스트에 넣기\n",
    "    toDoList.appendChild(li);\n",
    "\n",
    "    // 버튼 누르면 없어지게 하기.\n",
    "    button.addEventListener(\"click\", deleteToDo);\n",
    "}\n",
    "\n",
    "function handleToDoSubmit(event) {\n",
    "    // form은 새로고침 하니까 멈추고.\n",
    "    event.preventDefault();\n",
    "    // 입력값 저장\n",
    "    const newToDo = toDoInput.value;\n",
    "    // 입력창 초기화\n",
    "    toDoInput.value = \"\";\n",
    "    // 할 일 리스트에 일 넣고\n",
    "    toDos.push(newToDo);\n",
    "    // 할 일 화면에 표시하고\n",
    "    paintToDo(newToDo);\n",
    "    // 할 일 저장하고\n",
    "    saveToDo();\n",
    "}\n",
    "\n",
    "toDoForm.addEventListener(\"submit\", handleToDoSubmit);\n",
    "\n",
    "const saveToDos = localStorage.getItem(TODOS_KEY);\n",
    "\n",
    "// version.1 : 순회하면서 하나씩 다 뽑아주는거.\n",
    "// function sayHello(item) {\n",
    "//     console.log(\"this is the turn of\", item);\n",
    "// }\n",
    "\n",
    "if (saveToDos) {\n",
    "    // JSON.parse(A) : 스트링 모양이었던 A를 다시 어레이로 돌려줌 !\n",
    "    const parsedToDos = JSON.parse(saveToDos);\n",
    "    // forEach(A) : A어레이 안에 원소들 순회해주는듯. 반복문?\n",
    "    // version.1\n",
    "    // parsedToDos.forEach(sayHello(item));\n",
    "\n",
    "    // version.2 : 1 번의 짧은 버전\n",
    "    // => : arrow function 속도는 1이나 2나 같다.\n",
    "    // parsedToDos.forEach((element) => console.log(\"this is the turn of\", item));\n",
    "\n",
    "    // result. \n",
    "    // soultion : toDos를 가변으로 바꿨으니까, 저장해둔걸 넣어줄 수 있음.\n",
    "    toDos = parsedToDos;\n",
    "    parsedToDos.forEach(paintToDo);\n",
    "}"
   ]
  },
  {
   "cell_type": "code",
   "execution_count": null,
   "metadata": {
    "vscode": {
     "languageId": "javascript"
    }
   },
   "outputs": [],
   "source": [
    "// 저장만 되고, 삭제는 안되는 이슈 해결하기.\n",
    "const toDoForm = document.getElementById(\"todo-form\");\n",
    "const toDoInput = document.querySelector(\"#todo-form input\");\n",
    "const toDoList = document.getElementById(\"todo-list\");\n",
    "\n",
    "const TODOS_KEY = \"todos\"\n",
    "\n",
    "let toDos = [];\n",
    "\n",
    "function saveToDo() {\n",
    "    localStorage.setItem(TODOS_KEY, JSON.stringify(toDos));\n",
    "}\n",
    "\n",
    "\n",
    "function deleteToDo(event) {\n",
    "    const li = event.target.parentElement;\n",
    "    li.remove();\n",
    "    // filter 사용.\n",
    "    toDos = toDos.filter((toDo) => toDo.id !== parseInt(li.id));\n",
    "    // 이거 안하면 삭제한거 저장 안됨.\n",
    "    saveToDo();\n",
    "}\n",
    "\n",
    "// newToDo가 object로 바뀌어서 수정해줘야함.\n",
    "function paintToDo(newToDo) {\n",
    "    const li = document.createElement(\"li\");\n",
    "    const span = document.createElement(\"span\");\n",
    "    const button = document.createElement(\"button\");\n",
    "    \n",
    "    // newToDo -> newToDo.text 로.\n",
    "    li.id = newToDo.id;\n",
    "    span.innerText = newToDo.text;\n",
    "    button.innerText = \"X\";\n",
    "\n",
    "    li.appendChild(span);\n",
    "    li.appendChild(button);\n",
    "    \n",
    "    toDoList.appendChild(li);\n",
    "    button.addEventListener(\"click\", deleteToDo);\n",
    "}\n",
    "\n",
    "function handleToDoSubmit(event) {\n",
    "    event.preventDefault();\n",
    "    const newToDo = toDoInput.value;\n",
    "    toDoInput.value = \"\";\n",
    "    // 여기서 원소를 오브젝트로 바꿔서 지우고자 하는 애한테 이름을 달아줌.\n",
    "    // toDos.push(newToDo);\n",
    "    const newToDoObj = {\n",
    "        text: newToDo,\n",
    "        // 지금의 시간을 랜덤한 수로 주는거.\n",
    "        id: Date.now(),\n",
    "    }\n",
    "    // paintToDo(newToDo);\n",
    "    toDos.push(newToDoObj);\n",
    "    paintToDo(newToDoObj);\n",
    "    saveToDo();\n",
    "}\n",
    "\n",
    "toDoForm.addEventListener(\"submit\", handleToDoSubmit);\n",
    "\n",
    "const saveToDos = localStorage.getItem(TODOS_KEY);\n",
    "\n",
    "if (saveToDos) {\n",
    "    const parsedToDos = JSON.parse(saveToDos);\n",
    "    toDos = parsedToDos;\n",
    "    parsedToDos.forEach(paintToDo);\n",
    "}\n",
    "\n",
    "// 사실 어레이에서 지우는건 걔만 빼고 새로 만드는거다.!\n",
    "// 그 기능을 하는 함수 : filter(x){return x~} : 에 관련된 조건 x~를 만족하지 못하면. 추방!\n"
   ]
  },
  {
   "cell_type": "code",
   "execution_count": null,
   "metadata": {
    "vscode": {
     "languageId": "javascript"
    }
   },
   "outputs": [],
   "source": [
    "// 날씨 만들기\n",
    "// step.1 내 위치 찾기.\n",
    "// openweather에서 url 따오기.\n",
    "// 정보 뒤져서 가져오기.\n",
    "\n",
    "function onGeoOk(position) {\n",
    "    const lat = position.coords.latitude;\n",
    "    const lng = position.coords.longitude;\n",
    "    // console.log(\"you are living in\", lat, lng);\n",
    "    const url = `https://api.openweathermap.org/data/2.5/weather?lat=35.0978048&lon=128.9158656&appid=4550cd60b616922bfc82766893b061dd&units=metric`;\n",
    "    // console.log(url);\n",
    "    fetch(url)\n",
    "        .then(response => response.json())\n",
    "        .then((data) => {\n",
    "            const weather = document.querySelector(\"#weather span:first-child\");\n",
    "            const city = document.querySelector(\"#weather span:last-child\");\n",
    "            city.innerText = data.name;\n",
    "            weather.innerText = `${data.weather[0].main} / ${data.main.temp}'C`;\n",
    "        });\n",
    "}\n",
    "\n",
    "function onGeoError() {\n",
    "    alert(\"can't find you.\")\n",
    "}\n",
    "\n",
    "navigator.geolocation.getCurrentPosition(onGeoOk, onGeoError);\n"
   ]
  }
 ],
 "metadata": {
  "kernelspec": {
   "display_name": "Python 3",
   "language": "python",
   "name": "python3"
  },
  "language_info": {
   "codemirror_mode": {
    "name": "ipython",
    "version": 3
   },
   "file_extension": ".py",
   "mimetype": "text/x-python",
   "name": "python",
   "nbconvert_exporter": "python",
   "pygments_lexer": "ipython3",
   "version": "3.9.13"
  }
 },
 "nbformat": 4,
 "nbformat_minor": 2
}

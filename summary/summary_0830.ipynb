{
 "cells": [
  {
   "cell_type": "markdown",
   "metadata": {},
   "source": [
    "# Start2"
   ]
  },
  {
   "cell_type": "markdown",
   "metadata": {},
   "source": [
    "## 비트 연산"
   ]
  },
  {
   "cell_type": "markdown",
   "metadata": {},
   "source": [
    "비트 & 바이트\n",
    "- 1bit : 0과 1을 표현하는 정보의 단위\n",
    "- byte : 8 bit를 묶어서 1 byte 라고 한다.\n",
    "- ex) 1001011011011100 : 16bit, 2byte\n",
    "\n",
    "비트 연산\n",
    "- 컴퓨터의 CPU는 0과 1로 다루어 동작되며, 내부적으로 `비트 연산`을 사용하여 덧셈, 뺄셈, 곱셈 등을 계산한다.\n",
    "- CPU : 연산을 해줌\n",
    "- 코드를 쓰면 메인 메모리(RAM)에 올라감. 많은 장치를 거쳐서 CPU가 연산.\n",
    "\n",
    "비트 연산 챕터의 목적\n",
    "- 사람이 사용하는 사칙연산(+, *, /, -)이 아닌 컴퓨터가 사용하는 연산인 `비트 연산`을 이해해본다.\n",
    "- 더 나아가 `프로그래밍에서 비트 연산을 활용한 코딩 방법`을 익혀본다.\n",
    "\n",
    "AND 와 OR 비트연산자 이해하기\n",
    "- a AND b : a, b 둘 다 1 일때만 결과가 1. 나머지는 0.\n",
    "    - = a & b\n",
    "    - ex) 1001 & 1101 = 1001 (자릿수끼리 비교해서 결과 도출)\n",
    "\n",
    "- a OR b : a, b 둘 다 0 일때만 결과가 0. 나머지는 1.\n",
    "    - = a | b\n",
    "    - 이진수로 바꾸지 않아도 &, | 연산 가능. 결과도 십진수로 출력해줌\n",
    "\n",
    "- 파이썬에서 2진수, 16진수, 10진수 변환, 출력하기\n",
    "    - 2진수 : 0b를 접두사로 붙여 표현\n",
    "    - 16진수 : 0x를 접두사로 붙여 표현\n"
   ]
  },
  {
   "cell_type": "code",
   "execution_count": 6,
   "metadata": {},
   "outputs": [
    {
     "name": "stdout",
     "output_type": "stream",
     "text": [
      "0b1010\n",
      "0xa\n",
      "13\n",
      "11\n",
      "26\n",
      "0b11010\n",
      "1211\n",
      "0b10010111011\n",
      "0b10010100011 0b11001\n"
     ]
    }
   ],
   "source": [
    "print(bin(10))              # 10을 2진수로 변환\n",
    "print(hex(10))              # 10을 16진수로 변환\n",
    "print(int('1101', 2))       # 2진수를 10진수로 변환\n",
    "print(int('b', 16))         # 16진수를 10진수로 변환\n",
    "\n",
    "# 예시\n",
    "print(0b11011110 & 0b11011)\n",
    "print(bin(0b11011110 & 0b11011))\n",
    "\n",
    "print(0x4A3 | 25)\n",
    "print(bin(0x4A3 | 25))\n",
    "print(bin(0x4A3), bin(25))"
   ]
  },
  {
   "cell_type": "markdown",
   "metadata": {},
   "source": [
    "- XOR & NOT 연산자\n",
    "    - ^ : XOR 연산자, 0R 처럼 동작되는데 둘 다 1인경우는 0이다.(같으면 0 다르면 1)\n",
    "    - 어떤 수이던 X0R을 두 번 하면 원래 수로 돌아옴. `A` ^ B = C, C ^ B = `A`\n",
    "    - $\\to$ B를 암호코드로 사용하면 암호화 가능."
   ]
  },
  {
   "cell_type": "code",
   "execution_count": null,
   "metadata": {},
   "outputs": [],
   "source": [
    "'''\n",
    "암호화 프로그램 제작하기\n",
    "수를 입력 받고 암호화(인코딩) 암호 해제(디코딩) 프로그램 제작\n",
    "KEY : 1004\n",
    "'''\n"
   ]
  },
  {
   "cell_type": "markdown",
   "metadata": {},
   "source": [
    "비트 연산자\n",
    "- Left Shift `<<` : 특정 수 만큼 비트를 왼쪽으로 밀어냄\n",
    "- Right Shift `>>` : 특정 수 만큼 비트를 오른쪽으로 밀어냄(우측 비트가 제거된다(?))\n",
    "\n",
    "비트 연산 응용1\n",
    "- 1 << n\n",
    "    - $2^n$의 값을 갖는다.\n",
    "    - 임베디드 분야에서 계산을 빠르게 하기 위해 사용된다.\n",
    "\n",
    "비트 연산 응용2\n",
    "- i & (1 << n)\n",
    "    - i의 n번째 비트가 1인지 아닌지를 확인 할 수 있다.\n",
    "    "
   ]
  },
  {
   "cell_type": "code",
   "execution_count": null,
   "metadata": {},
   "outputs": [],
   "source": [
    "# i 의미 : i 번째 부분집합\n",
    "\n",
    "for i in range(1 << len(arr)):\n",
    "    for idx in range(len(arr)):\n",
    "        # i & (1 << idx) : i 번째 부분집합에 idx 요소가 포함되어 있나요?\n",
    "        if i & (1 << idx):\n",
    "            print(arr[idx], end=' ')\n",
    "    print()"
   ]
  },
  {
   "cell_type": "markdown",
   "metadata": {},
   "source": [
    "음수 표현 방법\n",
    "- 컴퓨터는 음수를 `2의 보수`로 관리한다.\n",
    "- +보수를 취할 때 숫자가 올라가면 버린다.\n",
    "\n",
    "+ 0100을 음수로 표현하는 방법.\n",
    "1. 부호를 표시하는 비트를 쓰자.\n",
    "    - 0100, 1100 $\\to$ 앞자리가 1이면 음수\n",
    "    - 한 칸을 더 차지.\n",
    "\n",
    "2. 1의 보수\n",
    "    - 숫자를 반전시킨다.\n",
    "    - 0100 $\\to$ 1011 : 음수\n",
    "    - +0, -0이라는 개념이 생김. (?)\n",
    "\n",
    "3. 2의 보수\n",
    "    - 2의 보수는 반전 후에 1을 더한다.\n",
    "    - 0100 $\\to$ 1011 +1 $\\to$ 1100\n",
    "\n",
    "- 맨 앞자리 bit(MSB : Most Significant Bit)는 음수 or 양수를 구분하는 비트\n",
    "\n",
    "- 2의 보수로 음수를 관리하는 이유\n",
    "    - 컴퓨터는 원래 덧셈기 $\\to$ 덧셈이 빠름 $\\to$ 덧셈만으로 뺄셈을 구현할 수 있음.\n",
    "    - 뺄셈의 연산 속도를 올릴 수 있음.\n",
    "\n",
    "신기한 2의 보수\n",
    "- 2의 보수를 취한 수를 한 번 더 2의 보수를 취하면 원래 값으로 돌아온다."
   ]
  },
  {
   "cell_type": "markdown",
   "metadata": {},
   "source": [
    "NOT 연산자\n",
    "- NOT 연산자 (~) : 모든 비트를 반전시킨다.\n",
    "\n",
    "파이썬이 ~4를 -5로 출력하는 과정\n",
    "- 4 = 0b0100 $\\to$ (양수임으로 MSB : 0 추가)\n",
    "- NOT 연산자로 뒤집으면 1011\n",
    "- MSB 가 1이 되었고(음수), 나머지 bit는 011\n",
    "- 나머지 bit에 2의 보수를 취함. $\\to$ 100 + 1 = 101\n",
    "- 따라서. MSB + 나머지 bit $\\to$ 1101 = -5"
   ]
  },
  {
   "cell_type": "code",
   "execution_count": 7,
   "metadata": {},
   "outputs": [
    {
     "name": "stdout",
     "output_type": "stream",
     "text": [
      "0b100\n",
      "-0b101\n",
      "-5\n"
     ]
    }
   ],
   "source": [
    "print(bin(4))\n",
    "print(bin(~4))\n",
    "print(~4)"
   ]
  },
  {
   "cell_type": "code",
   "execution_count": null,
   "metadata": {},
   "outputs": [],
   "source": [
    "'''\n",
    "비트 연산 문제 풀어보기 SWEA 10726. 이진수 표현\n",
    "정수 N, M이 주어질 때, M의 이진수 표현의 마지막 N 비트가 모두 1로 켜져 있는지 아닌지를 판별하여 출력.\n",
    "모두 켜져있다면 0N, 아니면 OFF 출력\n",
    "'''"
   ]
  },
  {
   "cell_type": "markdown",
   "metadata": {},
   "source": [
    "## 실수"
   ]
  },
  {
   "cell_type": "markdown",
   "metadata": {},
   "source": [
    "파이썬에서 실수 출력 방법\n",
    "- f-string 문법을 지향\n",
    "\n",
    "소숫점 출력 방법\n",
    "- {a:nf} : a의 값을 소숫점 n자리에서 반올림\n",
    "\n",
    "파이썬에서 실수의 표현 범위\n",
    "- 파이썬은 다른 언어와 달리 내부적으로 더 큰 큐모의 자료구조를 사용. 훨씬 넓은 범위의 실수 표현가능\n",
    "\n",
    "- 최대로 표현할 수 있는 값 = $1.8*10^308$ 이 이상은 inf로 표현. $\\to$ float('inf')\n",
    "\n",
    "- 최소로 표현할 수 있는 값 = $5.0*10^-324$ 이 이하는 -inf로 표현. $\\to$ float('-inf')\n",
    "\n",
    "컴퓨터는 실수를 내부적으로 `근사적`으로 관리한다.\n",
    "- 실수는 정확한 값이 아니라 근삿값으로 저장. 이 때 생기는 `작은 오차`가 계산 과정에서 `다른 결과`를 가져옴\n",
    "\n"
   ]
  },
  {
   "cell_type": "code",
   "execution_count": null,
   "metadata": {},
   "outputs": [],
   "source": [
    "'''\n",
    "실수 값 출력해보기\n",
    "- 0.1이 정확히 어떤 값으로 저장되어 있는지 f-string을 이용하여 출력해보자.\n",
    "- 소숫점 20자리 이상으로도 출력해보자.\n",
    "'''"
   ]
  },
  {
   "cell_type": "markdown",
   "metadata": {},
   "source": [
    "소숫점이 있는 10진수를 2진수로 변환\n",
    "- 정수부분까지는 나눗셈으로 2진법으로 변환\n",
    "- 소수부분부터는 곱셈으로 표현\n",
    "\n",
    "ex) 0.75\n",
    "0.75 * 2 = 1.5 $\\to$ 0.5 ... 1\n",
    "0.5 * 2 = 1 $\\to$ 0 ... 1\n",
    "$\\to$ 0.75 = 0.11(2)"
   ]
  },
  {
   "cell_type": "markdown",
   "metadata": {},
   "source": []
  }
 ],
 "metadata": {
  "kernelspec": {
   "display_name": "Python 3",
   "language": "python",
   "name": "python3"
  },
  "language_info": {
   "codemirror_mode": {
    "name": "ipython",
    "version": 3
   },
   "file_extension": ".py",
   "mimetype": "text/x-python",
   "name": "python",
   "nbconvert_exporter": "python",
   "pygments_lexer": "ipython3",
   "version": "3.9.13"
  }
 },
 "nbformat": 4,
 "nbformat_minor": 2
}

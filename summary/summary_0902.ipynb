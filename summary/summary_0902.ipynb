{
 "cells": [
  {
   "cell_type": "markdown",
   "metadata": {},
   "source": [
    "# 4. 완전 검색"
   ]
  },
  {
   "cell_type": "markdown",
   "metadata": {},
   "source": [
    "재귀 호출, 완전 탐색에 대해서 학습."
   ]
  },
  {
   "cell_type": "markdown",
   "metadata": {},
   "source": [
    "## Iteration & Recursion"
   ]
  },
  {
   "cell_type": "markdown",
   "metadata": {},
   "source": [
    "- 유사한 작업을 수행할 수 있음.\n",
    "- 반복은 수행하는 작업이 완료될 때 까지 계속 반복\n",
    "    - 루프 (for, while 구조)\n",
    "    - 반복문은 코드를 n번 반복시킬 수 있다.\n",
    "\n",
    "- 재귀는 주어진 문제의 해를 구하기 위해 동일하면서 더 작은 문제의 해를 이용하는 방법\n",
    "    - 하나의 큰 문제를 해결할 수 있는 (해결하기 쉬운) 더 작은 문제로 쪼개고 결과를 결합\n",
    "    - 재귀호출은 n 중 반복문을 만들 수 있음\n",
    "\n",
    "- 재귀 특징\n",
    "    - 함수를 호출 할 때 int 타입 객체를 전달하면 값만 복사됨\n",
    "    "
   ]
  },
  {
   "cell_type": "code",
   "execution_count": null,
   "metadata": {},
   "outputs": [],
   "source": [
    "path = []\n",
    "N = 3\n",
    "\n",
    "def run(lev):\n",
    "    if lev == N:\n",
    "        print(path)\n",
    "        return\n",
    "    \n",
    "    for i in range(1, 4):\n",
    "        path.append(i)\n",
    "        run(lev + 1)\n",
    "        path.pop\n",
    "\n",
    "run(0)"
   ]
  }
 ],
 "metadata": {
  "kernelspec": {
   "display_name": "Python 3",
   "language": "python",
   "name": "python3"
  },
  "language_info": {
   "codemirror_mode": {
    "name": "ipython",
    "version": 3
   },
   "file_extension": ".py",
   "mimetype": "text/x-python",
   "name": "python",
   "nbconvert_exporter": "python",
   "pygments_lexer": "ipython3",
   "version": "3.9.13"
  }
 },
 "nbformat": 4,
 "nbformat_minor": 2
}

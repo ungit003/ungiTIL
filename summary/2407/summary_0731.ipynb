{
 "cells": [
  {
   "cell_type": "markdown",
   "metadata": {},
   "source": [
    "# 배열2"
   ]
  },
  {
   "cell_type": "markdown",
   "metadata": {},
   "source": [
    "## 2차원 배열"
   ]
  },
  {
   "cell_type": "markdown",
   "metadata": {},
   "source": [
    "arr = [[0, 1, 2, 3], [4, 5, 6, 7]]\n",
    "\n",
    "N = int(input())\n",
    "\n",
    "arr = [list(map(int, input().split())) for _ in range(N)]\n",
    "\n",
    "arr = [list(map(int, input())) for _ in range(N)]\n",
    "\n",
    "arr = [[0] * 3 for _ in range(2)] # 3 * 2 행렬"
   ]
  },
  {
   "cell_type": "code",
   "execution_count": null,
   "metadata": {},
   "outputs": [],
   "source": [
    "arr = [[0] * 3 for _ in range(2)] # 3 * 2 행렬\n",
    "print(arr)\n",
    "\n",
    "print(*arr)\n",
    "\n",
    "for i in range(2):\n",
    "    print(*arr[i])\n",
    "    \n",
    "for i in range(2):\n",
    "    for j in range(3):\n",
    "        print(arr[i][j], end = ' ')"
   ]
  },
  {
   "cell_type": "code",
   "execution_count": null,
   "metadata": {},
   "outputs": [],
   "source": [
    "# 이렇게 하지 말 것\n",
    "arr = [[0]*3]*2\n",
    "print(arr)\n",
    "\n",
    "arr[0][0] = 1\n",
    "print(arr)"
   ]
  },
  {
   "cell_type": "markdown",
   "metadata": {},
   "source": [
    "## 배열 순회\n",
    "- n * m 배열의 모든 원소를 빠짐없이 조사하는 방법\n",
    "\n",
    "1. 행 우선 순회\n",
    "    - 행별 합의 최댓값\n",
    "2. 열 우선 순회\n",
    "3. 지그재그 순회\n",
    "    - 뒤집어서 갈 때 순서랑 열의 번호를 합친게 일정.\n",
    "3. `델타를 이용한 2차 배열 탐색`\n"
   ]
  },
  {
   "cell_type": "markdown",
   "metadata": {},
   "source": [
    "## 전치 행렬"
   ]
  },
  {
   "cell_type": "markdown",
   "metadata": {},
   "source": [
    "## 부분집합 합\n"
   ]
  },
  {
   "cell_type": "markdown",
   "metadata": {},
   "source": [
    "비트 연산자\n",
    "비트단위로 논리연산을 해서 이진수를 답으로 냄\n"
   ]
  },
  {
   "cell_type": "markdown",
   "metadata": {},
   "source": [
    "# 수업 이후"
   ]
  },
  {
   "cell_type": "markdown",
   "metadata": {},
   "source": [
    "11:10\n",
    "~12:10 필수 연습문제1\n",
    "~12:50 G1\n",
    "\n",
    "~14:40 P1(풍선팡, 파리채, 스도쿠)\n",
    "~16:00 W2\n",
    "~16:50 G2\n",
    "~17:40 P2(어디에, 색칠, 부분집합)"
   ]
  }
 ],
 "metadata": {
  "kernelspec": {
   "display_name": "Python 3",
   "language": "python",
   "name": "python3"
  },
  "language_info": {
   "codemirror_mode": {
    "name": "ipython",
    "version": 3
   },
   "file_extension": ".py",
   "mimetype": "text/x-python",
   "name": "python",
   "nbconvert_exporter": "python",
   "pygments_lexer": "ipython3",
   "version": "3.9.13"
  }
 },
 "nbformat": 4,
 "nbformat_minor": 2
}

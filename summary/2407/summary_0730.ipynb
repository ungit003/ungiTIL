{
 "cells": [
  {
   "cell_type": "markdown",
   "metadata": {},
   "source": [
    "# APS 기본"
   ]
  },
  {
   "cell_type": "markdown",
   "metadata": {},
   "source": [
    "## 복습"
   ]
  },
  {
   "cell_type": "markdown",
   "metadata": {},
   "source": [
    "### 버블 정렬"
   ]
  },
  {
   "cell_type": "markdown",
   "metadata": {},
   "source": [
    "원소 두개 잡고 큰값을 오른쪽으로. 차례로 계속 반복."
   ]
  },
  {
   "cell_type": "markdown",
   "metadata": {},
   "source": [
    "구간 합"
   ]
  },
  {
   "cell_type": "markdown",
   "metadata": {},
   "source": [
    "### 카운팅 정렬\n"
   ]
  },
  {
   "cell_type": "markdown",
   "metadata": {},
   "source": [
    "- 항목들의 순서를 결정하기 위해 집합에 각 항목이 몇 개씩 있는지 세는 작업을 하여, 선형 시간에 정렬하는 효율적인 알고리즘\n",
    "\n",
    "- 제한 사항\n",
    "\n",
    "- 시간 복잡도\n",
    "    - O(n + k) n : 리스트 길이, k는 정수의 최댓값"
   ]
  },
  {
   "cell_type": "markdown",
   "metadata": {},
   "source": [
    "#### [0, 4, 1, 3, 1, 2, 4, 1]을 카운팅 정렬하는 과정 `# 0~백만 정도면 카운팅 정렬 해볼만 함`\n",
    "\n",
    "- 1단계\n",
    "    - Data에서 각 항목들의 발생 회수를 세고, 정수 항목들로 직접 인덱스 되는 카운트 배열 counts에 저장한다.\n",
    "    - = `각각 갯수 세어서 counts 리스트에 저장.`\n",
    "- how? \n",
    "    - counts = [0] * (N+1)\n",
    "    - Data 순회하면서 counts 요소에 +=1씩\n",
    "    - `반복문에서 i, j 는 인덱스 용도로만 사용`\n",
    "    - for x in Data : COUNTS[x] += 1\n",
    "\n",
    "- 2단계\n",
    "    - 정렬된 집합에서 각 항목의 앞에 위치할 항목의 갯수를 반영하기 위해 counts의 원소를 조정한다.\n",
    "    - = `자기 앞까지 갯수를 다 더해서 리스트 조정`\n",
    "- how?\n",
    "    - for i : -> N-1<br>\n",
    "        COUNTS[i] = COUNTS[i] + COUNTS[i-1]\n",
    "\n",
    "- 3단계\n",
    "    - counts[1]을 감소시키고 Temp에 1을 삽입한다.\n",
    "    - -> 마지막 원소부터 왼쪽으로 셈.\n",
    "    - = `Temp 리스트 (총 길이가 전체 갯수인) 만들고, Data 맨 왼쪽 1 뽑고, COUNTS[1]에서 -=1 하고, Temp의 COUNTS[1] 자리에 집어넣기. -> 반복`\n",
    "    - = `Temp : 정리된 리스트, COUNTS : 인덱스`"
   ]
  },
  {
   "cell_type": "markdown",
   "metadata": {},
   "source": [
    "#### 결과\n",
    "\n",
    "- 카운팅 정렬 알고리즘\n",
    "def, ~~~ for*3\n"
   ]
  },
  {
   "cell_type": "markdown",
   "metadata": {},
   "source": [
    "#### 정렬 알고리즘 비교\n",
    "- k도 수행시간에 영향을 끼치기 때문에 O(n+k) 로 반영함.\n",
    "- 버블에 비해 코드가 복잡하고 연산량이 적음"
   ]
  },
  {
   "cell_type": "markdown",
   "metadata": {},
   "source": [
    "#### 코드 짜보기 | 파이참\n"
   ]
  },
  {
   "cell_type": "markdown",
   "metadata": {},
   "source": [
    "#### * 뒤에서부터 불러오는 이유\n",
    "안정정렬. 앞에서부터 불러오면 인덱스 값이 변경될 수 있음."
   ]
  },
  {
   "cell_type": "markdown",
   "metadata": {},
   "source": [
    "### Baby-gin Game"
   ]
  },
  {
   "cell_type": "markdown",
   "metadata": {},
   "source": [
    "#### 완전 검색(`Exaustive Search`)\n",
    "- 완전 검색 방법은 문제의 해법으로 생각할 수 있는 모든 경우의 수를 나열해보고 확인하는 기법이다.\n",
    "- Brute-force, generate-and-test 기법이라고도 불리 운다.\n",
    "- 모든 경우의 수를 테스트한 수 최종 해법을 도출한다.\n",
    "- 일반적으로 경우의 수가 상대적을 작을 때 유용하다.\n",
    "- 모든 경우의 수를 생성하고 테스트하기 때문에 수행 속도는 느리지만, 해답을 찾아내지 못할 확률이 작다.\n",
    "- 자격검정평가 등에서 주어진 문제를 풀 때, 우전 완전 검색으로 접근하여 해답을 도출한 후, 성능 개선을 위해 다른 알고리즘을 사용하고, 해답을 확인하는 것이 바람직하다."
   ]
  },
  {
   "cell_type": "markdown",
   "metadata": {},
   "source": [
    "#### 순열\n",
    "- 개념\n",
    "- 1, 2, 3 갖고 순열 만들기"
   ]
  },
  {
   "cell_type": "markdown",
   "metadata": {},
   "source": [
    "#### 풀이\n",
    "- 고려할 수 있는 모든 경우의 수 생성하기\n",
    "    - 6개의 숫자로 만들 수 있는 모든 숫자 나열 (중복 포함 : 중복 순열 이야기 인듯.)\n",
    "- 해답 테스트하기"
   ]
  },
  {
   "cell_type": "markdown",
   "metadata": {},
   "source": [
    "### 탐욕(Greedy) 알고리즘\n",
    "- 최적해를 구하는 데 사용되는 근시안적 방법\n",
    "- 여러 경우 중 하나를 결정할 때 마다 그 순간에 최적이라고 생각되는 것을 선택하는 방식으로 진행하여 최종 해답에 도달.\n",
    "- 각 선택 시점에서 이루어지는 결정은 지역적으로는 최적이지만, 그것들의 최종 결과도 최적이라는 보장은 없음.\n",
    "- 일반적으로 머릿속에 떠오르는 생각을 구체적 검증 없이 구현하면 탐욕 접근이다."
   ]
  },
  {
   "cell_type": "markdown",
   "metadata": {},
   "source": [
    "#### 동작 과정\n",
    "1. 해 선택\n",
    "\n",
    "2. 실행 가능성 검사\n",
    "\n",
    "3. 해 검사"
   ]
  },
  {
   "cell_type": "markdown",
   "metadata": {},
   "source": [
    "#### 예시\n",
    "거스름돈 줄이기.\n",
    "\n",
    "baby_gin"
   ]
  },
  {
   "cell_type": "markdown",
   "metadata": {},
   "source": [
    "# 하늘쌤\n"
   ]
  },
  {
   "cell_type": "markdown",
   "metadata": {},
   "source": [
    "- 파이참 폴더 정리 팁\n",
    "- input 받는거.\n",
    "- 버블소트 : 애들끼리 키순으로 설때 자리바꾸는거"
   ]
  }
 ],
 "metadata": {
  "language_info": {
   "name": "python"
  }
 },
 "nbformat": 4,
 "nbformat_minor": 2
}

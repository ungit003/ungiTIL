{
 "cells": [
  {
   "cell_type": "markdown",
   "metadata": {},
   "source": [
    "# Module"
   ]
  },
  {
   "cell_type": "markdown",
   "metadata": {},
   "source": [
    "## 모듈\n",
    "### 개요\n",
    "- 과학자, 수학자가 모든 이론을 새로 만들거나 증명하지 않는 것처럼<br>개발자 또한 프로그램 전체를 모두 혼자 힘으로 작성하는 것은 드문 일\n",
    "- 이미 다른 프로그래머가 이미 작성해 놓은 수천, 수백만 줄의 코드를 사용하는<br>것은 생산성에서 매우 중요한 일\n",
    "\n"
   ]
  },
  {
   "cell_type": "markdown",
   "metadata": {},
   "source": [
    "#### 모듈 `Module`\n",
    "- 한 파일로 묶인 변수와 함수의 모음<br>특정한 기능을 하는 코드가 작성된 파이썬 파일(`.py`)\n"
   ]
  },
  {
   "cell_type": "markdown",
   "metadata": {},
   "source": [
    "#### 모듈 예시\n",
    "- math 내장 모듈\n",
    "- 파이썬이 미리 작성해 둔 수학 관련 변수와 함수가 작성된 모듈\n",
    "    \n",
    "    ```python\n",
    "    import math\n",
    "    \n",
    "    print(math.pi)  # 3.141592653589793\n",
    "    \n",
    "    print(math.sqrt(4))  # 2.0\n",
    "    ```\n",
    "> 참고 문서 : https://docs.python.org/3/library/math.html"
   ]
  },
  {
   "cell_type": "markdown",
   "metadata": {},
   "source": [
    "## 모듈 활용"
   ]
  },
  {
   "cell_type": "markdown",
   "metadata": {},
   "source": [
    "#### 모듈을 가져오는 방법\n",
    "- `import` 문 사용\n",
    "\n",
    "    ```python\n",
    "    import math\n",
    "    \n",
    "    print(math.sqrt(4))\n",
    "    ```\n",
    "    -> 이쪽을 선호함. 명시적임.\n",
    "- `from` 절 사용\n",
    "\n",
    "    ```python\n",
    "    from math import sqrt\n",
    "\n",
    "    print(sqrt(4))\n",
    "    ```\n",
    "    ->이건 어떤 모듈의 함수인지 내가 만든건지 무슨 모듈의 값인지 알기 힘듦"
   ]
  },
  {
   "cell_type": "markdown",
   "metadata": {},
   "source": [
    "#### 모듈 사용하기\n",
    "- `'.' (dot)` 연산자\n",
    "  - \"점의 왼쪽 객체에서 점의 오른쪽 이름을 찾아라“ 라는 의미\n",
    "  - 깊어지면 .~ .~ 식으로 이어서 적으면 됨\n",
    "\n",
    "    ```python\n",
    "    # 모듈명.변수명\n",
    "    print(math.pi)\n",
    "\n",
    "    # 모듈명.함수명\n",
    "    print(math.sqrt(4))\n",
    "    ```\n"
   ]
  },
  {
   "cell_type": "markdown",
   "metadata": {},
   "source": [
    "#### 모듈 주의사항\n",
    "- 서로 다른 모듈이 같은 이름의 함수를 제공할 경우 문제 발생\n",
    "- 마지막에 `import`된 이름으로 대체됨\n",
    "\n",
    "    ```python\n",
    "    from math import pi, sqrt\n",
    "    from my_math import sqrt #얘만 사용함\n",
    "\n",
    "    ```\n",
    "    ```python\n",
    "    # 그래서 모듈 내 모든 요소를 한번에 import 하는 * 표기는 권장하지 않음\n",
    "    # -> 이런 상황이라면 별칭(alias)을 지어주고 쓰면 됨\n",
    "\n",
    "    from math import *\n",
    "    ```"
   ]
  },
  {
   "cell_type": "markdown",
   "metadata": {},
   "source": [
    "#### `as` 키워드\n",
    "- as 키워드를 사용하여 별칭(alias)을 부여\n",
    "  - 두 개 이상의 모듈에서 동일한 이름의 변수, 함수 클래스 등을 가져올 때 발생하는 이름 충돌 해결\n",
    "\n",
    "  ```python\n",
    "  from math import sqrt\n",
    "  from my_math import sqrt as my_sqrt\n",
    "  \n",
    "  sqrt(4)\n",
    "  my_sqrt(4)\n",
    "  ```\n"
   ]
  },
  {
   "cell_type": "markdown",
   "metadata": {},
   "source": [
    "### 사용자 정의 모듈"
   ]
  },
  {
   "cell_type": "markdown",
   "metadata": {},
   "source": [
    "#### 직접 정의한 모듈 사용하기\n",
    "1. 모듈 my_math.py 작성\n",
    "2. 두 수의 합을 구하는 add 함수 작성\n",
    "3. my_math 모듈 import 후 add 함수 호출\n",
    "\n",
    "![image](https://github.com/ragu6963/TIL/assets/32388270/16905377-6a9c-4ba5-9d3e-0ce5a77da4f1)\n",
    "\n",
    "```python\n",
    "# my_math.py 라는 모듈을 만들어 둠\n",
    "\n",
    "def add(x, y):\n",
    "    return x + y\n",
    "```\n",
    "\n",
    "```python\n",
    "import my_math\n",
    "# from my_math import add\n",
    "\n",
    "\n",
    "print(my_math.add(1, 2))\n",
    "# print(add(1.2))\n",
    "```\n"
   ]
  },
  {
   "cell_type": "markdown",
   "metadata": {},
   "source": [
    "## 파이썬 표준 라이브러리\n",
    "### 파이썬 표준 라이브러리 `Python Standard Library`\n",
    "- 파이썬 언어와 함께 제공되는 다양한 모듈과 패키지의 모음\n",
    "\n",
    "> 참고 문서 : https://docs.python.org/ko/3/library/index.html"
   ]
  },
  {
   "cell_type": "markdown",
   "metadata": {},
   "source": [
    "#### 패키지 `Package`\n",
    "- 연관된 모듈들을 하나의 디렉토리에 모아 놓은 것\n"
   ]
  },
  {
   "cell_type": "markdown",
   "metadata": {},
   "source": [
    "#### 패키지 사용하기 (1/2)\n",
    "- 아래와 같은 디렉토리 구조로 작성\n",
    "- 패키지 3개 : my_package, math, statistics\n",
    "- 모듈 2개 : my_math, tools\n",
    "- 디렉토리 전체 구조\n",
    "    ```markdown\n",
    "    📦...\n",
    "     ┣ 📜sample.py\n",
    "     ┣ 📂my_package\n",
    "     ┃ ┣ 📂math\n",
    "     ┃ ┃ ┗ 📜my_math.py\n",
    "     ┃ ┣ 📂statistics\n",
    "     ┃ ┃ ┗ 📜tools.py\n",
    "    ```\n",
    "\n",
    "![image](https://github.com/ragu6963/TIL/assets/32388270/01f0ca51-45b2-4468-8a38-b81c6db14b24)"
   ]
  },
  {
   "cell_type": "markdown",
   "metadata": {},
   "source": [
    "#### 패키지 사용하기 (2/2)\n",
    "- 각 패키지의 모듈을 `import` 하여 사용하기\n",
    "    ```python\n",
    "    # sample.py\n",
    "\n",
    "    from my_package.math import my_math\n",
    "    from my_package.statistics import tools\n",
    "\n",
    "\n",
    "    print(my_math.add(1, 2))  # 3\n",
    "    print(tools.mod(1, 2))  # 1\n",
    "    ```"
   ]
  },
  {
   "cell_type": "markdown",
   "metadata": {},
   "source": [
    "#### PSL 내부 패키지\n",
    "- 설치 없이 바로 `import`하여 사용\n",
    "\n",
    "#### 외부 패키지\n",
    "- `pip`를 사용하여 설치 후 `import` 필요\n",
    "- pip : 외부에서 `설치, 관리` 하기 위한 `도구`\n",
    "\n",
    "#### pip `파이썬 패키지 관리자`\n",
    "- 외부 패키지들을 설치하도록 도와주는 파이썬의 패키지 관리 시스템\n",
    "\n",
    "- PyPI(Python Package Index)에 저장된 외부 패키지들을 설치\n",
    "> https://pypi.org/\n",
    "\n"
   ]
  },
  {
   "cell_type": "markdown",
   "metadata": {},
   "source": [
    "#### 패키지 설치\n",
    "- 최신 버전 / 특정 버전 / 최소 버전을 명시하여 설치할 수 있음\n",
    "\n",
    "    ```bash\n",
    "    $ pip install SomePackage #최신 버전\n",
    "    $ pip install SomePackage==1.0.5 #특정 버전\n",
    "    $ pip install SomePackage>=1.0.4 #최소 버전\n",
    "    ```\n",
    "\n",
    "    - 최신 버전에서 버그가 있거나 모듈과 호환이 되지 않을 경우가 있음\n",
    "    - 필요한 버전을 설치 !"
   ]
  },
  {
   "cell_type": "markdown",
   "metadata": {},
   "source": [
    "#### requests 외부 패키지 설치 및 사용 예시 \n",
    "- 우리가 제일 필요한 게 뭔가요? 의 답변\n",
    "- 금요일 관통 프로젝트에서 사용\n",
    "- 외부로 요청을 보내고 받는 것.\n",
    "- 딕셔너리 형식으로 저장해서 추출하고 사용.\n",
    "```bash\n",
    "$ pip install requests\n",
    "```\n",
    "\n",
    "```python\n",
    "import requests\n",
    "\n",
    "\n",
    "url = 'https://random-data-api.com/api/v2/users'\n",
    "# 주소를 크롬 복붙 해보면 정보가 나옴.\n",
    "# 딕셔너리 형태. but 아니래. 그런 형태인 것.\n",
    "\n",
    "response = requests.get(url).json()\n",
    "# 받은걸 딕셔너리로 바꾸는 코드.\n",
    "# 요청, 응답, 변환까지 싹다 해줌. => 강력 !\n",
    "\n",
    "print(response)\n",
    "```"
   ]
  },
  {
   "cell_type": "markdown",
   "metadata": {},
   "source": [
    "#### requests 는 어디에 설치되었는가?\n",
    "\n",
    "- global 에 설치됨\n",
    "- but, 작업 과정에서는 전역 설치는 잘 하지 않음\n",
    "- why? 작업 환경에 따라 필요한 것이 있는데 오류가 날 수 있음\n",
    "- so. 가상 환경? 에 설치 한다고 함."
   ]
  },
  {
   "cell_type": "markdown",
   "metadata": {},
   "source": [
    "#### 패키지 사용 목적\n",
    "- 모듈들의 이름공간을 구분하여 충돌을 방지 \n",
    "    - 같은 이름 모듈이라도 불러오는 패키지가 다르면 충돌을 막아줄 수 있음 !\n",
    "- 모듈들을 효율적으로 관리하고 재사용할 수 있도록 돕는 역할"
   ]
  },
  {
   "cell_type": "markdown",
   "metadata": {},
   "source": [
    "# Control of flow"
   ]
  },
  {
   "cell_type": "markdown",
   "metadata": {},
   "source": [
    "## 제어문\n",
    "### 제어문 `Control Statement`\n",
    "- 코드의 실행 흐름을 제어하는 데 사용되는 구문<br>\n",
    "- <span style='color:red;'>조건</span>에 따라 코드 블록을 실행하거나 <span style='color:red;'>반복</span>적으로 코드를 실행 \n"
   ]
  },
  {
   "cell_type": "markdown",
   "metadata": {},
   "source": [
    "### 제어문 종류\n",
    "- 조건문\n",
    "    - `if`, `elif`, `else`\n",
    "- 반복문\n",
    "    - `for`, `while`\n",
    "- 반복문 제어\n",
    "    - `break`, `continue`, `pass`"
   ]
  },
  {
   "cell_type": "markdown",
   "metadata": {},
   "source": [
    "## 조건문\n",
    "### 개요\n",
    "#### 조건문 `Conditional Statement`\n",
    "- 주어진 조건식을 평가하여 해당 조건이 참(True)인 경우에만 <br>\n",
    "코드 블록을 실행하거나 건너뜀\n",
    "\n",
    "#### 파이썬 조건문에 사용되는 키워드\n",
    "- if / elif / else"
   ]
  },
  {
   "cell_type": "markdown",
   "metadata": {},
   "source": [
    "### `‘if’` statement\n",
    "- if statement의 기본 구조\n",
    "\n",
    "    ```python\n",
    "    if 표현식:\n",
    "        코드 블록\n",
    "    elif 표현식:\n",
    "        코드 블록\n",
    "    else:\n",
    "        코드 블록\n",
    "    ```\n",
    "\n",
    "- if 단독 / if else 두개 만으로도 가능. elif 는 단독 불가"
   ]
  },
  {
   "cell_type": "markdown",
   "metadata": {},
   "source": [
    "#### 복수 조건문\n",
    "- 조건식을 동시에 검사하는 것이 아니라 `순차적`으로 비교 \n",
    "\n",
    "    ```python\n",
    "    dust = 35\n",
    "    \n",
    "    if dust > 150:\n",
    "        print('매우 나쁨')\n",
    "    elif dust > 80:\n",
    "        print('나쁨')\n",
    "    elif dust > 30:\n",
    "        print('보통')\n",
    "    else:\n",
    "        print('좋음')\n",
    "    ```\n"
   ]
  },
  {
   "cell_type": "markdown",
   "metadata": {},
   "source": [
    "#### 중첩 조건문\n",
    "\n",
    "```python\n",
    "dust = 480\n",
    "\n",
    "if dust > 150:\n",
    "    print('매우 나쁨')\n",
    "    \"\"\"\n",
    "    중첩 조건문\n",
    "    \"\"\"\n",
    "    if dust > 300:\n",
    "        print('위험해요! 나가지 마세요!')\n",
    "elif dust > 80:\n",
    "    print('나쁨')\n",
    "elif dust > 30:\n",
    "    print('보통')\n",
    "else:\n",
    "    print('좋음')\n",
    "\n",
    "```"
   ]
  },
  {
   "cell_type": "markdown",
   "metadata": {},
   "source": [
    "## 반복문\n",
    "### 개요\n",
    "#### 반복문 `Loop Statement`\n",
    "- 주어진 코드 블록을 여러 번 반복해서 실행하는 구문\n",
    "1. 특정 작업을 반복적으로 수행\n",
    "2. 주어진 조건이 참인 동안 반복해서 실행\n",
    "\n",
    "#### 파이썬 반복문에 사용되는 키워드\n",
    "- `for`\n",
    "  - 특정 작업을 반복적으로 수행\n",
    "- `while`\n",
    "  - 주어진 조건이 `참`인 동안 반복해서 실행\n"
   ]
  },
  {
   "cell_type": "markdown",
   "metadata": {},
   "source": [
    "### `‘for’` statement\n",
    "- 임의의 시퀀스의 항목들을 그 시퀀스에 들어있는 순서대로 반복\n",
    "    - iterable 의 요소를 하나씩 순회하며 반복\n",
    "- for statement의 기본 구조\n",
    "\n",
    "    ```python\n",
    "    for 변수 in `반복 가능한 객체`:\n",
    "        코드 블록\n",
    "    ```"
   ]
  },
  {
   "cell_type": "markdown",
   "metadata": {},
   "source": [
    "#### 반복 가능한 객체 `iterable`\n",
    "- 반복문에서 순회할 수 있는 객체<br>\n",
    "(시퀀스 객체 뿐만 아니라 dict, set 등도 포함)\n"
   ]
  },
  {
   "cell_type": "markdown",
   "metadata": {},
   "source": [
    "#### for 문 원리\n",
    "- 리스트 내 첫 항목이 반복 변수에 할당되고 코드블록이 실행\n",
    "- 다음으로 반복 변수에 리스트의 2번째 항목이 할당되고 코드블록이 다시 실행\n",
    "- ... 마지막으로 반복 변수에 리스트의 마지막 요소가 할당되고 코드블록이 실행\n",
    "\n",
    "    ```python\n",
    "    items = ['apple', 'banana', 'coconut']\n",
    "    \n",
    "    for item in items:\n",
    "        # 요소의 갯수만큼 반복\n",
    "        print(item)\n",
    "    \n",
    "    # 반복문 쓸 때 리스트는 복수형 요소는 단수형으로 쓰는게 직관적이고 헷갈리지 않음.\n",
    "    \"\"\"\n",
    "    apple\n",
    "    banana\n",
    "    coconut\n",
    "    \"\"\"\n",
    "    ``` "
   ]
  },
  {
   "cell_type": "markdown",
   "metadata": {},
   "source": [
    "#### 문자열 순회\n",
    "- 잘 잊으니 기억해두기\n"
   ]
  },
  {
   "cell_type": "markdown",
   "metadata": {},
   "source": [
    "#####\n",
    "```python\n",
    "country = 'Korea'\n",
    "\n",
    "for char in country:\n",
    "    print(char)\n",
    "\n",
    "\"\"\"\n",
    "K\n",
    "o\n",
    "r\n",
    "e\n",
    "a\n",
    "\"\"\"\n",
    "```"
   ]
  },
  {
   "cell_type": "markdown",
   "metadata": {},
   "source": [
    "#### range 순회\n"
   ]
  },
  {
   "cell_type": "markdown",
   "metadata": {},
   "source": [
    "#####\n",
    "```python\n",
    "for i in range(5):\n",
    "    print(i)\n",
    "\n",
    "\"\"\"\n",
    "0\n",
    "1\n",
    "2\n",
    "3\n",
    "4\n",
    "\"\"\"\n",
    "```\n",
    "\n",
    "- 레인지를 리스트로 바꿔야 하는 거 아닌가요?\n",
    "    - 필요는 없다. 자세히 알고 싶다면 iterate? generate? 같은 심화 개념이 필요함"
   ]
  },
  {
   "cell_type": "markdown",
   "metadata": {},
   "source": [
    "#### dict 순회\n"
   ]
  },
  {
   "cell_type": "markdown",
   "metadata": {},
   "source": [
    "#####\n",
    "```python\n",
    "my_dict = {\n",
    "    'x': 10,\n",
    "    'y': 20,\n",
    "    'z': 30,\n",
    "}\n",
    "\n",
    "for key in my_dict:\n",
    "    print(key)\n",
    "    print(my_dict[key])\n",
    "\n",
    "\n",
    "\"\"\"\n",
    "x\n",
    "10\n",
    "y\n",
    "20\n",
    "z\n",
    "30\n",
    "\"\"\"\n",
    "```"
   ]
  },
  {
   "cell_type": "markdown",
   "metadata": {},
   "source": [
    "#### 인덱스로 리스트 순회\n",
    "- 리스트의 요소가 아닌 인덱스로 접근하여 해당 요소들을 변경하기\n",
    "    \n"
   ]
  },
  {
   "cell_type": "markdown",
   "metadata": {},
   "source": [
    "#####\n",
    "    ```python\n",
    "    numbers = [4, 6, 10, -8, 5]\n",
    "    \n",
    "    for i in range(len(numbers)):\n",
    "        numbers[i] = numbers[i] * 2\n",
    "    \n",
    "    print(numbers) # [8, 12, 20, -16, 10]\n",
    "    ```"
   ]
  },
  {
   "cell_type": "markdown",
   "metadata": {},
   "source": [
    "#### 중첩된 반복문\n",
    "- 안쪽 반복문은 outers 리스트의 각 항목에 대해 한 번씩 실행됨\n",
    "- print가 호출되는 횟수 => `len(outers) * len(inners)`\n"
   ]
  },
  {
   "cell_type": "markdown",
   "metadata": {},
   "source": [
    "#####\n",
    "    ```python\n",
    "    outers = ['A', 'B']\n",
    "    inners = ['c', 'd']\n",
    "        \n",
    "    for outer in outers:\n",
    "        for inner in inners:\n",
    "            print(outer, inner)\n",
    "        \n",
    "    \"\"\"\n",
    "    A c\n",
    "    A d\n",
    "    B c\n",
    "    B d\n",
    "    \"\"\"\n",
    "    ```"
   ]
  },
  {
   "cell_type": "markdown",
   "metadata": {},
   "source": [
    "#### 중첩 리스트 순회\n",
    "- 안쪽 리스트 요소에 접근하려면 바깥 리스트를 순회하면서 중첩 반복을 사용해 각 안쪽 반복을 순회\n"
   ]
  },
  {
   "cell_type": "markdown",
   "metadata": {},
   "source": [
    "#####\n",
    "\n",
    "```python\n",
    "elements = [['A', 'B'], ['c', 'd']]\n",
    "\n",
    "for elem in elements:\n",
    "    print(elem)\n",
    "\n",
    "\"\"\"\n",
    "['A', 'B']\n",
    "['c', 'd']\n",
    "\"\"\"\n",
    "```\n",
    "```python\n",
    "elements = [['A', 'B'], ['c', 'd']]\n",
    "\n",
    "for elem in elements:\n",
    "    for item in elem:\n",
    "        print(item)\n",
    "\n",
    "        # elements 라는 리스트만 불러오기\n",
    "        # elem 이라는 이름은 내가 정해서 리스트 안의 리스트 불러오기\n",
    "        # item 이라고 요소의 이름 정해서 프린트하기\n",
    "\n",
    "\"\"\"\n",
    "A\n",
    "B\n",
    "c\n",
    "d\n",
    "\"\"\"\n",
    "```"
   ]
  },
  {
   "cell_type": "markdown",
   "metadata": {},
   "source": [
    "### `while` statement\n",
    "- 주어진 조건식이 참(True)인 동안 코드를 반복해서 실행 == 조건식이 거짓(False)가 될 때 까지 반복\n",
    "- while statement의 기본 구조\n",
    "\n",
    "    ```python\n",
    "    while 조건식:\n",
    "        코드 블록\n",
    "    ```"
   ]
  },
  {
   "cell_type": "markdown",
   "metadata": {},
   "source": [
    "#### while 반복문 예시\n",
    "- 직관적이지 않다 는 단점이 있음."
   ]
  },
  {
   "cell_type": "markdown",
   "metadata": {},
   "source": [
    "#####\n",
    "```python\n",
    "a = 0\n",
    "\n",
    "while a < 3:\n",
    "    print(a)\n",
    "    a += 1\n",
    "\n",
    "print('끝')\n",
    "\n",
    "\"\"\"\n",
    "0\n",
    "1 \n",
    "2 \n",
    "끝\n",
    "\"\"\"\n",
    "```"
   ]
  },
  {
   "cell_type": "markdown",
   "metadata": {},
   "source": [
    "#### 사용자 입력에 따른 반복\n",
    "- while문을 사용한 특정 입력 값에 대한 종료 조건 활용하기\n"
   ]
  },
  {
   "cell_type": "markdown",
   "metadata": {},
   "source": [
    "#####\n",
    "    \n",
    "    ```python\n",
    "    number = int(input('양의 정수를 입력해주세요.: '))\n",
    "\n",
    "    while number <= 0:\n",
    "        if number < 0:\n",
    "            print('음수를 입력했습니다.')\n",
    "        else:\n",
    "            print('0은 양의 정수가 아닙니다.')\n",
    "\n",
    "        number = int(input('양의 정수를 입력해주세요.: '))\n",
    "\n",
    "    print('잘했습니다!')\n",
    "    \"\"\"\n",
    "    양의 정수를 입력해주세요.: 0\n",
    "    0은 양의 정수가 아닙니다.  \n",
    "    양의 정수를 입력해주세요.: -1\n",
    "    음수를 입력했습니다.       \n",
    "    양의 정수를 입력해주세요.: 1\n",
    "    잘했습니다!\n",
    "    \"\"\"\n",
    "    ```"
   ]
  },
  {
   "cell_type": "markdown",
   "metadata": {},
   "source": [
    "### 적절한 반복문 활용하기\n",
    "- `for`\n",
    "    - 반복 횟수가 명확하게 정해져 있는 경우에 유용\n",
    "    - 예를 들어 리스트, 튜플, 문자열 등과 같은 시퀀스 형식의 데이터를 처리할 때 \n",
    "\n",
    "- `while`\n",
    "    - 반복 횟수가 불명확하거나 조건에 따라 반복을 종료해야 할 때 유용\n",
    "    - 예를 들어 사용자의 입력을 받아서 특정 조건이 충족될 때까지 반복하는 경우"
   ]
  },
  {
   "cell_type": "markdown",
   "metadata": {},
   "source": [
    "### 반복 제어\n",
    "- for문과 while은 매 반복마다 본문 내 모든 코드를 실행하지만<br>\n",
    "때때로 일부만 실행하는 것이 필요할 때가 있음\n",
    "\n",
    "#### 반복문 제어 키워드\n",
    "- `break`\n",
    "  - 반복을 즉시 중지\n",
    "- `continue`\n",
    "  - 다음 반복으로 건너뜀\n",
    "- `pass`\n",
    "  - 아무런 동작도 수행하지 않고 넘어감\n"
   ]
  },
  {
   "cell_type": "markdown",
   "metadata": {},
   "source": [
    "##### 반복문 제어 예시\n",
    "\n",
    "```python\n",
    "# break\n",
    "\n",
    "for i in range(10):\n",
    "    if i == 5:\n",
    "        break\n",
    "    print(i)  # 0 1 2 3 4\n",
    "```\n",
    "\n",
    "```python\n",
    "# continue\n",
    "\n",
    "for i in range(10):\n",
    "    if i % 2 == 0:\n",
    "        continue\n",
    "    print(i)  # 1 3 5 7 9\n",
    "```\n",
    "- 나눈 값이 0 이라면 아래의 과정을 스킵하고 처음으로 돌아가는 것.\n",
    "\n",
    "```python\n",
    "# pass\n",
    "\n",
    "for i in range(10):\n",
    "    pass  # 아무 작업도 안함\n",
    "```"
   ]
  },
  {
   "cell_type": "markdown",
   "metadata": {},
   "source": [
    "######\n",
    "break 예시 (1/2)\n",
    "- 프로그램 종료 조건 만들기\n",
    "\n",
    "    ```python\n",
    "    number = int(input('양의 정수를 입력해주세요.: '))\n",
    "\n",
    "    while number <= 0:\n",
    "        \"\"\"\n",
    "        종료 조건과 break\n",
    "        \"\"\"\n",
    "        if number == -9999: \n",
    "            print('프로그램을 종료합니다.')\n",
    "            break\n",
    "\n",
    "        if number < 0:\n",
    "            print('음수를 입력했습니다.')\n",
    "        else:\n",
    "            print('0은 양의 정수가 아닙니다.')\n",
    "\n",
    "        number = int(input('양의 정수를 입력해주세요.: '))\n",
    "\n",
    "    print('잘했습니다!')\n",
    "\n",
    "    \"\"\"\n",
    "    양의 정수를 입력해주세요.: -9999\n",
    "    프로그램을 종료합니다.\n",
    "    잘했습니다!\n",
    "    \"\"\"\n",
    "    ```\n",
    "\n",
    "break 예시 (2/2)\n",
    "- 리스트에서 첫번째 짝수만 찾은 후 반복 종료하기\n",
    "\n",
    "    ```python\n",
    "    numbers = [1, 3, 5, 6, 7, 9, 10, 11]\n",
    "    found_even = False\n",
    "\n",
    "    for num in numbers:\n",
    "        if num % 2 == 0:\n",
    "            print('첫 번째 짝수를 찾았습니다:', num)\n",
    "            found_even = True\n",
    "            break\n",
    "\n",
    "    if not found_even:\n",
    "        print('짝수를 찾지 못했습니다')\n",
    "\n",
    "    \"\"\"\n",
    "    첫 번째 짝수를 찾았습니다: 6\n",
    "    \"\"\"\n",
    "    ```\n",
    "continue 예시\n",
    "- 리스트에서 홀수만 출력하기\n",
    "- `현재 반복문의 남은 코드를 건너뛰고 다음 반복으로 넘어감`\n",
    "\n",
    "    ```python\n",
    "    numbers = [1, 2, 3, 4, 5, 6, 7, 8, 9, 10]\n",
    "\n",
    "    for num in numbers:\n",
    "        if num % 2 == 0:\n",
    "            continue\n",
    "        print(num)\n",
    "        \n",
    "    \"\"\"\n",
    "    1\n",
    "    3\n",
    "    5\n",
    "    7\n",
    "    9\n",
    "    \"\"\"\n",
    "    ```\n",
    "\n",
    "pass 예시\n",
    "1. 코드 작성 중 미완성 부분\n",
    "    - 구현해야 할 부분이 나중에 추가될 수 있고, 코드를 컴파일하는 동안 오류가 발생하지 않음\n",
    "      ```python\n",
    "      def my_function():\n",
    "          pass  \n",
    "      ```\n",
    "2. 조건문에서 아무런 동작을 수행하지 않아야 할 때\n",
    "    ```python\n",
    "    if condition:\n",
    "        pass  # 아무런 동작도 수행하지 않음\n",
    "    else:\n",
    "        # 다른 동작 수행\n",
    "    ```\n",
    "3. 무한 루프에서 조건이 충족되지 않을 때 pass를 사용하여 루프를 계속 진행하는 방법\n",
    "    ```python\n",
    "    while True:\n",
    "        if condition:\n",
    "            break\n",
    "        elif condition:\n",
    "            pass  # 루프 계속 진행\n",
    "        else:\n",
    "            print('..')\n",
    "    ```\n"
   ]
  },
  {
   "cell_type": "markdown",
   "metadata": {},
   "source": [
    "### List Comprehension\n",
    "- 간결하고 효율적인 리스트 생성 방법\n"
   ]
  },
  {
   "cell_type": "markdown",
   "metadata": {},
   "source": [
    "#### List Comprehension 구조\n",
    "```python\n",
    "[expression for 변수 in iterable] #선호\n",
    "list(expression for 변수 in iterable)\n",
    "\n",
    "[expression for 변수 in iterable if 조건식] \n",
    "list(expression for 변수 in iterable if 조건식)\n",
    "```"
   ]
  },
  {
   "cell_type": "markdown",
   "metadata": {},
   "source": [
    "##### List Comprehension 사용 전/후 비교\n",
    "\n",
    "- 사용 전\n",
    "    ```python\n",
    "    numbers = [1, 2, 3, 4, 5]\n",
    "    squared_numbers = []\n",
    "\n",
    "    for num in numbers:\n",
    "        squared_numbers.append(num**2)\n",
    "\n",
    "    print(squared_numbers)  # [1, 4, 9, 16, 25]\n",
    "    ```\n",
    "\n",
    "- 사용 후\n",
    "    ```python\n",
    "    numbers = [1, 2, 3, 4, 5]\n",
    "    squared_numbers = [num**2 for num in numbers]\n",
    "\n",
    "    print(squared_numbers)  # [1, 4, 9, 16, 25]\n",
    "    ```\n",
    "\n",
    "    "
   ]
  },
  {
   "cell_type": "markdown",
   "metadata": {},
   "source": [
    "##### List Comprehension 활용 예시\n",
    "- 2차원 배열 생성 시 (인접행렬 생성 시)\n",
    "\n",
    "```python\n",
    "data1 = [[0] * (5) for _ in range(5)]\n",
    "\n",
    "# 또는\n",
    "data2 = [[0 for _ in range(5)] for _ in range(5)]\n",
    "\n",
    "\"\"\"\n",
    "[[0, 0, 0, 0, 0],\n",
    " [0, 0, 0, 0, 0],\n",
    " [0, 0, 0, 0, 0],\n",
    " [0, 0, 0, 0, 0],\n",
    " [0, 0, 0, 0, 0]]\n",
    "\"\"\"\n",
    "```"
   ]
  },
  {
   "cell_type": "markdown",
   "metadata": {},
   "source": [
    "#### 가독성 비교\n",
    "\n",
    "- Comprehension 사용\n",
    "    \n",
    "    ```python\n",
    "    result = [i for i in range(10) if i % 2 == 1]\n",
    "    ```\n",
    "- Comprehension 미사용\n",
    "    \n",
    "    ```python\n",
    "    result = []\n",
    "    for i in range(10):\n",
    "        if i % 2 == 1:\n",
    "            result.append(i)\n",
    "    ```\n",
    "**-> comprehension 이 복잡하게 보인다**<br>\n",
    "**-> comprehension 은 리스트 생성이 목적**<br>\n",
    "**-> 남용하지 말자 !**"
   ]
  },
  {
   "cell_type": "markdown",
   "metadata": {},
   "source": [
    "## 참고\n"
   ]
  },
  {
   "cell_type": "markdown",
   "metadata": {},
   "source": [
    "### 리스트를 생성하는 방법 비교\n"
   ]
  },
  {
   "cell_type": "markdown",
   "metadata": {},
   "source": [
    "### enumerate"
   ]
  },
  {
   "cell_type": "markdown",
   "metadata": {},
   "source": [
    "#### `enumerate(iterable, start=0) `\n",
    "- iterable 객체의 각 요소에 대해 인덱스와 함께 반환하는 내장함수\n",
    "- 인덱스, 요소를 튜플로 패킹해서 뱉어냄.\n",
    "- 임시변수 두개 필요\n",
    "- start 값을 변경해서 인덱싱 번호를 몇번부터 매길지 선택 가능\n",
    "#### enumerate 예시\n",
    "\n",
    "```python\n",
    "fruits = ['apple', 'banana', 'cherry']\n",
    "\n",
    "for index, fruit in enumerate(fruits):\n",
    "print(f'인덱스 {index}: {fruit}')\n",
    "\n",
    "\"\"\"\n",
    "인덱스 0: apple\n",
    "인덱스 1: banana\n",
    "인덱스 2: cherry\n",
    "\"\"\"\n",
    "```\n",
    "\n",
    "```python\n",
    "fruits = ['apple', 'banana', 'cherry']\n",
    "\n",
    "for index, fruit in enumerate(fruits, 2):\n",
    "print(f'인덱스 {index}: {fruit}')\n",
    "\n",
    "\"\"\"\n",
    "인덱스 2: apple\n",
    "인덱스 3: banana\n",
    "인덱스 4: cherry\n",
    "\"\"\"\n",
    "```"
   ]
  }
 ],
 "metadata": {
  "language_info": {
   "name": "python"
  }
 },
 "nbformat": 4,
 "nbformat_minor": 2
}

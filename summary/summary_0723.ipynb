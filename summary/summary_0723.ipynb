{
 "cells": [
  {
   "cell_type": "markdown",
   "metadata": {},
   "source": [
    "## 비시퀀스 데이터 구조"
   ]
  },
  {
   "cell_type": "markdown",
   "metadata": {},
   "source": [
    "### 딕셔너리 `dictionary`\n",
    "- 고유한 항목들의(키가 중복이 되지 않는다.) 정렬되지 않은(순서x) 컬렉션"
   ]
  },
  {
   "cell_type": "markdown",
   "metadata": {},
   "source": [
    "#### 딕셔너리 메서드\n",
    "|            메서드           \t|                                                                                설명                                                                              \t|\n",
    "|:---------------------------:\t|:----------------------------------------------------------------------------------------------------------------------------------------------------------------:\t|\n",
    "|           D.clear()         \t|     딕셔너리 D의   모든 키/값 쌍을 제거                                                                                                                          \t|\n",
    "|           `D.get(k)`          \t|     키 k에   연결된 값을 반환 (키가 없으면 None을 반환)                                                                                                          \t|\n",
    "|         `D.get(k,   v)`       \t|     키 k에   연결된 값을 반환하거나 키가 없으면 기본 값으로 v를 반환                                                                                             \t|\n",
    "|           `D.keys()`          \t|     딕셔너리 D의   키를 모은 객체를 반환                                                                                                                         \t|\n",
    "|          `D.values()`         \t|     딕셔너리 D의   값을 모은 객체를 반환                                                                                                                         \t|\n",
    "|           `D.items()`         \t|     딕셔너리 D의   키/값 쌍을 모은 객체를 반환                                                                                                                   \t|\n",
    "|           `D.pop(k)`          \t|     딕셔너리 D에서   키 k를 제거하고 연결됐던 값을 반환 (없으면   오류)                                                                                          \t|\n",
    "|         `D.pop(k,   v)`       \t|     딕셔너리 D에서   키 k를 제거하고 연결됐던 값을 반환 (없으면   v를 반환)                                                                                      \t|\n",
    "|        D.setdefault(k)      \t|     딕셔너리 D에서   키 k와 연결된 값을 반환                                                                                                                     \t|\n",
    "|     D.setdefault(k,   v)    \t|     딕셔너리 D에서   키 k와 연결된 값을 반환     k가   D의 키가 아니면 값 v와   연결한 키 k를 D에   추가하고 v를 반환                                            \t|\n",
    "|        D.update(other)      \t|     other 내 각 키에 대해 D에   있는 키면 D에 있는 그 키의 값을 other에 있는 값으로 대체.     other에 있는 각 키에 대해 D에   없는 키면 키/값 쌍을 D에   추가    \t|"
   ]
  },
  {
   "cell_type": "markdown",
   "metadata": {},
   "source": [
    "##### .clear()\n",
    "- 딕셔너리 D의 모든 키/값 쌍을 제거\n"
   ]
  },
  {
   "cell_type": "markdown",
   "metadata": {},
   "source": [
    "###### \n",
    "```py\n",
    "person = {'name': 'Alice', 'age': 25}\n",
    "person.clear()\n",
    "print(person)  # {}\n",
    "```"
   ]
  },
  {
   "cell_type": "markdown",
   "metadata": {},
   "source": [
    "##### .get(key[,default])\n",
    "- 키 연결된 값을 반환하거나 키가 없으면 None 혹은 기본 값을 반환\n",
    "- 키가 없어도 에러가 나지 않는다.\n",
    "- None 또는 기본 값 반환.\n"
   ]
  },
  {
   "cell_type": "markdown",
   "metadata": {},
   "source": [
    "######\n",
    "```py\n",
    "person = {'name': 'Alice', 'age': 25}\n",
    "\n",
    "print(person.get('name'))  # Alice\n",
    "print(person.get('country'))  # None\n",
    "print(person.get('country', 'Unknown'))  # Unknown\n",
    "```"
   ]
  },
  {
   "cell_type": "markdown",
   "metadata": {},
   "source": [
    "##### .keys()\n",
    "- 딕셔너리 키를 모은 객체를 반환(리스트 형태 = 리스트로 안바꿔도 반복이 가능)\n"
   ]
  },
  {
   "cell_type": "markdown",
   "metadata": {},
   "source": [
    "######\n",
    "```python\n",
    "person = {'name': 'Alice', 'age': 25}\n",
    "print(person.keys())  # dict_keys(['name', 'age’])\n",
    "\n",
    "for k in person.keys():\n",
    "    print(k)\n",
    "\"\"\"\n",
    "name\n",
    "age\n",
    "\"\"\"\n",
    "```"
   ]
  },
  {
   "cell_type": "markdown",
   "metadata": {},
   "source": [
    "##### .values()\n",
    "- 딕셔너리 값을 모은 객체를 반환\n",
    "\n"
   ]
  },
  {
   "cell_type": "markdown",
   "metadata": {},
   "source": [
    "######\n",
    "```py\n",
    "person = {'name': 'Alice', 'age': 25}\n",
    "print(person.keys())  # dict_keys(['name', 'age’])\n",
    "\n",
    "for v in person.values():\n",
    "    print(v)\n",
    "\"\"\"\n",
    "Alice\n",
    "25\n",
    "\"\"\"\n",
    "```"
   ]
  },
  {
   "cell_type": "markdown",
   "metadata": {},
   "source": [
    "##### .items()\n",
    "- 딕셔너리 키/값 쌍을 모은 객체를 (튜플 묶음으로) 반환"
   ]
  },
  {
   "cell_type": "markdown",
   "metadata": {},
   "source": [
    "######\n",
    "```python\n",
    "person = {'name': 'Alice', 'age': 25}\n",
    "\n",
    "print(person.items())  # dict_items([('name', 'Alice'), ('age', 25)])\n",
    "for k, v in person.items():\n",
    "    print(k, v)\n",
    "\"\"\"\n",
    "name Alice\n",
    "age 25\n",
    "\"\"\"\n",
    "```"
   ]
  },
  {
   "cell_type": "markdown",
   "metadata": {},
   "source": [
    "##### .pop(key[,default])\n",
    "- 키를 제거하고 연결됐던 값을 반환 (없으면 에러나 default 를 반환)\n",
    "- 리스트의 팝이랑 관련이 없다."
   ]
  },
  {
   "cell_type": "markdown",
   "metadata": {},
   "source": [
    "######\n",
    "```py\n",
    "person = {'name': 'Alice', 'age': 25}\n",
    "\n",
    "print(person.pop('age'))  # 25\n",
    "print(person)  # {'name': 'Alice'}\n",
    "print(person.pop('country', None))  # None\n",
    "print(person.pop('country'))  # KeyError\n",
    "```"
   ]
  },
  {
   "cell_type": "markdown",
   "metadata": {},
   "source": [
    "##### .setdefault(key[,default])\n",
    "- 키와 연결된 값을 반환 <br>\n",
    "키가 없다면 default와 연결한 키를 딕셔너리에 추가하고 default를 반환\n",
    "- 코드를 짧게 (반복문을 사용하지 않아도 ) 만들어줌\n",
    "\n",
    "    "
   ]
  },
  {
   "cell_type": "markdown",
   "metadata": {},
   "source": [
    "######\n",
    "```python\n",
    "person = {'name': 'Alice', 'age': 25}\n",
    "\n",
    "print(person.setdefault('country', 'KOREA'))  # KOREA\n",
    "print(person)  # {'name': 'Alice', 'age': 25, 'country': 'KOREA'}\n",
    "```"
   ]
  },
  {
   "cell_type": "markdown",
   "metadata": {},
   "source": [
    "##### .update([other])\n",
    "- other(여러개를 넣을 수 있다)가 제공하는 키/값 쌍으로 딕셔너리를 갱신 <br>\n",
    "기존 키는 `덮어씀`"
   ]
  },
  {
   "cell_type": "markdown",
   "metadata": {},
   "source": [
    "######\n",
    "```py\n",
    "person = {'name': 'Alice', 'age': 25}\n",
    "other_person = {'name': 'Jane', 'gender': 'Female'}\n",
    "\n",
    "person.update(other_person)\n",
    "print(person)  # {'name': 'Jane', 'age': 25, 'gender': 'Female'}\n",
    "\n",
    "person.update(age=50)\n",
    "print(person)  # {'name': 'Jane', 'age': 50, 'gender': 'Female'}\n",
    "\n",
    "person.update(country='KOREA')\n",
    "print(person)  # {'name': 'Jane', 'age': 50, 'gender': 'Female', 'country': 'KOREA'}\n",
    "```"
   ]
  },
  {
   "cell_type": "markdown",
   "metadata": {},
   "source": [
    "##### 다양한 딕셔너리 메서드\n",
    "<링크>"
   ]
  },
  {
   "cell_type": "markdown",
   "metadata": {},
   "source": [
    "### 세트 `set`\n",
    "- 고유한 항목들(중복x)의 정렬되지 않은(순서x) 컬렉션"
   ]
  },
  {
   "cell_type": "markdown",
   "metadata": {},
   "source": [
    "#### 세트 메서드\n",
    "|           메서드          \t|                                설명                               \t|\n",
    "|:-------------------------:\t|:-----------------------------------------------------------------:\t|\n",
    "|          `s.add(x)`         \t|     세트 s에 항목   x를 추가. 이미   x가 있다면 변화 없음         \t|\n",
    "|          s.clear()        \t|     세트 s의   모든 항목을   제거                                 \t|\n",
    "|         `s.remove(x)`       \t|     세트 s에서   항목 x를 제거. 항목   x가 없을 경우 Key error    \t|\n",
    "|           s.pop()         \t|     세트 s에서   랜덤하게 항목을 반환하고,   해당 항목을 제거     \t|\n",
    "|        s.discard(x)       \t|     세트 s에서   항목 x를 제거                                    \t|\n",
    "|     s.update(iterable)    \t|     세트 s에   다른 iterable 요소를   추가(:= list의 extend)                        \t|"
   ]
  },
  {
   "cell_type": "markdown",
   "metadata": {},
   "source": [
    "##### .add(x)\n",
    "- 세트에 x를 추가 \n",
    "- 추가할 때 마다 표기되는 위치는 랜덤."
   ]
  },
  {
   "cell_type": "markdown",
   "metadata": {},
   "source": [
    "######\n",
    "```python\n",
    "my_set = {'a', 'b', 'c', 1, 2, 3}\n",
    "\n",
    "my_set.add(4)\n",
    "print(my_set)  # {1, 'b', 3, 2, 'c', 'd', 'a’}\n",
    "\n",
    "my_set.add(4)\n",
    "print(my_set)  # {1, 'b', 3, 2, 'c', 'd', 'a’}\n",
    "```"
   ]
  },
  {
   "cell_type": "markdown",
   "metadata": {},
   "source": [
    "##### .clear()\n",
    "- 세트의 모든 항목을 제거\n",
    "- set()로 프린트 됨."
   ]
  },
  {
   "cell_type": "markdown",
   "metadata": {},
   "source": [
    "######\n",
    "```py\n",
    "my_set = {'a', 'b', 'c', 1, 2, 3}\n",
    "\n",
    "my_set.clear()\n",
    "print(my_set)  # set()\n",
    "```"
   ]
  },
  {
   "cell_type": "markdown",
   "metadata": {},
   "source": [
    "##### .remove(x)\n",
    "- 세트에서 항목 x를 제거\n"
   ]
  },
  {
   "cell_type": "markdown",
   "metadata": {},
   "source": [
    "######\n",
    "```python\n",
    "my_set = {'a', 'b', 'c', 1, 2, 3}\n",
    "\n",
    "my_set.remove(2)\n",
    "print(my_set)  # {'b', 1, 3, 'c', 'a'}\n",
    "\n",
    "my_set.remove(10)\n",
    "print(my_set)  # KeyError\n",
    "```"
   ]
  },
  {
   "cell_type": "markdown",
   "metadata": {},
   "source": [
    "##### .pop()\n",
    "- 세트에서 <span style='color:red;'>임의의</span> 요소를 제거하고 <span style='color:red;'>반환</span>\n",
    "- 임의가 정말 임의인가? -> 해쉬할 때 배움."
   ]
  },
  {
   "cell_type": "markdown",
   "metadata": {},
   "source": [
    "######\n",
    "```py\n",
    "my_set = {'a', 'b', 'c', 1, 2, 3}\n",
    "\n",
    "element = my_set.pop()\n",
    "print(element)  # 1\n",
    "print(my_set)  # {2, 3, 'b', 'a', 'c'}\n",
    "```"
   ]
  },
  {
   "cell_type": "markdown",
   "metadata": {},
   "source": [
    "##### .discard()\n",
    "- 세트 s에서 항목 x를 제거. remove와 달리 에러 없음\n"
   ]
  },
  {
   "cell_type": "markdown",
   "metadata": {},
   "source": [
    "######\n",
    "```python\n",
    "my_set = {1, 2, 3}\n",
    "\n",
    "my_set.discard(2)\n",
    "print(my_set)  # {1, 3, 'a', 'c', 'b’}\n",
    "\n",
    "my_set.discard(10)\n",
    "```"
   ]
  },
  {
   "cell_type": "markdown",
   "metadata": {},
   "source": [
    "##### .update(iterable)\n",
    "- 세트에 다른 iterable 요소를 추가\n"
   ]
  },
  {
   "cell_type": "markdown",
   "metadata": {},
   "source": [
    "######\n",
    "```py\n",
    "my_set = {'a', 'b', 'c', 1, 2, 3}\n",
    "\n",
    "my_set.update([1, 4, 5])\n",
    "print(my_set)  # {1, 2, 3, 'c', 4, 5, 'b', 'a'}\n",
    "```"
   ]
  },
  {
   "cell_type": "markdown",
   "metadata": {},
   "source": [
    "#### 세트의 집합 메서드\n",
    "|              메서드            \t|                                         설명                                       \t|         연산자        \t|\n",
    "|:------------------------------:\t|:----------------------------------------------------------------------------------:\t|:---------------------:\t|\n",
    "|      set1.difference(set2)     \t|        set1에는 들어있지만 set2에는      없는   항목으로 세트를 생성 후 반환       \t|      set1   – set2    \t|\n",
    "|     set1.intersection(set2)    \t|           set1과 set2 모두   들어있는 항목으로      세트를   생성 후 반환          \t|     set1   & set 2    \t|\n",
    "|       set1.issubset(set2)      \t|               set1의 항목이 모두 set2에 들어있으면      True를   반환              \t|     set1   <= set2    \t|\n",
    "|      set1.issuperset(set2)     \t|               set1가 set2의   항목을 모두 포함하면      True를   반환              \t|     set1   >= set2    \t|\n",
    "|         set1.union(set2)       \t|     set1 또는 set2에(혹은   둘 다) 들어있는      항목으로   세트를 생성 후 반환    \t|     set1   \\| set2    \t|"
   ]
  },
  {
   "cell_type": "markdown",
   "metadata": {},
   "source": [
    "##### 세트의 집합 메서드\n",
    "```py\n",
    "set1 = {0, 1, 2, 3, 4}\n",
    "set2 = {1, 3, 5, 7, 9}\n",
    "\n",
    "print(set1.difference(set2))  # {0, 2, 4}\n",
    "print(set1.intersection(set2))  # {1, 3}\n",
    "print(set1.issubset(set2))  # False\n",
    "print(set1.issuperset(set2))  # False\n",
    "print(set1.union(set2))  # {0, 1, 2, 3, 4, 5, 7, 9}\n",
    "```"
   ]
  },
  {
   "cell_type": "markdown",
   "metadata": {},
   "source": [
    "## 참고"
   ]
  },
  {
   "cell_type": "markdown",
   "metadata": {},
   "source": [
    "### 해시 테이블"
   ]
  },
  {
   "cell_type": "markdown",
   "metadata": {},
   "source": [
    "### Hash Table\n",
    "해시 함수를 사용하여 변환한 값을<br>\n",
    "색인(index)으로 삼아 키(key)와 데이터(value)를 저장하는 자료구조\n",
    "\n",
    "> 데이터를 효율적으로 저장하고 검색하기 위해 사용"
   ]
  },
  {
   "cell_type": "markdown",
   "metadata": {},
   "source": [
    "#### 해시 테이블 원리\n",
    "- 키를 해시 함수를 통해 해시 값으로 변환하고<br>\n",
    "이 해시 값을 인덱스로 사용하여 데이터를 저장하거나 검색\n",
    "    - 데이터 검색이 매우 빠르게 이루어짐\n",
    "\n",
    "- 해시함수는 키와 테이블을 연결해줌\n",
    "    - 파이썬이 껐다 켜지면 그 연결값이 리프레시됨"
   ]
  },
  {
   "cell_type": "markdown",
   "metadata": {},
   "source": [
    "#### 해시\n",
    "- 임의의 크기를 가진 데이터(key)를 고정된 크기의 고유한 값(index)으로 변환하는 것\n",
    "- 이렇게 생성된 고유한 값은 주로 해당 데이터를 식별하는 데 사용될 수 있음\n",
    "    - 일종의 지문과 같은 역할\n",
    "    - "
   ]
  },
  {
   "cell_type": "markdown",
   "metadata": {},
   "source": [
    "#### 해시 함수\n",
    "- 임의의 길이의 데이터를 입력 받아 고정된 길이의 데이터(해시 값)를 출력하는 함수\n",
    "- "
   ]
  },
  {
   "cell_type": "markdown",
   "metadata": {},
   "source": [
    "#### set의 요소 & dictionary의 키와 해시테이블 관계\n",
    "- 해시테이블의 순서대로 뽑아서 값이 일정하게 나옴"
   ]
  },
  {
   "cell_type": "markdown",
   "metadata": {},
   "source": [
    "+ 해시랑 파이썬 문법은 에듀싸피에만 파일이 있음. 모르면 넘어가도 됨."
   ]
  },
  {
   "cell_type": "markdown",
   "metadata": {},
   "source": [
    "# 하늘쌤"
   ]
  },
  {
   "cell_type": "markdown",
   "metadata": {},
   "source": [
    "##\n",
    "- 자료구조에서 반드시 할 줄 알아야 하는 것 : C(CREATE) R(READ) U(UPDATE) D(DELETE)\n",
    "\n",
    "- set : 주머니 안에 섞여있는 것\n",
    "\n",
    "- 자료구조 + pop() + 반복문 -> 우리 반 자리배치\n",
    "\n",
    "- 99번 파일 먼저\n",
    "\n",
    "- hash : cs면접 주제"
   ]
  }
 ],
 "metadata": {
  "language_info": {
   "name": "python"
  }
 },
 "nbformat": 4,
 "nbformat_minor": 2
}

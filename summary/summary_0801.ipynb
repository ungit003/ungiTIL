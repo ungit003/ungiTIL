{
 "cells": [
  {
   "cell_type": "markdown",
   "metadata": {},
   "source": [
    "# 검색"
   ]
  },
  {
   "cell_type": "markdown",
   "metadata": {},
   "source": [
    "목적하는 탐색 키 를 가진 항목을 찾는 것\n",
    "    - 탐색 키 : 자료를 구별하여 인식할 수 있는 키\n",
    "\n",
    "* for, while 둘다 써서 하기"
   ]
  },
  {
   "cell_type": "markdown",
   "metadata": {},
   "source": [
    "종류\n",
    "- 순차 검색\n",
    "- 이진 검색\n",
    "- 해쉬"
   ]
  },
  {
   "cell_type": "markdown",
   "metadata": {},
   "source": [
    "## 순차 검색"
   ]
  },
  {
   "cell_type": "markdown",
   "metadata": {},
   "source": [
    "- 간단, 직관\n",
    "- 배열, 리스트 등 순차구조 자료구조에서 유용\n",
    "- 구현 쉬움. 수행시간이 검색 대상에 따라 급격히 증가\n",
    "\n",
    "1. 비정렬\n",
    "2. 정렬"
   ]
  },
  {
   "cell_type": "markdown",
   "metadata": {},
   "source": [
    "### 검색 과정"
   ]
  },
  {
   "cell_type": "markdown",
   "metadata": {},
   "source": [
    "#### 비정렬\n",
    "- 첫 원소부터 검색 대상과 키 값이 같은 원소 있는지 비교\n",
    "- 있으면 인덱스 반환\n",
    "- 없으면 검색 실패(-1 반환)\n",
    "- ~ and ~ 할 때 인덱스 검사를 앞에 두고, 뒤에 문장을 둔다. (단축평가)"
   ]
  },
  {
   "cell_type": "markdown",
   "metadata": {},
   "source": [
    "#### 정렬\n",
    "- 오름차순 기준\n",
    "- 순차, 키값 비교, 비교중에 내가 가진 키보다 큰 원소가 나타남 -> 그럼 뒤는 없겠네 -> 종료"
   ]
  },
  {
   "cell_type": "markdown",
   "metadata": {},
   "source": [
    "## 이진 검색"
   ]
  },
  {
   "cell_type": "markdown",
   "metadata": {},
   "source": [
    "자료 가운데 항복의 키값이랑 비교해서 다음 검색 위치를 결정, 진행 방법\n",
    "- 반 자르고, 좌우 고르고, 반자르고, 좌우고르고~ : 빠름\n",
    "\n",
    "무조건 자료 정렬 후 사용\n",
    "- 인덱스를 추가하고 제거하는 과정이 번거롭고 오래걸림"
   ]
  },
  {
   "cell_type": "markdown",
   "metadata": {},
   "source": [
    "구현\n",
    "1. 제어문\n",
    "2. 재귀\n",
    "3. 인덱스\n",
    "    - 원본 데이터랑 별개로 배열 인덱스를 추가.\n",
    "    - 데이터를 삽입하면 상대적으로 크기가 작아져서 속도가 빠름"
   ]
  },
  {
   "cell_type": "markdown",
   "metadata": {},
   "source": [
    "### 인덱스"
   ]
  },
  {
   "cell_type": "markdown",
   "metadata": {},
   "source": [
    "데이터베이스에서 용어 유래\n",
    "테이블에 대한 동작 속도를 높여주는 자료\n",
    "대량의 데이터 정렬 -> 프로그램 느림 -> 배열 인덱스\n",
    "데이터베이스 인덱스 : 이진 탐색 트리"
   ]
  },
  {
   "cell_type": "markdown",
   "metadata": {},
   "source": [
    "# 선택 정렬"
   ]
  },
  {
   "cell_type": "markdown",
   "metadata": {},
   "source": [
    "셀렉션 알고리즘?\n",
    "\n",
    "과정\n",
    "- 최솟값 찾기.\n",
    "- 맨 앞과 교환\n",
    "- 맨 앞 빼고 나머지 반복"
   ]
  },
  {
   "cell_type": "code",
   "execution_count": 2,
   "metadata": {},
   "outputs": [
    {
     "name": "stdout",
     "output_type": "stream",
     "text": [
      "[2, 3, 4, 5, 7] [2, 3, 4, 5]\n"
     ]
    }
   ],
   "source": [
    "def selection_sort(arr, N):\n",
    "    for i in range(N-1):\n",
    "        min_dex = i\n",
    "        for j in range(i+1,N):\n",
    "            if arr[min_dex] > arr[j]:\n",
    "                min_dex = j\n",
    "        arr[i], arr[min_dex] = arr[min_dex], arr[i] \n",
    "           \n",
    "A = [2, 7, 5, 3, 4]\n",
    "selection_sort(A, 5)\n",
    "B = [5, 4, 3, 2]\n",
    "selection_sort(B, 4)\n",
    "\n",
    "print(A, B)"
   ]
  },
  {
   "cell_type": "markdown",
   "metadata": {},
   "source": [
    "### 셀렉션 알고리즘\n"
   ]
  }
 ],
 "metadata": {
  "kernelspec": {
   "display_name": "Python 3",
   "language": "python",
   "name": "python3"
  },
  "language_info": {
   "codemirror_mode": {
    "name": "ipython",
    "version": 3
   },
   "file_extension": ".py",
   "mimetype": "text/x-python",
   "name": "python",
   "nbconvert_exporter": "python",
   "pygments_lexer": "ipython3",
   "version": "3.9.13"
  }
 },
 "nbformat": 4,
 "nbformat_minor": 2
}

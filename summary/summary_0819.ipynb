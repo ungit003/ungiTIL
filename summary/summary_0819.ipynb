{
 "cells": [
  {
   "cell_type": "markdown",
   "metadata": {},
   "source": [
    "# Web"
   ]
  },
  {
   "cell_type": "markdown",
   "metadata": {},
   "source": [
    "## World Wide Web"
   ]
  },
  {
   "cell_type": "markdown",
   "metadata": {},
   "source": [
    "- web\n",
    "- web site\n",
    "- web page"
   ]
  },
  {
   "cell_type": "markdown",
   "metadata": {},
   "source": [
    "### web page\n",
    "- HTML : Structure\n",
    "- CSS : Styling\n",
    "- Javascript : Behavior"
   ]
  },
  {
   "cell_type": "markdown",
   "metadata": {},
   "source": [
    "#### HTML\n",
    "**HyperText Markup Language**\n",
    "- Hypertext\n",
    "    - 웹 페이지를 다른 페이지로 연결하는 링크\n",
    "- Markup language\n",
    "    - 문서나 데이터의 구조를 명시하는 언어 ex) HTML, Markdown\n",
    "    - 글만 줄줄 쓰는게 아니고 구조를 만들어주는 명령어 같은 거."
   ]
  },
  {
   "cell_type": "markdown",
   "metadata": {},
   "source": [
    "##### 구조\n"
   ]
  },
  {
   "cell_type": "markdown",
   "metadata": {},
   "source": []
  }
 ],
 "metadata": {
  "language_info": {
   "name": "python"
  }
 },
 "nbformat": 4,
 "nbformat_minor": 2
}

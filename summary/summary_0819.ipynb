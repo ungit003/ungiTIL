{
 "cells": [
  {
   "cell_type": "markdown",
   "metadata": {},
   "source": [
    "# Web"
   ]
  },
  {
   "cell_type": "markdown",
   "metadata": {},
   "source": [
    "## World Wide Web"
   ]
  },
  {
   "cell_type": "markdown",
   "metadata": {},
   "source": [
    "- web\n",
    "- web site\n",
    "- web page"
   ]
  },
  {
   "cell_type": "markdown",
   "metadata": {},
   "source": [
    "### web page\n",
    "- HTML : Structure\n",
    "- CSS : Styling\n",
    "- Javascript : Behavior"
   ]
  },
  {
   "cell_type": "markdown",
   "metadata": {},
   "source": [
    "#### HTML\n",
    "**HyperText Markup Language**\n",
    "- Hypertext\n",
    "    - 웹 페이지를 다른 페이지로 연결하는 링크\n",
    "- Markup language\n",
    "    - 문서나 데이터의 구조를 명시하는 언어 ex) HTML, Markdown\n",
    "    - 글만 줄줄 쓰는게 아니고 구조를 만들어주는 명령어 같은 거."
   ]
  },
  {
   "cell_type": "markdown",
   "metadata": {},
   "source": [
    "##### 구조\n"
   ]
  },
  {
   "cell_type": "markdown",
   "metadata": {},
   "source": [
    "tip\n",
    "ctrl + shift + i = F12 = 마우스 왼쪽 -> 검사"
   ]
  },
  {
   "cell_type": "markdown",
   "metadata": {},
   "source": [
    "HTML Element\n",
    "\n",
    "Element = opening tag + content + closing tag\n",
    "\n",
    "            <p>       hello        </p>\n",
    "\n",
    "HTML Attributes"
   ]
  },
  {
   "cell_type": "markdown",
   "metadata": {},
   "source": [
    "#### CSS\n",
    "**Cascading Style Sheet**\n",
    "- 다 외울 순 없고 할 때마다 하나씩 배워가는 느낌."
   ]
  },
  {
   "cell_type": "markdown",
   "metadata": {},
   "source": [
    "적용방법\n",
    "1. 인라인(Inline) 스타일 -> 얘는 거의 안씀\n",
    "2. 내부(Internal) 스타일 시트 -> 얘 위주로\n",
    "3. 외부(External) 스타일 시트 -> 얘는 외부파일"
   ]
  },
  {
   "cell_type": "markdown",
   "metadata": {},
   "source": [
    "##### CSS 선택자\n",
    "**CSS Selectors**\n",
    "- HTML 요소를 선택하여 스타일을 적용할 수 있도록 하는 선택자"
   ]
  },
  {
   "cell_type": "markdown",
   "metadata": {},
   "source": [
    "- 기본 선택자\n",
    "    - 전체 선택자 : *\n",
    "    - 요소 선택자 : tag\n",
    "    - 클래스 선택자 : class -> .\n",
    "    - 아이디 선택자 : id -> #\n",
    "    - 속성 선택자 : att\n",
    "    - 등등등\n",
    "\n",
    "- 결합자\n",
    "    - 자손 결합자\n",
    "    - 자식 결합자\n"
   ]
  },
  {
   "cell_type": "markdown",
   "metadata": {},
   "source": [
    "##### 명시도\n",
    "**Specificity**\n",
    "- CSS 선언 이 겹치면 누구를 쓸 것인가?"
   ]
  },
  {
   "cell_type": "markdown",
   "metadata": {},
   "source": [
    "명시도 높은 순\n",
    "- Importance\n",
    "- Inline 스타일\n",
    "- 선택자 : id > class > 요소\n",
    "- 소스 코드 선언 순서\n",
    "\n",
    "but. 우리는 class만 사용하도록 한다.\n",
    "- 그러면 고민이 한 개 줄어듦\n",
    "- id는 왜 안쓰나? 요소 하나에만 적용된다는 의미가 있음.\n",
    "- 특수하게 하나만 쓸 일이 있으면 id 쓰기도 함."
   ]
  }
 ],
 "metadata": {
  "language_info": {
   "name": "python"
  }
 },
 "nbformat": 4,
 "nbformat_minor": 2
}

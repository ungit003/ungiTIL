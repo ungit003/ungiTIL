{
 "cells": [
  {
   "cell_type": "markdown",
   "metadata": {},
   "source": [
    "# Stack2\n"
   ]
  },
  {
   "cell_type": "markdown",
   "metadata": {},
   "source": [
    "## 부분집합\n"
   ]
  },
  {
   "cell_type": "markdown",
   "metadata": {},
   "source": [
    "powerset : 공집합, 자기자신 포함한 모든 부분집합\n",
    "    - backtracking으로 만들기"
   ]
  },
  {
   "cell_type": "markdown",
   "metadata": {},
   "source": [
    "## 순열"
   ]
  },
  {
   "cell_type": "markdown",
   "metadata": {},
   "source": [
    "## 가지치기"
   ]
  },
  {
   "cell_type": "markdown",
   "metadata": {},
   "source": [
    "## 분할 정복 알고리즘\n"
   ]
  },
  {
   "cell_type": "markdown",
   "metadata": {},
   "source": [
    "안함"
   ]
  },
  {
   "cell_type": "markdown",
   "metadata": {},
   "source": [
    "## 퀵 정렬"
   ]
  },
  {
   "cell_type": "markdown",
   "metadata": {},
   "source": [
    "안함"
   ]
  },
  {
   "cell_type": "markdown",
   "metadata": {},
   "source": [
    "## +"
   ]
  },
  {
   "cell_type": "markdown",
   "metadata": {},
   "source": [
    "++ 파이참 디버깅 하는 법"
   ]
  },
  {
   "cell_type": "markdown",
   "metadata": {},
   "source": [
    "오늘의 메인메뉴 \n",
    "- 모든 정렬 : 버블, 카운팅, 선택\n",
    "- 델타 탐색\n",
    "- DFS\n",
    "- 그에 따른 부가적인 공부 조사\n",
    "- 완전 검색 (= Brute-force, generate-and-test)\n",
    "- 순차 검색 O(n)\n",
    "- 이진 검색 O(logn)\n",
    "- 순열(Permutation)\n",
    "- 그리디 알고리즘 baby-gin\n",
    "- 패턴 매칭\n",
    "- 재귀 호출 > 메모이제이션\n",
    "- DP"
   ]
  },
  {
   "cell_type": "markdown",
   "metadata": {},
   "source": [
    "### 정렬"
   ]
  },
  {
   "cell_type": "markdown",
   "metadata": {},
   "source": [
    "버블 정렬 : O(n^2)\n",
    "- 바로 옆에꺼랑 비교하고 바꾸기\n",
    "- 기법 : 비교와 교환\n",
    "- 비교 : 코딩이 가장 손쉽다."
   ]
  },
  {
   "cell_type": "code",
   "execution_count": null,
   "metadata": {},
   "outputs": [],
   "source": [
    "def BubbleSort(a, N): # 정렬할 리스트, 원소 수\n",
    "    for i in range*(N-1, 0, -1):\n",
    "        for j in range(0, i):\n",
    "            if a[j] > a[j+1]:\n",
    "                a[j], a[j+1] = a[j+1], a[j]"
   ]
  },
  {
   "cell_type": "markdown",
   "metadata": {},
   "source": [
    "카운팅 정렬 : O(n + k) k : 정수 최댓값\n",
    "- 항목별로(Data의) 몇갠지 세어서(counts) 새로 리스트(New) 만들기\n",
    "- 비교환 방식\n",
    "- n이 비교적 작을 때만 가능하다."
   ]
  },
  {
   "cell_type": "code",
   "execution_count": null,
   "metadata": {},
   "outputs": [],
   "source": [
    "def CountingSort(Data, New, k): # k : Data 원소의 최댓값\n",
    "    counts = [0] * (k+1)\n",
    "    \n",
    "    for i in range(0, len(Data)):\n",
    "        counts[Data[i]] += 1\n",
    "        \n",
    "    for i in range(1, k+1):\n",
    "        counts[i] += counts[i-1]\n",
    "        \n",
    "    for i in range(len(New)-1, -1, -1):\n",
    "        counts[Data[i]] -= 1\n",
    "        New[counts[Data[i]]] = Data[i]\n",
    "        \n",
    "Data = [~~]\n",
    "Temp = [0] * len(Data)"
   ]
  },
  {
   "cell_type": "markdown",
   "metadata": {},
   "source": [
    "선택 정렬 : O(n^2)\n",
    "- 작은 값 찾아서 앞칸으로 옮기기, 인덱스가 중요\n"
   ]
  },
  {
   "cell_type": "code",
   "execution_count": null,
   "metadata": {},
   "outputs": [],
   "source": [
    "def SelectionSort(a, N):\n",
    "    for i in range(N-1):\n",
    "        min_idx = i\n",
    "        for j in range(i+1, N):\n",
    "            if a[min_idx] > a[j]:\n",
    "                min_idx = j\n",
    "        a[i], a[min_idx] = a[min_idx], a[i]"
   ]
  },
  {
   "cell_type": "markdown",
   "metadata": {},
   "source": [
    "++ 선택 알고리즘(셀렉션 알고리즘) : k번째 큰 , 작은 원소 찾는 방법\n",
    "-> 최소, 최대, 중간값 찾을 때 가능.\n",
    "\n",
    "1. 자료 정렬\n",
    "2. 원하는 순서의 원소 갖고오기."
   ]
  },
  {
   "cell_type": "code",
   "execution_count": null,
   "metadata": {},
   "outputs": [],
   "source": []
  },
  {
   "cell_type": "markdown",
   "metadata": {},
   "source": [
    "### 탐색"
   ]
  },
  {
   "cell_type": "markdown",
   "metadata": {},
   "source": [
    "델타 탐색\n"
   ]
  },
  {
   "cell_type": "code",
   "execution_count": null,
   "metadata": {},
   "outputs": [],
   "source": [
    "di = [0, 1, 0, -1]\n",
    "dj = [1, 0, -1, 0]\n",
    "N = 5\n",
    "\n",
    "for i in range(N):\n",
    "    for j in range(N):\n",
    "        for k in range(4):\n",
    "            ni = i + di[k]\n",
    "            nj = j + dj[k]"
   ]
  },
  {
   "cell_type": "markdown",
   "metadata": {},
   "source": []
  }
 ],
 "metadata": {
  "language_info": {
   "name": "python"
  }
 },
 "nbformat": 4,
 "nbformat_minor": 2
}

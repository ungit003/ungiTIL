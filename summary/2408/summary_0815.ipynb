{
 "cells": [
  {
   "cell_type": "markdown",
   "metadata": {},
   "source": [
    "# DFS\n"
   ]
  },
  {
   "cell_type": "markdown",
   "metadata": {},
   "source": [
    "## Tree"
   ]
  },
  {
   "cell_type": "code",
   "execution_count": 1,
   "metadata": {},
   "outputs": [
    {
     "name": "stdout",
     "output_type": "stream",
     "text": [
      "A\n",
      "B\n",
      "E\n",
      "F\n",
      "C\n",
      "D\n",
      "G\n",
      "H\n",
      "I\n"
     ]
    }
   ],
   "source": [
    "# 트리의 인접 리스트 표현\n",
    "tree = {'A': ['B', 'C', 'D'],\n",
    "        'B': ['E', 'F'],\n",
    "        'D': ['G', 'H', 'I']}\n",
    "\n",
    "def dfs(tree, node):\n",
    "    \n",
    "    print(node)\n",
    "\n",
    "    if node not in tree:\n",
    "        return\n",
    "\n",
    "    for child in tree[node]:\n",
    "        dfs(tree, child)\n",
    "\n",
    "dfs(tree, 'A')"
   ]
  },
  {
   "cell_type": "markdown",
   "metadata": {},
   "source": [
    "## Graph"
   ]
  },
  {
   "cell_type": "code",
   "execution_count": 1,
   "metadata": {},
   "outputs": [
    {
     "ename": "",
     "evalue": "",
     "output_type": "error",
     "traceback": [
      "\u001b[1;31mThe Kernel crashed while executing code in the current cell or a previous cell. \n",
      "\u001b[1;31mPlease review the code in the cell(s) to identify a possible cause of the failure. \n",
      "\u001b[1;31mClick <a href='https://aka.ms/vscodeJupyterKernelCrash'>here</a> for more info. \n",
      "\u001b[1;31mView Jupyter <a href='command:jupyter.viewOutput'>log</a> for further details."
     ]
    }
   ],
   "source": [
    "def dfs(current, adj_m, visited):\n",
    "    visited[current] = True\n",
    "    print(visited)\n",
    "\n",
    "    for i in range(len(adj_m)):\n",
    "        \n",
    "        if adj_m[current][i] and not visited[i]:\n",
    "            # adj_m[current][i] == True -> adj_m[current][i] != 0\n",
    "            # not visited[i] == True -> visited[i] == False\n",
    "            visited[current] = False\n",
    "            dfs(i, adj_m, visited)\n",
    "\n",
    "        # print('quit')\n",
    "\n",
    "N = 5\n",
    "adj_matrix = [\n",
    "    [0, 1, 1, 0, 0],\n",
    "    [1, 0, 0, 1, 1],\n",
    "    [1, 0, 0, 0, 1],\n",
    "    [0, 1, 0, 0, 1],\n",
    "    [0, 1, 1, 1, 0]\n",
    "]\n",
    "visited = [False] * N\n",
    "\n",
    "# for i in range(5):\n",
    "dfs(0, adj_matrix, visited)\n"
   ]
  }
 ],
 "metadata": {
  "kernelspec": {
   "display_name": "Python 3",
   "language": "python",
   "name": "python3"
  },
  "language_info": {
   "codemirror_mode": {
    "name": "ipython",
    "version": 3
   },
   "file_extension": ".py",
   "mimetype": "text/x-python",
   "name": "python",
   "nbconvert_exporter": "python",
   "pygments_lexer": "ipython3",
   "version": "3.9.13"
  }
 },
 "nbformat": 4,
 "nbformat_minor": 2
}

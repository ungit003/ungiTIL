{
 "cells": [
  {
   "cell_type": "markdown",
   "metadata": {},
   "source": [
    "# Stack2"
   ]
  },
  {
   "cell_type": "markdown",
   "metadata": {},
   "source": [
    "## 계산기 중위 > 후위"
   ]
  },
  {
   "cell_type": "markdown",
   "metadata": {},
   "source": [
    "계산방법\n",
    "1. 중위표기법\n",
    "2. 후위표기법\n",
    "    - 계산기 만들 때 후위로 만들어줌."
   ]
  },
  {
   "cell_type": "markdown",
   "metadata": {},
   "source": [
    "1. 계산식 만들기"
   ]
  },
  {
   "cell_type": "markdown",
   "metadata": {},
   "source": [
    "2. 계산식 계산하기"
   ]
  },
  {
   "cell_type": "markdown",
   "metadata": {},
   "source": [
    "## 백트래킹"
   ]
  },
  {
   "cell_type": "markdown",
   "metadata": {},
   "source": [
    "해 찾다 막히면 되돌아가서? 다시 해를 찾는다\n",
    "- 최적화(optimization)문제, 결정(decision)문제 해결 가능.\n",
    "    - 결정 문제\n",
    "        - 미로찾기, n-Queen, Map coloring, Subset Sum ...\n",
    "\n",
    "쉽게 말해서. DFS 하는 중에, 할 필요가 없는 부분을 안했다면, 가지치기라고 부르고, 백트래킹이라고 함."
   ]
  },
  {
   "cell_type": "markdown",
   "metadata": {},
   "source": [
    "백트래킹 vs DFS\n",
    "- 가지치기(Prunning ? -> `Pruning`이 맞음)\n",
    "- 불필요 차단 / 모든 경로 추적\n",
    "- 둘 다 경우가 많아지면 지수함수 시간 / n!의 경우에 처리불가"
   ]
  },
  {
   "cell_type": "markdown",
   "metadata": {},
   "source": [
    "기법\n",
    "- 모든 후보 검사 x\n",
    "- 노드의 유망(promising) x -> 노드 부모(이전)으로 되돌아감(backtraking)\n",
    "- 해당 노드가 해답을 포함하면 유망. 해답 불가능이면 유망 x\n",
    "- 가지치기(Pruning ?): 유망 x -> 고려 x\n",
    "\n",
    "절차\n",
    "- 상태 공간 트리 -> DFS 실시\n",
    "- 노드 유망 check(`이걸 어떻게함?`) -> 코드를 짜면서 가능성이 있는 부분을 위주로 짜는 것.(안되는걸 빼는거)\n",
    "- 유망 x -> 부모 노드 backtracking"
   ]
  },
  {
   "cell_type": "markdown",
   "metadata": {},
   "source": [
    "# +"
   ]
  },
  {
   "cell_type": "markdown",
   "metadata": {},
   "source": [
    "## 강사님 길찾기 풀이\n",
    "- 그래프, 인접리스트"
   ]
  },
  {
   "cell_type": "markdown",
   "metadata": {},
   "source": [
    "## p vs np"
   ]
  }
 ],
 "metadata": {
  "language_info": {
   "name": "python"
  }
 },
 "nbformat": 4,
 "nbformat_minor": 2
}

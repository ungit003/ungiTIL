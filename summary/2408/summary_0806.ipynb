{
 "cells": [
  {
   "cell_type": "markdown",
   "metadata": {},
   "source": [
    "# Stack"
   ]
  },
  {
   "cell_type": "markdown",
   "metadata": {},
   "source": [
    "## 스택"
   ]
  },
  {
   "cell_type": "markdown",
   "metadata": {},
   "source": [
    "- 쌓아올린 자료\n",
    "- 선형구조\n",
    "    - 비선형이라면 트리\n",
    "- 삽입하거나 꺼내 쓸 수 있음\n",
    "- 마지막에 들어간게 먼저 나옴 : 후입선출(LIFO : Last-In-First-Out)"
   ]
  },
  {
   "cell_type": "markdown",
   "metadata": {},
   "source": [
    "1. 자료구조 : 자료를 선형으로 저장할 저장소\n",
    "    - 배열 사용 가능\n",
    "    - 저장소 자체를 스택이라 할 수 있음.\n",
    "    - 마지막에 삽입된 원소 : top"
   ]
  },
  {
   "cell_type": "markdown",
   "metadata": {},
   "source": [
    "2. 연산\n",
    "    - 삽입 : 저장소에 자료 저장. = push\n",
    "    - 삭제 : 저장소에서 꺼냄. = pop\n",
    "    - 공백 확인 = isEmpty\n",
    "    - top의 원소(item) 반환 = peek"
   ]
  },
  {
   "cell_type": "markdown",
   "metadata": {},
   "source": [
    "Push 알고리즘\n",
    "- append 메서드로 리스트 마지막에 데이터 삽입.\n",
    "```python\n",
    "def push(item):\n",
    "    s.append(item)\n",
    "```\n",
    "\n",
    "```python\n",
    "def push(item, size):\n",
    "~~~~\n",
    "```"
   ]
  },
  {
   "cell_type": "markdown",
   "metadata": {},
   "source": [
    "Pop 알고리즘\n",
    "```python\n",
    "def pop():\n",
    "    if len(s) == 0:\n",
    "        #underflow\n",
    "        return\n",
    "    else:\n",
    "        return s.pop();\n",
    "```\n",
    "```python\n",
    "def pop():\n",
    "~~~~\n",
    "```"
   ]
  },
  {
   "cell_type": "markdown",
   "metadata": {},
   "source": [
    "### 응용"
   ]
  },
  {
   "cell_type": "markdown",
   "metadata": {},
   "source": [
    "1. 괄호검사\n",
    "    - ( : push\n",
    "    - ) : pop "
   ]
  },
  {
   "cell_type": "markdown",
   "metadata": {},
   "source": [
    "2. function call"
   ]
  },
  {
   "cell_type": "markdown",
   "metadata": {},
   "source": [
    "## 재귀호출 **\n"
   ]
  },
  {
   "cell_type": "markdown",
   "metadata": {},
   "source": [
    "- 필요한 함수가 자기 자신과 같은 경우 자신을 다시 호출하는 경우\n",
    "- 함수에서 실행해야 하는 작업의 특성에 따라 일반적인 호출방식보다 재귀호출방식을 사용하여 함수를 만들면 프로그램의 크기를 줄이고 간단하게 작성\n",
    "    - ex) factorial,fibo"
   ]
  },
  {
   "cell_type": "markdown",
   "metadata": {},
   "source": [
    "## Memoization"
   ]
  },
  {
   "cell_type": "markdown",
   "metadata": {},
   "source": [
    "## DP"
   ]
  },
  {
   "cell_type": "markdown",
   "metadata": {},
   "source": [
    "## DFS"
   ]
  }
 ],
 "metadata": {
  "language_info": {
   "name": "python"
  }
 },
 "nbformat": 4,
 "nbformat_minor": 2
}

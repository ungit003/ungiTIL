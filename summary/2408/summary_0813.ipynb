{
 "cells": [
  {
   "cell_type": "markdown",
   "metadata": {},
   "source": [
    "# Que\n"
   ]
  },
  {
   "cell_type": "markdown",
   "metadata": {},
   "source": [
    "삽입, 삭제 위치가 제한적인 자료구조.\n",
    "뒤에서는 삽입, 앞에서는 삭제만.\n",
    "\n",
    "선입선출구조(FIFO)\n",
    "\n",
    "머리(front) : 저장된 원소 중 첫 번째 원소\n",
    "꼬리(rear) : 저장된 원소 중 마지막 원소\n"
   ]
  },
  {
   "cell_type": "markdown",
   "metadata": {},
   "source": [
    "연산\n",
    "연산과정.\n"
   ]
  },
  {
   "cell_type": "markdown",
   "metadata": {},
   "source": [
    "## 선형큐"
   ]
  },
  {
   "cell_type": "markdown",
   "metadata": {},
   "source": [
    "1차원 배열.\n",
    "삽입, 삭제하는 코드 해볼 것."
   ]
  },
  {
   "cell_type": "markdown",
   "metadata": {},
   "source": [
    "## 원형큐"
   ]
  },
  {
   "cell_type": "markdown",
   "metadata": {},
   "source": [
    "## 연결큐"
   ]
  },
  {
   "cell_type": "markdown",
   "metadata": {},
   "source": [
    "단점\n",
    "- 역방향 탐색x\n",
    "- 탐색 O(n)\n",
    "\n",
    "장점\n",
    "- 메모리 탐색 관리\n",
    "- 삽입(처음, 끝, O(1))"
   ]
  },
  {
   "cell_type": "markdown",
   "metadata": {},
   "source": [
    "### deque"
   ]
  },
  {
   "cell_type": "markdown",
   "metadata": {},
   "source": [
    "연속되어있지 않음."
   ]
  },
  {
   "cell_type": "markdown",
   "metadata": {},
   "source": [
    "## 우선운위 큐"
   ]
  },
  {
   "cell_type": "markdown",
   "metadata": {},
   "source": [
    "## 버퍼"
   ]
  }
 ],
 "metadata": {
  "language_info": {
   "name": "python"
  }
 },
 "nbformat": 4,
 "nbformat_minor": 2
}

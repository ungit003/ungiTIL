{
 "cells": [
  {
   "cell_type": "markdown",
   "metadata": {},
   "source": [
    "# Web"
   ]
  },
  {
   "cell_type": "markdown",
   "metadata": {},
   "source": [
    "## World Wide Web\n",
    "- 인터넷으로 연결된 컴퓨터들이 정보를 공유하는 거대한 정보 공간"
   ]
  },
  {
   "cell_type": "markdown",
   "metadata": {},
   "source": [
    "- web\n",
    "    - 사용자들이 정보를 검색하고 상호 작용하는 기술\n",
    "- web site\n",
    "    - 여러 개의 web page가 모인 것. 정보, 서비스를 제공하는 공간\n",
    "- web page\n",
    "    - HTML, CSS 등 웹 기술을 이용하여 만들어진 web site를 구성하는 하나의 요소"
   ]
  },
  {
   "cell_type": "markdown",
   "metadata": {},
   "source": [
    "### web page\n",
    "- HTML : Structure\n",
    "- CSS : Styling\n",
    "- Javascript : Behavior"
   ]
  },
  {
   "cell_type": "markdown",
   "metadata": {},
   "source": [
    "#### HTML\n",
    "**HyperText Markup Language**\n",
    "- web page 의미, 구조를 정의하는 언어\n",
    "\n",
    "- Hypertext\n",
    "    - 웹 페이지를 다른 페이지로 연결하는 링크\n",
    "    - 비선형성/ 상호연결성/ 사용자 주도적 탐색\n",
    "- Markup language\n",
    "    - 문서나 데이터의 구조를 명시하는 언어 ex) HTML, Markdown\n",
    "    - 글만 줄줄 쓰는게 아니고 구조를 만들어주는 명령어 같은 거."
   ]
  },
  {
   "cell_type": "markdown",
   "metadata": {},
   "source": [
    "##### 구조\n"
   ]
  },
  {
   "cell_type": "code",
   "execution_count": null,
   "metadata": {
    "vscode": {
     "languageId": "html"
    }
   },
   "outputs": [],
   "source": [
    "<!DOCTYPE html>\n",
    "<html lang=\"en\">\n",
    "<head>\n",
    "    <meta charset=\"UTF-8\">\n",
    "    <meta name=\"viewport\" content=\"width=device-width, initial-scale=1.0\">\n",
    "    <title>Document</title>\n",
    "</head>\n",
    "<body>\n",
    "    \n",
    "</body>\n",
    "</html>"
   ]
  },
  {
   "cell_type": "code",
   "execution_count": null,
   "metadata": {
    "vscode": {
     "languageId": "html"
    }
   },
   "outputs": [],
   "source": [
    "<!DOCTYPE html>\n",
    "- 해당 문서가 html로 작성된 문서이다.\n",
    "\n",
    "<html></html>\n",
    "- 전체 페이지의 콘텐츠를 포함\n",
    "\n",
    "<title></title>\n",
    "- 브라우저 탭 및 즐겨찾기 시 표시되는 제목으로 사용\n",
    "\n",
    "<head></head>\n",
    "- HTML 문서에 관련된 설명, 설정 등 컴퓨터가 식별하는 메타데이터를 작성\n",
    "- 사용자에게 보이지 않음\n",
    "\n",
    "<body></body>\n",
    "- HTML 문서의 내용을 나타냄\n",
    "- 페이지에 표시되는 모든 콘텐츠를 작성\n",
    "- 한 문서에 하나의 body 요소만 존재"
   ]
  },
  {
   "cell_type": "markdown",
   "metadata": {},
   "source": [
    "tip\n",
    "ctrl + shift + i = F12 = 마우스 왼쪽 -> 검사"
   ]
  },
  {
   "cell_type": "markdown",
   "metadata": {},
   "source": [
    "HTML Element\n",
    "- 하나의 요소는 여는 태그, 닫는 태그, 그 안의 내용(닫는 거 없을 수 있음)\n",
    "- 닫는 태그는 이름 앞에 슬래시\n",
    "\n",
    "Element = opening tag + content + closing tag\n",
    "\n",
    "            <p>          hello        </p>"
   ]
  },
  {
   "cell_type": "markdown",
   "metadata": {},
   "source": [
    "HTML Attributes\n",
    "\n",
    "- 사용자가 원하는 기준에 맞도록 요소를 설정하거나 다양한 방식으로 요소와 동작을 조절하기 위한 값\n",
    "\n",
    "- 목적\n",
    "    - 나타내고 싶지 않지만 추기적인 기능, 내용을 담고 싶을 때 사용\n",
    "    - CSS에서 스타일 적용을 위해 해당 요소를 선택하기 위한 값으로 활용됨\n",
    "    \n",
    "- 작성 규칙\n",
    "1. 속성은 요소의 이름과 속성 사이에 공백이 있어야 함\n",
    "2. 하나 이상의 속성들이 있는 경우엔 속성 사이에 공백으로 구분함\n",
    "3. 속성 값은 열고 닫는 따옴표로 감싸야 함\n",
    "\n",
    "```html\n",
    "<p class=\"editor-note\">My cat is very grumpy</p>\n",
    "```"
   ]
  },
  {
   "cell_type": "markdown",
   "metadata": {},
   "source": [
    "Text Structure\n",
    "- HTML Text structure\n",
    "- HTML의 주요 목적 중 하나는 텍스트 구조와 의미를 제공하는 것\n",
    "\n",
    "HTML\n",
    "- 웹 페이지의 의미과 구조를 정의하는 언어\n",
    "\n",
    "대표적인 html text structure\n",
    "- h1~6 : Heading\n",
    "- p : paragraphs\n",
    "- ol : ordered list\n",
    "- ul : unordered list\n",
    "- li : list\n",
    "- em : emphasis\n",
    "- strong : 강조"
   ]
  },
  {
   "cell_type": "markdown",
   "metadata": {},
   "source": [
    "#### CSS\n",
    "**Cascading Style Sheet**\n",
    "- 다 외울 순 없고 할 때마다 하나씩 배워가는 느낌."
   ]
  },
  {
   "cell_type": "markdown",
   "metadata": {},
   "source": [
    "구조\n",
    "\n",
    "```html\n",
    "h1 {\n",
    "    color: red;\n",
    "    font-size: 30px;\n",
    "}\n",
    "\n",
    "선택자 : Selector\n",
    "선언 : Declaration\n",
    "속성 : Property\n",
    "값 : Value\n"
   ]
  },
  {
   "cell_type": "markdown",
   "metadata": {},
   "source": [
    "적용방법\n",
    "1. 인라인(Inline) 스타일 -> 얘는 거의 안씀\n",
    "```html\n",
    "<h1 style=\"color: blue; background-color: yellow;\">Hello World!<h1>\n",
    "```\n",
    "2. 내부(Internal) 스타일 시트 -> 얘 위주로\n",
    "```html\n",
    "<style>\n",
    "h1 {\n",
    "    color: red;\n",
    "    font-size: 30px;\n",
    "}\n",
    "</style>\n",
    "```\n",
    "3. 외부(External) 스타일 시트 -> 얘는 외부파일\n",
    "```html\n",
    "<link rel=\"stylesheet\" href=\"style.css\">\n",
    "/* style.css */\n",
    "h1 {\n",
    "    color: blue;\n",
    "    background-color: yellow;\n",
    "}\n",
    "```\n"
   ]
  },
  {
   "cell_type": "markdown",
   "metadata": {},
   "source": [
    "##### CSS 선택자\n",
    "**CSS Selectors**\n",
    "- HTML 요소를 선택하여 스타일을 적용할 수 있도록 하는 선택자"
   ]
  },
  {
   "cell_type": "markdown",
   "metadata": {},
   "source": [
    "- 기본 선택자\n",
    "    - 전체 선택자 : *\n",
    "        - HTML 모든 요소를 선택\n",
    "    - 요소 선택자 : tag\n",
    "        - 지정한 모든 태그를 선택\n",
    "    - 클래스 선택자 : class -> .\n",
    "        - 주어진 클래스 속성을 가진 모든 요소를 선택\n",
    "    - 아이디 선택자 : id -> #\n",
    "        - 주어진 아이디 속성을 가진 요소를 선택\n",
    "        - 문서에는 주어진 아이디를 가진 요소가 하나만 있어야 함\n",
    "    - 속성 선택자 : att\n",
    "    - 등등등\n",
    "\n",
    "- 결합자\n",
    "    - 자손 결합자 : ' ' (띄어쓰기)\n",
    "        - 첫 번째 요소의 자손 요소들 선택\n",
    "        - ex) p span : `<p>` 안에 있는 모든 `<span>`를 선택\n",
    "    - 자식 결합자 : >\n",
    "        - 첫 번째 요소의 직계 자식만 선택\n",
    "        - ex) ul > li : `<ul>` 안에 있는 모든 `<li>`를 선택"
   ]
  },
  {
   "cell_type": "markdown",
   "metadata": {},
   "source": [
    "##### 명시도\n",
    "**Specificity**\n",
    "- CSS 선언 이 겹치면 누구를 쓸 것인가?"
   ]
  },
  {
   "cell_type": "markdown",
   "metadata": {},
   "source": [
    "명시도 높은 순\n",
    "- Importance\n",
    "- Inline 스타일\n",
    "- 선택자 : id > class > 요소\n",
    "- 소스 코드 선언 순서\n",
    "\n",
    "but. 우리는 class만 사용하도록 한다.\n",
    "- 그러면 고민이 한 개 줄어듦\n",
    "- id는 왜 안쓰나? 요소 하나에만 적용된다는 의미가 있음.\n",
    "- 특수하게 하나만 쓸 일이 있으면 id 쓰기도 함."
   ]
  },
  {
   "cell_type": "markdown",
   "metadata": {},
   "source": [
    "##### CSS 상속\n",
    "- 부모 요소의 속성을 자식에게 상속해 재사용성을 높임"
   ]
  },
  {
   "cell_type": "markdown",
   "metadata": {},
   "source": [
    "- 상속 되는 속성\n",
    "    - text 관련 요소(font, color text-align), opacity\n",
    "\n",
    "- 상속 되지 않는 속성\n",
    "    - Box model 관련 요소(width, height, border, box-sizing ~~~)\n",
    "    - position 관련 요소(position, top/right)\n"
   ]
  }
 ],
 "metadata": {
  "language_info": {
   "name": "python"
  }
 },
 "nbformat": 4,
 "nbformat_minor": 2
}

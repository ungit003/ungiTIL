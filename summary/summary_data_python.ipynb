{
 "cells": [
  {
   "cell_type": "markdown",
   "metadata": {},
   "source": [
    "# Control of flow"
   ]
  },
  {
   "cell_type": "markdown",
   "metadata": {},
   "source": [
    "## 제어문"
   ]
  },
  {
   "cell_type": "markdown",
   "metadata": {},
   "source": [
    "### 개요"
   ]
  },
  {
   "cell_type": "markdown",
   "metadata": {},
   "source": [
    "#### 제어문\n",
    "Control Statement\n",
    "\n",
    "코드의 실행 흐름을 제어하는 데 사용되는 구문, 조건에 따라 코드 블록을 실행하거나 반복적으로 코드를 실행"
   ]
  },
  {
   "cell_type": "markdown",
   "metadata": {},
   "source": [
    "#### 제어문\n",
    "- 조건문\n",
    "    - if, elif, else\n",
    "- 반복문\n",
    "    - for, while\n",
    "- 반복문 제어\n",
    "    - break, continue, pass"
   ]
  },
  {
   "cell_type": "markdown",
   "metadata": {},
   "source": [
    "## 조건문"
   ]
  },
  {
   "cell_type": "markdown",
   "metadata": {},
   "source": [
    "### if / elif / else\n",
    "파이썬 조건문에 사용되는 키워드"
   ]
  },
  {
   "cell_type": "markdown",
   "metadata": {},
   "source": [
    "### if statement의 기본 구조\n",
    "```py\n",
    "if 표현식:\n",
    "    코드 블록\n",
    "elif 표현식\n",
    "    코드 블록\n",
    "else:\n",
    "    코드 블록\n",
    "```"
   ]
  },
  {
   "cell_type": "code",
   "execution_count": null,
   "metadata": {},
   "outputs": [],
   "source": [
    "# ex.\n",
    "dust = int(input())\n",
    "\n",
    "if dust > 150:\n",
    "    print('매우 나쁨')\n",
    "elif dust > 80:\n",
    "    print('나쁨')\n",
    "elif dust > 30:\n",
    "    print('보통')\n",
    "else:\n",
    "    print('좋음')"
   ]
  },
  {
   "cell_type": "markdown",
   "metadata": {},
   "source": [
    "## 반복문"
   ]
  },
  {
   "cell_type": "markdown",
   "metadata": {},
   "source": [
    "### `for` statement"
   ]
  },
  {
   "cell_type": "markdown",
   "metadata": {},
   "source": [
    "#### for \n",
    "임의의 시퀀스 항목들을 그 시퀀스에 들어있는 순서대로 반복"
   ]
  },
  {
   "cell_type": "markdown",
   "metadata": {},
   "source": [
    "#### for statement의 기본 구조\n",
    "```py\n",
    "for 변수 in 반복 가능한 객체:\n",
    "    코드 블록\n",
    "```"
   ]
  },
  {
   "cell_type": "code",
   "execution_count": null,
   "metadata": {},
   "outputs": [],
   "source": [
    "# ex.\n",
    "items = ['apple', 'banana', 'coconut']\n",
    "\n",
    "for item in items:\n",
    "    print(item)"
   ]
  },
  {
   "cell_type": "markdown",
   "metadata": {},
   "source": [
    "#### 반복 가능한 객체\n",
    "<h4>iterable</h4>\n",
    "\n",
    "반복문에서 순회할 수 있는 객체 (시퀀스 객체 뿐만 아닌라 ditt, set 등도 포함)"
   ]
  },
  {
   "cell_type": "markdown",
   "metadata": {},
   "source": [
    "#### 인덱스로 리스트 순회\n",
    "- 리스트의 요소가 아닌 인덱스로 접근하여 해당 요소들을 변경하기"
   ]
  },
  {
   "cell_type": "code",
   "execution_count": null,
   "metadata": {},
   "outputs": [],
   "source": [
    "# ex.\n",
    "numbers = [4, 6, 10, -8, 5]\n",
    "\n",
    "for i in range(len(numbers)):\n",
    "    numbers[i] = numbers[i] * 2\n",
    "    \n",
    "print(numbers)"
   ]
  },
  {
   "cell_type": "markdown",
   "metadata": {},
   "source": [
    "#### 중첩 리스트 순회\n",
    "- 안쪽 리스트 요소에 접근하려면 바깥 리스트를 순회하면서 중첩 반복을 사용해 각 안쪽 반복을 순회"
   ]
  },
  {
   "cell_type": "code",
   "execution_count": null,
   "metadata": {},
   "outputs": [],
   "source": [
    "# ex.\n",
    "elements = [['A', 'B'], ['c', 'd']]\n",
    "\n",
    "for elem in elements:\n",
    "    for item in elem:\n",
    "        print(item)"
   ]
  },
  {
   "cell_type": "markdown",
   "metadata": {},
   "source": [
    "### `while` statement"
   ]
  },
  {
   "cell_type": "markdown",
   "metadata": {},
   "source": [
    "#### while\n",
    "주어진 조건식이 참(True)인 동안 코드를 반복해서 실행 == 조건식이 거짓(False)가 될 때까지 반복"
   ]
  },
  {
   "cell_type": "markdown",
   "metadata": {},
   "source": [
    "#### while statement의 기본 구조\n",
    "```py\n",
    "while 조건식:\n",
    "    코드 블록\n",
    "```"
   ]
  },
  {
   "cell_type": "code",
   "execution_count": null,
   "metadata": {},
   "outputs": [],
   "source": [
    "# ex.\n",
    "a = 0\n",
    "\n",
    "while a < 3:\n",
    "    print(a)\n",
    "    a += 1\n",
    "\n",
    "print('끝')"
   ]
  },
  {
   "cell_type": "markdown",
   "metadata": {},
   "source": [
    "#### 적절한 반복문 활용하기\n",
    "- for\n",
    "    - 반복 횟수가 명확하게 정해져 있는 경우에 유용\n",
    "    - 예를 들어 리스트, 튜플, 문자열 등과 같은 시퀀스 형식의 데잍러를 처리할 때\n",
    "- while\n",
    "    - 반복 횟수가 불분명하거나 조건에 따라 반복을 종료해야 할 때 유용\n",
    "    - 예를 들어 사용자의 입력을 받아서 특정 조건이 충족될 때까지 반복하는 경우\n"
   ]
  },
  {
   "cell_type": "markdown",
   "metadata": {},
   "source": [
    "### 반복 제어"
   ]
  },
  {
   "cell_type": "markdown",
   "metadata": {},
   "source": [
    "#### 반복문 제어 키워드\n",
    "- break\n",
    "    - 반복을 즉시 중지\n",
    "- continue\n",
    "    - 다음 반복으로 건너뜀\n",
    "- pass\n",
    "    - 아무런 동작도 수행하지 않고 넘어감"
   ]
  },
  {
   "cell_type": "markdown",
   "metadata": {},
   "source": [
    "#### 반복문 제어 예시"
   ]
  },
  {
   "cell_type": "code",
   "execution_count": null,
   "metadata": {},
   "outputs": [],
   "source": [
    "# break\n",
    "\n",
    "for i in range(10):\n",
    "    if i == 5:\n",
    "        break\n",
    "    print(i)"
   ]
  },
  {
   "cell_type": "code",
   "execution_count": null,
   "metadata": {},
   "outputs": [],
   "source": [
    "# continue \n",
    "\n",
    "for i in range(10): \n",
    "    if i % 2 == 0: \n",
    "        continue \n",
    "    print(i)"
   ]
  },
  {
   "cell_type": "code",
   "execution_count": null,
   "metadata": {},
   "outputs": [],
   "source": [
    "# pass \n",
    "\n",
    "for i in range(10): \n",
    "    pass \n",
    "\n",
    "#아무 작업도 안함"
   ]
  },
  {
   "cell_type": "markdown",
   "metadata": {},
   "source": [
    "### List Comprehension"
   ]
  },
  {
   "cell_type": "markdown",
   "metadata": {},
   "source": [
    "#### List Comprehesion\n",
    "간결하고 효율적인 리스트 생성 방법"
   ]
  },
  {
   "cell_type": "markdown",
   "metadata": {},
   "source": [
    "#### List Comprehension 기본 구조\n",
    "```py\n",
    "[expression for 변수 in iterable] \n",
    "\n",
    "list(expression for 변수 in iterable)\n",
    "```\n",
    "\n",
    "or\n",
    "\n",
    "```py\n",
    "[expression for 변수 in iterable if 조건식]\n",
    " \n",
    "list(expression for 변수 in iterable if 조건식)\n",
    "```"
   ]
  },
  {
   "cell_type": "markdown",
   "metadata": {},
   "source": [
    "#### List Comprehension 사용 전/후 비교"
   ]
  },
  {
   "cell_type": "code",
   "execution_count": null,
   "metadata": {},
   "outputs": [],
   "source": [
    "# before\n",
    "\n",
    "numbers = [1, 2, 3, 4, 5] \n",
    "\n",
    "squared_numbers = [] \n",
    "\n",
    "for num in numbers:  \n",
    "    squared_numbers.append(num**2) \n",
    "    \n",
    "print(squared_numbers)"
   ]
  },
  {
   "cell_type": "code",
   "execution_count": null,
   "metadata": {},
   "outputs": [],
   "source": [
    "# after\n",
    "\n",
    "numbers = [1, 2, 3, 4, 5] \n",
    "\n",
    "squared_numbers = [num**2 for num in numbers]\n",
    "\n",
    "print(squared_numbers)"
   ]
  },
  {
   "cell_type": "markdown",
   "metadata": {},
   "source": [
    "#### List Comprehension 활용 예시\n",
    "2차원 배열 생성 시 (인접행렬 생성 시)"
   ]
  },
  {
   "cell_type": "code",
   "execution_count": null,
   "metadata": {},
   "outputs": [],
   "source": [
    "data1 = [[0] * (10) for _ in range(10)]\n",
    "\n",
    "# 또는 \n",
    "data2 = [[0 for _ in range(10)] for _ in range(10)]"
   ]
  },
  {
   "cell_type": "markdown",
   "metadata": {},
   "source": [
    "# Functions"
   ]
  },
  {
   "cell_type": "markdown",
   "metadata": {},
   "source": [
    "## 함수"
   ]
  },
  {
   "cell_type": "markdown",
   "metadata": {},
   "source": [
    "### 함수의 구조"
   ]
  },
  {
   "attachments": {
    "image.png": {
     "image/png": "[encoded data removed]"
    }
   },
   "cell_type": "markdown",
   "metadata": {},
   "source": [
    "#### 함수 구조\n",
    "![image.png](attachment:image.png)"
   ]
  },
  {
   "cell_type": "markdown",
   "metadata": {},
   "source": [
    "#### 파이썬 함수의 특징\n",
    "- def 키워드를 사용하여 정의\n",
    "- 일급 객체\n",
    "    - 함수가 변수에 할당될 수 있음\n",
    "    - 함수가 다른 함수의 인자로 전달될 수 있음\n",
    "    - 함수가 다른 함수에 의해 반환될 수 있음\n",
    "- 익명 함수로 사용 가능 (람다 표현식)"
   ]
  },
  {
   "cell_type": "markdown",
   "metadata": {},
   "source": [
    "## 매개변수와 인자"
   ]
  },
  {
   "cell_type": "markdown",
   "metadata": {},
   "source": [
    "### 개요"
   ]
  },
  {
   "cell_type": "markdown",
   "metadata": {},
   "source": [
    "#### 매개변수와 인자 간 구분\n",
    "- 매개변수(parameter)\n",
    "    - 함수를 정의할 때, 함수가 받을 값을 나타내는 변수\n",
    "- 인자(argument)\n",
    "    - 함수를 호출할 때, 실제로 전달되는 값"
   ]
  },
  {
   "cell_type": "code",
   "execution_count": null,
   "metadata": {},
   "outputs": [],
   "source": [
    "# ex.\n",
    "\n",
    "def add_numbers(x, y):  # x와 y는 매개변수(parameter)\n",
    "    result = x + y\n",
    "    return result\n",
    "\n",
    "a = 2\n",
    "b = 3\n",
    "sum_result = add_numbers(a, b)\n",
    "print(sum_result)"
   ]
  },
  {
   "cell_type": "markdown",
   "metadata": {},
   "source": [
    "#### 다양한 인자 종류\n",
    "1. 위치 인자\n",
    "2. 기본 인자 값\n",
    "3. 키워드 인자\n",
    "4. 임의의 인자 목록\n",
    "5. 임의의 키워드 인자 목록"
   ]
  },
  {
   "cell_type": "markdown",
   "metadata": {},
   "source": [
    "#### Positional Alguments (위치 인자)\n",
    "함수 호출 시 인자의 위치에 따라 전달되는 인자\n",
    "- `위치 인자는 함수 호출 시 반드시 값을 전달해야 함`"
   ]
  },
  {
   "cell_type": "code",
   "execution_count": null,
   "metadata": {},
   "outputs": [],
   "source": [
    "# ex.\n",
    "\n",
    "def greet(name, age):\n",
    "    print(f'안녕하세요, {name}님! {age}살이시군요.')\n",
    "    \n",
    "\n",
    "greet('Alice', 25)  # 안녕하세요, Alice님! 25살이시군요."
   ]
  },
  {
   "cell_type": "markdown",
   "metadata": {},
   "source": [
    "#### Default Argument Values (기본 인자 값)\n",
    "- 함수 정의에서 매개변수에 기본 값을 할당하는 것\n",
    "- 함수 호출 시 인자를 전달하지 않으면, 기본값이 매개변수에 할당됨"
   ]
  },
  {
   "cell_type": "code",
   "execution_count": null,
   "metadata": {},
   "outputs": [],
   "source": [
    "# ex.\n",
    "\n",
    "def greet(name, age=30):\n",
    "    print(f'안녕하세요, {name}님! {age}살이시군요.')\n",
    "    \n",
    "\n",
    "greet('Bob')    # 안녕하세요, Bob님! 30살이시군요.\n",
    "greet('Charlie', 40)    # 안녕하세요, Charlie님! 40살이시군요."
   ]
  },
  {
   "cell_type": "markdown",
   "metadata": {},
   "source": [
    "#### Keyword Arguments (키워드 인자)\n",
    "- 함수 호출 시 인자의 이름과 함께 값을 전달하는 인자 \n",
    "- 매개변수와 인자를 일치시키지 않고, 특정 매개변수에 값을 할당할 수 있음 \n",
    "- 인자의 순서는 중요하지 않으며, 인자의 이름을 명시하여 전달 \n",
    "- `단, 호출 시 키워드 인자는 위치 인자 뒤에 위치해야 함` "
   ]
  },
  {
   "cell_type": "code",
   "execution_count": null,
   "metadata": {},
   "outputs": [],
   "source": [
    "# ex.\n",
    "\n",
    "def greet(name, age): \n",
    "    print(f'안녕하세요, {name}님! {age}살이시군요.') \n",
    "\n",
    "greet(name='Dave', age=35) # 안녕하세요, Dave님! 35살이시군요. \n",
    "greet(age=35, 'Dave') # positional argument follows keyword argument"
   ]
  },
  {
   "cell_type": "markdown",
   "metadata": {},
   "source": [
    "#### Arbitrary Argument Lists (임의의 인자 목록) \n",
    "- 정해지지 않은 개수의 인자를 처리하는 인자 함수 \n",
    "- -정의 시 매개변수 앞에 '*'를 붙여 사용하며, 여러 개의 인자를 tuple로 처리 "
   ]
  },
  {
   "cell_type": "code",
   "execution_count": null,
   "metadata": {},
   "outputs": [],
   "source": [
    "# ex.\n",
    "\n",
    "def calculate_sum(*args): \n",
    "    print(args) \n",
    "    total = sum(args) \n",
    "    print(f'합계: {total}') \n",
    "    (1, 2, 3) 합계: 6 \n",
    "    \n",
    "\n",
    "calculate_sum(1, 2, 3)"
   ]
  },
  {
   "cell_type": "markdown",
   "metadata": {},
   "source": []
  }
 ],
 "metadata": {
  "kernelspec": {
   "display_name": "Python 3",
   "language": "python",
   "name": "python3"
  },
  "language_info": {
   "codemirror_mode": {
    "name": "ipython",
    "version": 3
   },
   "file_extension": ".py",
   "mimetype": "text/x-python",
   "name": "python",
   "nbconvert_exporter": "python",
   "pygments_lexer": "ipython3",
   "version": "3.9.13"
  }
 },
 "nbformat": 4,
 "nbformat_minor": 2
}

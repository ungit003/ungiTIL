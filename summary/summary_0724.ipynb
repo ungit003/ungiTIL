{
 "cells": [
  {
   "cell_type": "markdown",
   "metadata": {},
   "source": [
    "# Classes"
   ]
  },
  {
   "cell_type": "markdown",
   "metadata": {},
   "source": [
    "## 객체지향 프로그래밍"
   ]
  },
  {
   "cell_type": "markdown",
   "metadata": {},
   "source": [
    "### 개요\n",
    "#### 절차 지향 프로그래밍 `Procedural Programming`\n",
    "- 프로그램을 ‘데이터’와 ‘절차(=순서)’로 구성하는 방식의 프로그래밍 패러다임\n"
   ]
  },
  {
   "cell_type": "markdown",
   "metadata": {},
   "source": [
    "##### 절차 지향 프로그래밍 특징\n",
    "- “데이터”와 해당 데이터를 처리하는 “함수(절차)”가 분리되어 있으며, <br>함수 호출의 흐름이 중요\n",
    "- 코드의 순차적인 흐름과 함수 호출에 의해 프로그램이 진행\n",
    "- 실제로 실행되는 내용이 무엇이 무엇인가가 중요\n",
    "- 데이터를 다시 재사용하거나 하기보다는 처음부터 끝까지 실행되는 결과물이 중요한 방식\n",
    "- 재사용이라는 개념이 없음.\n",
    "\n",
    "![image](https://github.com/ragu6963/TIL/assets/32388270/cc0db5a1-8200-409b-8b90-c42ea7823c71)\n",
    "\n"
   ]
  },
  {
   "cell_type": "markdown",
   "metadata": {},
   "source": [
    "#### 소프트웨어 위기(Software Crisis)\n",
    "- 하드웨어의 발전으로 컴퓨터 계산용량과 문제의 복잡성이 급격히 <br>증가함에 따라 소프트웨어에 발생한 충격\n",
    "\n",
    "![image](https://github.com/ragu6963/TIL/assets/32388270/e251d24f-781d-46ca-b6dd-56f1c2c8e9d1)\n"
   ]
  },
  {
   "cell_type": "markdown",
   "metadata": {},
   "source": [
    "#### 객체 지향 프로그래밍 `Object Oriented Programming`\n",
    "- `데이터`와 해당 데이터를 조작하는 `메서드`를 하나의 객체로 묶어 관리하는 방식의 프로그래밍 패러다임\n",
    "- 함수가 중요한 것이 아니라 데이터가 주인공"
   ]
  },
  {
   "cell_type": "markdown",
   "metadata": {},
   "source": [
    "#### 절차 지향 vs 객체 지향\n",
    "- 절차 지향\n",
    "    - 데이터와 해당 데이터를 처리하는 함수(절차)가 분리\n",
    "    - 함수 호출의 흐름이 중요\n",
    "    - 데이터(전사, 마법사)가 함수(공격, 수비)를 통해 작동\n",
    "\n",
    "    ![image](https://github.com/ragu6963/TIL/assets/32388270/f84ff2d6-f73e-4105-9528-ad17a7e7174d)\n",
    "    \n",
    "- 객체 지향\n",
    "    - 데이터와 해당 데이터를 처리하는 메서드(메시지)를 하나의 `객체(클래스)`로 묶음\n",
    "    - 객체 간 상호작용과 메시지 전달이 중요\n",
    "    - 틀이 생기고 이를 통해서 찍어냄    \n",
    "    ![image](https://github.com/ragu6963/TIL/assets/32388270/7430654c-d52d-4cf8-9ae4-af83f38369b8)\n",
    "\n",
    "- 절차 -> 객체\n"
   ]
  },
  {
   "cell_type": "markdown",
   "metadata": {},
   "source": [
    "## 객체\n",
    "### 개요\n"
   ]
  },
  {
   "cell_type": "markdown",
   "metadata": {},
   "source": [
    "#### 클래스 `Class`\n",
    "- 파이썬에서 타입을 표현하는 방법\n",
    "- 객체를 생성하기 위한 설계도\n",
    "- 데이터와 기능을 함께 묶는 방법을 제공\n",
    "\n",
    "![image](https://github.com/ragu6963/TIL/assets/32388270/2f87ae3c-ce62-4a81-983e-06073f5f9745)"
   ]
  },
  {
   "cell_type": "markdown",
   "metadata": {},
   "source": [
    "#### 객체 `Object`\n",
    "- 클래스에서 정의한 것을 토대로 메모리에 할당된 것\n",
    "- <span style='color:red;'>‘속성’</span>과 <span style='color:red;'>‘행동’</span>으로 구성된 모든 것"
   ]
  },
  {
   "cell_type": "markdown",
   "metadata": {},
   "source": [
    "##### 객체 예시\n",
    "![image](https://github.com/ragu6963/TIL/assets/32388270/1e728c44-90e5-4acc-99bb-a4ab1998c3b9)"
   ]
  },
  {
   "cell_type": "markdown",
   "metadata": {},
   "source": [
    "#### 클래스와 객체\n",
    "- 클래스로 만든 객체를 <span style='color:red;'>인스턴스</span> 라고 부름\n",
    "    ![image](https://github.com/ragu6963/TIL/assets/32388270/f3447cce-fcab-4f66-81da-3047c77df12b)\n",
    "\n",
    "\n",
    "- 변수 name의 타입은 str 클래스다.\n",
    "- 변수 name은 <span style='color:red;'>str 클래스의 인스턴스</span>이다.\n",
    "- 우리가 사용해왔던 <span style='color:red;'>데이터 타입은 사실 모두 클래스</span>였다.\n",
    "    ```py\n",
    "    name = 'Alice' # -> str(alice)\n",
    "\n",
    "    print(type(name))  # <class 'str'>\n",
    "    ```\n",
    "- 결국 문자열 타입의 변수는 str 클래스로 만든 인스턴스다.\n",
    "    ```py\n",
    "    print(help(str))\n",
    "\n",
    "    \"\"\"\n",
    "    class str(object)\n",
    "     |  str(object='') -> str\n",
    "     |  str(bytes_or_buffer[, encoding[, errors]]) -> str\n",
    "     |\n",
    "     |  Create a new string object(문자열 객체) from the given object. If encoding or\n",
    "     |  errors is specified, then the object must expose a data buffer\n",
    "     |  that will be decoded using the given encoding and error handler.\n",
    "     |  Otherwise, …\n",
    "    \"\"\"\n",
    "    ```\n"
   ]
  },
  {
   "cell_type": "markdown",
   "metadata": {},
   "source": [
    "#### 인스턴스와 메서드\n",
    " \n",
    "```py\n",
    "“hello”.upper()\n",
    "\n",
    "\"\"\"\n",
    "문자열.대문자로()\n",
    "\n",
    "객체.행동()\n",
    "\n",
    "인스턴스.메서드()\n",
    "\"\"\"\n",
    "```\n",
    "\n",
    "```py\n",
    "[1, 2, 3].sort()\n",
    "\n",
    "\"\"\"\n",
    "리스트.정렬해()\n",
    "\n",
    "객체.행동()\n",
    "\n",
    "인스턴스.메서드()\n",
    "\"\"\"\n",
    "```\n",
    "\n",
    "> 하나의 객체(object)는 특정 타입의 인스턴스(instance)이다. \n",
    "- 123, 900, 5는 모두 `int`의 인스턴스\n",
    "- 'hello', 'bye'는 모두 `string`의 인스턴스\n",
    "- [232, 89, 1], []은 모두 `list`의 인스턴스\n",
    "\n"
   ]
  },
  {
   "cell_type": "markdown",
   "metadata": {},
   "source": [
    "#### 객체(object)의 특징\n",
    "- 타입(type) : 어떤 연산자(operator)와 조작(method)이 가능한가?\n",
    "- 속성(attribute) : 어떤 상태(데이터)를 가지는가?\n",
    "- 조작법(method) : 어떤 행위(함수)를 할 수 있는가?\n",
    "\n",
    "    ![image](https://github.com/ragu6963/TIL/assets/32388270/dfed70e3-bc37-45ef-988a-b6becc4806b8)\n"
   ]
  },
  {
   "cell_type": "markdown",
   "metadata": {},
   "source": [
    "## 클래스\n"
   ]
  },
  {
   "cell_type": "markdown",
   "metadata": {},
   "source": [
    "### 개요\n",
    "#### 클래스 `Class` (= 청사진)\n",
    "- 파이썬에서 타입을 표현하는 방법\n",
    "- 객체를 생성하기 위한 설계도\n",
    "- 데이터와 기능을 함께 묶는 방법을 제공\n",
    "- 객체 만들 때 마다 새로 함수를 만들수는 없으니깐.\n"
   ]
  },
  {
   "cell_type": "markdown",
   "metadata": {},
   "source": [
    "#### 클래스 정의\n",
    "- class 키워드\n",
    "- 클래스 이름은 파스칼 케이스(Pascal Case) 방식으로 작성\n",
    "- 이거 왜쓰는가? 이름만 봐도 클래스구나! 하려고\n",
    "\n",
    "```py\n",
    "# 클래스 정의\n",
    "class Person:\n",
    "    pass\n",
    "```\n",
    "\n",
    "#### 인스턴스 생성 및 활용\n",
    "- 클래스를 통해서 인스턴스가 생성되면 클래스 안의 메서드와 속성을 다 사용할 수 있음\n",
    "\n",
    "```python\n",
    "# 인스턴스 생성\n",
    "iu = Person()\n",
    "\n",
    "# 메서드 호출\n",
    "iu.메서드()\n",
    "\n",
    "# 속성(변수) 접근\n",
    "iu.attribute\n",
    "```"
   ]
  },
  {
   "cell_type": "markdown",
   "metadata": {},
   "source": [
    "### 클래스 구성요소\n",
    "1. 생성자 메서드(함수)\n",
    "    - 객체를 생성할 때 `자동으로 호출`되는 특별한 메서드(=매직 메서드)\n",
    "    - `__init__`이라는 이름의 메서드로 정의되며, `객체의 초기화를 담당`\n",
    "    - 생성자 함수를 통해 인스턴스를 생성하고 `필요한 초기값을 설정`\n",
    "\n",
    "    ```py\n",
    "    class Person:\n",
    "        blood_color = 'red'\n",
    "        \n",
    "        def __init__(self, name):\n",
    "            self.name = name\n",
    "\n",
    "        def singing(self):\n",
    "            return f'{self.name}가 노래합니다.’\n",
    "        \n",
    "\n",
    "    # 인스턴스 생성 : 이 때 자동으로 호출됨 !\n",
    "    singer1 = Person('iu')\n",
    "    ```"
   ]
  },
  {
   "cell_type": "markdown",
   "metadata": {},
   "source": [
    "2. 인스턴스 변수\n",
    "    - 인스턴스(객체)마다 별도로 유지되는 변수\n",
    "    - 인스턴스마다 독립적인 값을 가지며, 인스턴스가 생성될 때마다 초기화됨\n",
    "    - 공용 아님.\n",
    "\n",
    "    ```py\n",
    "    class Person:\n",
    "        blood_color = 'red'\n",
    "        \n",
    "        def __init__(self, name):\n",
    "            self.name = name\n",
    " \n",
    "        def singing(self):\n",
    "            return f'{self.name}가 노래합니다.’\n",
    "\n",
    "\n",
    "    singer1 = Person('iu')\n",
    "    \n",
    "    # 인스턴스 변수\n",
    "    print(singer1.name)\n",
    "    ```"
   ]
  },
  {
   "cell_type": "markdown",
   "metadata": {},
   "source": [
    "3. 클래스 변수\n",
    "    - 클래스 내부에 선언된 변수\n",
    "    - 클래스로 생성된 모든 인스턴스들이 공유하는 변수 : 하나가 바뀌면 전부 다 바뀜.\n",
    "\n",
    "    ```py\n",
    "    class Person:\n",
    "        blood_color = 'red'\n",
    "        \n",
    "        def __init__(self, name):\n",
    "            self.name = name\n",
    "\n",
    "        def singing(self):\n",
    "            return f'{self.name}가 노래합니다.’\n",
    "\n",
    "\n",
    "    singer1 = Person('iu')\n",
    "\n",
    "    # 클래스 속성(변수) 접근\n",
    "    print(singer1.blood_color)\n",
    "\n",
    "    ```"
   ]
  },
  {
   "cell_type": "markdown",
   "metadata": {},
   "source": [
    "4. 인스턴스 메서드\n",
    "    - 각각의 인스턴스에서 호출할 수 있는 메서드\n",
    "    - 인스턴스 변수에 접근하고 수정하는 등의 작업을 수행\n",
    "\n",
    "    ```py\n",
    "    class Person:\n",
    "        blood_color = 'red'\n",
    "\n",
    "        def __init__(self, name):\n",
    "            self.name = name\n",
    "\n",
    "        def singing(self):\n",
    "            return f'{self.name}가 노래합니다.'\n",
    "\n",
    "\n",
    "    singer1 = Person('iu')\n",
    "\n",
    "    # 인스턴스 메서드 호출\n",
    "    print(singer1.singing())\n",
    "    ```"
   ]
  },
  {
   "cell_type": "markdown",
   "metadata": {},
   "source": [
    "### 인스턴스 변수와 클래스 변수\n",
    "#### 클래스 변수 활용\n",
    "- 가수가 몇 명인지 확인하고 싶다면?\n",
    "    - 인스턴스가 생성 될 때마다 클래스 변수가 늘어나도록 설정할 수 있음\n",
    "    ```py\n",
    "    class Person:\n",
    "        count = 0\n",
    "        \n",
    "        def __init__(self, name):\n",
    "            self.name = name\n",
    "            Person.count += 1\n",
    "        \n",
    "        \n",
    "    person1 = Person('iu')\n",
    "    person2 = Person('BTS')\n",
    "        \n",
    "    print(Person.count)  # 2\n",
    "    ```\n",
    "\n"
   ]
  },
  {
   "cell_type": "markdown",
   "metadata": {},
   "source": [
    "#### 클래스 변수와 인스턴스 변수\n",
    "- 클래스 변수를 변경할 때는 항상 <span style='color:red;'>클래스.클래스변수</span> 형식으로 변경\n",
    "- 예시 1\n",
    "\n",
    "    ```py\n",
    "    \n",
    "    class Circle:\n",
    "    pi = 3.14\n",
    "\n",
    "    def __init__(self, r):\n",
    "        self.r = r\n",
    "\n",
    "\n",
    "    c1 = Circle(5)\n",
    "    c2 = Circle(10)\n",
    "    print(Circle.pi)  # 3.14\n",
    "    print(c1.pi)  # 3.14\n",
    "    print(c2.pi)  # 3.14 \n",
    "    ```\n",
    "- 예시 2\n",
    "\n",
    "    ```py\n",
    "    \n",
    "    class Circle:\n",
    "        pi = 3.14\n",
    "\n",
    "        def __init__(self, r):\n",
    "            self.r = r \n",
    "\n",
    "\n",
    "    c1 = Circle(5)\n",
    "    c2 = Circle(10)\n",
    "\n",
    "    Circle.pi = 5  # 클래스 변수 변경\n",
    "    print(Circle.pi)  # 5\n",
    "    print(c1.pi)  # 5\n",
    "    print(c2.pi)  # 5 \n",
    "    ```\n",
    "\n",
    "- 예시 3 \n",
    "\n",
    "    ```py\n",
    "    \n",
    "    class Circle:\n",
    "        pi = 3.14\n",
    "\n",
    "        def __init__(self, r):\n",
    "            self.r = r \n",
    "\n",
    "\n",
    "    c1 = Circle(5)\n",
    "    c2 = Circle(10)\n",
    "    c2.pi = 5  # 인스턴스 변수 변경\n",
    "    \n",
    "    print(Circle.pi)  # 3.14 (클래스 변수)\n",
    "    print(c1.pi)  # 3.14 (클래스 변수)\n",
    "    print(c2.pi)  # 5 (새로운 인스턴스 변수가 생성됨)\n",
    "    ```\n"
   ]
  },
  {
   "cell_type": "markdown",
   "metadata": {},
   "source": [
    "## 메서드\n",
    "### 개요\n",
    "#### 메서드 종류\n",
    "- 인스턴스 메서드\n",
    "- 클래스 메서드\n",
    "- 스태틱(정적) 메서드\n",
    "\n",
    "    ![image](https://github.com/ragu6963/TIL/assets/32388270/c1c62879-9386-4b84-a4ab-d6d41aa56ad8)\n"
   ]
  },
  {
   "cell_type": "markdown",
   "metadata": {},
   "source": [
    "### 인스턴스 메서드\n",
    "#### 인스턴스 메서드 `instance method`\n",
    "- 클래스로부터 생성된 각 인스턴스에서 호출할 수 있는 메서드\n",
    "- 인스턴스의 상태를 조작하거나 동작을 수행\n"
   ]
  },
  {
   "cell_type": "markdown",
   "metadata": {},
   "source": [
    "#### 인스턴스 메서드 구조\n",
    "- 클래스 내부에 정의되는 메서드의 기본\n",
    "- 클래스 쓸 때 작성하는 것\n",
    "- 반드시 첫 번째 매개변수로 <span style='color:red;'>인스턴스 자신(`self`)</span>을 전달받음\n",
    "- self는 매개변수 이름일 뿐이며 다른 이름으로 설정 가능 하지만 다른 이름을 사용하지 않을 것을 강력히 권장\n",
    "\n",
    "\n",
    "    ```py\n",
    "    class MyClass:\n",
    "\n",
    "        def instance_method(self, arg1, ...):\n",
    "            pass\n",
    "    ```\n",
    "    - self : 첫번째 위치인자."
   ]
  },
  {
   "cell_type": "markdown",
   "metadata": {},
   "source": [
    "#### self 동작 원리\n",
    "- upper 메서드를 사용해 문자열 ‘hello’를 대문자로 변경하기(우리는 이렇게 쓰지만)\n",
    "    ```py\n",
    "    'hello'.upper() #헬로우가 메서드를 호출한다 : 객체지향\n",
    "    ```\n",
    "\n",
    "- 하지만 실제 파이썬 내부 동작은 다음과 같이 진행됨(파이썬은 이렇게 이해함)\n",
    "    ```py\n",
    "    str.upper('hello') #함수가 객체를 받는다 : 함수지향\n",
    "    ```\n",
    "\n",
    "- str 클래스가 upper 메서드를 호출했고, 그 첫번째 인자로 문자열 인스턴스가 들어간 것\n",
    "\n",
    "- <span style='color:red;'>인스턴스 메서드의 첫번째 매개변수가 반드시 인스턴스 자기 자신인 이유</span>\n",
    "\n",
    "- `'hello'.upper()` 은 `str.upper('hello')`를 객체 지향 방식의 메서드로 호출하는 표현 (`단축형 호출`)\n",
    "\n",
    "- ‘hello’라는 문자열 객체가 단순히 어딘가의 함수로 들어가는 인자가 아닌 객체 스스로 메서드를 호출하여 코드를 동작하는 객체 지향적 표현\n"
   ]
  },
  {
   "cell_type": "markdown",
   "metadata": {},
   "source": [
    "#### 생성자 메서드 `constructor method`\n",
    "- 인스턴스 객체가 생성될 때 자동으로 호출되는 메서드\n",
    "- 인스턴스 변수들의 초기값을 설정\n",
    "\n"
   ]
  },
  {
   "cell_type": "markdown",
   "metadata": {},
   "source": [
    "#### 생성자 메서드 구조\n",
    "```py\n",
    "class Person:\n",
    "    def __init__(self, name):\n",
    "        self.name = name\n",
    "        print('인스턴스가 생성되었습니다.')\n",
    "\n",
    "    def greeting(self): #self 없으면 작동을 안함\n",
    "        print(f'안녕하세요. {self.name}입니다.')\n",
    "\n",
    "person1 = Person('지민')  # 인스턴스가 생성되었습니다.\n",
    "person1.greeting()  # 안녕하세요. 지민입니다.\n",
    "```"
   ]
  },
  {
   "cell_type": "markdown",
   "metadata": {},
   "source": [
    "### 클래스 메서드\n",
    "#### 클래스 메서드 `class method`\n",
    "- 클래스가 호출하는 메서드\n",
    "- 클래스 변수를 조작하거나 클래스 레벨의 동작을 수행\n"
   ]
  },
  {
   "cell_type": "markdown",
   "metadata": {},
   "source": [
    "#### 클래스 메서드 구조\n",
    "- `@classmethod` 데코레이터를 사용하여 정의 > 함수를 꾸미는 함수 > 기능을 추가\n",
    "- 호출 시, 첫번째 인자로 호출하는 클래스(`cls`)가 전달됨\n",
    "- cls는 매개변수 이름일 뿐이며 다른 이름으로 설정 가능 하지만 다른 이름을 사용하지 않을 것을 강력히 권장\n",
    "\n",
    "    ```py\n",
    "    class MyClass:\n",
    "        \n",
    "        @classmethod\n",
    "        def class_method(cls, arg1, ...):\n",
    "            pass\n",
    "\n",
    "    ```\n"
   ]
  },
  {
   "cell_type": "markdown",
   "metadata": {},
   "source": [
    "#### 클래스 메서드 예시\n",
    "```py\n",
    "class Person:\n",
    "    count = 0\n",
    "\n",
    "    def __init__(self, name):\n",
    "        self.name = name\n",
    "        Person.count += 1\n",
    "\n",
    "    @classmethod\n",
    "    def number_of_population(cls):\n",
    "        print(f'인구수는 {cls.count}입니다.')\n",
    "\n",
    "\n",
    "person1 = Person('iu')\n",
    "person2 = Person('BTS')\n",
    "\n",
    "Person.number_of_population() # 인구수는 2입니다.\n",
    "```\n",
    "- cls.count 말고 Person.count 쓰면 안되나?\n",
    "- 이거 왜 써? 하위클래스가 있어서 상속을 해야되기 때문에"
   ]
  },
  {
   "cell_type": "markdown",
   "metadata": {},
   "source": [
    "### 스태틱 메서드\n",
    "#### 스태틱(정적) 메서드 `static method`\n",
    "- 클래스와 인스턴스와 상관없이 독립적으로 동작하는 메서드\n",
    "- 주로 클래스와 관련이 있지만 인스턴스와 상호작용이 필요하지 않은 경우에 사용\n"
   ]
  },
  {
   "cell_type": "markdown",
   "metadata": {},
   "source": [
    "#### 스태틱 메서드 구조\n",
    "- `@staticmethod` 데코레이터를 사용하여 정의\n",
    "- 호출 시 필수적으로 작성해야 할 매개변수가 없음 > 우리가 지금까지 쓰던 일반적인 것\n",
    "- 즉, 객체 상태나 클래스 상태를 수정할 수 없으며 단지 기능(행동)만을 위한 메서드로 사용\n",
    "\n",
    "    ```py\n",
    "    class MyClass:\n",
    "        \n",
    "        @staticmethod\n",
    "        def static_method(arg1, ...):\n",
    "            pass\n",
    "    ```\n"
   ]
  },
  {
   "cell_type": "markdown",
   "metadata": {},
   "source": [
    "#### 스태틱 메서드 예시\n",
    "\n",
    "- 단순히 문자열을 조작하는 기능을 제공하는 메서드 예시\n",
    "\n",
    "\n",
    "    ```py\n",
    "    class StringUtils:\n",
    "        @staticmethod\n",
    "        def reverse_string(string):\n",
    "            return string[::-1]\n",
    "\n",
    "        @staticmethod\n",
    "        def capitalize_string(string):\n",
    "            return string.capitalize()\n",
    "\n",
    "\n",
    "    text = 'hello, world'\n",
    "\n",
    "    reversed_text = StringUtils.reverse_string(text)\n",
    "    print(reversed_text) # dlrow ,olleh\n",
    "\n",
    "    capitalized_text = StringUtils.capitalize_string(text)\n",
    "    print(capitalized_text) # Hello, world\n",
    "\n",
    "    ```"
   ]
  },
  {
   "cell_type": "markdown",
   "metadata": {},
   "source": [
    "### 메서드 정리\n",
    "#### 메서드 정리\n",
    "- 인스턴스 메서드 (self)\n",
    "    - 인스턴스의 상태를 변경하거나, 해당 인스턴스의 특정 동작을 수행\n",
    "\n",
    "- 클래스 메서드 (cls) @\n",
    "    - 인스턴스의 상태에 의존하지 않는 기능을 정의\n",
    "    - 클래스 변수를 조작하거나 클래스 레벨의 동작을 수행\n",
    "\n",
    "- 스태틱 메서드 @\n",
    "    - 클래스 및 인스턴스와 관련이 없는 일반적인 기능을 수행"
   ]
  },
  {
   "cell_type": "markdown",
   "metadata": {},
   "source": [
    "#### 누가 어떤 메서드를 사용해야 할까 \n",
    "- 클래스가 사용해야 할 것\n",
    "    - 클래스 메서드\n",
    "    - 스태틱 메서드\n",
    "\n",
    "- 인스턴스가 사용해야 할 것\n",
    "    - 인스턴스 메서드\n",
    "\n",
    "- 실제로는 관계없이 메서드를 다 사용할 수 있음.(파이썬이 막지 않음)<br>\n",
    "하지만 이후에 유지보수가 힘들기 때문에 섞어 쓰지말고 정해진 것만 사용하도록 한다."
   ]
  },
  {
   "cell_type": "markdown",
   "metadata": {},
   "source": [
    "- 예시 클래스로 클래스와 인스턴스가 각각 모든 메서드를 호출해보기\n",
    "\n",
    "    ```py\n",
    "    class MyClass:\n",
    "\n",
    "        def instance_method(self):\n",
    "            return 'instance method', self\n",
    "            \n",
    "        @classmethod\n",
    "        def class_method(cls):\n",
    "            return 'class method', cls\n",
    "\n",
    "        @staticmethod\n",
    "        def static_method():\n",
    "            return 'static method'\n",
    "    ```\n"
   ]
  },
  {
   "cell_type": "markdown",
   "metadata": {},
   "source": [
    "#### 클래스가 할 수 있는 것\n",
    "- 클래스는 모든 메서드를 호출 할 수 있음\n",
    "- <span style='color:red;'>하지만 클래스는 클래스 메서드와 스태틱 메서드만 사용하도록 한다</span>\n",
    "\n",
    "    ```py\n",
    "    instance = MyClass()\n",
    "\n",
    "    print(MyClass.instance_method(instance))  # ('instance method', <__main__.MyClass object at0x…028F10>)\n",
    "    print(MyClass.class_method())  # ('class method', <class '__main__.MyClass'>)\n",
    "    print(MyClass.static_method())  # static method\n",
    "    ```\n",
    "\n"
   ]
  },
  {
   "cell_type": "markdown",
   "metadata": {},
   "source": [
    "#### 인스턴스가 할 수 있는 것\n",
    "- 인스턴스는 모든 메서드를 호출 할 수 있음\n",
    "- <span style='color:red;'>하지만 인스턴스는 인스턴스 메서드만 사용하도록 한다</span>\n",
    "\n",
    "    ```py\n",
    "    instance = MyClass()\n",
    "\n",
    "    print(instance.instance_method())  # ('instance method', <__main__.MyClass object at 0x0000…84EAF10>)\n",
    "    print(instance.class_method())  # ('class method', <class '__main__.MyClass'>)\n",
    "    print(instance.static_method())  # static method\n",
    "    ```"
   ]
  },
  {
   "cell_type": "markdown",
   "metadata": {},
   "source": [
    "#### `할 수 있다 != 써도 된다`\n",
    "- 각자의 메서드는 OOP 패러다임에 따라 명확한 목적에 맞게 설계된 것이기 때문에 클래스와 인스턴스 각각 올바른 메서드만 사용한다.\n"
   ]
  },
  {
   "cell_type": "markdown",
   "metadata": {},
   "source": [
    "## 참고"
   ]
  },
  {
   "cell_type": "markdown",
   "metadata": {},
   "source": [
    "### 인스턴스와 클래스 간의 이름 공간(namespace)\n",
    "- 클래스를 정의하면, 클래스와 해당하는 이름 공간 생성\n",
    "- 인스턴스를 만들면, 인스턴스 객체가 생성되고 <span style='color:red;'>독립적인</span> 이름 공간 생성\n",
    "- 인스턴스에서 특정 속성에 접근하면, 인스턴스 -> 클래스 순으로 탐색\n",
    "\n",
    "    ![image](https://github.com/ragu6963/TIL/assets/32388270/f1476ead-aff8-47ac-9118-b1e8095751e0)\n",
    "\n",
    "```py\n",
    "# Person 정의\n",
    "class Person:\n",
    "    name = 'unknown'\n",
    "\n",
    "    def talk(self):\n",
    "        print(self.name)\n",
    "\n",
    "\n",
    "p1 = Person()\n",
    "p1.talk()  # unknown\n",
    "\"\"\"\n",
    "p1은 인스턴스 변수가 정의되어 있지 않아\n",
    "클래스 변수(unknown)가 출력됨\n",
    "\"\"\"\n",
    "\n",
    "# p2 인스턴스 변수 설정 전/후\n",
    "p2 = Person()\n",
    "p2.talk()  # unknown\n",
    "p2.name = 'Kim'\n",
    "p2.talk()  # Kim\n",
    "\"\"\"\n",
    "p2는 인스턴스 변수가 정의되어\n",
    "인스턴스 변수(Kim)가 출력됨\n",
    "\"\"\"\n",
    "\n",
    "print(Person.name)  # unknown\n",
    "print(p1.name)  # unknown\n",
    "print(p2.name)  # Kim\n",
    "\"\"\"\n",
    "Person 클래스의 값이 Kim으로 변경된 것이 아닌\n",
    "p2 인스턴스의 이름 공간에 name이 Kim으로 저장됨\n",
    "\"\"\"\n",
    "```\n",
    "\n",
    "![image](https://github.com/ragu6963/TIL/assets/32388270/70a65cb1-e567-4792-8b1d-ddebeb618958)"
   ]
  },
  {
   "cell_type": "markdown",
   "metadata": {},
   "source": [
    "#### 독립적인 이름공간을 가지는 이점\n",
    "- 각 인스턴스는 독립적인 메모리 공간을 가지며, <br>클래스와 다른 인스턴스 간에는 서로의 데이터나 상태에 직접적인 접근이 불가능\n",
    "- 객체 지향 프로그래밍의 중요한 특성 중 하나로, <br>클래스와 인스턴스를 모듈화하고 각각의 객체가 독립적으로 동작하도록 보장\n",
    "- 이를 통해 클래스와 인스턴스는 다른 객체들과의 상호작용에서 <br>서로 충돌이나 영향을 주지 않으면서 독립적으로 동작할 수 있음\n",
    "- 코드의 가독성, 유지보수성, 재사용성을 높이는데 도움을 줌\n",
    "\n"
   ]
  },
  {
   "cell_type": "markdown",
   "metadata": {},
   "source": [
    "### 매직 메서드\n",
    "- 특별한 인스턴스 메서드\n",
    "- 특정 상황에 자동으로 호출되는 메서드\n",
    "- Double underscore(`__`)가 있는 메서드는 특수한 동작을 위해 만들어진 메서드\n",
    "    - 스페셜 메서드 혹은 매직 메서드라고 불림\n",
    "- 예시\n",
    "    ```python\n",
    "    __str__(self)\n",
    "    __len__(self)__\n",
    "    __lt__(self, other)\n",
    "    __le__(self, other)\n",
    "    __eq__(self, other)\n",
    "    __gt__(self, other)\n",
    "    __ge__(self, other)\n",
    "    __ne__(self, other)\n",
    "    ```"
   ]
  },
  {
   "cell_type": "markdown",
   "metadata": {},
   "source": [
    "#### 매직 메서드 예시\n",
    "- `__str__(self)`\n",
    "  - 내장함수 print에 의해 호출되어 객체 출력을 문자열 표현으로 변경\n",
    "\n",
    "```python\n",
    "class Circle:\n",
    "    def __init__(self, r):\n",
    "        self.r = r\n",
    "\n",
    "    def __str__(self):\n",
    "        return f'원의 반지름: {self.r}'\n",
    "    \n",
    "c1 = Circle(10)\n",
    "c2 = Circle(1)\n",
    "\n",
    "print(c1) # 원의 반지름: 10\n",
    "print(c2) # 원의 반지름: 1\n",
    "```"
   ]
  },
  {
   "cell_type": "markdown",
   "metadata": {},
   "source": [
    "### 데코레이터 (Decorator)\n",
    "- 다른 함수의 코드를 유지한 채로 수정하거나 확장하기 위해 사용되는 함수"
   ]
  },
  {
   "cell_type": "markdown",
   "metadata": {},
   "source": [
    "#### 데코레이터 정의\n",
    "```python\n",
    "def my_decorator(func):\n",
    "    def wrapper():\n",
    "        # 함수 실행 전에 수행할 작업\n",
    "        print('함수 실행 전')\n",
    "        # 원본 함수 호출\n",
    "        result = func()\n",
    "        # 함수 실행 후에 수행할 작업\n",
    "        print('함수 실행 후')\n",
    "        return result\n",
    "    return wrapper\n",
    "```"
   ]
  },
  {
   "cell_type": "markdown",
   "metadata": {},
   "source": [
    "#### 데코레이터 사용\n",
    "\n",
    "```python\n",
    "@my_decorator\n",
    "def my_function():\n",
    "    print('원본 함수 실행')\n",
    "my_function()\n",
    "\n",
    "\"\"\"\n",
    "함수 실행 전\n",
    "원본 함수 실행\n",
    "함수 실행 후\n",
    "\"\"\"\n",
    "```"
   ]
  },
  {
   "cell_type": "markdown",
   "metadata": {},
   "source": [
    "#### 절차 지향과 객체 지향은 대조되는 개념이 아니다\n",
    "- 객체 지향은 기존 절차 지향을 기반으로 두고 보완하기 위해<br>\n",
    "객체라는 개념을 도입해 상속, 코드 재사용성, 유지보수성 등의 이점을 가지는 패러다임 \n",
    "\n",
    "\n"
   ]
  }
 ],
 "metadata": {
  "language_info": {
   "name": "python"
  }
 },
 "nbformat": 4,
 "nbformat_minor": 2
}

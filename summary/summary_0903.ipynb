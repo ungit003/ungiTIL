{
 "cells": [
  {
   "cell_type": "markdown",
   "metadata": {},
   "source": [
    "# Greedy Algorithm"
   ]
  },
  {
   "cell_type": "markdown",
   "metadata": {},
   "source": [
    "## Subset"
   ]
  },
  {
   "cell_type": "markdown",
   "metadata": {},
   "source": [
    "집합에 포함된 원소들을 선택하는 것\n",
    "- 구현\n",
    "1. 완전탐색\n",
    "    - 재귀호출 사용. 실전보다는 완전탐색 학습용으로 추천.\n",
    "\n",
    "2. `Binary Counting`\n",
    "    - 2진수, 비트연산\n",
    "    - 이 방법 추천."
   ]
  },
  {
   "cell_type": "code",
   "execution_count": 22,
   "metadata": {},
   "outputs": [
    {
     "name": "stdout",
     "output_type": "stream",
     "text": [
      "{ min, co, tim, }\n",
      "{ min, co, }\n",
      "{ min, tim, }\n",
      "{ min, }\n",
      "{ co, tim, }\n",
      "{ co, }\n",
      "{ tim, }\n",
      "{ }\n"
     ]
    }
   ],
   "source": [
    "# 1.\n",
    "\n",
    "arr = ['o', 'x']\n",
    "path = []\n",
    "name = ['min', 'co', 'tim']\n",
    "\n",
    "# 이름으로 바꾸기.\n",
    "def print_name():\n",
    "    print('{', end=' ')\n",
    "    for i in range(3):\n",
    "        if path[i] == 'o':\n",
    "            print(name[i], end=', ')\n",
    "    print('}')\n",
    "\n",
    "def run(lev):\n",
    "    if lev == 3:\n",
    "        print_name()\n",
    "        return\n",
    "    \n",
    "    for i in range(2):\n",
    "        path.append(arr[i])\n",
    "        run(lev+1)\n",
    "        path.pop()\n",
    "\n",
    "run(0)"
   ]
  },
  {
   "cell_type": "markdown",
   "metadata": {},
   "source": [
    "집합의 총 개수 : $2^n$"
   ]
  },
  {
   "cell_type": "code",
   "execution_count": 23,
   "metadata": {},
   "outputs": [
    {
     "name": "stdout",
     "output_type": "stream",
     "text": [
      "{ }\n",
      "{ A }\n",
      "{ B }\n",
      "{ A B }\n",
      "{ C }\n",
      "{ A C }\n",
      "{ B C }\n",
      "{ A B C }\n"
     ]
    }
   ],
   "source": [
    "# print(pow(2, 3))\n",
    "# print(1 << 3)\n",
    "\n",
    "arr = ['A', 'B', 'C']\n",
    "n = len(arr)\n",
    "\n",
    "\n",
    "def get_sub(tar):\n",
    "    for i in range(n):\n",
    "        if tar & 0x1:\n",
    "            print(arr[i], end=' ')\n",
    "        tar >>= 1\n",
    "\n",
    "for tar in range(0, 1 << n):\n",
    "    print('{', end=' ')\n",
    "    get_sub(tar)\n",
    "    print('}')\n"
   ]
  },
  {
   "cell_type": "code",
   "execution_count": 24,
   "metadata": {},
   "outputs": [
    {
     "name": "stdout",
     "output_type": "stream",
     "text": [
      "26\n"
     ]
    }
   ],
   "source": [
    "friends = ['a', 'b', 'c', 'd', 'e']\n",
    "n = len(friends)\n",
    "\n",
    "subsets = []\n",
    "for i in range(1 << n):\n",
    "    subset = []\n",
    "    for j in range(n):\n",
    "        if i & (1 << j):\n",
    "            subset.append(friends[j])\n",
    "    if len(subset) >= 2:\n",
    "        subsets.append(subset)\n",
    "\n",
    "print(len(subsets))"
   ]
  },
  {
   "cell_type": "markdown",
   "metadata": {},
   "source": [
    "## Combination"
   ]
  },
  {
   "cell_type": "markdown",
   "metadata": {},
   "source": [
    "조합 : $nCr$\n",
    "- 서로 다른 n개, 중복x 선택"
   ]
  },
  {
   "cell_type": "code",
   "execution_count": null,
   "metadata": {},
   "outputs": [],
   "source": [
    "arr = [1, 2, 3, 4]\n",
    "n = 4\n",
    "\n",
    "for i in range(n):\n",
    "    s1 = i + 1\n",
    "    for j in range(s1, n):\n",
    "        s2 = j + 1\n",
    "        for k in range(s2, n):\n",
    "            print(arr[i], arr[j], arr[k])"
   ]
  },
  {
   "cell_type": "code",
   "execution_count": null,
   "metadata": {},
   "outputs": [],
   "source": [
    "arr = ['A', 'B', 'C', 'D', 'E']\n",
    "path  = []\n",
    "n = 2\n",
    "def run(lev, start):\n",
    "    if lev == n:\n",
    "        print(path)\n",
    "        return\n",
    "    \n",
    "    for i in range(start, 5):\n",
    "        path.append(arr[i])\n",
    "        run(lev + 1, i + 1)\n",
    "        path.pop()\n",
    "\n",
    "run(0, 0)\n"
   ]
  },
  {
   "cell_type": "code",
   "execution_count": null,
   "metadata": {},
   "outputs": [],
   "source": [
    "arr = [1, 2, 3, 4, 5, 6]\n",
    "n = 6\n",
    "\n",
    "for i in range(n):\n",
    "        for j in range(n):\n",
    "            if j >= i:\n",
    "                for k in range(n):\n",
    "                    if k >= j:\n",
    "                        print(arr[i], arr[j], arr[k])"
   ]
  },
  {
   "cell_type": "code",
   "execution_count": null,
   "metadata": {},
   "outputs": [],
   "source": [
    "N = 3\n",
    "path = []\n",
    "\n",
    "\n",
    "def run(lev, start):\n",
    "    if lev == N:\n",
    "        print(path)\n",
    "        return\n",
    "    \n",
    "    for i in range(start, 7):\n",
    "        path.append(i)\n",
    "        run(lev + 1, i)\n",
    "        path.pop()\n",
    "\n",
    "run(0, 1)"
   ]
  },
  {
   "cell_type": "markdown",
   "metadata": {},
   "source": [
    "## Greedy"
   ]
  },
  {
   "cell_type": "markdown",
   "metadata": {},
   "source": [
    "그리디 알고리즘\n",
    "- 결정이 필요할 때, 현재 기준으로 가장 좋아보이는 선택지로 선정하여 답을 도출하는 알고리즘\n",
    "\n",
    "- $\\to$ 가장 좋은 것만 모았을 때 그것이 최적의 해가 되는지 꼭 체크해야함\n",
    "    - 반례를 찾을 것. 손으로 좀 풀어보는 게 도움 될듯.\n",
    "\n",
    "- 어떻게 해야 잘 풀까? 방법은 없음. 유형을 많이 볼 것.\n",
    "\n",
    "- 정리.\n",
    "    1. 각 단계에서 최적해를 찾아야 한다.\n",
    "    2. 단계의 결과들을 합하는 방법을 찾아야 한다.\n",
    "    3. 각 단계의 합 == 전체 문제의 합 이라는 것을 증명해야 한다.\n",
    "\n",
    "대표적인 문제해결기법\n",
    "1. 완전탐색\n",
    "2. 그리디\n",
    "3. DP\n",
    "4. 분할정복"
   ]
  },
  {
   "cell_type": "code",
   "execution_count": null,
   "metadata": {},
   "outputs": [],
   "source": []
  }
 ],
 "metadata": {
  "kernelspec": {
   "display_name": "Python 3",
   "language": "python",
   "name": "python3"
  },
  "language_info": {
   "codemirror_mode": {
    "name": "ipython",
    "version": 3
   },
   "file_extension": ".py",
   "mimetype": "text/x-python",
   "name": "python",
   "nbconvert_exporter": "python",
   "pygments_lexer": "ipython3",
   "version": "3.9.13"
  }
 },
 "nbformat": 4,
 "nbformat_minor": 2
}

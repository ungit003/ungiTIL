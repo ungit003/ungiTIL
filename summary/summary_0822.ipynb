{
 "cells": [
  {
   "cell_type": "markdown",
   "metadata": {},
   "source": [
    "# Responsive Web"
   ]
  },
  {
   "cell_type": "markdown",
   "metadata": {},
   "source": [
    "Responsive Web Design\n",
    "- 디바이스 종류나 화면 크기에 상관없이, 어디서든 일관된 레이아웃 및 사용자 경험을 제공하는 기술"
   ]
  },
  {
   "cell_type": "markdown",
   "metadata": {},
   "source": [
    "## Bootstrap Grid System\n",
    "- 웹 페이지의 레이아웃을 조절하는 데 사용되는 `12개`의 컬럼으로 구성된 시스템.\n",
    "- 반응형 디자인을 지원해 웹 페이지를 모바일, 태블릿, 데스크탑 등 다양한 기기에서 적절하게 표시할 수 있도록 도움."
   ]
  },
  {
   "cell_type": "markdown",
   "metadata": {},
   "source": [
    "Grid system 기본 요소\n",
    "1. Container : Column들을 담고 있는 공간\n",
    "    - container 안에 row가 있고, 그 row 안에 column의 크기를 줘서 12개씩 배열되도록 계산.\n",
    "2. Column : 실제 컨텐츠를 포함하는 부분\n",
    "3. Gutter : 컬럼과 컬럼 사이의 여백 영역\n",
    "    - 좌우 : 패딩, 상하 : 마진\n",
    "\n",
    "Grid system 실습\n",
    "1. 기본\n",
    "2. 중첩 (Nesting)\n",
    "3. 상쇄 (Offset)\n",
    "4. gutters"
   ]
  },
  {
   "cell_type": "markdown",
   "metadata": {},
   "source": [
    "## Grid system for responsive web\n",
    "- Bootstrap grid system에서는 12개의 column, 6개의 breakpoints를 사용해 반응형 웹 디자인 구현"
   ]
  },
  {
   "cell_type": "markdown",
   "metadata": {},
   "source": [
    "Grid system breakpoints\n",
    "- 웹 페이지를 다양한 화면 크기에서 적절하게 배치하기 위한 분기점\n",
    "-> 화면 너비에 따라 6개의 분기점 제공(xs, sm, md, lg, xl, xxl)\n",
    "    - 픽셀 값을 외울 필요는 없고 문자를 알도록."
   ]
  },
  {
   "cell_type": "markdown",
   "metadata": {},
   "source": [
    "## CSS Layout 종합정리"
   ]
  },
  {
   "cell_type": "markdown",
   "metadata": {},
   "source": [
    "*에어비앤비 참조\n",
    "- CSS 레이아웃 기술들은 각각 고유한 특성과 장단점을 가지고 있음.\n",
    "- 상호보완적이고 특정상황에 따라 적합한 도구가 달라짐.\n",
    "- 최적의 기술을 선택하고 효과적으로 활용하기 위해서는 다양한 실제 개발 경험이 필수적."
   ]
  },
  {
   "cell_type": "markdown",
   "metadata": {},
   "source": [
    "# UX & UI"
   ]
  },
  {
   "cell_type": "markdown",
   "metadata": {},
   "source": [
    "UX(User Experience)\n",
    "- 제품이나 서비스를 사용하는 사람들이 느끼는 전체적인 경험과 만족도를 개선하고 최적화하기 위한 디자인과 개발 분야\n",
    "\n",
    "예시\n",
    "- 백화점 1층에서 느껴지는 좋은 향수 향기\n",
    "- 러쉬 매장 근처만 가도 맡을 수 있는 러쉬 향기\n",
    "- 원하는 음악을 검색할 때, 검색 기능이 적절하게 작동하고 검색결과가 정확하게 나오는 것\n",
    "\n",
    "설계\n",
    "- 사람들의 마음과 생각을 이해하고 정리해서 제품에 녹여내는 과정\n",
    "- 유저 리서치, 데이터 설계 및 정제, 유저 시나리오, 프로토타입 설계"
   ]
  },
  {
   "cell_type": "markdown",
   "metadata": {},
   "source": [
    "UI(User Interface)\n",
    "- 서비스와 사용자 간의 상호작용을 가능하게 하는 디자인 요소들을 개발하고 구현하는 분야\n",
    "\n",
    "예시\n",
    "- 리모컨 : 사용자가 버튼을 누르면 TV가 켜지고, 채널은 변경하거나 볼륨을 조절할 수 있음\n",
    "- ATM : 사용자가 터치스크린을 통해 사용자 정보를 입력하고, 원하는 금액을 선택할 수 있음\n",
    "- 웹 사이트 : 사용자가 로그인 버튼을 누르면, 이동하는 화면의 디자인 및 레이아웃\n",
    "\n",
    "설계\n",
    "- 예쁜 디자인보다는 사용자가 더 쉽고 편리하게 사용할 수 있도록 고려\n",
    "- 이를 위해서는 디자인 시스템, 중간 산출물, 프로토타입 등이 필요"
   ]
  },
  {
   "cell_type": "markdown",
   "metadata": {},
   "source": [
    "디자이너, 기획자, 개발자\n",
    "- UX (직무 : UX Researcher, User Researcher)\n",
    "    - (구글) 사용자의 경험을 이해하기 위한 통계 모델을 설계\n",
    "    - (MS) 리서치를 기획하고 사용자에 대한 지표를 정의\n",
    "    - (Meta) 정성적인 방법과 정량적인 방법을 사용해서 사용자 조사를 실시\n",
    "\n",
    "- UI (직무 : Product Designer, Interaction Designer)\n",
    "    - (구글) 다양한 디자인 프로토타이핑 툴을 사용해서 개발 가이드를 제공\n",
    "    - (MS) 시각 디자인을 고려해서 체계적인 디자인 컨셉을 보여줌\n",
    "    - (Meta) 제품을 이해하고 더 나은 UI Flow와 사용자 경험을 디자인"
   ]
  }
 ],
 "metadata": {
  "language_info": {
   "name": "python"
  }
 },
 "nbformat": 4,
 "nbformat_minor": 2
}

{
  "nbformat": 4,
  "nbformat_minor": 0,
  "metadata": {
    "colab": {
      "provenance": [],
      "authorship_tag": "ABX9TyPyBzQGpXv2U/HOZO3ZmCi2",
      "include_colab_link": true
    },
    "kernelspec": {
      "name": "python3",
      "display_name": "Python 3"
    },
    "language_info": {
      "name": "python"
    }
  },
  "cells": [
    {
      "cell_type": "markdown",
      "metadata": {
        "id": "view-in-github",
        "colab_type": "text"
      },
      "source": [
        "<a href=\"https://colab.research.google.com/github/ungit003/ungiTIL/blob/master/study_on_another.ipynb\" target=\"_parent\"><img src=\"https://colab.research.google.com/assets/colab-badge.svg\" alt=\"Open In Colab\"/></a>"
      ]
    },
    {
      "cell_type": "code",
      "source": [
        "def find_all_paths(graph, start, path=None):\n",
        "    if path is None:\n",
        "        path = []\n",
        "\n",
        "    # 현재 노드를 경로에 추가\n",
        "    path = path + [start]\n",
        "\n",
        "    # 그래프에 현재 노드가 없거나 인접 노드가 없는 경우\n",
        "    if start not in graph or not graph[start]:\n",
        "        return [path]\n",
        "\n",
        "    paths = []\n",
        "    for neighbor in graph[start]:\n",
        "        if neighbor not in path:  # 현재 경로에 포함되지 않은 노드만 탐색\n",
        "            new_paths = find_all_paths(graph, neighbor, path)\n",
        "            for p in new_paths:\n",
        "                paths.append(p)\n",
        "\n",
        "    return paths\n",
        "\n",
        "# 그래프 정의\n",
        "graph = {\n",
        "    'A': ['B', 'C'],\n",
        "    'B': ['A', 'D', 'E'],\n",
        "    'C': ['A', 'F', 'G'],\n",
        "    'D': ['B'],\n",
        "    'E': ['B', 'F'],\n",
        "    'F': ['C', 'E'],\n",
        "    'G': ['C']\n",
        "}\n",
        "\n",
        "# 모든 가능한 경로 찾기\n",
        "start_node = 'A'\n",
        "all_paths = find_all_paths(graph, start_node)\n",
        "\n",
        "# 경로 출력\n",
        "print(\"All possible paths starting from 'A':\")\n",
        "if not all_paths:\n",
        "    print(\"No paths found.\")\n",
        "else:\n",
        "    for path in all_paths:\n",
        "        print(\" -> \".join(path))"
      ],
      "metadata": {
        "colab": {
          "base_uri": "https://localhost:8080/"
        },
        "id": "_3C3hmpuZRPc",
        "outputId": "224a82c5-3f72-49e4-961c-b4390414719d"
      },
      "execution_count": null,
      "outputs": [
        {
          "output_type": "stream",
          "name": "stdout",
          "text": [
            "All possible paths starting from 'A':\n",
            "No paths found.\n"
          ]
        }
      ]
    }
  ]
}